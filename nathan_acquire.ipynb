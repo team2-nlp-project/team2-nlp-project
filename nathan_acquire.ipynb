{
 "cells": [
  {
   "cell_type": "code",
   "execution_count": 1,
   "id": "39e07ad3",
   "metadata": {},
   "outputs": [],
   "source": [
    "from requests import get\n",
    "from bs4 import BeautifulSoup\n",
    "import pandas as pd"
   ]
  },
  {
   "cell_type": "code",
   "execution_count": 3,
   "id": "4abc6453",
   "metadata": {},
   "outputs": [
    {
     "data": {
      "text/plain": [
       "<h1 class=\"h3 lh-condensed\">\n",
       "<a data-hydro-click='{\"event_type\":\"explore.click\",\"payload\":{\"click_context\":\"TRENDING_REPOSITORIES_PAGE\",\"click_target\":\"REPOSITORY\",\"click_visual_representation\":\"REPOSITORY_NAME_HEADING\",\"actor_id\":null,\"record_id\":39840932,\"originating_url\":\"https://github.com/trending\",\"user_id\":null}}' data-hydro-click-hmac=\"b5c21c00a03199cc476d548acb97ab258f58b11b86fc31b42a24574f04824f67\" data-view-component=\"true\" href=\"/google/googletest\">\n",
       "<svg aria-hidden=\"true\" class=\"octicon octicon-repo mr-1 color-fg-muted\" data-view-component=\"true\" height=\"16\" version=\"1.1\" viewbox=\"0 0 16 16\" width=\"16\">\n",
       "<path d=\"M2 2.5A2.5 2.5 0 014.5 0h8.75a.75.75 0 01.75.75v12.5a.75.75 0 01-.75.75h-2.5a.75.75 0 110-1.5h1.75v-2h-8a1 1 0 00-.714 1.7.75.75 0 01-1.072 1.05A2.495 2.495 0 012 11.5v-9zm10.5-1V9h-8c-.356 0-.694.074-1 .208V2.5a1 1 0 011-1h8zM5 12.25v3.25a.25.25 0 00.4.2l1.45-1.087a.25.25 0 01.3 0L8.6 15.7a.25.25 0 00.4-.2v-3.25a.25.25 0 00-.25-.25h-3.5a.25.25 0 00-.25.25z\" fill-rule=\"evenodd\"></path>\n",
       "</svg>\n",
       "<span class=\"text-normal\" data-view-component=\"true\">\n",
       "        google /\n",
       "</span>\n",
       "      googletest\n",
       "</a>\n",
       "</h1>"
      ]
     },
     "execution_count": 3,
     "metadata": {},
     "output_type": "execute_result"
    }
   ],
   "source": [
    "url = 'https://github.com/trending' \n",
    "response = get(url)\n",
    "soup = BeautifulSoup(response.text, 'html.parser')\n",
    "headings = soup.select('h1.h3.lh-condensed')\n",
    "headings[0]"
   ]
  },
  {
   "cell_type": "code",
   "execution_count": 5,
   "id": "abe2376a",
   "metadata": {},
   "outputs": [
    {
     "data": {
      "text/plain": [
       "25"
      ]
     },
     "execution_count": 5,
     "metadata": {},
     "output_type": "execute_result"
    }
   ],
   "source": [
    "len(headings)"
   ]
  },
  {
   "cell_type": "code",
   "execution_count": 6,
   "id": "121cf160",
   "metadata": {},
   "outputs": [
    {
     "data": {
      "text/plain": [
       "['google/googletest',\n",
       " 'projectdiscovery/nuclei-templates',\n",
       " 'digitalocean/nginxconfig.io',\n",
       " 'flutter/flutter',\n",
       " 'PaddlePaddle/PaddleOCR',\n",
       " 'flutter/pinball',\n",
       " 'wolfogre/go-pprof-practice',\n",
       " 'supabase/supabase',\n",
       " 'felipefialho/frontend-challenges',\n",
       " 'flutter/samples',\n",
       " 'alibaba/fastjson2',\n",
       " 'florinpop17/app-ideas',\n",
       " 'charmbracelet/bubbletea',\n",
       " 'huggingface/transformers',\n",
       " 'databricks-academy/data-engineering-with-databricks',\n",
       " 'hectorqin/reader',\n",
       " 'Azure/azure-rest-api-specs',\n",
       " 'terra-money/core',\n",
       " 'saltstack/salt',\n",
       " 'PKUFlyingPig/cs-self-learning',\n",
       " 'actions/virtual-environments',\n",
       " 'jojoldu/junior-recruit-scheduler',\n",
       " 'dotnet/aspnetcore',\n",
       " 'danielgindi/Charts',\n",
       " 'microsoft/unilm']"
      ]
     },
     "execution_count": 6,
     "metadata": {},
     "output_type": "execute_result"
    }
   ],
   "source": [
    "[h.select_one('a').attrs['href'][1:] for h in soup.select('h1.h3.lh-condensed')]"
   ]
  },
  {
   "cell_type": "code",
   "execution_count": null,
   "id": "b86549d9",
   "metadata": {},
   "outputs": [],
   "source": []
  },
  {
   "cell_type": "code",
   "execution_count": null,
   "id": "e8c34e2e",
   "metadata": {},
   "outputs": [],
   "source": []
  },
  {
   "cell_type": "code",
   "execution_count": 11,
   "id": "de7f1992",
   "metadata": {},
   "outputs": [
    {
     "data": {
      "text/plain": [
       "<div class=\"f4 text-normal\">\n",
       "<a class=\"v-align-middle\" data-hydro-click='{\"event_type\":\"search_result.click\",\"payload\":{\"page_number\":1,\"per_page\":10,\"query\":\"stars:&gt;1\",\"result_position\":1,\"click_id\":14204342,\"result\":{\"id\":14204342,\"global_relay_id\":\"MDEwOlJlcG9zaXRvcnkxNDIwNDM0Mg==\",\"model_name\":\"Repository\",\"url\":\"https://github.com/jtleek/datasharing\"},\"originating_url\":\"https://github.com/search?o=desc&amp;q=stars:%3E1&amp;s=forks&amp;type=Repositories\",\"user_id\":null}}' data-hydro-click-hmac=\"43ffd03f9b9f100d5d4cff6300156df517f385d2cd83787e829219fd8b4df50e\" href=\"/jtleek/datasharing\">jtleek/datasharing</a>\n",
       "</div>"
      ]
     },
     "execution_count": 11,
     "metadata": {},
     "output_type": "execute_result"
    }
   ],
   "source": [
    "url = 'https://github.com/search?o=desc&q=stars:%3E1&s=forks&type=Repositories' \n",
    "response = get(url)\n",
    "soup = BeautifulSoup(response.text, 'html.parser')\n",
    "headings = soup.select('div.f4.text-normal')\n",
    "headings[0]"
   ]
  },
  {
   "cell_type": "code",
   "execution_count": null,
   "id": "c964bf60",
   "metadata": {},
   "outputs": [],
   "source": []
  },
  {
   "cell_type": "code",
   "execution_count": 10,
   "id": "d2480d5c",
   "metadata": {},
   "outputs": [
    {
     "data": {
      "text/plain": [
       "'\\n\\n\\n\\n\\n\\nRate limit · GitHub\\n\\n\\n\\n\\n\\nWhoa there!\\nYou have exceeded a secondary rate limit.\\n        Please wait a few minutes before you try again;\\n        in some cases this may take up to an hour.\\n      \\n\\nContact Support —\\n        GitHub Status —\\n        @githubstatus\\n\\n\\n\\n\\n\\n\\n\\n\\n\\n\\n'"
      ]
     },
     "execution_count": 10,
     "metadata": {},
     "output_type": "execute_result"
    }
   ],
   "source": [
    "soup.text"
   ]
  },
  {
   "cell_type": "code",
   "execution_count": 12,
   "id": "5325553c",
   "metadata": {},
   "outputs": [
    {
     "data": {
      "text/plain": [
       "['jtleek/datasharing',\n",
       " 'rdpeng/ProgrammingAssignment2',\n",
       " 'octocat/Spoon-Knife',\n",
       " 'tensorflow/tensorflow',\n",
       " 'twbs/bootstrap',\n",
       " 'Pierian-Data/Complete-Python-3-Bootcamp',\n",
       " 'nightscout/cgm-remote-monitor',\n",
       " 'jwasham/coding-interview-university',\n",
       " 'rdpeng/ExData_Plotting1',\n",
       " 'github/docs']"
      ]
     },
     "execution_count": 12,
     "metadata": {},
     "output_type": "execute_result"
    }
   ],
   "source": [
    "[h.select_one('a').attrs['href'][1:] for h in soup.select('div.f4.text-normal')]"
   ]
  },
  {
   "cell_type": "code",
   "execution_count": 13,
   "id": "243e96bd",
   "metadata": {},
   "outputs": [],
   "source": [
    "url = 'https://github.com/search?o=desc&p=2&q=stars%3A%3E1&s=forks&type=Repositories'\n",
    "response = get(url)"
   ]
  },
  {
   "cell_type": "code",
   "execution_count": 14,
   "id": "de6263d0",
   "metadata": {},
   "outputs": [
    {
     "data": {
      "text/plain": [
       "<div class=\"f4 text-normal\">\n",
       "<a class=\"v-align-middle\" data-hydro-click='{\"event_type\":\"search_result.click\",\"payload\":{\"page_number\":2,\"per_page\":10,\"query\":\"stars:&gt;1\",\"result_position\":1,\"click_id\":189621607,\"result\":{\"id\":189621607,\"global_relay_id\":\"MDEwOlJlcG9zaXRvcnkxODk2MjE2MDc=\",\"model_name\":\"Repository\",\"url\":\"https://github.com/github/docs\"},\"originating_url\":\"https://github.com/search?o=desc&amp;p=2&amp;q=stars%3A%3E1&amp;s=forks&amp;type=Repositories\",\"user_id\":null}}' data-hydro-click-hmac=\"e0c9c413683b12336f4ab1b96034d225dd4b7213d00e333d6630186cc5935124\" href=\"/github/docs\">github/docs</a>\n",
       "</div>"
      ]
     },
     "execution_count": 14,
     "metadata": {},
     "output_type": "execute_result"
    }
   ],
   "source": [
    "soup = BeautifulSoup(response.text, 'html.parser')\n",
    "headings = soup.select('div.f4.text-normal')\n",
    "headings[0]"
   ]
  },
  {
   "cell_type": "code",
   "execution_count": 15,
   "id": "2903271f",
   "metadata": {},
   "outputs": [
    {
     "data": {
      "text/plain": [
       "['github/docs',\n",
       " 'opencv/opencv',\n",
       " 'EbookFoundation/free-programming-books',\n",
       " 'eugenp/tutorials',\n",
       " 'CyC2018/CS-Notes',\n",
       " 'jackfrued/Python-100-Days',\n",
       " 'firstcontributions/first-contributions',\n",
       " 'torvalds/linux',\n",
       " 'Snailclimb/JavaGuide',\n",
       " 'facebook/react']"
      ]
     },
     "execution_count": 15,
     "metadata": {},
     "output_type": "execute_result"
    }
   ],
   "source": [
    "[h.select_one('a').attrs['href'][1:] for h in soup.select('div.f4.text-normal')]"
   ]
  },
  {
   "cell_type": "code",
   "execution_count": 16,
   "id": "93fd098a",
   "metadata": {},
   "outputs": [],
   "source": [
    "url = 'https://github.com/search?o=desc&p=3&q=stars%3A%3E1&s=forks&type=Repositories'\n",
    "response = get(url)"
   ]
  },
  {
   "cell_type": "code",
   "execution_count": 17,
   "id": "cc077699",
   "metadata": {},
   "outputs": [
    {
     "data": {
      "text/plain": [
       "<div class=\"f4 text-normal\">\n",
       "<a class=\"v-align-middle\" data-hydro-click='{\"event_type\":\"search_result.click\",\"payload\":{\"page_number\":3,\"per_page\":10,\"query\":\"stars:&gt;1\",\"result_position\":1,\"click_id\":15783450,\"result\":{\"id\":15783450,\"global_relay_id\":\"MDEwOlJlcG9zaXRvcnkxNTc4MzQ1MA==\",\"model_name\":\"Repository\",\"url\":\"https://github.com/jlord/patchwork\"},\"originating_url\":\"https://github.com/search?o=desc&amp;p=3&amp;q=stars%3A%3E1&amp;s=forks&amp;type=Repositories\",\"user_id\":null}}' data-hydro-click-hmac=\"e9e156fd89fd4f4322570e4ca03c27e94962a4e53376501c1e4090099efa3850\" href=\"/jlord/patchwork\">jlord/patchwork</a>\n",
       "</div>"
      ]
     },
     "execution_count": 17,
     "metadata": {},
     "output_type": "execute_result"
    }
   ],
   "source": [
    "soup = BeautifulSoup(response.text, 'html.parser')\n",
    "headings = soup.select('div.f4.text-normal')\n",
    "headings[0]"
   ]
  },
  {
   "cell_type": "code",
   "execution_count": 18,
   "id": "0a671db9",
   "metadata": {},
   "outputs": [
    {
     "data": {
      "text/plain": [
       "['jlord/patchwork',\n",
       " 'TheAlgorithms/Python',\n",
       " 'ant-design/ant-design',\n",
       " 'barryclark/jekyll-now',\n",
       " 'bitcoin/bitcoin',\n",
       " 'angular/angular.js',\n",
       " 'kamranahmedse/developer-roadmap',\n",
       " 'PanJiaChen/vue-element-admin',\n",
       " 'django/django',\n",
       " 'mui/material-ui']"
      ]
     },
     "execution_count": 18,
     "metadata": {},
     "output_type": "execute_result"
    }
   ],
   "source": [
    "[h.select_one('a').attrs['href'][1:] for h in soup.select('div.f4.text-normal')]"
   ]
  },
  {
   "cell_type": "code",
   "execution_count": 19,
   "id": "d6e8826c",
   "metadata": {},
   "outputs": [],
   "source": [
    "url = 'https://github.com/search?o=desc&p=4&q=stars%3A%3E1&s=forks&type=Repositories'\n",
    "response = get(url)"
   ]
  },
  {
   "cell_type": "code",
   "execution_count": 20,
   "id": "1deaa932",
   "metadata": {},
   "outputs": [
    {
     "data": {
      "text/plain": [
       "<div class=\"f4 text-normal\">\n",
       "<a class=\"v-align-middle\" data-hydro-click='{\"event_type\":\"search_result.click\",\"payload\":{\"page_number\":4,\"per_page\":10,\"query\":\"stars:&gt;1\",\"result_position\":1,\"click_id\":85077558,\"result\":{\"id\":85077558,\"global_relay_id\":\"MDEwOlJlcG9zaXRvcnk4NTA3NzU1OA==\",\"model_name\":\"Repository\",\"url\":\"https://github.com/kamranahmedse/developer-roadmap\"},\"originating_url\":\"https://github.com/search?o=desc&amp;p=4&amp;q=stars%3A%3E1&amp;s=forks&amp;type=Repositories\",\"user_id\":null}}' data-hydro-click-hmac=\"325592ad3d339c70a816b7cd30e0febd1f1cffa99766992420bf7e3a272c2f94\" href=\"/kamranahmedse/developer-roadmap\">kamranahmedse/developer-roadmap</a>\n",
       "</div>"
      ]
     },
     "execution_count": 20,
     "metadata": {},
     "output_type": "execute_result"
    }
   ],
   "source": [
    "soup = BeautifulSoup(response.text, 'html.parser')\n",
    "headings = soup.select('div.f4.text-normal')\n",
    "headings[0]"
   ]
  },
  {
   "cell_type": "code",
   "execution_count": 21,
   "id": "3ca921a5",
   "metadata": {},
   "outputs": [
    {
     "data": {
      "text/plain": [
       "['kamranahmedse/developer-roadmap',\n",
       " 'PanJiaChen/vue-element-admin',\n",
       " 'DefinitelyTyped/DefinitelyTyped',\n",
       " 'django/django',\n",
       " 'mui/material-ui',\n",
       " 'RedHatTraining/DO180-apps',\n",
       " 'qmk/qmk_firmware',\n",
       " 'apache/spark',\n",
       " 'apache/dubbo',\n",
       " 'google/it-cert-automation-practice']"
      ]
     },
     "execution_count": 21,
     "metadata": {},
     "output_type": "execute_result"
    }
   ],
   "source": [
    "[h.select_one('a').attrs['href'][1:] for h in soup.select('div.f4.text-normal')]"
   ]
  },
  {
   "cell_type": "code",
   "execution_count": 22,
   "id": "46e4ace9",
   "metadata": {},
   "outputs": [],
   "source": [
    "url = 'https://github.com/search?o=desc&p=5&q=stars%3A%3E1&s=forks&type=Repositories'\n",
    "response = get(url)"
   ]
  },
  {
   "cell_type": "code",
   "execution_count": 23,
   "id": "ead51502",
   "metadata": {},
   "outputs": [
    {
     "data": {
      "text/plain": [
       "<div class=\"f4 text-normal\">\n",
       "<a class=\"v-align-middle\" data-hydro-click='{\"event_type\":\"search_result.click\",\"payload\":{\"page_number\":5,\"per_page\":10,\"query\":\"stars:&gt;1\",\"result_position\":1,\"click_id\":63537249,\"result\":{\"id\":63537249,\"global_relay_id\":\"MDEwOlJlcG9zaXRvcnk2MzUzNzI0OQ==\",\"model_name\":\"Repository\",\"url\":\"https://github.com/facebook/create-react-app\"},\"originating_url\":\"https://github.com/search?o=desc&amp;p=5&amp;q=stars%3A%3E1&amp;s=forks&amp;type=Repositories\",\"user_id\":null}}' data-hydro-click-hmac=\"a062b7ac7393e0c6659a6a3b8e0b0188fd221d8aae2c97257b9afef49fa07848\" href=\"/facebook/create-react-app\">facebook/create-react-app</a>\n",
       "</div>"
      ]
     },
     "execution_count": 23,
     "metadata": {},
     "output_type": "execute_result"
    }
   ],
   "source": [
    "soup = BeautifulSoup(response.text, 'html.parser')\n",
    "headings = soup.select('div.f4.text-normal')\n",
    "headings[0]"
   ]
  },
  {
   "cell_type": "code",
   "execution_count": 24,
   "id": "13ef50db",
   "metadata": {},
   "outputs": [
    {
     "data": {
      "text/plain": [
       "['facebook/create-react-app',\n",
       " 'airbnb/javascript',\n",
       " 'git/git',\n",
       " 'nodejs/node',\n",
       " 'sindresorhus/awesome',\n",
       " 'iluwatar/java-design-patterns',\n",
       " 'python/cpython',\n",
       " 'd3/d3',\n",
       " 'scikit-learn/scikit-learn',\n",
       " 'atralice/Curso.Prep.Henry']"
      ]
     },
     "execution_count": 24,
     "metadata": {},
     "output_type": "execute_result"
    }
   ],
   "source": [
    "[h.select_one('a').attrs['href'][1:] for h in soup.select('div.f4.text-normal')]"
   ]
  },
  {
   "cell_type": "code",
   "execution_count": null,
   "id": "51949d67",
   "metadata": {},
   "outputs": [],
   "source": [
    "import pandas as pd\n",
    "import os\n",
    "\n",
    "#### Pulled from class will need to add values\n",
    "\n",
    "\"\"\"\n",
    "A module for obtaining repo readme and language data from the github API.\n",
    "Before using this module, read through it, and follow the instructions marked\n",
    "TODO.\n",
    "After doing so, run it like this:\n",
    "    python acquire.py\n",
    "To create the `data.json` file that contains the data.\n",
    "\"\"\"\n",
    "import os\n",
    "import json\n",
    "from typing import Dict, List, Optional, Union, cast\n",
    "import requests\n",
    "\n",
    "from env import github_token, github_username\n",
    "\n",
    "# TODO: Make a github personal access token.\n",
    "#     1. Go here and generate a personal access token https://github.com/settings/tokens\n",
    "#        You do _not_ need select any scopes, i.e. leave all the checkboxes unchecked\n",
    "#     2. Save it in your env.py file under the variable `github_token`\n",
    "# TODO: Add your github username to your env.py file under the variable `github_username`\n",
    "# TODO: Add more repositories to the `REPOS` list below.\n",
    "\n",
    "REPOS = [\n",
    " \n",
    " 'topkecleon/telegram-bot-bash',\n",
    " 'evil-mad/EggBot',\n",
    " 'telegram-bot-rb/telegram-bot',\n",
    " 'alfficcadenti/splinterlands-bot',\n",
    " 'nodeWechat/wechat4u',\n",
    " 'tucnak/telebot',\n",
    " 'CarlGroth/Carl-Bot',\n",
    " 'grapeot/WechatForwardBot',\n",
    " 'googleworkspace/hangouts-chat-samples',\n",
    " 'GreyWolfDev/Werewolf',\n",
    " 'abdelhai/awesome-bots',\n",
    " 'mdgspace/bot',\n",
    " 'Sank6/Discord-Bot-List',\n",
    " 'samc621/SneakerBot',\n",
    " 'boto/boto3-sample',\n",
    " 'huseinzol05/Stock-Prediction-Models',\n",
    " 'SAPConversationalAI/Webchat',\n",
    " 'soumyadityac/youtube-viewer',\n",
    " 'CodeWithJoe2020/pancakeswapBot',\n",
    " 'Merubokkusu/discord-spam-bots',\n",
    " 'ZeroDiscord/EconomyBot',\n",
    " 'scrapinghub/slackbot',\n",
    " 'baidu/boteye',\n",
    " 'kcloze/swoole-bot',\n",
    " 'hyperchessbot/hyperbot',\n",
    " 'yangyuan/hearthrock',\n",
    "]\n",
    "\n",
    "headers = {\"Authorization\": f\"token {github_token}\", \"User-Agent\": github_username}\n",
    "\n",
    "if headers[\"Authorization\"] == \"token \" or headers[\"User-Agent\"] == \"\":\n",
    "    raise Exception(\n",
    "        \"You need to follow the instructions marked TODO in this script before trying to use it\"\n",
    "    )\n",
    "\n",
    "\n",
    "def github_api_request(url: str) -> Union[List, Dict]:\n",
    "    response = requests.get(url, headers=headers)\n",
    "    response_data = response.json()\n",
    "    if response.status_code != 200:\n",
    "        raise Exception(\n",
    "            f\"Error response from github api! status code: {response.status_code}, \"\n",
    "            f\"response: {json.dumps(response_data)}\"\n",
    "        )\n",
    "    return response_data\n",
    "\n",
    "\n",
    "def get_repo_language(repo: str) -> str:\n",
    "    url = f\"https://api.github.com/repos/{repo}\"\n",
    "    repo_info = github_api_request(url)\n",
    "    if type(repo_info) is dict:\n",
    "        repo_info = cast(Dict, repo_info)\n",
    "        if \"language\" not in repo_info:\n",
    "            raise Exception(\n",
    "                \"'language' key not round in response\\n{}\".format(json.dumps(repo_info))\n",
    "            )\n",
    "        return repo_info[\"language\"]\n",
    "    raise Exception(\n",
    "        f\"Expecting a dictionary response from {url}, instead got {json.dumps(repo_info)}\"\n",
    "    )\n",
    "\n",
    "\n",
    "def get_repo_contents(repo: str) -> List[Dict[str, str]]:\n",
    "    url = f\"https://api.github.com/repos/{repo}/contents/\"\n",
    "    contents = github_api_request(url)\n",
    "    if type(contents) is list:\n",
    "        contents = cast(List, contents)\n",
    "        return contents\n",
    "    raise Exception(\n",
    "        f\"Expecting a list response from {url}, instead got {json.dumps(contents)}\"\n",
    "    )\n",
    "\n",
    "\n",
    "def get_readme_download_url(files: List[Dict[str, str]]) -> str:\n",
    "    \"\"\"\n",
    "    Takes in a response from the github api that lists the files in a repo and\n",
    "    returns the url that can be used to download the repo's README file.\n",
    "    \"\"\"\n",
    "    for file in files:\n",
    "        if file[\"name\"].lower().startswith(\"readme\"):\n",
    "            return file[\"download_url\"]\n",
    "    return \"\"\n",
    "\n",
    "\n",
    "def process_repo(repo: str) -> Dict[str, str]:\n",
    "    \"\"\"\n",
    "    Takes a repo name like \"gocodeup/codeup-setup-script\" and returns a\n",
    "    dictionary with the language of the repo and the readme contents.\n",
    "    \"\"\"\n",
    "    contents = get_repo_contents(repo)\n",
    "    readme_download_url = get_readme_download_url(contents)\n",
    "    if readme_download_url == \"\":\n",
    "        readme_contents = \"\"\n",
    "    else:\n",
    "        readme_contents = requests.get(readme_download_url).text\n",
    "    return {\n",
    "        \"repo\": repo,\n",
    "        \"language\": get_repo_language(repo),\n",
    "        \"readme_contents\": readme_contents,\n",
    "    }\n",
    "\n",
    "\n",
    "def scrape_github_data():\n",
    "    \"\"\"\n",
    "    This function checks for a local csv file of raw data. If a local csv exists it reads it \n",
    "    to a df.\n",
    "    \n",
    "    If no local csv of raw data exists, it loops through all of the repos in the REPOS list above and\n",
    "    and runs the process functions to scrape the repo name, language, and readme\n",
    "    contents. It then writes the resulting dictionary of lists to a df, returning\n",
    "    a dataframe of raw data. It then caches the raw data to a local csv file.\n",
    "    \"\"\"\n",
    "    if os.path.isfile('raw_data.csv'):\n",
    "        df = pd.read_csv('raw_data.csv')\n",
    "\n",
    "    else:\n",
    "        df = pd.DataFrame([process_repo(repo) for repo in REPOS])\n",
    "        df.to_csv('raw_data.csv')\n",
    "\n",
    "    return df\n",
    "\n",
    "\n",
    "if __name__ == \"__main__\":\n",
    "    data = scrape_github_data()\n",
    "    json.dump(data, open(\"data.json\", \"w\"), indent=1)"
   ]
  }
 ],
 "metadata": {
  "kernelspec": {
   "display_name": "Python 3 (ipykernel)",
   "language": "python",
   "name": "python3"
  },
  "language_info": {
   "codemirror_mode": {
    "name": "ipython",
    "version": 3
   },
   "file_extension": ".py",
   "mimetype": "text/x-python",
   "name": "python",
   "nbconvert_exporter": "python",
   "pygments_lexer": "ipython3",
   "version": "3.9.7"
  }
 },
 "nbformat": 4,
 "nbformat_minor": 5
}
