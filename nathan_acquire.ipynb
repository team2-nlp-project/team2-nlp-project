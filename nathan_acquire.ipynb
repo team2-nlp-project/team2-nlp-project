{
 "cells": [
  {
   "cell_type": "code",
   "execution_count": 1,
   "id": "12d749e2",
   "metadata": {},
   "outputs": [],
   "source": [
    "from requests import get\n",
    "from bs4 import BeautifulSoup\n",
    "import pandas as pd"
   ]
  },
  {
   "cell_type": "code",
   "execution_count": 3,
   "id": "5b554c9f",
   "metadata": {},
   "outputs": [
    {
     "data": {
      "text/plain": [
       "<h1 class=\"h3 lh-condensed\">\n",
       "<a data-hydro-click='{\"event_type\":\"explore.click\",\"payload\":{\"click_context\":\"TRENDING_REPOSITORIES_PAGE\",\"click_target\":\"REPOSITORY\",\"click_visual_representation\":\"REPOSITORY_NAME_HEADING\",\"actor_id\":null,\"record_id\":39840932,\"originating_url\":\"https://github.com/trending\",\"user_id\":null}}' data-hydro-click-hmac=\"b5c21c00a03199cc476d548acb97ab258f58b11b86fc31b42a24574f04824f67\" data-view-component=\"true\" href=\"/google/googletest\">\n",
       "<svg aria-hidden=\"true\" class=\"octicon octicon-repo mr-1 color-fg-muted\" data-view-component=\"true\" height=\"16\" version=\"1.1\" viewbox=\"0 0 16 16\" width=\"16\">\n",
       "<path d=\"M2 2.5A2.5 2.5 0 014.5 0h8.75a.75.75 0 01.75.75v12.5a.75.75 0 01-.75.75h-2.5a.75.75 0 110-1.5h1.75v-2h-8a1 1 0 00-.714 1.7.75.75 0 01-1.072 1.05A2.495 2.495 0 012 11.5v-9zm10.5-1V9h-8c-.356 0-.694.074-1 .208V2.5a1 1 0 011-1h8zM5 12.25v3.25a.25.25 0 00.4.2l1.45-1.087a.25.25 0 01.3 0L8.6 15.7a.25.25 0 00.4-.2v-3.25a.25.25 0 00-.25-.25h-3.5a.25.25 0 00-.25.25z\" fill-rule=\"evenodd\"></path>\n",
       "</svg>\n",
       "<span class=\"text-normal\" data-view-component=\"true\">\n",
       "        google /\n",
       "</span>\n",
       "      googletest\n",
       "</a>\n",
       "</h1>"
      ]
     },
     "execution_count": 3,
     "metadata": {},
     "output_type": "execute_result"
    }
   ],
   "source": [
    "url = 'https://github.com/trending' \n",
    "response = get(url)\n",
    "soup = BeautifulSoup(response.text, 'html.parser')\n",
    "headings = soup.select('h1.h3.lh-condensed')\n",
    "headings[0]"
   ]
  },
  {
   "cell_type": "code",
   "execution_count": 5,
   "id": "e51420a0",
   "metadata": {},
   "outputs": [
    {
     "data": {
      "text/plain": [
       "25"
      ]
     },
     "execution_count": 5,
     "metadata": {},
     "output_type": "execute_result"
    }
   ],
   "source": [
    "len(headings)"
   ]
  },
  {
   "cell_type": "code",
   "execution_count": 6,
   "id": "0b000b88",
   "metadata": {},
   "outputs": [
    {
     "data": {
      "text/plain": [
       "['google/googletest',\n",
       " 'projectdiscovery/nuclei-templates',\n",
       " 'digitalocean/nginxconfig.io',\n",
       " 'flutter/flutter',\n",
       " 'PaddlePaddle/PaddleOCR',\n",
       " 'flutter/pinball',\n",
       " 'wolfogre/go-pprof-practice',\n",
       " 'supabase/supabase',\n",
       " 'felipefialho/frontend-challenges',\n",
       " 'flutter/samples',\n",
       " 'alibaba/fastjson2',\n",
       " 'florinpop17/app-ideas',\n",
       " 'charmbracelet/bubbletea',\n",
       " 'huggingface/transformers',\n",
       " 'databricks-academy/data-engineering-with-databricks',\n",
       " 'hectorqin/reader',\n",
       " 'Azure/azure-rest-api-specs',\n",
       " 'terra-money/core',\n",
       " 'saltstack/salt',\n",
       " 'PKUFlyingPig/cs-self-learning',\n",
       " 'actions/virtual-environments',\n",
       " 'jojoldu/junior-recruit-scheduler',\n",
       " 'dotnet/aspnetcore',\n",
       " 'danielgindi/Charts',\n",
       " 'microsoft/unilm']"
      ]
     },
     "execution_count": 6,
     "metadata": {},
     "output_type": "execute_result"
    }
   ],
   "source": [
    "[h.select_one('a').attrs['href'][1:] for h in soup.select('h1.h3.lh-condensed')]"
   ]
  },
  {
   "cell_type": "code",
   "execution_count": null,
   "id": "33284969",
   "metadata": {},
   "outputs": [],
   "source": []
  },
  {
   "cell_type": "code",
   "execution_count": null,
   "id": "ddb3b4fa",
   "metadata": {},
   "outputs": [],
   "source": []
  },
  {
   "cell_type": "code",
   "execution_count": 11,
   "id": "523e0153",
   "metadata": {},
   "outputs": [
    {
     "data": {
      "text/plain": [
       "<div class=\"f4 text-normal\">\n",
       "<a class=\"v-align-middle\" data-hydro-click='{\"event_type\":\"search_result.click\",\"payload\":{\"page_number\":1,\"per_page\":10,\"query\":\"stars:&gt;1\",\"result_position\":1,\"click_id\":14204342,\"result\":{\"id\":14204342,\"global_relay_id\":\"MDEwOlJlcG9zaXRvcnkxNDIwNDM0Mg==\",\"model_name\":\"Repository\",\"url\":\"https://github.com/jtleek/datasharing\"},\"originating_url\":\"https://github.com/search?o=desc&amp;q=stars:%3E1&amp;s=forks&amp;type=Repositories\",\"user_id\":null}}' data-hydro-click-hmac=\"43ffd03f9b9f100d5d4cff6300156df517f385d2cd83787e829219fd8b4df50e\" href=\"/jtleek/datasharing\">jtleek/datasharing</a>\n",
       "</div>"
      ]
     },
     "execution_count": 11,
     "metadata": {},
     "output_type": "execute_result"
    }
   ],
   "source": [
    "url = 'https://github.com/search?o=desc&q=stars:%3E1&s=forks&type=Repositories' \n",
    "response = get(url)\n",
    "soup = BeautifulSoup(response.text, 'html.parser')\n",
    "headings = soup.select('div.f4.text-normal')\n",
    "headings[0]"
   ]
  },
  {
   "cell_type": "code",
   "execution_count": null,
   "id": "ccd76615",
   "metadata": {},
   "outputs": [],
   "source": []
  },
  {
   "cell_type": "code",
   "execution_count": 10,
   "id": "06f16399",
   "metadata": {},
   "outputs": [
    {
     "data": {
      "text/plain": [
       "'\\n\\n\\n\\n\\n\\nRate limit · GitHub\\n\\n\\n\\n\\n\\nWhoa there!\\nYou have exceeded a secondary rate limit.\\n        Please wait a few minutes before you try again;\\n        in some cases this may take up to an hour.\\n      \\n\\nContact Support —\\n        GitHub Status —\\n        @githubstatus\\n\\n\\n\\n\\n\\n\\n\\n\\n\\n\\n'"
      ]
     },
     "execution_count": 10,
     "metadata": {},
     "output_type": "execute_result"
    }
   ],
   "source": [
    "soup.text"
   ]
  },
  {
   "cell_type": "code",
   "execution_count": 12,
   "id": "cf9bdd89",
   "metadata": {},
   "outputs": [
    {
     "data": {
      "text/plain": [
       "['jtleek/datasharing',\n",
       " 'rdpeng/ProgrammingAssignment2',\n",
       " 'octocat/Spoon-Knife',\n",
       " 'tensorflow/tensorflow',\n",
       " 'twbs/bootstrap',\n",
       " 'Pierian-Data/Complete-Python-3-Bootcamp',\n",
       " 'nightscout/cgm-remote-monitor',\n",
       " 'jwasham/coding-interview-university',\n",
       " 'rdpeng/ExData_Plotting1',\n",
       " 'github/docs']"
      ]
     },
     "execution_count": 12,
     "metadata": {},
     "output_type": "execute_result"
    }
   ],
   "source": [
    "[h.select_one('a').attrs['href'][1:] for h in soup.select('div.f4.text-normal')]"
   ]
  },
  {
   "cell_type": "code",
   "execution_count": 13,
   "id": "584d371f",
   "metadata": {},
   "outputs": [],
   "source": [
    "url = 'https://github.com/search?o=desc&p=2&q=stars%3A%3E1&s=forks&type=Repositories'\n",
    "response = get(url)"
   ]
  },
  {
   "cell_type": "code",
   "execution_count": 14,
   "id": "0086e5d8",
   "metadata": {},
   "outputs": [
    {
     "data": {
      "text/plain": [
       "<div class=\"f4 text-normal\">\n",
       "<a class=\"v-align-middle\" data-hydro-click='{\"event_type\":\"search_result.click\",\"payload\":{\"page_number\":2,\"per_page\":10,\"query\":\"stars:&gt;1\",\"result_position\":1,\"click_id\":189621607,\"result\":{\"id\":189621607,\"global_relay_id\":\"MDEwOlJlcG9zaXRvcnkxODk2MjE2MDc=\",\"model_name\":\"Repository\",\"url\":\"https://github.com/github/docs\"},\"originating_url\":\"https://github.com/search?o=desc&amp;p=2&amp;q=stars%3A%3E1&amp;s=forks&amp;type=Repositories\",\"user_id\":null}}' data-hydro-click-hmac=\"e0c9c413683b12336f4ab1b96034d225dd4b7213d00e333d6630186cc5935124\" href=\"/github/docs\">github/docs</a>\n",
       "</div>"
      ]
     },
     "execution_count": 14,
     "metadata": {},
     "output_type": "execute_result"
    }
   ],
   "source": [
    "soup = BeautifulSoup(response.text, 'html.parser')\n",
    "headings = soup.select('div.f4.text-normal')\n",
    "headings[0]"
   ]
  },
  {
   "cell_type": "code",
   "execution_count": 15,
   "id": "12670f94",
   "metadata": {},
   "outputs": [
    {
     "data": {
      "text/plain": [
       "['github/docs',\n",
       " 'opencv/opencv',\n",
       " 'EbookFoundation/free-programming-books',\n",
       " 'eugenp/tutorials',\n",
       " 'CyC2018/CS-Notes',\n",
       " 'jackfrued/Python-100-Days',\n",
       " 'firstcontributions/first-contributions',\n",
       " 'torvalds/linux',\n",
       " 'Snailclimb/JavaGuide',\n",
       " 'facebook/react']"
      ]
     },
     "execution_count": 15,
     "metadata": {},
     "output_type": "execute_result"
    }
   ],
   "source": [
    "[h.select_one('a').attrs['href'][1:] for h in soup.select('div.f4.text-normal')]"
   ]
  },
  {
   "cell_type": "code",
   "execution_count": 16,
   "id": "43033ca7",
   "metadata": {},
   "outputs": [],
   "source": [
    "url = 'https://github.com/search?o=desc&p=3&q=stars%3A%3E1&s=forks&type=Repositories'\n",
    "response = get(url)"
   ]
  },
  {
   "cell_type": "code",
   "execution_count": 17,
   "id": "e34f7a4f",
   "metadata": {},
   "outputs": [
    {
     "data": {
      "text/plain": [
       "<div class=\"f4 text-normal\">\n",
       "<a class=\"v-align-middle\" data-hydro-click='{\"event_type\":\"search_result.click\",\"payload\":{\"page_number\":3,\"per_page\":10,\"query\":\"stars:&gt;1\",\"result_position\":1,\"click_id\":15783450,\"result\":{\"id\":15783450,\"global_relay_id\":\"MDEwOlJlcG9zaXRvcnkxNTc4MzQ1MA==\",\"model_name\":\"Repository\",\"url\":\"https://github.com/jlord/patchwork\"},\"originating_url\":\"https://github.com/search?o=desc&amp;p=3&amp;q=stars%3A%3E1&amp;s=forks&amp;type=Repositories\",\"user_id\":null}}' data-hydro-click-hmac=\"e9e156fd89fd4f4322570e4ca03c27e94962a4e53376501c1e4090099efa3850\" href=\"/jlord/patchwork\">jlord/patchwork</a>\n",
       "</div>"
      ]
     },
     "execution_count": 17,
     "metadata": {},
     "output_type": "execute_result"
    }
   ],
   "source": [
    "soup = BeautifulSoup(response.text, 'html.parser')\n",
    "headings = soup.select('div.f4.text-normal')\n",
    "headings[0]"
   ]
  },
  {
   "cell_type": "code",
   "execution_count": 18,
   "id": "be9ad9b9",
   "metadata": {},
   "outputs": [
    {
     "data": {
      "text/plain": [
       "['jlord/patchwork',\n",
       " 'TheAlgorithms/Python',\n",
       " 'ant-design/ant-design',\n",
       " 'barryclark/jekyll-now',\n",
       " 'bitcoin/bitcoin',\n",
       " 'angular/angular.js',\n",
       " 'kamranahmedse/developer-roadmap',\n",
       " 'PanJiaChen/vue-element-admin',\n",
       " 'django/django',\n",
       " 'mui/material-ui']"
      ]
     },
     "execution_count": 18,
     "metadata": {},
     "output_type": "execute_result"
    }
   ],
   "source": [
    "[h.select_one('a').attrs['href'][1:] for h in soup.select('div.f4.text-normal')]"
   ]
  },
  {
   "cell_type": "code",
   "execution_count": 19,
   "id": "dc324855",
   "metadata": {},
   "outputs": [],
   "source": [
    "url = 'https://github.com/search?o=desc&p=4&q=stars%3A%3E1&s=forks&type=Repositories'\n",
    "response = get(url)"
   ]
  },
  {
   "cell_type": "code",
   "execution_count": 20,
   "id": "82d2b3b8",
   "metadata": {},
   "outputs": [
    {
     "data": {
      "text/plain": [
       "<div class=\"f4 text-normal\">\n",
       "<a class=\"v-align-middle\" data-hydro-click='{\"event_type\":\"search_result.click\",\"payload\":{\"page_number\":4,\"per_page\":10,\"query\":\"stars:&gt;1\",\"result_position\":1,\"click_id\":85077558,\"result\":{\"id\":85077558,\"global_relay_id\":\"MDEwOlJlcG9zaXRvcnk4NTA3NzU1OA==\",\"model_name\":\"Repository\",\"url\":\"https://github.com/kamranahmedse/developer-roadmap\"},\"originating_url\":\"https://github.com/search?o=desc&amp;p=4&amp;q=stars%3A%3E1&amp;s=forks&amp;type=Repositories\",\"user_id\":null}}' data-hydro-click-hmac=\"325592ad3d339c70a816b7cd30e0febd1f1cffa99766992420bf7e3a272c2f94\" href=\"/kamranahmedse/developer-roadmap\">kamranahmedse/developer-roadmap</a>\n",
       "</div>"
      ]
     },
     "execution_count": 20,
     "metadata": {},
     "output_type": "execute_result"
    }
   ],
   "source": [
    "soup = BeautifulSoup(response.text, 'html.parser')\n",
    "headings = soup.select('div.f4.text-normal')\n",
    "headings[0]"
   ]
  },
  {
   "cell_type": "code",
   "execution_count": 21,
   "id": "8f18d4e8",
   "metadata": {},
   "outputs": [
    {
     "data": {
      "text/plain": [
       "['kamranahmedse/developer-roadmap',\n",
       " 'PanJiaChen/vue-element-admin',\n",
       " 'DefinitelyTyped/DefinitelyTyped',\n",
       " 'django/django',\n",
       " 'mui/material-ui',\n",
       " 'RedHatTraining/DO180-apps',\n",
       " 'qmk/qmk_firmware',\n",
       " 'apache/spark',\n",
       " 'apache/dubbo',\n",
       " 'google/it-cert-automation-practice']"
      ]
     },
     "execution_count": 21,
     "metadata": {},
     "output_type": "execute_result"
    }
   ],
   "source": [
    "[h.select_one('a').attrs['href'][1:] for h in soup.select('div.f4.text-normal')]"
   ]
  },
  {
   "cell_type": "code",
   "execution_count": 22,
   "id": "c396b919",
   "metadata": {},
   "outputs": [],
   "source": [
    "url = 'https://github.com/search?o=desc&p=5&q=stars%3A%3E1&s=forks&type=Repositories'\n",
    "response = get(url)"
   ]
  },
  {
   "cell_type": "code",
   "execution_count": 23,
   "id": "bcfa4c3e",
   "metadata": {},
   "outputs": [
    {
     "data": {
      "text/plain": [
       "<div class=\"f4 text-normal\">\n",
       "<a class=\"v-align-middle\" data-hydro-click='{\"event_type\":\"search_result.click\",\"payload\":{\"page_number\":5,\"per_page\":10,\"query\":\"stars:&gt;1\",\"result_position\":1,\"click_id\":63537249,\"result\":{\"id\":63537249,\"global_relay_id\":\"MDEwOlJlcG9zaXRvcnk2MzUzNzI0OQ==\",\"model_name\":\"Repository\",\"url\":\"https://github.com/facebook/create-react-app\"},\"originating_url\":\"https://github.com/search?o=desc&amp;p=5&amp;q=stars%3A%3E1&amp;s=forks&amp;type=Repositories\",\"user_id\":null}}' data-hydro-click-hmac=\"a062b7ac7393e0c6659a6a3b8e0b0188fd221d8aae2c97257b9afef49fa07848\" href=\"/facebook/create-react-app\">facebook/create-react-app</a>\n",
       "</div>"
      ]
     },
     "execution_count": 23,
     "metadata": {},
     "output_type": "execute_result"
    }
   ],
   "source": [
    "soup = BeautifulSoup(response.text, 'html.parser')\n",
    "headings = soup.select('div.f4.text-normal')\n",
    "headings[0]"
   ]
  },
  {
   "cell_type": "code",
   "execution_count": 24,
   "id": "a511770a",
   "metadata": {},
   "outputs": [
    {
     "data": {
      "text/plain": [
       "['facebook/create-react-app',\n",
       " 'airbnb/javascript',\n",
       " 'git/git',\n",
       " 'nodejs/node',\n",
       " 'sindresorhus/awesome',\n",
       " 'iluwatar/java-design-patterns',\n",
       " 'python/cpython',\n",
       " 'd3/d3',\n",
       " 'scikit-learn/scikit-learn',\n",
       " 'atralice/Curso.Prep.Henry']"
      ]
     },
     "execution_count": 24,
     "metadata": {},
     "output_type": "execute_result"
    }
   ],
   "source": [
    "[h.select_one('a').attrs['href'][1:] for h in soup.select('div.f4.text-normal')]"
   ]
  },
  {
   "cell_type": "code",
   "execution_count": 3,
   "id": "b2bd3d52",
   "metadata": {},
   "outputs": [],
   "source": [
    "url = 'https://github.com/search?o=desc&p=7&q=stars%3A%3E1&s=forks&type=Repositories'\n",
    "response = get(url)"
   ]
  },
  {
   "cell_type": "code",
   "execution_count": 4,
   "id": "b6762bd7",
   "metadata": {},
   "outputs": [
    {
     "data": {
      "text/plain": [
       "<div class=\"f4 text-normal\">\n",
       "<a class=\"v-align-middle\" data-hydro-click='{\"event_type\":\"search_result.click\",\"payload\":{\"page_number\":7,\"per_page\":10,\"query\":\"stars:&gt;1\",\"result_position\":1,\"click_id\":12791642,\"result\":{\"id\":12791642,\"global_relay_id\":\"MDEwOlJlcG9zaXRvcnkxMjc5MTY0Mg==\",\"model_name\":\"Repository\",\"url\":\"https://github.com/BVLC/caffe\"},\"originating_url\":\"https://github.com/search?o=desc&amp;p=7&amp;q=stars%3A%3E1&amp;s=forks&amp;type=Repositories\",\"user_id\":null}}' data-hydro-click-hmac=\"ca60a6ad3c9032632c5b2989897b455af1ac1cd40c2e955fc0a697b9a304322f\" href=\"/BVLC/caffe\">BVLC/caffe</a>\n",
       "</div>"
      ]
     },
     "execution_count": 4,
     "metadata": {},
     "output_type": "execute_result"
    }
   ],
   "source": [
    "soup = BeautifulSoup(response.text, 'html.parser')\n",
    "headings = soup.select('div.f4.text-normal')\n",
    "headings[0]"
   ]
  },
  {
   "cell_type": "code",
   "execution_count": 5,
   "id": "630e32bc",
   "metadata": {},
   "outputs": [
    {
     "data": {
      "text/plain": [
       "['BVLC/caffe',\n",
       " 'apache/echarts',\n",
       " 'CSSEGISandData/COVID-19',\n",
       " 'jenkins-docs/simple-java-maven-app',\n",
       " 'vercel/next.js',\n",
       " 'home-assistant/core',\n",
       " 'moby/moby',\n",
       " 'ColorlibHQ/AdminLTE',\n",
       " 'scm-ninja/starter-web',\n",
       " 'xingshaocheng/architect-awesome']"
      ]
     },
     "execution_count": 5,
     "metadata": {},
     "output_type": "execute_result"
    }
   ],
   "source": [
    "[h.select_one('a').attrs['href'][1:] for h in soup.select('div.f4.text-normal')]"
   ]
  },
  {
   "cell_type": "code",
   "execution_count": 6,
   "id": "58fa9e87",
   "metadata": {},
   "outputs": [],
   "source": [
    "url = 'https://github.com/search?o=desc&p=8&q=stars%3A%3E1&s=forks&type=Repositories'\n",
    "response = get(url)"
   ]
  },
  {
   "cell_type": "code",
   "execution_count": 7,
   "id": "4140e15b",
   "metadata": {},
   "outputs": [
    {
     "data": {
      "text/plain": [
       "<div class=\"f4 text-normal\">\n",
       "<a class=\"v-align-middle\" data-hydro-click='{\"event_type\":\"search_result.click\",\"payload\":{\"page_number\":8,\"per_page\":10,\"query\":\"stars:&gt;1\",\"result_position\":1,\"click_id\":7512484,\"result\":{\"id\":7512484,\"global_relay_id\":\"MDEwOlJlcG9zaXRvcnk3NTEyNDg0\",\"model_name\":\"Repository\",\"url\":\"https://github.com/ArduPilot/ardupilot\"},\"originating_url\":\"https://github.com/search?o=desc&amp;p=8&amp;q=stars%3A%3E1&amp;s=forks&amp;type=Repositories\",\"user_id\":null}}' data-hydro-click-hmac=\"f601b80df1bdce61deeda313efce5c121a9eb1e642ac2468cf8d2c4ea0d00738\" href=\"/ArduPilot/ardupilot\">ArduPilot/ardupilot</a>\n",
       "</div>"
      ]
     },
     "execution_count": 7,
     "metadata": {},
     "output_type": "execute_result"
    }
   ],
   "source": [
    "soup = BeautifulSoup(response.text, 'html.parser')\n",
    "headings = soup.select('div.f4.text-normal')\n",
    "headings[0]"
   ]
  },
  {
   "cell_type": "code",
   "execution_count": 8,
   "id": "9b86924c",
   "metadata": {},
   "outputs": [
    {
     "data": {
      "text/plain": [
       "['ArduPilot/ardupilot',\n",
       " 'codebasics/py',\n",
       " 'ageitgey/face_recognition',\n",
       " 'bailicangdu/vue2-elm',\n",
       " 'angular/angular-cli',\n",
       " 'kdn251/interviews',\n",
       " 'Trinea/android-open-project',\n",
       " 'zero-to-mastery/start-here-guidelines',\n",
       " 'FortAwesome/Font-Awesome',\n",
       " 'Homebrew/legacy-homebrew']"
      ]
     },
     "execution_count": 8,
     "metadata": {},
     "output_type": "execute_result"
    }
   ],
   "source": [
    "[h.select_one('a').attrs['href'][1:] for h in soup.select('div.f4.text-normal')]"
   ]
  },
  {
   "cell_type": "code",
   "execution_count": 9,
   "id": "5b44cef8",
   "metadata": {},
   "outputs": [],
   "source": [
    "url = 'https://github.com/search?o=desc&p=9&q=stars%3A%3E1&s=forks&type=Repositories'\n",
    "response = get(url)"
   ]
  },
  {
   "cell_type": "code",
   "execution_count": 10,
   "id": "fe7432f4",
   "metadata": {},
   "outputs": [
    {
     "data": {
      "text/plain": [
       "<div class=\"f4 text-normal\">\n",
       "<a class=\"v-align-middle\" data-hydro-click='{\"event_type\":\"search_result.click\",\"payload\":{\"page_number\":9,\"per_page\":10,\"query\":\"stars:&gt;1\",\"result_position\":1,\"click_id\":65388917,\"result\":{\"id\":65388917,\"global_relay_id\":\"MDEwOlJlcG9zaXRvcnk2NTM4ODkxNw==\",\"model_name\":\"Repository\",\"url\":\"https://github.com/jakevdp/PythonDataScienceHandbook\"},\"originating_url\":\"https://github.com/search?o=desc&amp;p=9&amp;q=stars%3A%3E1&amp;s=forks&amp;type=Repositories\",\"user_id\":null}}' data-hydro-click-hmac=\"739f5bacd6b2f2da309c9ae8bf4927a9384c5739cdc0235464bda91e366d620f\" href=\"/jakevdp/PythonDataScienceHandbook\">jakevdp/PythonDataScienceHandbook</a>\n",
       "</div>"
      ]
     },
     "execution_count": 10,
     "metadata": {},
     "output_type": "execute_result"
    }
   ],
   "source": [
    "soup = BeautifulSoup(response.text, 'html.parser')\n",
    "headings = soup.select('div.f4.text-normal')\n",
    "headings[0]"
   ]
  },
  {
   "cell_type": "code",
   "execution_count": 11,
   "id": "7495301c",
   "metadata": {},
   "outputs": [
    {
     "data": {
      "text/plain": [
       "['jakevdp/PythonDataScienceHandbook',\n",
       " 'aymericdamien/TensorFlow-Examples',\n",
       " 'pallets/flask',\n",
       " 'github/opensource.guide',\n",
       " 'golang/go',\n",
       " 'TheOdinProject/css-exercises',\n",
       " 'selfteaching/the-craft-of-selfteaching',\n",
       " 'pandas-dev/pandas',\n",
       " 'ElemeFE/element',\n",
       " 'ionic-team/ionic-framework']"
      ]
     },
     "execution_count": 11,
     "metadata": {},
     "output_type": "execute_result"
    }
   ],
   "source": [
    "[h.select_one('a').attrs['href'][1:] for h in soup.select('div.f4.text-normal')]"
   ]
  },
  {
   "cell_type": "code",
   "execution_count": 15,
   "id": "aa0d68b4",
   "metadata": {},
   "outputs": [],
   "source": [
    "url = 'https://github.com/search?o=desc&p=10&q=stars%3A%3E1&s=forks&type=Repositories'\n",
    "response = get(url)"
   ]
  },
  {
   "cell_type": "code",
   "execution_count": 16,
   "id": "324d34ca",
   "metadata": {},
   "outputs": [
    {
     "data": {
      "text/plain": [
       "<div class=\"f4 text-normal\">\n",
       "<a class=\"v-align-middle\" data-hydro-click='{\"event_type\":\"search_result.click\",\"payload\":{\"page_number\":10,\"per_page\":10,\"query\":\"stars:&gt;1\",\"result_position\":1,\"click_id\":151834062,\"result\":{\"id\":151834062,\"global_relay_id\":\"MDEwOlJlcG9zaXRvcnkxNTE4MzQwNjI=\",\"model_name\":\"Repository\",\"url\":\"https://github.com/doocs/advanced-java\"},\"originating_url\":\"https://github.com/search?o=desc&amp;p=10&amp;q=stars%3A%3E1&amp;s=forks&amp;type=Repositories\",\"user_id\":null}}' data-hydro-click-hmac=\"a1b5dbd4a88b4054862a755cc84a8806667ebc0e3b2996a0aed4f405b05dd362\" href=\"/doocs/advanced-java\">doocs/advanced-java</a>\n",
       "</div>"
      ]
     },
     "execution_count": 16,
     "metadata": {},
     "output_type": "execute_result"
    }
   ],
   "source": [
    "soup = BeautifulSoup(response.text, 'html.parser')\n",
    "headings = soup.select('div.f4.text-normal')\n",
    "headings[0]"
   ]
  },
  {
   "cell_type": "code",
   "execution_count": 17,
   "id": "4b2b01a3",
   "metadata": {},
   "outputs": [
    {
     "data": {
      "text/plain": [
       "['doocs/advanced-java',\n",
       " 'MarlinFirmware/Marlin',\n",
       " 'shadowsocks/shadowsocks-windows',\n",
       " 'CoreyMSchafer/code_snippets',\n",
       " 'MicrosoftDocs/azure-docs',\n",
       " 'odoo/odoo',\n",
       " 'FreeRDP/FreeRDP',\n",
       " 'hakimel/reveal.js',\n",
       " 'gabrielecirulli/2048',\n",
       " 'udacity/course-collaboration-travel-plans']"
      ]
     },
     "execution_count": 17,
     "metadata": {},
     "output_type": "execute_result"
    }
   ],
   "source": [
    "[h.select_one('a').attrs['href'][1:] for h in soup.select('div.f4.text-normal')]"
   ]
  },
  {
   "cell_type": "code",
   "execution_count": 18,
   "id": "ed1a55f3",
   "metadata": {},
   "outputs": [],
   "source": [
    "url = 'https://github.com/search?o=desc&p=11&q=stars%3A%3E1&s=forks&type=Repositories'\n",
    "response = get(url)"
   ]
  },
  {
   "cell_type": "code",
   "execution_count": 19,
   "id": "9cd15b02",
   "metadata": {},
   "outputs": [
    {
     "data": {
      "text/plain": [
       "<div class=\"f4 text-normal\">\n",
       "<a class=\"v-align-middle\" data-hydro-click='{\"event_type\":\"search_result.click\",\"payload\":{\"page_number\":11,\"per_page\":10,\"query\":\"stars:&gt;1\",\"result_position\":1,\"click_id\":19415064,\"result\":{\"id\":19415064,\"global_relay_id\":\"MDEwOlJlcG9zaXRvcnkxOTQxNTA2NA==\",\"model_name\":\"Repository\",\"url\":\"https://github.com/ossu/computer-science\"},\"originating_url\":\"https://github.com/search?o=desc&amp;p=11&amp;q=stars%3A%3E1&amp;s=forks&amp;type=Repositories\",\"user_id\":null}}' data-hydro-click-hmac=\"be409c79a21bec307c6a75bc34ac714763fdb263fb6a4b138e88c09e0b07bc45\" href=\"/ossu/computer-science\">ossu/computer-science</a>\n",
       "</div>"
      ]
     },
     "execution_count": 19,
     "metadata": {},
     "output_type": "execute_result"
    }
   ],
   "source": [
    "soup = BeautifulSoup(response.text, 'html.parser')\n",
    "headings = soup.select('div.f4.text-normal')\n",
    "headings[0]"
   ]
  },
  {
   "cell_type": "code",
   "execution_count": null,
   "id": "a12acecd",
   "metadata": {},
   "outputs": [],
   "source": []
  },
  {
   "cell_type": "code",
   "execution_count": null,
   "id": "a92f21c6",
   "metadata": {},
   "outputs": [],
   "source": []
  },
  {
   "cell_type": "code",
   "execution_count": 20,
   "id": "79969954",
   "metadata": {},
   "outputs": [
    {
     "data": {
      "text/plain": [
       "['ossu/computer-science',\n",
       " 'jakevdp/PythonDataScienceHandbook',\n",
       " 'aymericdamien/TensorFlow-Examples',\n",
       " 'reduxjs/redux',\n",
       " 'pallets/flask',\n",
       " 'TheAlgorithms/Java',\n",
       " 'scutan90/DeepLearning-500-questions',\n",
       " 'huggingface/transformers',\n",
       " 'github/opensource.guide',\n",
       " 'golang/go']"
      ]
     },
     "execution_count": 20,
     "metadata": {},
     "output_type": "execute_result"
    }
   ],
   "source": [
    "[h.select_one('a').attrs['href'][1:] for h in soup.select('div.f4.text-normal')]"
   ]
  },
  {
   "cell_type": "code",
   "execution_count": 24,
   "id": "3f502422",
   "metadata": {},
   "outputs": [],
   "source": [
    "url = 'https://github.com/search?o=desc&p=12&q=stars%3A%3E1&s=forks&type=Repositories'\n",
    "response = get(url)"
   ]
  },
  {
   "cell_type": "code",
   "execution_count": 25,
   "id": "4deae3bf",
   "metadata": {},
   "outputs": [
    {
     "data": {
      "text/plain": [
       "<div class=\"f4 text-normal\">\n",
       "<a class=\"v-align-middle\" data-hydro-click='{\"event_type\":\"search_result.click\",\"payload\":{\"page_number\":12,\"per_page\":10,\"query\":\"stars:&gt;1\",\"result_position\":1,\"click_id\":36535156,\"result\":{\"id\":36535156,\"global_relay_id\":\"MDEwOlJlcG9zaXRvcnkzNjUzNTE1Ng==\",\"model_name\":\"Repository\",\"url\":\"https://github.com/reduxjs/redux\"},\"originating_url\":\"https://github.com/search?o=desc&amp;p=12&amp;q=stars%3A%3E1&amp;s=forks&amp;type=Repositories\",\"user_id\":null}}' data-hydro-click-hmac=\"eff2a06d7f616754e6648970e679e745ee63b926291636a62d8b6613bcc6bac6\" href=\"/reduxjs/redux\">reduxjs/redux</a>\n",
       "</div>"
      ]
     },
     "execution_count": 25,
     "metadata": {},
     "output_type": "execute_result"
    }
   ],
   "source": [
    "soup = BeautifulSoup(response.text, 'html.parser')\n",
    "headings = soup.select('div.f4.text-normal')\n",
    "headings[0]"
   ]
  },
  {
   "cell_type": "code",
   "execution_count": 26,
   "id": "e5bf19ad",
   "metadata": {},
   "outputs": [
    {
     "data": {
      "text/plain": [
       "['reduxjs/redux',\n",
       " 'pallets/flask',\n",
       " 'scutan90/DeepLearning-500-questions',\n",
       " 'huggingface/transformers',\n",
       " 'github/opensource.guide',\n",
       " 'golang/go',\n",
       " 'TheOdinProject/css-exercises',\n",
       " 'selfteaching/the-craft-of-selfteaching',\n",
       " 'netty/netty',\n",
       " 'Azure/azure-quickstart-templates']"
      ]
     },
     "execution_count": 26,
     "metadata": {},
     "output_type": "execute_result"
    }
   ],
   "source": [
    "[h.select_one('a').attrs['href'][1:] for h in soup.select('div.f4.text-normal')]"
   ]
  },
  {
   "cell_type": "code",
   "execution_count": 23,
   "id": "943e3e20",
   "metadata": {},
   "outputs": [
    {
     "data": {
      "text/plain": [
       "'\\n\\n\\n\\n\\n\\nRate limit · GitHub\\n\\n\\n\\n\\n\\nWhoa there!\\nYou have exceeded a secondary rate limit.\\n        Please wait a few minutes before you try again;\\n        in some cases this may take up to an hour.\\n      \\n\\nContact Support —\\n        GitHub Status —\\n        @githubstatus\\n\\n\\n\\n\\n\\n\\n\\n\\n\\n\\n'"
      ]
     },
     "execution_count": 23,
     "metadata": {},
     "output_type": "execute_result"
    }
   ],
   "source": [
    "soup.text"
   ]
  },
  {
   "cell_type": "code",
   "execution_count": null,
   "id": "de61f3a9",
   "metadata": {},
   "outputs": [],
   "source": [
    "import pandas as pd\n",
    "import os\n",
    "\n",
    "#### Pulled from class will need to add values\n",
    "\n",
    "\"\"\"\n",
    "A module for obtaining repo readme and language data from the github API.\n",
    "Before using this module, read through it, and follow the instructions marked\n",
    "TODO.\n",
    "After doing so, run it like this:\n",
    "    python acquire.py\n",
    "To create the `data.json` file that contains the data.\n",
    "\"\"\"\n",
    "import os\n",
    "import json\n",
    "from typing import Dict, List, Optional, Union, cast\n",
    "import requests\n",
    "\n",
    "from env import github_token, github_username\n",
    "\n",
    "# TODO: Make a github personal access token.\n",
    "#     1. Go here and generate a personal access token https://github.com/settings/tokens\n",
    "#        You do _not_ need select any scopes, i.e. leave all the checkboxes unchecked\n",
    "#     2. Save it in your env.py file under the variable `github_token`\n",
    "# TODO: Add your github username to your env.py file under the variable `github_username`\n",
    "# TODO: Add more repositories to the `REPOS` list below.\n",
    "\n",
    "REPOS = [\n",
    " \n",
    " 'topkecleon/telegram-bot-bash',\n",
    " 'evil-mad/EggBot',\n",
    " 'telegram-bot-rb/telegram-bot',\n",
    " 'alfficcadenti/splinterlands-bot',\n",
    " 'nodeWechat/wechat4u',\n",
    " 'tucnak/telebot',\n",
    " 'CarlGroth/Carl-Bot',\n",
    " 'grapeot/WechatForwardBot',\n",
    " 'googleworkspace/hangouts-chat-samples',\n",
    " 'GreyWolfDev/Werewolf',\n",
    " 'abdelhai/awesome-bots',\n",
    " 'mdgspace/bot',\n",
    " 'Sank6/Discord-Bot-List',\n",
    " 'samc621/SneakerBot',\n",
    " 'boto/boto3-sample',\n",
    " 'huseinzol05/Stock-Prediction-Models',\n",
    " 'SAPConversationalAI/Webchat',\n",
    " 'soumyadityac/youtube-viewer',\n",
    " 'CodeWithJoe2020/pancakeswapBot',\n",
    " 'Merubokkusu/discord-spam-bots',\n",
    " 'ZeroDiscord/EconomyBot',\n",
    " 'scrapinghub/slackbot',\n",
    " 'baidu/boteye',\n",
    " 'kcloze/swoole-bot',\n",
    " 'hyperchessbot/hyperbot',\n",
    " 'yangyuan/hearthrock',\n",
    "]\n",
    "\n",
    "headers = {\"Authorization\": f\"token {github_token}\", \"User-Agent\": github_username}\n",
    "\n",
    "if headers[\"Authorization\"] == \"token \" or headers[\"User-Agent\"] == \"\":\n",
    "    raise Exception(\n",
    "        \"You need to follow the instructions marked TODO in this script before trying to use it\"\n",
    "    )\n",
    "\n",
    "\n",
    "def github_api_request(url: str) -> Union[List, Dict]:\n",
    "    response = requests.get(url, headers=headers)\n",
    "    response_data = response.json()\n",
    "    if response.status_code != 200:\n",
    "        raise Exception(\n",
    "            f\"Error response from github api! status code: {response.status_code}, \"\n",
    "            f\"response: {json.dumps(response_data)}\"\n",
    "        )\n",
    "    return response_data\n",
    "\n",
    "\n",
    "def get_repo_language(repo: str) -> str:\n",
    "    url = f\"https://api.github.com/repos/{repo}\"\n",
    "    repo_info = github_api_request(url)\n",
    "    if type(repo_info) is dict:\n",
    "        repo_info = cast(Dict, repo_info)\n",
    "        if \"language\" not in repo_info:\n",
    "            raise Exception(\n",
    "                \"'language' key not round in response\\n{}\".format(json.dumps(repo_info))\n",
    "            )\n",
    "        return repo_info[\"language\"]\n",
    "    raise Exception(\n",
    "        f\"Expecting a dictionary response from {url}, instead got {json.dumps(repo_info)}\"\n",
    "    )\n",
    "\n",
    "\n",
    "def get_repo_contents(repo: str) -> List[Dict[str, str]]:\n",
    "    url = f\"https://api.github.com/repos/{repo}/contents/\"\n",
    "    contents = github_api_request(url)\n",
    "    if type(contents) is list:\n",
    "        contents = cast(List, contents)\n",
    "        return contents\n",
    "    raise Exception(\n",
    "        f\"Expecting a list response from {url}, instead got {json.dumps(contents)}\"\n",
    "    )\n",
    "\n",
    "\n",
    "def get_readme_download_url(files: List[Dict[str, str]]) -> str:\n",
    "    \"\"\"\n",
    "    Takes in a response from the github api that lists the files in a repo and\n",
    "    returns the url that can be used to download the repo's README file.\n",
    "    \"\"\"\n",
    "    for file in files:\n",
    "        if file[\"name\"].lower().startswith(\"readme\"):\n",
    "            return file[\"download_url\"]\n",
    "    return \"\"\n",
    "\n",
    "\n",
    "def process_repo(repo: str) -> Dict[str, str]:\n",
    "    \"\"\"\n",
    "    Takes a repo name like \"gocodeup/codeup-setup-script\" and returns a\n",
    "    dictionary with the language of the repo and the readme contents.\n",
    "    \"\"\"\n",
    "    contents = get_repo_contents(repo)\n",
    "    readme_download_url = get_readme_download_url(contents)\n",
    "    if readme_download_url == \"\":\n",
    "        readme_contents = \"\"\n",
    "    else:\n",
    "        readme_contents = requests.get(readme_download_url).text\n",
    "    return {\n",
    "        \"repo\": repo,\n",
    "        \"language\": get_repo_language(repo),\n",
    "        \"readme_contents\": readme_contents,\n",
    "    }\n",
    "\n",
    "\n",
    "def scrape_github_data():\n",
    "    \"\"\"\n",
    "    This function checks for a local csv file of raw data. If a local csv exists it reads it \n",
    "    to a df.\n",
    "    \n",
    "    If no local csv of raw data exists, it loops through all of the repos in the REPOS list above and\n",
    "    and runs the process functions to scrape the repo name, language, and readme\n",
    "    contents. It then writes the resulting dictionary of lists to a df, returning\n",
    "    a dataframe of raw data. It then caches the raw data to a local csv file.\n",
    "    \"\"\"\n",
    "    if os.path.isfile('raw_data.csv'):\n",
    "        df = pd.read_csv('raw_data.csv')\n",
    "\n",
    "    else:\n",
    "        df = pd.DataFrame([process_repo(repo) for repo in REPOS])\n",
    "        df.to_csv('raw_data.csv')\n",
    "\n",
    "    return df\n",
    "\n",
    "\n",
    "if __name__ == \"__main__\":\n",
    "    data = scrape_github_data()\n",
    "    json.dump(data, open(\"data.json\", \"w\"), indent=1)"
   ]
  },
  {
   "cell_type": "code",
   "execution_count": null,
   "id": "5451f91b",
   "metadata": {},
   "outputs": [],
   "source": []
  },
  {
   "cell_type": "code",
   "execution_count": 28,
   "id": "c6026b03",
   "metadata": {},
   "outputs": [
    {
     "data": {
      "text/html": [
       "<div>\n",
       "<style scoped>\n",
       "    .dataframe tbody tr th:only-of-type {\n",
       "        vertical-align: middle;\n",
       "    }\n",
       "\n",
       "    .dataframe tbody tr th {\n",
       "        vertical-align: top;\n",
       "    }\n",
       "\n",
       "    .dataframe thead th {\n",
       "        text-align: right;\n",
       "    }\n",
       "</style>\n",
       "<table border=\"1\" class=\"dataframe\">\n",
       "  <thead>\n",
       "    <tr style=\"text-align: right;\">\n",
       "      <th></th>\n",
       "      <th>repo</th>\n",
       "      <th>language</th>\n",
       "      <th>readme_contents</th>\n",
       "    </tr>\n",
       "  </thead>\n",
       "  <tbody>\n",
       "    <tr>\n",
       "      <th>0</th>\n",
       "      <td>gocodeup/codeup-setup-script</td>\n",
       "      <td>Shell</td>\n",
       "      <td># Codeup Setup Script\\n\\nSetup script for Code...</td>\n",
       "    </tr>\n",
       "    <tr>\n",
       "      <th>1</th>\n",
       "      <td>gocodeup/movies-application</td>\n",
       "      <td>JavaScript</td>\n",
       "      <td># Movies Application\\n\\nFor this project, we w...</td>\n",
       "    </tr>\n",
       "    <tr>\n",
       "      <th>2</th>\n",
       "      <td>torvalds/linux</td>\n",
       "      <td>C</td>\n",
       "      <td>Linux kernel\\n============\\n\\nThere are severa...</td>\n",
       "    </tr>\n",
       "    <tr>\n",
       "      <th>3</th>\n",
       "      <td>jtleek/datasharing</td>\n",
       "      <td>None</td>\n",
       "      <td>How to share data with a statistician\\n=======...</td>\n",
       "    </tr>\n",
       "    <tr>\n",
       "      <th>4</th>\n",
       "      <td>rdpeng/ProgrammingAssignment2</td>\n",
       "      <td>R</td>\n",
       "      <td>### Introduction\\n\\nThis second programming as...</td>\n",
       "    </tr>\n",
       "  </tbody>\n",
       "</table>\n",
       "</div>"
      ],
      "text/plain": [
       "                            repo    language  \\\n",
       "0   gocodeup/codeup-setup-script       Shell   \n",
       "1    gocodeup/movies-application  JavaScript   \n",
       "2                 torvalds/linux           C   \n",
       "3             jtleek/datasharing        None   \n",
       "4  rdpeng/ProgrammingAssignment2           R   \n",
       "\n",
       "                                     readme_contents  \n",
       "0  # Codeup Setup Script\\n\\nSetup script for Code...  \n",
       "1  # Movies Application\\n\\nFor this project, we w...  \n",
       "2  Linux kernel\\n============\\n\\nThere are severa...  \n",
       "3  How to share data with a statistician\\n=======...  \n",
       "4  ### Introduction\\n\\nThis second programming as...  "
      ]
     },
     "execution_count": 28,
     "metadata": {},
     "output_type": "execute_result"
    }
   ],
   "source": [
    "df = pd.read_json('data.json')\n",
    "df.head()"
   ]
  },
  {
   "cell_type": "code",
   "execution_count": 30,
   "id": "d45b5e9a",
   "metadata": {},
   "outputs": [
    {
     "data": {
      "text/plain": [
       "JavaScript          62\n",
       "Python              49\n",
       "NaN                 32\n",
       "Java                21\n",
       "TypeScript          19\n",
       "C++                 17\n",
       "Go                  14\n",
       "HTML                12\n",
       "Jupyter Notebook    11\n",
       "C                    9\n",
       "CSS                  6\n",
       "C#                   6\n",
       "Dart                 6\n",
       "Vue                  5\n",
       "PHP                  5\n",
       "Shell                5\n",
       "PowerShell           2\n",
       "Ruby                 2\n",
       "Rich Text Format     2\n",
       "R                    2\n",
       "Kotlin               2\n",
       "Swift                2\n",
       "Jinja                1\n",
       "Lua                  1\n",
       "Objective-C          1\n",
       "Scala                1\n",
       "CoffeeScript         1\n",
       "Clojure              1\n",
       "OCaml                1\n",
       "Solidity             1\n",
       "Groovy               1\n",
       "ApacheConf           1\n",
       "Name: language, dtype: int64"
      ]
     },
     "execution_count": 30,
     "metadata": {},
     "output_type": "execute_result"
    }
   ],
   "source": [
    "df.language.value_counts(dropna=False)"
   ]
  },
  {
   "cell_type": "code",
   "execution_count": 31,
   "id": "c68cc036",
   "metadata": {},
   "outputs": [
    {
     "data": {
      "text/plain": [
       "(301, 3)"
      ]
     },
     "execution_count": 31,
     "metadata": {},
     "output_type": "execute_result"
    }
   ],
   "source": [
    "df.shape"
   ]
  },
  {
   "cell_type": "code",
   "execution_count": 2,
   "id": "47fcc0fd",
   "metadata": {},
   "outputs": [],
   "source": [
    "# unicode, regex, json for text digestion\n",
    "import unicodedata\n",
    "import re\n",
    "import json\n",
    "\n",
    "# nltk: natural language toolkit -> tokenization, stopwords (more on this soon)\n",
    "import nltk\n",
    "from nltk.tokenize.toktok import ToktokTokenizer\n",
    "from nltk.corpus import stopwords\n",
    "\n",
    "# pandas dataframe manipulation, acquire script, time formatting\n",
    "import pandas as pd\n",
    "import acquire\n",
    "from time import strftime\n",
    "\n",
    "# shh, down in front\n",
    "import warnings\n",
    "warnings.filterwarnings('ignore')"
   ]
  },
  {
   "cell_type": "code",
   "execution_count": 3,
   "id": "bc616be5",
   "metadata": {},
   "outputs": [],
   "source": [
    "def basic_clean(text):\n",
    "    text = text.lower()\n",
    "    text = unicodedata.normalize('NFKD', text).encode('ascii', 'ignore').decode('utf-8', 'ignore')\n",
    "    text = re.sub(r\"[^a-z0-9'\\s]\", '', text)\n",
    "    return text\n",
    "\n",
    "def tokenize(text):\n",
    "    tokenizer = nltk.tokenize.ToktokTokenizer()\n",
    "    text = tokenizer.tokenize(text, return_str=True)\n",
    "    return text\n",
    "\n",
    "def stem(text):\n",
    "    ps = nltk.porter.PorterStemmer()\n",
    "    stems = [ps.stem(word) for word in text.split()]\n",
    "    text = ' '.join(stems)\n",
    "    return text\n",
    "\n",
    "def lemmatize(text):\n",
    "    wnl = nltk.stem.WordNetLemmatizer()\n",
    "    lemmas = [wnl.lemmatize(word) for word in text.split()]\n",
    "    text = ' '.join(lemmas)\n",
    "    return text\n",
    "\n"
   ]
  },
  {
   "cell_type": "code",
   "execution_count": 35,
   "id": "75b672f6",
   "metadata": {},
   "outputs": [
    {
     "data": {
      "text/html": [
       "<div>\n",
       "<style scoped>\n",
       "    .dataframe tbody tr th:only-of-type {\n",
       "        vertical-align: middle;\n",
       "    }\n",
       "\n",
       "    .dataframe tbody tr th {\n",
       "        vertical-align: top;\n",
       "    }\n",
       "\n",
       "    .dataframe thead th {\n",
       "        text-align: right;\n",
       "    }\n",
       "</style>\n",
       "<table border=\"1\" class=\"dataframe\">\n",
       "  <thead>\n",
       "    <tr style=\"text-align: right;\">\n",
       "      <th></th>\n",
       "      <th>repo</th>\n",
       "      <th>language</th>\n",
       "      <th>readme_contents</th>\n",
       "      <th>clean</th>\n",
       "      <th>stemmed</th>\n",
       "    </tr>\n",
       "  </thead>\n",
       "  <tbody>\n",
       "    <tr>\n",
       "      <th>0</th>\n",
       "      <td>gocodeup/codeup-setup-script</td>\n",
       "      <td>Shell</td>\n",
       "      <td># Codeup Setup Script\\n\\nSetup script for Code...</td>\n",
       "      <td>codeup setup script\\n\\nsetup script for codeu...</td>\n",
       "      <td>codeup setup script setup script for codeup st...</td>\n",
       "    </tr>\n",
       "    <tr>\n",
       "      <th>1</th>\n",
       "      <td>gocodeup/movies-application</td>\n",
       "      <td>JavaScript</td>\n",
       "      <td># Movies Application\\n\\nFor this project, we w...</td>\n",
       "      <td>movies application\\n\\nfor this project we wil...</td>\n",
       "      <td>movi applic for thi project we will be build a...</td>\n",
       "    </tr>\n",
       "    <tr>\n",
       "      <th>2</th>\n",
       "      <td>torvalds/linux</td>\n",
       "      <td>C</td>\n",
       "      <td>Linux kernel\\n============\\n\\nThere are severa...</td>\n",
       "      <td>linux kernel\\n\\n\\nthere are several guides for...</td>\n",
       "      <td>linux kernel there are sever guid for kernel d...</td>\n",
       "    </tr>\n",
       "    <tr>\n",
       "      <th>3</th>\n",
       "      <td>jtleek/datasharing</td>\n",
       "      <td>None</td>\n",
       "      <td>How to share data with a statistician\\n=======...</td>\n",
       "      <td>how to share data with a statistician\\n\\n\\nthi...</td>\n",
       "      <td>how to share data with a statistician thi is a...</td>\n",
       "    </tr>\n",
       "    <tr>\n",
       "      <th>4</th>\n",
       "      <td>rdpeng/ProgrammingAssignment2</td>\n",
       "      <td>R</td>\n",
       "      <td>### Introduction\\n\\nThis second programming as...</td>\n",
       "      <td>introduction\\n\\nthis second programming assig...</td>\n",
       "      <td>introduct thi second program assign will requi...</td>\n",
       "    </tr>\n",
       "  </tbody>\n",
       "</table>\n",
       "</div>"
      ],
      "text/plain": [
       "                            repo    language  \\\n",
       "0   gocodeup/codeup-setup-script       Shell   \n",
       "1    gocodeup/movies-application  JavaScript   \n",
       "2                 torvalds/linux           C   \n",
       "3             jtleek/datasharing        None   \n",
       "4  rdpeng/ProgrammingAssignment2           R   \n",
       "\n",
       "                                     readme_contents  \\\n",
       "0  # Codeup Setup Script\\n\\nSetup script for Code...   \n",
       "1  # Movies Application\\n\\nFor this project, we w...   \n",
       "2  Linux kernel\\n============\\n\\nThere are severa...   \n",
       "3  How to share data with a statistician\\n=======...   \n",
       "4  ### Introduction\\n\\nThis second programming as...   \n",
       "\n",
       "                                               clean  \\\n",
       "0   codeup setup script\\n\\nsetup script for codeu...   \n",
       "1   movies application\\n\\nfor this project we wil...   \n",
       "2  linux kernel\\n\\n\\nthere are several guides for...   \n",
       "3  how to share data with a statistician\\n\\n\\nthi...   \n",
       "4   introduction\\n\\nthis second programming assig...   \n",
       "\n",
       "                                             stemmed  \n",
       "0  codeup setup script setup script for codeup st...  \n",
       "1  movi applic for thi project we will be build a...  \n",
       "2  linux kernel there are sever guid for kernel d...  \n",
       "3  how to share data with a statistician thi is a...  \n",
       "4  introduct thi second program assign will requi...  "
      ]
     },
     "execution_count": 35,
     "metadata": {},
     "output_type": "execute_result"
    }
   ],
   "source": [
    "df['clean'] = df.readme_contents.apply(basic_clean)\n",
    "tokenized_df = df.clean.apply(tokenize)\n",
    "df['stemmed'] = tokenized_df.apply(stem)\n",
    "df.head()"
   ]
  },
  {
   "cell_type": "code",
   "execution_count": 36,
   "id": "afc8d7f3",
   "metadata": {},
   "outputs": [
    {
     "data": {
      "text/plain": [
       "pandas.core.series.Series"
      ]
     },
     "execution_count": 36,
     "metadata": {},
     "output_type": "execute_result"
    }
   ],
   "source": [
    "type(df.clean)"
   ]
  },
  {
   "cell_type": "code",
   "execution_count": 37,
   "id": "64041632",
   "metadata": {},
   "outputs": [
    {
     "data": {
      "text/plain": [
       "pandas.core.series.Series"
      ]
     },
     "execution_count": 37,
     "metadata": {},
     "output_type": "execute_result"
    }
   ],
   "source": [
    "type(df.readme_contents)"
   ]
  },
  {
   "cell_type": "code",
   "execution_count": 38,
   "id": "3856e4a4",
   "metadata": {},
   "outputs": [
    {
     "name": "stdout",
     "output_type": "stream",
     "text": [
      "<class 'pandas.core.frame.DataFrame'>\n",
      "RangeIndex: 301 entries, 0 to 300\n",
      "Data columns (total 5 columns):\n",
      " #   Column           Non-Null Count  Dtype \n",
      "---  ------           --------------  ----- \n",
      " 0   repo             301 non-null    object\n",
      " 1   language         269 non-null    object\n",
      " 2   readme_contents  301 non-null    object\n",
      " 3   clean            301 non-null    object\n",
      " 4   stemmed          301 non-null    object\n",
      "dtypes: object(5)\n",
      "memory usage: 11.9+ KB\n"
     ]
    }
   ],
   "source": [
    "df.info()"
   ]
  },
  {
   "cell_type": "code",
   "execution_count": 4,
   "id": "a649e669",
   "metadata": {},
   "outputs": [],
   "source": [
    "import matt_prepare"
   ]
  },
  {
   "cell_type": "code",
   "execution_count": 5,
   "id": "aabac0cc",
   "metadata": {},
   "outputs": [],
   "source": [
    "df = matt_prepare.clean_df()"
   ]
  },
  {
   "cell_type": "code",
   "execution_count": 6,
   "id": "16899be3",
   "metadata": {},
   "outputs": [
    {
     "data": {
      "text/html": [
       "<div>\n",
       "<style scoped>\n",
       "    .dataframe tbody tr th:only-of-type {\n",
       "        vertical-align: middle;\n",
       "    }\n",
       "\n",
       "    .dataframe tbody tr th {\n",
       "        vertical-align: top;\n",
       "    }\n",
       "\n",
       "    .dataframe thead th {\n",
       "        text-align: right;\n",
       "    }\n",
       "</style>\n",
       "<table border=\"1\" class=\"dataframe\">\n",
       "  <thead>\n",
       "    <tr style=\"text-align: right;\">\n",
       "      <th></th>\n",
       "      <th>repo</th>\n",
       "      <th>language</th>\n",
       "      <th>readme_contents</th>\n",
       "      <th>clean</th>\n",
       "      <th>stemmed</th>\n",
       "      <th>lemmatized</th>\n",
       "      <th>character_count</th>\n",
       "      <th>word_count</th>\n",
       "    </tr>\n",
       "  </thead>\n",
       "  <tbody>\n",
       "    <tr>\n",
       "      <th>0</th>\n",
       "      <td>gocodeup/codeup-setup-script</td>\n",
       "      <td>Shell</td>\n",
       "      <td># Codeup Setup Script\\n\\nSetup script for Code...</td>\n",
       "      <td>codeup setup script setup script codeup studen...</td>\n",
       "      <td>codeup setup script setup script codeup studen...</td>\n",
       "      <td>codeup setup script setup script codeup studen...</td>\n",
       "      <td>1062</td>\n",
       "      <td>119</td>\n",
       "    </tr>\n",
       "    <tr>\n",
       "      <th>1</th>\n",
       "      <td>gocodeup/movies-application</td>\n",
       "      <td>JavaScript</td>\n",
       "      <td># Movies Application\\n\\nFor this project, we w...</td>\n",
       "      <td>movies application project building single pag...</td>\n",
       "      <td>movi applic project build singl page movi appl...</td>\n",
       "      <td>movie application project building single page...</td>\n",
       "      <td>2888</td>\n",
       "      <td>411</td>\n",
       "    </tr>\n",
       "    <tr>\n",
       "      <th>2</th>\n",
       "      <td>torvalds/linux</td>\n",
       "      <td>C</td>\n",
       "      <td>Linux kernel\\n============\\n\\nThere are severa...</td>\n",
       "      <td>linux kernel several guides kernel developers ...</td>\n",
       "      <td>linux kernel sever guid kernel develop user gu...</td>\n",
       "      <td>linux kernel several guide kernel developer us...</td>\n",
       "      <td>505</td>\n",
       "      <td>58</td>\n",
       "    </tr>\n",
       "    <tr>\n",
       "      <th>4</th>\n",
       "      <td>rdpeng/ProgrammingAssignment2</td>\n",
       "      <td>R</td>\n",
       "      <td>### Introduction\\n\\nThis second programming as...</td>\n",
       "      <td>introduction second programming assignment req...</td>\n",
       "      <td>introduct second program assign requir write r...</td>\n",
       "      <td>introduction second programming assignment req...</td>\n",
       "      <td>2488</td>\n",
       "      <td>332</td>\n",
       "    </tr>\n",
       "    <tr>\n",
       "      <th>5</th>\n",
       "      <td>octocat/Spoon-Knife</td>\n",
       "      <td>HTML</td>\n",
       "      <td>### Well hello there!\\n\\nThis repository is me...</td>\n",
       "      <td>well hello repository meant provide example fo...</td>\n",
       "      <td>well hello repositori meant provid exampl fork...</td>\n",
       "      <td>well hello repository meant provide example fo...</td>\n",
       "      <td>519</td>\n",
       "      <td>60</td>\n",
       "    </tr>\n",
       "  </tbody>\n",
       "</table>\n",
       "</div>"
      ],
      "text/plain": [
       "                            repo    language  \\\n",
       "0   gocodeup/codeup-setup-script       Shell   \n",
       "1    gocodeup/movies-application  JavaScript   \n",
       "2                 torvalds/linux           C   \n",
       "4  rdpeng/ProgrammingAssignment2           R   \n",
       "5            octocat/Spoon-Knife        HTML   \n",
       "\n",
       "                                     readme_contents  \\\n",
       "0  # Codeup Setup Script\\n\\nSetup script for Code...   \n",
       "1  # Movies Application\\n\\nFor this project, we w...   \n",
       "2  Linux kernel\\n============\\n\\nThere are severa...   \n",
       "4  ### Introduction\\n\\nThis second programming as...   \n",
       "5  ### Well hello there!\\n\\nThis repository is me...   \n",
       "\n",
       "                                               clean  \\\n",
       "0  codeup setup script setup script codeup studen...   \n",
       "1  movies application project building single pag...   \n",
       "2  linux kernel several guides kernel developers ...   \n",
       "4  introduction second programming assignment req...   \n",
       "5  well hello repository meant provide example fo...   \n",
       "\n",
       "                                             stemmed  \\\n",
       "0  codeup setup script setup script codeup studen...   \n",
       "1  movi applic project build singl page movi appl...   \n",
       "2  linux kernel sever guid kernel develop user gu...   \n",
       "4  introduct second program assign requir write r...   \n",
       "5  well hello repositori meant provid exampl fork...   \n",
       "\n",
       "                                          lemmatized  character_count  \\\n",
       "0  codeup setup script setup script codeup studen...             1062   \n",
       "1  movie application project building single page...             2888   \n",
       "2  linux kernel several guide kernel developer us...              505   \n",
       "4  introduction second programming assignment req...             2488   \n",
       "5  well hello repository meant provide example fo...              519   \n",
       "\n",
       "   word_count  \n",
       "0         119  \n",
       "1         411  \n",
       "2          58  \n",
       "4         332  \n",
       "5          60  "
      ]
     },
     "execution_count": 6,
     "metadata": {},
     "output_type": "execute_result"
    }
   ],
   "source": [
    "df.head()"
   ]
  },
  {
   "cell_type": "code",
   "execution_count": 7,
   "id": "e281445e",
   "metadata": {},
   "outputs": [
    {
     "data": {
      "text/plain": [
       "JavaScript          62\n",
       "Python              49\n",
       "Java                21\n",
       "TypeScript          19\n",
       "C++                 17\n",
       "Go                  14\n",
       "HTML                12\n",
       "Jupyter Notebook    11\n",
       "C                    9\n",
       "CSS                  6\n",
       "C#                   6\n",
       "Dart                 6\n",
       "Vue                  5\n",
       "PHP                  5\n",
       "Shell                5\n",
       "PowerShell           2\n",
       "Ruby                 2\n",
       "Rich Text Format     2\n",
       "R                    2\n",
       "Kotlin               2\n",
       "Swift                2\n",
       "Jinja                1\n",
       "Lua                  1\n",
       "Objective-C          1\n",
       "Scala                1\n",
       "CoffeeScript         1\n",
       "Clojure              1\n",
       "OCaml                1\n",
       "Solidity             1\n",
       "Groovy               1\n",
       "ApacheConf           1\n",
       "Name: language, dtype: int64"
      ]
     },
     "execution_count": 7,
     "metadata": {},
     "output_type": "execute_result"
    }
   ],
   "source": [
    "df.language.value_counts(dropna=False)"
   ]
  },
  {
   "cell_type": "code",
   "execution_count": 8,
   "id": "75fb149f",
   "metadata": {},
   "outputs": [
    {
     "data": {
      "text/plain": [
       "(269, 8)"
      ]
     },
     "execution_count": 8,
     "metadata": {},
     "output_type": "execute_result"
    }
   ],
   "source": [
    "df.shape"
   ]
  },
  {
   "cell_type": "code",
   "execution_count": 9,
   "id": "65453f4a",
   "metadata": {},
   "outputs": [],
   "source": [
    "df = df.dropna()"
   ]
  },
  {
   "cell_type": "code",
   "execution_count": 10,
   "id": "2fea58cd",
   "metadata": {},
   "outputs": [
    {
     "data": {
      "text/plain": [
       "(269, 8)"
      ]
     },
     "execution_count": 10,
     "metadata": {},
     "output_type": "execute_result"
    }
   ],
   "source": [
    "df.shape"
   ]
  },
  {
   "cell_type": "code",
   "execution_count": 11,
   "id": "bc4a73f4",
   "metadata": {},
   "outputs": [
    {
     "data": {
      "text/html": [
       "<div>\n",
       "<style scoped>\n",
       "    .dataframe tbody tr th:only-of-type {\n",
       "        vertical-align: middle;\n",
       "    }\n",
       "\n",
       "    .dataframe tbody tr th {\n",
       "        vertical-align: top;\n",
       "    }\n",
       "\n",
       "    .dataframe thead th {\n",
       "        text-align: right;\n",
       "    }\n",
       "</style>\n",
       "<table border=\"1\" class=\"dataframe\">\n",
       "  <thead>\n",
       "    <tr style=\"text-align: right;\">\n",
       "      <th></th>\n",
       "      <th>repo</th>\n",
       "      <th>language</th>\n",
       "      <th>readme_contents</th>\n",
       "      <th>clean</th>\n",
       "      <th>stemmed</th>\n",
       "      <th>lemmatized</th>\n",
       "      <th>character_count</th>\n",
       "      <th>word_count</th>\n",
       "    </tr>\n",
       "  </thead>\n",
       "  <tbody>\n",
       "    <tr>\n",
       "      <th>0</th>\n",
       "      <td>gocodeup/codeup-setup-script</td>\n",
       "      <td>Shell</td>\n",
       "      <td># Codeup Setup Script\\n\\nSetup script for Code...</td>\n",
       "      <td>codeup setup script setup script codeup studen...</td>\n",
       "      <td>codeup setup script setup script codeup studen...</td>\n",
       "      <td>codeup setup script setup script codeup studen...</td>\n",
       "      <td>1062</td>\n",
       "      <td>119</td>\n",
       "    </tr>\n",
       "    <tr>\n",
       "      <th>1</th>\n",
       "      <td>gocodeup/movies-application</td>\n",
       "      <td>JavaScript</td>\n",
       "      <td># Movies Application\\n\\nFor this project, we w...</td>\n",
       "      <td>movies application project building single pag...</td>\n",
       "      <td>movi applic project build singl page movi appl...</td>\n",
       "      <td>movie application project building single page...</td>\n",
       "      <td>2888</td>\n",
       "      <td>411</td>\n",
       "    </tr>\n",
       "    <tr>\n",
       "      <th>2</th>\n",
       "      <td>torvalds/linux</td>\n",
       "      <td>C</td>\n",
       "      <td>Linux kernel\\n============\\n\\nThere are severa...</td>\n",
       "      <td>linux kernel several guides kernel developers ...</td>\n",
       "      <td>linux kernel sever guid kernel develop user gu...</td>\n",
       "      <td>linux kernel several guide kernel developer us...</td>\n",
       "      <td>505</td>\n",
       "      <td>58</td>\n",
       "    </tr>\n",
       "    <tr>\n",
       "      <th>4</th>\n",
       "      <td>rdpeng/ProgrammingAssignment2</td>\n",
       "      <td>R</td>\n",
       "      <td>### Introduction\\n\\nThis second programming as...</td>\n",
       "      <td>introduction second programming assignment req...</td>\n",
       "      <td>introduct second program assign requir write r...</td>\n",
       "      <td>introduction second programming assignment req...</td>\n",
       "      <td>2488</td>\n",
       "      <td>332</td>\n",
       "    </tr>\n",
       "    <tr>\n",
       "      <th>5</th>\n",
       "      <td>octocat/Spoon-Knife</td>\n",
       "      <td>HTML</td>\n",
       "      <td>### Well hello there!\\n\\nThis repository is me...</td>\n",
       "      <td>well hello repository meant provide example fo...</td>\n",
       "      <td>well hello repositori meant provid exampl fork...</td>\n",
       "      <td>well hello repository meant provide example fo...</td>\n",
       "      <td>519</td>\n",
       "      <td>60</td>\n",
       "    </tr>\n",
       "  </tbody>\n",
       "</table>\n",
       "</div>"
      ],
      "text/plain": [
       "                            repo    language  \\\n",
       "0   gocodeup/codeup-setup-script       Shell   \n",
       "1    gocodeup/movies-application  JavaScript   \n",
       "2                 torvalds/linux           C   \n",
       "4  rdpeng/ProgrammingAssignment2           R   \n",
       "5            octocat/Spoon-Knife        HTML   \n",
       "\n",
       "                                     readme_contents  \\\n",
       "0  # Codeup Setup Script\\n\\nSetup script for Code...   \n",
       "1  # Movies Application\\n\\nFor this project, we w...   \n",
       "2  Linux kernel\\n============\\n\\nThere are severa...   \n",
       "4  ### Introduction\\n\\nThis second programming as...   \n",
       "5  ### Well hello there!\\n\\nThis repository is me...   \n",
       "\n",
       "                                               clean  \\\n",
       "0  codeup setup script setup script codeup studen...   \n",
       "1  movies application project building single pag...   \n",
       "2  linux kernel several guides kernel developers ...   \n",
       "4  introduction second programming assignment req...   \n",
       "5  well hello repository meant provide example fo...   \n",
       "\n",
       "                                             stemmed  \\\n",
       "0  codeup setup script setup script codeup studen...   \n",
       "1  movi applic project build singl page movi appl...   \n",
       "2  linux kernel sever guid kernel develop user gu...   \n",
       "4  introduct second program assign requir write r...   \n",
       "5  well hello repositori meant provid exampl fork...   \n",
       "\n",
       "                                          lemmatized  character_count  \\\n",
       "0  codeup setup script setup script codeup studen...             1062   \n",
       "1  movie application project building single page...             2888   \n",
       "2  linux kernel several guide kernel developer us...              505   \n",
       "4  introduction second programming assignment req...             2488   \n",
       "5  well hello repository meant provide example fo...              519   \n",
       "\n",
       "   word_count  \n",
       "0         119  \n",
       "1         411  \n",
       "2          58  \n",
       "4         332  \n",
       "5          60  "
      ]
     },
     "execution_count": 11,
     "metadata": {},
     "output_type": "execute_result"
    }
   ],
   "source": [
    "df.head()"
   ]
  },
  {
   "cell_type": "code",
   "execution_count": 16,
   "id": "f685e996",
   "metadata": {},
   "outputs": [
    {
     "data": {
      "text/plain": [
       "other         101\n",
       "JavaScript     62\n",
       "Python         49\n",
       "Java           21\n",
       "TypeScript     19\n",
       "C++            17\n",
       "Name: top_five, dtype: int64"
      ]
     },
     "execution_count": 16,
     "metadata": {},
     "output_type": "execute_result"
    }
   ],
   "source": [
    "import numpy as np\n",
    "top_five = ['JavaScript', 'Python', 'Java', 'TypeScript', 'C++']\n",
    "df['top_five_languages'] = np.where(df.language.isin(top_five), df.language, 'other')\n",
    "df.top_five.value_counts()"
   ]
  },
  {
   "cell_type": "code",
   "execution_count": null,
   "id": "20e07a99",
   "metadata": {},
   "outputs": [],
   "source": []
  },
  {
   "cell_type": "code",
   "execution_count": 158,
   "id": "55da7dc2",
   "metadata": {},
   "outputs": [],
   "source": [
    "import matt_prepare\n",
    "from requests import get\n",
    "from bs4 import BeautifulSoup\n",
    "import pandas as pd\n",
    "import numpy as np\n",
    "# unicode, regex, json for text digestion\n",
    "import unicodedata\n",
    "import re\n",
    "import json\n",
    "\n",
    "# nltk: natural language toolkit -> tokenization, stopwords (more on this soon)\n",
    "import nltk\n",
    "from nltk.tokenize.toktok import ToktokTokenizer\n",
    "from nltk.corpus import stopwords\n",
    "\n",
    "# pandas dataframe manipulation, acquire script, time formatting\n",
    "import pandas as pd\n",
    "import acquire\n",
    "from time import strftime\n",
    "\n",
    "# shh, down in front\n",
    "import warnings\n",
    "warnings.filterwarnings('ignore')\n",
    "\n",
    "from sklearn.model_selection import train_test_split\n",
    "from sklearn.tree import DecisionTreeClassifier\n",
    "from sklearn.feature_extraction.text import TfidfVectorizer\n",
    "from sklearn.feature_extraction.text import CountVectorizer\n",
    "from sklearn.linear_model import LogisticRegression\n",
    "from sklearn.neighbors import KNeighborsClassifier "
   ]
  },
  {
   "cell_type": "code",
   "execution_count": 2,
   "id": "9e9b8cab",
   "metadata": {},
   "outputs": [
    {
     "data": {
      "text/html": [
       "<div>\n",
       "<style scoped>\n",
       "    .dataframe tbody tr th:only-of-type {\n",
       "        vertical-align: middle;\n",
       "    }\n",
       "\n",
       "    .dataframe tbody tr th {\n",
       "        vertical-align: top;\n",
       "    }\n",
       "\n",
       "    .dataframe thead th {\n",
       "        text-align: right;\n",
       "    }\n",
       "</style>\n",
       "<table border=\"1\" class=\"dataframe\">\n",
       "  <thead>\n",
       "    <tr style=\"text-align: right;\">\n",
       "      <th></th>\n",
       "      <th>repo</th>\n",
       "      <th>language</th>\n",
       "      <th>readme_contents</th>\n",
       "      <th>clean</th>\n",
       "      <th>stemmed</th>\n",
       "      <th>lemmatized</th>\n",
       "      <th>character_count</th>\n",
       "      <th>word_count</th>\n",
       "      <th>top_five_languages</th>\n",
       "    </tr>\n",
       "  </thead>\n",
       "  <tbody>\n",
       "    <tr>\n",
       "      <th>0</th>\n",
       "      <td>gocodeup/codeup-setup-script</td>\n",
       "      <td>Shell</td>\n",
       "      <td># Codeup Setup Script\\n\\nSetup script for Code...</td>\n",
       "      <td>codeup setup script setup script codeup studen...</td>\n",
       "      <td>codeup setup script setup script codeup studen...</td>\n",
       "      <td>codeup setup script setup script codeup studen...</td>\n",
       "      <td>1062</td>\n",
       "      <td>119</td>\n",
       "      <td>other</td>\n",
       "    </tr>\n",
       "    <tr>\n",
       "      <th>1</th>\n",
       "      <td>gocodeup/movies-application</td>\n",
       "      <td>JavaScript</td>\n",
       "      <td># Movies Application\\n\\nFor this project, we w...</td>\n",
       "      <td>movies application project building single pag...</td>\n",
       "      <td>movi applic project build singl page movi appl...</td>\n",
       "      <td>movie application project building single page...</td>\n",
       "      <td>2888</td>\n",
       "      <td>411</td>\n",
       "      <td>JavaScript</td>\n",
       "    </tr>\n",
       "    <tr>\n",
       "      <th>2</th>\n",
       "      <td>torvalds/linux</td>\n",
       "      <td>C</td>\n",
       "      <td>Linux kernel\\n============\\n\\nThere are severa...</td>\n",
       "      <td>linux kernel several guides kernel developers ...</td>\n",
       "      <td>linux kernel sever guid kernel develop user gu...</td>\n",
       "      <td>linux kernel several guide kernel developer us...</td>\n",
       "      <td>505</td>\n",
       "      <td>58</td>\n",
       "      <td>other</td>\n",
       "    </tr>\n",
       "    <tr>\n",
       "      <th>4</th>\n",
       "      <td>rdpeng/ProgrammingAssignment2</td>\n",
       "      <td>R</td>\n",
       "      <td>### Introduction\\n\\nThis second programming as...</td>\n",
       "      <td>introduction second programming assignment req...</td>\n",
       "      <td>introduct second program assign requir write r...</td>\n",
       "      <td>introduction second programming assignment req...</td>\n",
       "      <td>2488</td>\n",
       "      <td>332</td>\n",
       "      <td>other</td>\n",
       "    </tr>\n",
       "    <tr>\n",
       "      <th>5</th>\n",
       "      <td>octocat/Spoon-Knife</td>\n",
       "      <td>HTML</td>\n",
       "      <td>### Well hello there!\\n\\nThis repository is me...</td>\n",
       "      <td>well hello repository meant provide example fo...</td>\n",
       "      <td>well hello repositori meant provid exampl fork...</td>\n",
       "      <td>well hello repository meant provide example fo...</td>\n",
       "      <td>519</td>\n",
       "      <td>60</td>\n",
       "      <td>other</td>\n",
       "    </tr>\n",
       "  </tbody>\n",
       "</table>\n",
       "</div>"
      ],
      "text/plain": [
       "                            repo    language  \\\n",
       "0   gocodeup/codeup-setup-script       Shell   \n",
       "1    gocodeup/movies-application  JavaScript   \n",
       "2                 torvalds/linux           C   \n",
       "4  rdpeng/ProgrammingAssignment2           R   \n",
       "5            octocat/Spoon-Knife        HTML   \n",
       "\n",
       "                                     readme_contents  \\\n",
       "0  # Codeup Setup Script\\n\\nSetup script for Code...   \n",
       "1  # Movies Application\\n\\nFor this project, we w...   \n",
       "2  Linux kernel\\n============\\n\\nThere are severa...   \n",
       "4  ### Introduction\\n\\nThis second programming as...   \n",
       "5  ### Well hello there!\\n\\nThis repository is me...   \n",
       "\n",
       "                                               clean  \\\n",
       "0  codeup setup script setup script codeup studen...   \n",
       "1  movies application project building single pag...   \n",
       "2  linux kernel several guides kernel developers ...   \n",
       "4  introduction second programming assignment req...   \n",
       "5  well hello repository meant provide example fo...   \n",
       "\n",
       "                                             stemmed  \\\n",
       "0  codeup setup script setup script codeup studen...   \n",
       "1  movi applic project build singl page movi appl...   \n",
       "2  linux kernel sever guid kernel develop user gu...   \n",
       "4  introduct second program assign requir write r...   \n",
       "5  well hello repositori meant provid exampl fork...   \n",
       "\n",
       "                                          lemmatized  character_count  \\\n",
       "0  codeup setup script setup script codeup studen...             1062   \n",
       "1  movie application project building single page...             2888   \n",
       "2  linux kernel several guide kernel developer us...              505   \n",
       "4  introduction second programming assignment req...             2488   \n",
       "5  well hello repository meant provide example fo...              519   \n",
       "\n",
       "   word_count top_five_languages  \n",
       "0         119              other  \n",
       "1         411         JavaScript  \n",
       "2          58              other  \n",
       "4         332              other  \n",
       "5          60              other  "
      ]
     },
     "execution_count": 2,
     "metadata": {},
     "output_type": "execute_result"
    }
   ],
   "source": [
    "df = matt_prepare.clean_df()\n",
    "df.head()"
   ]
  },
  {
   "cell_type": "code",
   "execution_count": 3,
   "id": "b141ae8a",
   "metadata": {},
   "outputs": [
    {
     "data": {
      "text/plain": [
       "other         101\n",
       "JavaScript     62\n",
       "Python         49\n",
       "Java           21\n",
       "TypeScript     19\n",
       "C++            17\n",
       "Name: top_five_languages, dtype: int64"
      ]
     },
     "execution_count": 3,
     "metadata": {},
     "output_type": "execute_result"
    }
   ],
   "source": [
    "df.top_five_languages.value_counts()"
   ]
  },
  {
   "cell_type": "code",
   "execution_count": 95,
   "id": "805de519",
   "metadata": {},
   "outputs": [
    {
     "data": {
      "text/plain": [
       "0.3754646840148699"
      ]
     },
     "execution_count": 95,
     "metadata": {},
     "output_type": "execute_result"
    }
   ],
   "source": [
    "#baseline\n",
    "101 / df.shape[0]"
   ]
  },
  {
   "cell_type": "code",
   "execution_count": 101,
   "id": "eb34f4a5",
   "metadata": {},
   "outputs": [
    {
     "data": {
      "text/plain": [
       "(269, 9)"
      ]
     },
     "execution_count": 101,
     "metadata": {},
     "output_type": "execute_result"
    }
   ],
   "source": [
    "df.shape"
   ]
  },
  {
   "cell_type": "code",
   "execution_count": null,
   "id": "51128031",
   "metadata": {},
   "outputs": [],
   "source": []
  },
  {
   "cell_type": "code",
   "execution_count": 4,
   "id": "59fbf1ae",
   "metadata": {},
   "outputs": [
    {
     "data": {
      "text/plain": [
       "((150, 9), (65, 9), (54, 9))"
      ]
     },
     "execution_count": 4,
     "metadata": {},
     "output_type": "execute_result"
    }
   ],
   "source": [
    "train, validate, test = matt_prepare.split_data(df)\n",
    "train.shape, validate.shape, test.shape"
   ]
  },
  {
   "cell_type": "code",
   "execution_count": 6,
   "id": "4d5b9b1f",
   "metadata": {},
   "outputs": [
    {
     "data": {
      "text/plain": [
       "252    py repository store sample python program repo...\n",
       "119    hrefhttpsreduxjsorgimg srchttpscamogithubuserc...\n",
       "240    deprecated use floatingactionbuttonhttpsdevelo...\n",
       "69     h1 stylecolor redthis repo deprecated due chan...\n",
       "95     threejs npm packagenpmnpmurl build sizebuildsi...\n",
       "Name: lemmatized, dtype: object"
      ]
     },
     "execution_count": 6,
     "metadata": {},
     "output_type": "execute_result"
    }
   ],
   "source": [
    "X_train = train.lemmatized\n",
    "y_train = train.top_five_languages\n",
    "X_train.head()"
   ]
  },
  {
   "cell_type": "code",
   "execution_count": 8,
   "id": "5b19e278",
   "metadata": {},
   "outputs": [
    {
     "data": {
      "text/plain": [
       "252         other\n",
       "119    TypeScript\n",
       "240          Java\n",
       "69         Python\n",
       "95     JavaScript\n",
       "Name: top_five_languages, dtype: object"
      ]
     },
     "execution_count": 8,
     "metadata": {},
     "output_type": "execute_result"
    }
   ],
   "source": [
    "y_train.head()"
   ]
  },
  {
   "cell_type": "code",
   "execution_count": 9,
   "id": "73431d86",
   "metadata": {},
   "outputs": [],
   "source": [
    "X_train = train.lemmatized\n",
    "y_train = train.top_five_languages\n",
    "X_val = validate.lemmatized\n",
    "y_val = validate.top_five_languages\n",
    "X_test = test.lemmatized\n",
    "y_test = test.top_five_languages"
   ]
  },
  {
   "cell_type": "code",
   "execution_count": 12,
   "id": "56ff93c2",
   "metadata": {},
   "outputs": [
    {
     "data": {
      "text/plain": [
       "<150x21147 sparse matrix of type '<class 'numpy.int64'>'\n",
       "\twith 45581 stored elements in Compressed Sparse Row format>"
      ]
     },
     "execution_count": 12,
     "metadata": {},
     "output_type": "execute_result"
    }
   ],
   "source": [
    "cv = CountVectorizer()\n",
    "X_bow = cv.fit_transform(X_train)\n",
    "X_bow"
   ]
  },
  {
   "cell_type": "code",
   "execution_count": 13,
   "id": "113e35d4",
   "metadata": {},
   "outputs": [
    {
     "data": {
      "text/plain": [
       "<150x21147 sparse matrix of type '<class 'numpy.float64'>'\n",
       "\twith 45581 stored elements in Compressed Sparse Row format>"
      ]
     },
     "execution_count": 13,
     "metadata": {},
     "output_type": "execute_result"
    }
   ],
   "source": [
    "tfidf = TfidfVectorizer()\n",
    "X_tfidf = tfidf.fit_transform(X_train)\n",
    "X_tfidf"
   ]
  },
  {
   "cell_type": "code",
   "execution_count": 14,
   "id": "b00324ec",
   "metadata": {},
   "outputs": [
    {
     "data": {
      "text/plain": [
       "0.8066666666666666"
      ]
     },
     "execution_count": 14,
     "metadata": {},
     "output_type": "execute_result"
    }
   ],
   "source": [
    "tree = DecisionTreeClassifier(max_depth=5)\n",
    "tree.fit(X_bow, y_train)\n",
    "tree.score(X_bow, y_train)"
   ]
  },
  {
   "cell_type": "code",
   "execution_count": 15,
   "id": "4ec1db87",
   "metadata": {},
   "outputs": [
    {
     "data": {
      "text/plain": [
       "0.8133333333333334"
      ]
     },
     "execution_count": 15,
     "metadata": {},
     "output_type": "execute_result"
    }
   ],
   "source": [
    "tree.fit(X_tfidf, y_train)\n",
    "tree.score(X_tfidf, y_train)"
   ]
  },
  {
   "cell_type": "code",
   "execution_count": 16,
   "id": "1b2621fb",
   "metadata": {},
   "outputs": [
    {
     "data": {
      "text/plain": [
       "0.9066666666666666"
      ]
     },
     "execution_count": 16,
     "metadata": {},
     "output_type": "execute_result"
    }
   ],
   "source": [
    "tree = DecisionTreeClassifier(max_depth=10)\n",
    "tree.fit(X_bow, y_train)\n",
    "tree.score(X_bow, y_train)"
   ]
  },
  {
   "cell_type": "code",
   "execution_count": 17,
   "id": "377765da",
   "metadata": {},
   "outputs": [
    {
     "data": {
      "text/plain": [
       "0.9266666666666666"
      ]
     },
     "execution_count": 17,
     "metadata": {},
     "output_type": "execute_result"
    }
   ],
   "source": [
    "tree.fit(X_tfidf, y_train)\n",
    "tree.score(X_tfidf, y_train)"
   ]
  },
  {
   "cell_type": "code",
   "execution_count": 18,
   "id": "646d1404",
   "metadata": {},
   "outputs": [
    {
     "data": {
      "text/plain": [
       "0.94"
      ]
     },
     "execution_count": 18,
     "metadata": {},
     "output_type": "execute_result"
    }
   ],
   "source": [
    "tree = DecisionTreeClassifier(max_depth=15)\n",
    "tree.fit(X_bow, y_train)\n",
    "tree.score(X_bow, y_train)"
   ]
  },
  {
   "cell_type": "code",
   "execution_count": 19,
   "id": "f1d6af9d",
   "metadata": {},
   "outputs": [
    {
     "data": {
      "text/plain": [
       "0.98"
      ]
     },
     "execution_count": 19,
     "metadata": {},
     "output_type": "execute_result"
    }
   ],
   "source": [
    "tree.fit(X_tfidf, y_train)\n",
    "tree.score(X_tfidf, y_train)"
   ]
  },
  {
   "cell_type": "code",
   "execution_count": 20,
   "id": "3fb4b328",
   "metadata": {},
   "outputs": [
    {
     "data": {
      "text/plain": [
       "0.9933333333333333"
      ]
     },
     "execution_count": 20,
     "metadata": {},
     "output_type": "execute_result"
    }
   ],
   "source": [
    "tree = DecisionTreeClassifier(max_depth=20)\n",
    "tree.fit(X_bow, y_train)\n",
    "tree.score(X_bow, y_train)"
   ]
  },
  {
   "cell_type": "code",
   "execution_count": 21,
   "id": "97c6c9f9",
   "metadata": {},
   "outputs": [
    {
     "data": {
      "text/plain": [
       "0.9866666666666667"
      ]
     },
     "execution_count": 21,
     "metadata": {},
     "output_type": "execute_result"
    }
   ],
   "source": [
    "tree.fit(X_tfidf, y_train)\n",
    "tree.score(X_tfidf, y_train)"
   ]
  },
  {
   "cell_type": "code",
   "execution_count": null,
   "id": "6eca1baf",
   "metadata": {},
   "outputs": [],
   "source": []
  },
  {
   "cell_type": "code",
   "execution_count": 109,
   "id": "82348225",
   "metadata": {},
   "outputs": [
    {
     "data": {
      "text/plain": [
       "DecisionTreeClassifier(max_depth=15, random_state=123)"
      ]
     },
     "execution_count": 109,
     "metadata": {},
     "output_type": "execute_result"
    }
   ],
   "source": [
    "#cv train\n",
    "cv = CountVectorizer()\n",
    "X_bow = cv.fit_transform(X_train)\n",
    "X_bow_val = cv.transform(X_val)\n",
    "#tfidf train\n",
    "tfidf = TfidfVectorizer()\n",
    "X_tfidf = tfidf.fit_transform(X_train)\n",
    "X_tfidf_val = tfidf.transform(X_val)\n",
    "#DT\n",
    "tree = DecisionTreeClassifier(max_depth=15, random_state=123)\n",
    "#tree fit\n",
    "tree.fit(X_bow, y_train)"
   ]
  },
  {
   "cell_type": "code",
   "execution_count": 110,
   "id": "6819b116",
   "metadata": {},
   "outputs": [
    {
     "data": {
      "text/plain": [
       "(0.9666666666666667, 0.6307692307692307)"
      ]
     },
     "execution_count": 110,
     "metadata": {},
     "output_type": "execute_result"
    }
   ],
   "source": [
    "tree.score(X_bow, y_train), tree.score(X_bow_val, y_val)"
   ]
  },
  {
   "cell_type": "code",
   "execution_count": 111,
   "id": "6d18ce02",
   "metadata": {},
   "outputs": [
    {
     "data": {
      "text/plain": [
       "DecisionTreeClassifier(max_depth=15, random_state=123)"
      ]
     },
     "execution_count": 111,
     "metadata": {},
     "output_type": "execute_result"
    }
   ],
   "source": [
    "tree.fit(X_tfidf, y_train)"
   ]
  },
  {
   "cell_type": "code",
   "execution_count": 112,
   "id": "3c24306c",
   "metadata": {},
   "outputs": [
    {
     "data": {
      "text/plain": [
       "(0.98, 0.6)"
      ]
     },
     "execution_count": 112,
     "metadata": {},
     "output_type": "execute_result"
    }
   ],
   "source": [
    "tree.score(X_tfidf, y_train), tree.score(X_tfidf_val, y_val)"
   ]
  },
  {
   "cell_type": "code",
   "execution_count": null,
   "id": "f7f95e36",
   "metadata": {},
   "outputs": [],
   "source": []
  },
  {
   "cell_type": "code",
   "execution_count": null,
   "id": "bd67b9b9",
   "metadata": {},
   "outputs": [],
   "source": []
  },
  {
   "cell_type": "code",
   "execution_count": 113,
   "id": "b8bf2250",
   "metadata": {},
   "outputs": [
    {
     "data": {
      "text/plain": [
       "DecisionTreeClassifier(max_depth=20, random_state=123)"
      ]
     },
     "execution_count": 113,
     "metadata": {},
     "output_type": "execute_result"
    }
   ],
   "source": [
    "#cv train\n",
    "cv = CountVectorizer()\n",
    "X_bow = cv.fit_transform(X_train)\n",
    "X_bow_val = cv.transform(X_val)\n",
    "#tfidf train\n",
    "tfidf = TfidfVectorizer()\n",
    "X_tfidf = tfidf.fit_transform(X_train)\n",
    "X_tfidf_val = tfidf.transform(X_val)\n",
    "#DT\n",
    "tree = DecisionTreeClassifier(max_depth=20, random_state=123)\n",
    "#tree fit\n",
    "tree.fit(X_bow, y_train)"
   ]
  },
  {
   "cell_type": "code",
   "execution_count": 114,
   "id": "5231300e",
   "metadata": {},
   "outputs": [
    {
     "data": {
      "text/plain": [
       "(0.9933333333333333, 0.6153846153846154)"
      ]
     },
     "execution_count": 114,
     "metadata": {},
     "output_type": "execute_result"
    }
   ],
   "source": [
    "tree.score(X_bow, y_train), tree.score(X_bow_val, y_val)"
   ]
  },
  {
   "cell_type": "code",
   "execution_count": 115,
   "id": "e5a1dbd3",
   "metadata": {},
   "outputs": [
    {
     "data": {
      "text/plain": [
       "DecisionTreeClassifier(max_depth=20, random_state=123)"
      ]
     },
     "execution_count": 115,
     "metadata": {},
     "output_type": "execute_result"
    }
   ],
   "source": [
    "tree.fit(X_tfidf, y_train)"
   ]
  },
  {
   "cell_type": "code",
   "execution_count": 116,
   "id": "f9eb9749",
   "metadata": {},
   "outputs": [
    {
     "data": {
      "text/plain": [
       "(0.9933333333333333, 0.5692307692307692)"
      ]
     },
     "execution_count": 116,
     "metadata": {},
     "output_type": "execute_result"
    }
   ],
   "source": [
    "tree.score(X_tfidf, y_train), tree.score(X_tfidf_val, y_val)"
   ]
  },
  {
   "cell_type": "code",
   "execution_count": null,
   "id": "3bcdada4",
   "metadata": {},
   "outputs": [],
   "source": []
  },
  {
   "cell_type": "code",
   "execution_count": 117,
   "id": "6f71e065",
   "metadata": {},
   "outputs": [
    {
     "data": {
      "text/plain": [
       "DecisionTreeClassifier(max_depth=10, random_state=123)"
      ]
     },
     "execution_count": 117,
     "metadata": {},
     "output_type": "execute_result"
    }
   ],
   "source": [
    "#cv train\n",
    "cv = CountVectorizer()\n",
    "X_bow = cv.fit_transform(X_train)\n",
    "X_bow_val = cv.transform(X_val)\n",
    "#tfidf train\n",
    "tfidf = TfidfVectorizer()\n",
    "X_tfidf = tfidf.fit_transform(X_train)\n",
    "X_tfidf_val = tfidf.transform(X_val)\n",
    "#DT\n",
    "tree = DecisionTreeClassifier(max_depth=10, random_state=123)\n",
    "#tree fit\n",
    "tree.fit(X_bow, y_train)"
   ]
  },
  {
   "cell_type": "code",
   "execution_count": 118,
   "id": "b5f2aa8b",
   "metadata": {},
   "outputs": [
    {
     "data": {
      "text/plain": [
       "(0.9133333333333333, 0.6615384615384615)"
      ]
     },
     "execution_count": 118,
     "metadata": {},
     "output_type": "execute_result"
    }
   ],
   "source": [
    "tree.score(X_bow, y_train), tree.score(X_bow_val, y_val)"
   ]
  },
  {
   "cell_type": "code",
   "execution_count": 119,
   "id": "b5fe4aac",
   "metadata": {},
   "outputs": [
    {
     "data": {
      "text/plain": [
       "DecisionTreeClassifier(max_depth=10, random_state=123)"
      ]
     },
     "execution_count": 119,
     "metadata": {},
     "output_type": "execute_result"
    }
   ],
   "source": [
    "tree.fit(X_tfidf, y_train)"
   ]
  },
  {
   "cell_type": "code",
   "execution_count": 120,
   "id": "0b785786",
   "metadata": {},
   "outputs": [
    {
     "data": {
      "text/plain": [
       "(0.9266666666666666, 0.6)"
      ]
     },
     "execution_count": 120,
     "metadata": {},
     "output_type": "execute_result"
    }
   ],
   "source": [
    "tree.score(X_tfidf, y_train), tree.score(X_tfidf_val, y_val)"
   ]
  },
  {
   "cell_type": "code",
   "execution_count": null,
   "id": "9bb9397c",
   "metadata": {},
   "outputs": [],
   "source": []
  },
  {
   "cell_type": "code",
   "execution_count": 121,
   "id": "8b76e96e",
   "metadata": {},
   "outputs": [
    {
     "data": {
      "text/plain": [
       "DecisionTreeClassifier(max_depth=30, random_state=123)"
      ]
     },
     "execution_count": 121,
     "metadata": {},
     "output_type": "execute_result"
    }
   ],
   "source": [
    "#cv train\n",
    "cv = CountVectorizer()\n",
    "X_bow = cv.fit_transform(X_train)\n",
    "X_bow_val = cv.transform(X_val)\n",
    "#tfidf train\n",
    "tfidf = TfidfVectorizer()\n",
    "X_tfidf = tfidf.fit_transform(X_train)\n",
    "X_tfidf_val = tfidf.transform(X_val)\n",
    "#DT\n",
    "tree = DecisionTreeClassifier(max_depth=30, random_state=123)\n",
    "#tree fit\n",
    "tree.fit(X_bow, y_train)"
   ]
  },
  {
   "cell_type": "code",
   "execution_count": 122,
   "id": "a2ccbff8",
   "metadata": {},
   "outputs": [
    {
     "data": {
      "text/plain": [
       "(1.0, 0.6)"
      ]
     },
     "execution_count": 122,
     "metadata": {},
     "output_type": "execute_result"
    }
   ],
   "source": [
    "tree.score(X_bow, y_train), tree.score(X_bow_val, y_val)"
   ]
  },
  {
   "cell_type": "code",
   "execution_count": 123,
   "id": "924d8a53",
   "metadata": {},
   "outputs": [
    {
     "data": {
      "text/plain": [
       "DecisionTreeClassifier(max_depth=30, random_state=123)"
      ]
     },
     "execution_count": 123,
     "metadata": {},
     "output_type": "execute_result"
    }
   ],
   "source": [
    "tree.fit(X_tfidf, y_train)"
   ]
  },
  {
   "cell_type": "code",
   "execution_count": 124,
   "id": "ec1c7788",
   "metadata": {},
   "outputs": [
    {
     "data": {
      "text/plain": [
       "(1.0, 0.5692307692307692)"
      ]
     },
     "execution_count": 124,
     "metadata": {},
     "output_type": "execute_result"
    }
   ],
   "source": [
    "tree.score(X_tfidf, y_train), tree.score(X_tfidf_val, y_val)"
   ]
  },
  {
   "cell_type": "code",
   "execution_count": null,
   "id": "fe947079",
   "metadata": {},
   "outputs": [],
   "source": []
  },
  {
   "cell_type": "markdown",
   "id": "ad5d9809",
   "metadata": {},
   "source": [
    "## Best DT single words "
   ]
  },
  {
   "cell_type": "code",
   "execution_count": 128,
   "id": "5593ffda",
   "metadata": {},
   "outputs": [],
   "source": [
    "cv = CountVectorizer()\n",
    "X_bow = cv.fit_transform(X_train)\n",
    "X_bow_val = cv.transform(X_val)\n",
    "\n",
    "tfidf = TfidfVectorizer()\n",
    "X_tfidf = tfidf.fit_transform(X_train)\n",
    "X_tfidf_val = tfidf.transform(X_val)"
   ]
  },
  {
   "cell_type": "code",
   "execution_count": 129,
   "id": "80af12c5",
   "metadata": {},
   "outputs": [
    {
     "data": {
      "text/plain": [
       "(0.9666666666666667, 0.6307692307692307)"
      ]
     },
     "execution_count": 129,
     "metadata": {},
     "output_type": "execute_result"
    }
   ],
   "source": [
    "tree = DecisionTreeClassifier(max_depth=15, random_state=123)\n",
    "tree.fit(X_bow, y_train)\n",
    "tree.score(X_bow, y_train), tree.score(X_bow_val, y_val)"
   ]
  },
  {
   "cell_type": "code",
   "execution_count": 130,
   "id": "aebc3ff5",
   "metadata": {},
   "outputs": [
    {
     "data": {
      "text/plain": [
       "(0.98, 0.6)"
      ]
     },
     "execution_count": 130,
     "metadata": {},
     "output_type": "execute_result"
    }
   ],
   "source": [
    "tree = DecisionTreeClassifier(max_depth=15, random_state=123)\n",
    "tree.fit(X_tfidf, y_train)\n",
    "tree.score(X_tfidf, y_train), tree.score(X_tfidf_val, y_val)"
   ]
  },
  {
   "cell_type": "markdown",
   "id": "aeb3c457",
   "metadata": {},
   "source": [
    "---"
   ]
  },
  {
   "cell_type": "code",
   "execution_count": 131,
   "id": "ff1cce92",
   "metadata": {},
   "outputs": [],
   "source": [
    "cv = CountVectorizer(ngram_range=(1,2))\n",
    "X_bow = cv.fit_transform(X_train)\n",
    "X_bow_val = cv.transform(X_val)\n",
    "\n",
    "tfidf = TfidfVectorizer(ngram_range=(1,2))\n",
    "X_tfidf = tfidf.fit_transform(X_train)\n",
    "X_tfidf_val = tfidf.transform(X_val)"
   ]
  },
  {
   "cell_type": "code",
   "execution_count": 132,
   "id": "21f6b925",
   "metadata": {},
   "outputs": [
    {
     "data": {
      "text/plain": [
       "(0.9466666666666667, 0.5846153846153846)"
      ]
     },
     "execution_count": 132,
     "metadata": {},
     "output_type": "execute_result"
    }
   ],
   "source": [
    "tree = DecisionTreeClassifier(max_depth=10, random_state=123)\n",
    "tree.fit(X_bow, y_train)\n",
    "tree.score(X_bow, y_train), tree.score(X_bow_val, y_val)"
   ]
  },
  {
   "cell_type": "code",
   "execution_count": 133,
   "id": "06720816",
   "metadata": {},
   "outputs": [
    {
     "data": {
      "text/plain": [
       "(0.88, 0.6307692307692307)"
      ]
     },
     "execution_count": 133,
     "metadata": {},
     "output_type": "execute_result"
    }
   ],
   "source": [
    "tree = DecisionTreeClassifier(max_depth=10, random_state=123)\n",
    "tree.fit(X_tfidf, y_train)\n",
    "tree.score(X_tfidf, y_train), tree.score(X_tfidf_val, y_val)"
   ]
  },
  {
   "cell_type": "code",
   "execution_count": 134,
   "id": "d057b177",
   "metadata": {},
   "outputs": [
    {
     "data": {
      "text/plain": [
       "(0.9933333333333333, 0.5846153846153846)"
      ]
     },
     "execution_count": 134,
     "metadata": {},
     "output_type": "execute_result"
    }
   ],
   "source": [
    "tree = DecisionTreeClassifier(max_depth=20, random_state=123)\n",
    "tree.fit(X_bow, y_train)\n",
    "tree.score(X_bow, y_train), tree.score(X_bow_val, y_val)"
   ]
  },
  {
   "cell_type": "code",
   "execution_count": 135,
   "id": "c48eaf36",
   "metadata": {},
   "outputs": [
    {
     "data": {
      "text/plain": [
       "(0.9933333333333333, 0.5846153846153846)"
      ]
     },
     "execution_count": 135,
     "metadata": {},
     "output_type": "execute_result"
    }
   ],
   "source": [
    "tree = DecisionTreeClassifier(max_depth=20, random_state=123)\n",
    "tree.fit(X_tfidf, y_train)\n",
    "tree.score(X_tfidf, y_train), tree.score(X_tfidf_val, y_val)"
   ]
  },
  {
   "cell_type": "code",
   "execution_count": 136,
   "id": "3cbf03ed",
   "metadata": {},
   "outputs": [
    {
     "data": {
      "text/plain": [
       "(1.0, 0.5692307692307692)"
      ]
     },
     "execution_count": 136,
     "metadata": {},
     "output_type": "execute_result"
    }
   ],
   "source": [
    "tree = DecisionTreeClassifier(max_depth=30, random_state=123)\n",
    "tree.fit(X_bow, y_train)\n",
    "tree.score(X_bow, y_train), tree.score(X_bow_val, y_val)"
   ]
  },
  {
   "cell_type": "code",
   "execution_count": 137,
   "id": "78d613a6",
   "metadata": {},
   "outputs": [
    {
     "data": {
      "text/plain": [
       "(1.0, 0.5846153846153846)"
      ]
     },
     "execution_count": 137,
     "metadata": {},
     "output_type": "execute_result"
    }
   ],
   "source": [
    "tree = DecisionTreeClassifier(max_depth=30, random_state=123)\n",
    "tree.fit(X_tfidf, y_train)\n",
    "tree.score(X_tfidf, y_train), tree.score(X_tfidf_val, y_val)"
   ]
  },
  {
   "cell_type": "code",
   "execution_count": 138,
   "id": "d333f82c",
   "metadata": {},
   "outputs": [
    {
     "data": {
      "text/plain": [
       "(1.0, 0.5692307692307692)"
      ]
     },
     "execution_count": 138,
     "metadata": {},
     "output_type": "execute_result"
    }
   ],
   "source": [
    "tree = DecisionTreeClassifier(max_depth=40, random_state=123)\n",
    "tree.fit(X_bow, y_train)\n",
    "tree.score(X_bow, y_train), tree.score(X_bow_val, y_val)"
   ]
  },
  {
   "cell_type": "code",
   "execution_count": 139,
   "id": "af45c0bc",
   "metadata": {},
   "outputs": [
    {
     "data": {
      "text/plain": [
       "(1.0, 0.5846153846153846)"
      ]
     },
     "execution_count": 139,
     "metadata": {},
     "output_type": "execute_result"
    }
   ],
   "source": [
    "tree = DecisionTreeClassifier(max_depth=40, random_state=123)\n",
    "tree.fit(X_tfidf, y_train)\n",
    "tree.score(X_tfidf, y_train), tree.score(X_tfidf_val, y_val)"
   ]
  },
  {
   "cell_type": "code",
   "execution_count": 140,
   "id": "c4e22f3c",
   "metadata": {},
   "outputs": [
    {
     "data": {
      "text/plain": [
       "(1.0, 0.5692307692307692)"
      ]
     },
     "execution_count": 140,
     "metadata": {},
     "output_type": "execute_result"
    }
   ],
   "source": [
    "tree = DecisionTreeClassifier(max_depth=50, random_state=123)\n",
    "tree.fit(X_bow, y_train)\n",
    "tree.score(X_bow, y_train), tree.score(X_bow_val, y_val)"
   ]
  },
  {
   "cell_type": "code",
   "execution_count": 141,
   "id": "f14bdd87",
   "metadata": {},
   "outputs": [
    {
     "data": {
      "text/plain": [
       "(0.9666666666666667, 0.5692307692307692)"
      ]
     },
     "execution_count": 141,
     "metadata": {},
     "output_type": "execute_result"
    }
   ],
   "source": [
    "tree = DecisionTreeClassifier(max_depth=15, random_state=123)\n",
    "tree.fit(X_tfidf, y_train)\n",
    "tree.score(X_tfidf, y_train), tree.score(X_tfidf_val, y_val)"
   ]
  },
  {
   "cell_type": "code",
   "execution_count": null,
   "id": "4d168412",
   "metadata": {},
   "outputs": [],
   "source": []
  },
  {
   "cell_type": "markdown",
   "id": "ea22fa69",
   "metadata": {},
   "source": [
    "### Best DT ngram range 1,2"
   ]
  },
  {
   "cell_type": "code",
   "execution_count": 142,
   "id": "374b6423",
   "metadata": {},
   "outputs": [],
   "source": [
    "cv = CountVectorizer(ngram_range=(1,2))\n",
    "X_bow = cv.fit_transform(X_train)\n",
    "X_bow_val = cv.transform(X_val)\n",
    "\n",
    "tfidf = TfidfVectorizer(ngram_range=(1,2))\n",
    "X_tfidf = tfidf.fit_transform(X_train)\n",
    "X_tfidf_val = tfidf.transform(X_val)"
   ]
  },
  {
   "cell_type": "code",
   "execution_count": 143,
   "id": "06756030",
   "metadata": {},
   "outputs": [
    {
     "data": {
      "text/plain": [
       "(0.9933333333333333, 0.5846153846153846)"
      ]
     },
     "execution_count": 143,
     "metadata": {},
     "output_type": "execute_result"
    }
   ],
   "source": [
    "tree = DecisionTreeClassifier(max_depth=20, random_state=123)\n",
    "tree.fit(X_bow, y_train)\n",
    "tree.score(X_bow, y_train), tree.score(X_bow_val, y_val)"
   ]
  },
  {
   "cell_type": "code",
   "execution_count": 144,
   "id": "348f9fc1",
   "metadata": {},
   "outputs": [
    {
     "data": {
      "text/plain": [
       "(0.88, 0.6307692307692307)"
      ]
     },
     "execution_count": 144,
     "metadata": {},
     "output_type": "execute_result"
    }
   ],
   "source": [
    "tree = DecisionTreeClassifier(max_depth=10, random_state=123)\n",
    "tree.fit(X_tfidf, y_train)\n",
    "tree.score(X_tfidf, y_train), tree.score(X_tfidf_val, y_val)"
   ]
  },
  {
   "cell_type": "code",
   "execution_count": null,
   "id": "b7dab001",
   "metadata": {},
   "outputs": [],
   "source": []
  },
  {
   "cell_type": "code",
   "execution_count": 146,
   "id": "781a8bff",
   "metadata": {},
   "outputs": [],
   "source": [
    "cv = CountVectorizer()\n",
    "X_bow = cv.fit_transform(X_train)\n",
    "X_bow_val = cv.transform(X_val)\n",
    "\n",
    "tfidf = TfidfVectorizer()\n",
    "X_tfidf = tfidf.fit_transform(X_train)\n",
    "X_tfidf_val = tfidf.transform(X_val)"
   ]
  },
  {
   "cell_type": "code",
   "execution_count": 149,
   "id": "5901fb77",
   "metadata": {},
   "outputs": [
    {
     "data": {
      "text/plain": [
       "(0.9933333333333333, 0.5384615384615384)"
      ]
     },
     "execution_count": 149,
     "metadata": {},
     "output_type": "execute_result"
    }
   ],
   "source": [
    "lm = LogisticRegression(random_state=123).fit(X_bow, y_train)\n",
    "lm.score(X_bow, y_train), lm.score(X_bow_val, y_val)"
   ]
  },
  {
   "cell_type": "code",
   "execution_count": 150,
   "id": "e83a585c",
   "metadata": {},
   "outputs": [
    {
     "data": {
      "text/plain": [
       "(0.8, 0.5076923076923077)"
      ]
     },
     "execution_count": 150,
     "metadata": {},
     "output_type": "execute_result"
    }
   ],
   "source": [
    "lm = LogisticRegression(random_state=123).fit(X_tfidf, y_train)\n",
    "lm.score(X_tfidf, y_train), lm.score(X_tfidf_val, y_val)"
   ]
  },
  {
   "cell_type": "code",
   "execution_count": null,
   "id": "2e229b6d",
   "metadata": {},
   "outputs": [],
   "source": []
  },
  {
   "cell_type": "code",
   "execution_count": 151,
   "id": "1b7d8892",
   "metadata": {},
   "outputs": [],
   "source": [
    "cv = CountVectorizer(ngram_range=(1,2))\n",
    "X_bow = cv.fit_transform(X_train)\n",
    "X_bow_val = cv.transform(X_val)\n",
    "\n",
    "tfidf = TfidfVectorizer()\n",
    "X_tfidf = tfidf.fit_transform(X_train)\n",
    "X_tfidf_val = tfidf.transform(X_val)"
   ]
  },
  {
   "cell_type": "code",
   "execution_count": 152,
   "id": "0dde18e5",
   "metadata": {},
   "outputs": [
    {
     "data": {
      "text/plain": [
       "(0.9933333333333333, 0.5846153846153846)"
      ]
     },
     "execution_count": 152,
     "metadata": {},
     "output_type": "execute_result"
    }
   ],
   "source": [
    "lm = LogisticRegression(random_state=123).fit(X_bow, y_train)\n",
    "lm.score(X_bow, y_train), lm.score(X_bow_val, y_val)"
   ]
  },
  {
   "cell_type": "code",
   "execution_count": 153,
   "id": "9411c8f4",
   "metadata": {},
   "outputs": [
    {
     "data": {
      "text/plain": [
       "(0.8, 0.5076923076923077)"
      ]
     },
     "execution_count": 153,
     "metadata": {},
     "output_type": "execute_result"
    }
   ],
   "source": [
    "lm = LogisticRegression(random_state=123).fit(X_tfidf, y_train)\n",
    "lm.score(X_tfidf, y_train), lm.score(X_tfidf_val, y_val)"
   ]
  },
  {
   "cell_type": "code",
   "execution_count": null,
   "id": "eb537c8c",
   "metadata": {},
   "outputs": [],
   "source": []
  },
  {
   "cell_type": "code",
   "execution_count": 154,
   "id": "4284767a",
   "metadata": {},
   "outputs": [
    {
     "data": {
      "text/html": [
       "<div>\n",
       "<style scoped>\n",
       "    .dataframe tbody tr th:only-of-type {\n",
       "        vertical-align: middle;\n",
       "    }\n",
       "\n",
       "    .dataframe tbody tr th {\n",
       "        vertical-align: top;\n",
       "    }\n",
       "\n",
       "    .dataframe thead th {\n",
       "        text-align: right;\n",
       "    }\n",
       "</style>\n",
       "<table border=\"1\" class=\"dataframe\">\n",
       "  <thead>\n",
       "    <tr style=\"text-align: right;\">\n",
       "      <th></th>\n",
       "      <th>C</th>\n",
       "      <th>train_accuracy</th>\n",
       "      <th>validate_accuracy</th>\n",
       "      <th>difference</th>\n",
       "    </tr>\n",
       "  </thead>\n",
       "  <tbody>\n",
       "    <tr>\n",
       "      <th>0</th>\n",
       "      <td>0.001</td>\n",
       "      <td>0.733333</td>\n",
       "      <td>0.492308</td>\n",
       "      <td>0.241026</td>\n",
       "    </tr>\n",
       "    <tr>\n",
       "      <th>1</th>\n",
       "      <td>0.005</td>\n",
       "      <td>0.886667</td>\n",
       "      <td>0.569231</td>\n",
       "      <td>0.317436</td>\n",
       "    </tr>\n",
       "    <tr>\n",
       "      <th>2</th>\n",
       "      <td>0.010</td>\n",
       "      <td>0.926667</td>\n",
       "      <td>0.615385</td>\n",
       "      <td>0.311282</td>\n",
       "    </tr>\n",
       "    <tr>\n",
       "      <th>3</th>\n",
       "      <td>0.050</td>\n",
       "      <td>0.953333</td>\n",
       "      <td>0.646154</td>\n",
       "      <td>0.307179</td>\n",
       "    </tr>\n",
       "    <tr>\n",
       "      <th>4</th>\n",
       "      <td>0.100</td>\n",
       "      <td>0.966667</td>\n",
       "      <td>0.569231</td>\n",
       "      <td>0.397436</td>\n",
       "    </tr>\n",
       "    <tr>\n",
       "      <th>5</th>\n",
       "      <td>0.500</td>\n",
       "      <td>0.993333</td>\n",
       "      <td>0.553846</td>\n",
       "      <td>0.439487</td>\n",
       "    </tr>\n",
       "    <tr>\n",
       "      <th>6</th>\n",
       "      <td>1.000</td>\n",
       "      <td>0.993333</td>\n",
       "      <td>0.538462</td>\n",
       "      <td>0.454872</td>\n",
       "    </tr>\n",
       "    <tr>\n",
       "      <th>7</th>\n",
       "      <td>5.000</td>\n",
       "      <td>1.000000</td>\n",
       "      <td>0.553846</td>\n",
       "      <td>0.446154</td>\n",
       "    </tr>\n",
       "    <tr>\n",
       "      <th>8</th>\n",
       "      <td>10.000</td>\n",
       "      <td>1.000000</td>\n",
       "      <td>0.553846</td>\n",
       "      <td>0.446154</td>\n",
       "    </tr>\n",
       "    <tr>\n",
       "      <th>9</th>\n",
       "      <td>50.000</td>\n",
       "      <td>1.000000</td>\n",
       "      <td>0.538462</td>\n",
       "      <td>0.461538</td>\n",
       "    </tr>\n",
       "    <tr>\n",
       "      <th>10</th>\n",
       "      <td>100.000</td>\n",
       "      <td>1.000000</td>\n",
       "      <td>0.523077</td>\n",
       "      <td>0.476923</td>\n",
       "    </tr>\n",
       "    <tr>\n",
       "      <th>11</th>\n",
       "      <td>500.000</td>\n",
       "      <td>1.000000</td>\n",
       "      <td>0.523077</td>\n",
       "      <td>0.476923</td>\n",
       "    </tr>\n",
       "    <tr>\n",
       "      <th>12</th>\n",
       "      <td>1000.000</td>\n",
       "      <td>1.000000</td>\n",
       "      <td>0.538462</td>\n",
       "      <td>0.461538</td>\n",
       "    </tr>\n",
       "  </tbody>\n",
       "</table>\n",
       "</div>"
      ],
      "text/plain": [
       "           C  train_accuracy  validate_accuracy  difference\n",
       "0      0.001        0.733333           0.492308    0.241026\n",
       "1      0.005        0.886667           0.569231    0.317436\n",
       "2      0.010        0.926667           0.615385    0.311282\n",
       "3      0.050        0.953333           0.646154    0.307179\n",
       "4      0.100        0.966667           0.569231    0.397436\n",
       "5      0.500        0.993333           0.553846    0.439487\n",
       "6      1.000        0.993333           0.538462    0.454872\n",
       "7      5.000        1.000000           0.553846    0.446154\n",
       "8     10.000        1.000000           0.553846    0.446154\n",
       "9     50.000        1.000000           0.538462    0.461538\n",
       "10   100.000        1.000000           0.523077    0.476923\n",
       "11   500.000        1.000000           0.523077    0.476923\n",
       "12  1000.000        1.000000           0.538462    0.461538"
      ]
     },
     "execution_count": 154,
     "metadata": {},
     "output_type": "execute_result"
    }
   ],
   "source": [
    "cv = CountVectorizer()\n",
    "X_bow = cv.fit_transform(X_train)\n",
    "X_bow_val = cv.transform(X_val)\n",
    "\n",
    "# Evaluate Logistic Regression models on train & validate set by looping through different values for c hyperparameter\n",
    "\n",
    "# create empty list for which to append metrics from each loop\n",
    "metrics = []\n",
    "\n",
    "# create loop for values in list\n",
    "for c in [.001, .005, .01, .05, .1, .5, 1, 5, 10, 50, 100, 500, 1000]:\n",
    "            \n",
    "    # define the model setting hyperparameters to values for current loop\n",
    "    logit = LogisticRegression(C=c)\n",
    "    \n",
    "    # fit the model on train\n",
    "    logit.fit(X_bow, y_train)\n",
    "    \n",
    "    # use the model and evaluate performance on train\n",
    "    train_accuracy = logit.score(X_bow, y_train)\n",
    "    # use the model and evaluate performance on validate\n",
    "    validate_accuracy = logit.score(X_bow_val, y_val)\n",
    "    \n",
    "    # create output of current loop's hyperparameters and accuracy to append to metrics\n",
    "    output = {\n",
    "        'C': c,\n",
    "        'train_accuracy': train_accuracy,\n",
    "        'validate_accuracy': validate_accuracy\n",
    "    }\n",
    "    \n",
    "    metrics.append(output)\n",
    "\n",
    "# convert metrics list to a dataframe for easy reading\n",
    "df = pd.DataFrame(metrics)\n",
    "# add column to assess the difference between train & validate accuracy\n",
    "df['difference'] = df.train_accuracy - df.validate_accuracy\n",
    "df"
   ]
  },
  {
   "cell_type": "code",
   "execution_count": 156,
   "id": "5fe351ad",
   "metadata": {},
   "outputs": [
    {
     "data": {
      "text/html": [
       "<div>\n",
       "<style scoped>\n",
       "    .dataframe tbody tr th:only-of-type {\n",
       "        vertical-align: middle;\n",
       "    }\n",
       "\n",
       "    .dataframe tbody tr th {\n",
       "        vertical-align: top;\n",
       "    }\n",
       "\n",
       "    .dataframe thead th {\n",
       "        text-align: right;\n",
       "    }\n",
       "</style>\n",
       "<table border=\"1\" class=\"dataframe\">\n",
       "  <thead>\n",
       "    <tr style=\"text-align: right;\">\n",
       "      <th></th>\n",
       "      <th>C</th>\n",
       "      <th>train_accuracy</th>\n",
       "      <th>validate_accuracy</th>\n",
       "      <th>difference</th>\n",
       "    </tr>\n",
       "  </thead>\n",
       "  <tbody>\n",
       "    <tr>\n",
       "      <th>0</th>\n",
       "      <td>0.001</td>\n",
       "      <td>0.360000</td>\n",
       "      <td>0.400000</td>\n",
       "      <td>-0.040000</td>\n",
       "    </tr>\n",
       "    <tr>\n",
       "      <th>1</th>\n",
       "      <td>0.005</td>\n",
       "      <td>0.360000</td>\n",
       "      <td>0.400000</td>\n",
       "      <td>-0.040000</td>\n",
       "    </tr>\n",
       "    <tr>\n",
       "      <th>2</th>\n",
       "      <td>0.010</td>\n",
       "      <td>0.360000</td>\n",
       "      <td>0.400000</td>\n",
       "      <td>-0.040000</td>\n",
       "    </tr>\n",
       "    <tr>\n",
       "      <th>3</th>\n",
       "      <td>0.050</td>\n",
       "      <td>0.360000</td>\n",
       "      <td>0.400000</td>\n",
       "      <td>-0.040000</td>\n",
       "    </tr>\n",
       "    <tr>\n",
       "      <th>4</th>\n",
       "      <td>0.100</td>\n",
       "      <td>0.360000</td>\n",
       "      <td>0.400000</td>\n",
       "      <td>-0.040000</td>\n",
       "    </tr>\n",
       "    <tr>\n",
       "      <th>5</th>\n",
       "      <td>0.500</td>\n",
       "      <td>0.693333</td>\n",
       "      <td>0.476923</td>\n",
       "      <td>0.216410</td>\n",
       "    </tr>\n",
       "    <tr>\n",
       "      <th>6</th>\n",
       "      <td>1.000</td>\n",
       "      <td>0.800000</td>\n",
       "      <td>0.507692</td>\n",
       "      <td>0.292308</td>\n",
       "    </tr>\n",
       "    <tr>\n",
       "      <th>7</th>\n",
       "      <td>5.000</td>\n",
       "      <td>0.993333</td>\n",
       "      <td>0.676923</td>\n",
       "      <td>0.316410</td>\n",
       "    </tr>\n",
       "    <tr>\n",
       "      <th>8</th>\n",
       "      <td>10.000</td>\n",
       "      <td>0.993333</td>\n",
       "      <td>0.692308</td>\n",
       "      <td>0.301026</td>\n",
       "    </tr>\n",
       "    <tr>\n",
       "      <th>9</th>\n",
       "      <td>50.000</td>\n",
       "      <td>0.993333</td>\n",
       "      <td>0.661538</td>\n",
       "      <td>0.331795</td>\n",
       "    </tr>\n",
       "    <tr>\n",
       "      <th>10</th>\n",
       "      <td>100.000</td>\n",
       "      <td>1.000000</td>\n",
       "      <td>0.646154</td>\n",
       "      <td>0.353846</td>\n",
       "    </tr>\n",
       "    <tr>\n",
       "      <th>11</th>\n",
       "      <td>500.000</td>\n",
       "      <td>1.000000</td>\n",
       "      <td>0.661538</td>\n",
       "      <td>0.338462</td>\n",
       "    </tr>\n",
       "    <tr>\n",
       "      <th>12</th>\n",
       "      <td>1000.000</td>\n",
       "      <td>1.000000</td>\n",
       "      <td>0.661538</td>\n",
       "      <td>0.338462</td>\n",
       "    </tr>\n",
       "  </tbody>\n",
       "</table>\n",
       "</div>"
      ],
      "text/plain": [
       "           C  train_accuracy  validate_accuracy  difference\n",
       "0      0.001        0.360000           0.400000   -0.040000\n",
       "1      0.005        0.360000           0.400000   -0.040000\n",
       "2      0.010        0.360000           0.400000   -0.040000\n",
       "3      0.050        0.360000           0.400000   -0.040000\n",
       "4      0.100        0.360000           0.400000   -0.040000\n",
       "5      0.500        0.693333           0.476923    0.216410\n",
       "6      1.000        0.800000           0.507692    0.292308\n",
       "7      5.000        0.993333           0.676923    0.316410\n",
       "8     10.000        0.993333           0.692308    0.301026\n",
       "9     50.000        0.993333           0.661538    0.331795\n",
       "10   100.000        1.000000           0.646154    0.353846\n",
       "11   500.000        1.000000           0.661538    0.338462\n",
       "12  1000.000        1.000000           0.661538    0.338462"
      ]
     },
     "execution_count": 156,
     "metadata": {},
     "output_type": "execute_result"
    }
   ],
   "source": [
    "tfidf = TfidfVectorizer()\n",
    "X_tfidf = tfidf.fit_transform(X_train)\n",
    "X_tfidf_val = tfidf.transform(X_val)\n",
    "# Evaluate Logistic Regression models on train & validate set by looping through different values for c hyperparameter\n",
    "\n",
    "# create empty list for which to append metrics from each loop\n",
    "metrics = []\n",
    "\n",
    "# create loop for values in list\n",
    "for c in [.001, .005, .01, .05, .1, .5, 1, 5, 10, 50, 100, 500, 1000]:\n",
    "            \n",
    "    # define the model setting hyperparameters to values for current loop\n",
    "    logit = LogisticRegression(C=c)\n",
    "    \n",
    "    # fit the model on train\n",
    "    logit.fit(X_tfidf, y_train)\n",
    "    \n",
    "    # use the model and evaluate performance on train\n",
    "    train_accuracy = logit.score(X_tfidf, y_train)\n",
    "    # use the model and evaluate performance on validate\n",
    "    validate_accuracy = logit.score(X_tfidf_val, y_val)\n",
    "    \n",
    "    # create output of current loop's hyperparameters and accuracy to append to metrics\n",
    "    output = {\n",
    "        'C': c,\n",
    "        'train_accuracy': train_accuracy,\n",
    "        'validate_accuracy': validate_accuracy\n",
    "    }\n",
    "    \n",
    "    metrics.append(output)\n",
    "\n",
    "# convert metrics list to a dataframe for easy reading\n",
    "df = pd.DataFrame(metrics)\n",
    "# add column to assess the difference between train & validate accuracy\n",
    "df['difference'] = df.train_accuracy - df.validate_accuracy\n",
    "df"
   ]
  },
  {
   "cell_type": "code",
   "execution_count": 159,
   "id": "e47e5312",
   "metadata": {},
   "outputs": [
    {
     "data": {
      "text/html": [
       "<div>\n",
       "<style scoped>\n",
       "    .dataframe tbody tr th:only-of-type {\n",
       "        vertical-align: middle;\n",
       "    }\n",
       "\n",
       "    .dataframe tbody tr th {\n",
       "        vertical-align: top;\n",
       "    }\n",
       "\n",
       "    .dataframe thead th {\n",
       "        text-align: right;\n",
       "    }\n",
       "</style>\n",
       "<table border=\"1\" class=\"dataframe\">\n",
       "  <thead>\n",
       "    <tr style=\"text-align: right;\">\n",
       "      <th></th>\n",
       "      <th>k</th>\n",
       "      <th>train_accuracy</th>\n",
       "      <th>validate_accuracy</th>\n",
       "      <th>difference</th>\n",
       "    </tr>\n",
       "  </thead>\n",
       "  <tbody>\n",
       "    <tr>\n",
       "      <th>0</th>\n",
       "      <td>1</td>\n",
       "      <td>1.000000</td>\n",
       "      <td>0.323077</td>\n",
       "      <td>0.676923</td>\n",
       "    </tr>\n",
       "    <tr>\n",
       "      <th>1</th>\n",
       "      <td>2</td>\n",
       "      <td>0.520000</td>\n",
       "      <td>0.276923</td>\n",
       "      <td>0.243077</td>\n",
       "    </tr>\n",
       "    <tr>\n",
       "      <th>2</th>\n",
       "      <td>3</td>\n",
       "      <td>0.593333</td>\n",
       "      <td>0.292308</td>\n",
       "      <td>0.301026</td>\n",
       "    </tr>\n",
       "    <tr>\n",
       "      <th>3</th>\n",
       "      <td>4</td>\n",
       "      <td>0.660000</td>\n",
       "      <td>0.384615</td>\n",
       "      <td>0.275385</td>\n",
       "    </tr>\n",
       "    <tr>\n",
       "      <th>4</th>\n",
       "      <td>5</td>\n",
       "      <td>0.573333</td>\n",
       "      <td>0.415385</td>\n",
       "      <td>0.157949</td>\n",
       "    </tr>\n",
       "    <tr>\n",
       "      <th>5</th>\n",
       "      <td>6</td>\n",
       "      <td>0.540000</td>\n",
       "      <td>0.415385</td>\n",
       "      <td>0.124615</td>\n",
       "    </tr>\n",
       "    <tr>\n",
       "      <th>6</th>\n",
       "      <td>7</td>\n",
       "      <td>0.446667</td>\n",
       "      <td>0.338462</td>\n",
       "      <td>0.108205</td>\n",
       "    </tr>\n",
       "    <tr>\n",
       "      <th>7</th>\n",
       "      <td>8</td>\n",
       "      <td>0.546667</td>\n",
       "      <td>0.400000</td>\n",
       "      <td>0.146667</td>\n",
       "    </tr>\n",
       "    <tr>\n",
       "      <th>8</th>\n",
       "      <td>9</td>\n",
       "      <td>0.586667</td>\n",
       "      <td>0.523077</td>\n",
       "      <td>0.063590</td>\n",
       "    </tr>\n",
       "    <tr>\n",
       "      <th>9</th>\n",
       "      <td>10</td>\n",
       "      <td>0.600000</td>\n",
       "      <td>0.430769</td>\n",
       "      <td>0.169231</td>\n",
       "    </tr>\n",
       "    <tr>\n",
       "      <th>10</th>\n",
       "      <td>11</td>\n",
       "      <td>0.560000</td>\n",
       "      <td>0.415385</td>\n",
       "      <td>0.144615</td>\n",
       "    </tr>\n",
       "    <tr>\n",
       "      <th>11</th>\n",
       "      <td>12</td>\n",
       "      <td>0.486667</td>\n",
       "      <td>0.430769</td>\n",
       "      <td>0.055897</td>\n",
       "    </tr>\n",
       "    <tr>\n",
       "      <th>12</th>\n",
       "      <td>13</td>\n",
       "      <td>0.460000</td>\n",
       "      <td>0.415385</td>\n",
       "      <td>0.044615</td>\n",
       "    </tr>\n",
       "    <tr>\n",
       "      <th>13</th>\n",
       "      <td>14</td>\n",
       "      <td>0.433333</td>\n",
       "      <td>0.384615</td>\n",
       "      <td>0.048718</td>\n",
       "    </tr>\n",
       "    <tr>\n",
       "      <th>14</th>\n",
       "      <td>15</td>\n",
       "      <td>0.426667</td>\n",
       "      <td>0.384615</td>\n",
       "      <td>0.042051</td>\n",
       "    </tr>\n",
       "    <tr>\n",
       "      <th>15</th>\n",
       "      <td>16</td>\n",
       "      <td>0.420000</td>\n",
       "      <td>0.400000</td>\n",
       "      <td>0.020000</td>\n",
       "    </tr>\n",
       "    <tr>\n",
       "      <th>16</th>\n",
       "      <td>17</td>\n",
       "      <td>0.406667</td>\n",
       "      <td>0.384615</td>\n",
       "      <td>0.022051</td>\n",
       "    </tr>\n",
       "    <tr>\n",
       "      <th>17</th>\n",
       "      <td>18</td>\n",
       "      <td>0.413333</td>\n",
       "      <td>0.369231</td>\n",
       "      <td>0.044103</td>\n",
       "    </tr>\n",
       "    <tr>\n",
       "      <th>18</th>\n",
       "      <td>19</td>\n",
       "      <td>0.413333</td>\n",
       "      <td>0.369231</td>\n",
       "      <td>0.044103</td>\n",
       "    </tr>\n",
       "  </tbody>\n",
       "</table>\n",
       "</div>"
      ],
      "text/plain": [
       "     k  train_accuracy  validate_accuracy  difference\n",
       "0    1        1.000000           0.323077    0.676923\n",
       "1    2        0.520000           0.276923    0.243077\n",
       "2    3        0.593333           0.292308    0.301026\n",
       "3    4        0.660000           0.384615    0.275385\n",
       "4    5        0.573333           0.415385    0.157949\n",
       "5    6        0.540000           0.415385    0.124615\n",
       "6    7        0.446667           0.338462    0.108205\n",
       "7    8        0.546667           0.400000    0.146667\n",
       "8    9        0.586667           0.523077    0.063590\n",
       "9   10        0.600000           0.430769    0.169231\n",
       "10  11        0.560000           0.415385    0.144615\n",
       "11  12        0.486667           0.430769    0.055897\n",
       "12  13        0.460000           0.415385    0.044615\n",
       "13  14        0.433333           0.384615    0.048718\n",
       "14  15        0.426667           0.384615    0.042051\n",
       "15  16        0.420000           0.400000    0.020000\n",
       "16  17        0.406667           0.384615    0.022051\n",
       "17  18        0.413333           0.369231    0.044103\n",
       "18  19        0.413333           0.369231    0.044103"
      ]
     },
     "execution_count": 159,
     "metadata": {},
     "output_type": "execute_result"
    }
   ],
   "source": [
    "cv = CountVectorizer()\n",
    "X_bow = cv.fit_transform(X_train)\n",
    "X_bow_val = cv.transform(X_val)\n",
    "\n",
    "\n",
    "# Evaluate KNearest Neighbors models on train & validate set by looping through different values for k hyperparameter\n",
    "\n",
    "# create empty list for which to append scores from each loop\n",
    "scores = []\n",
    "k_range = range (1,20)\n",
    "# create loop for range 1-20\n",
    "for k in k_range:\n",
    "            \n",
    "    # define the model setting hyperparameters to values for current loop\n",
    "    knn = KNeighborsClassifier(n_neighbors=k)\n",
    "    \n",
    "    # fit the model on train\n",
    "    knn.fit(X_bow, y_train)\n",
    "    \n",
    "    # use the model and evaluate performance on train\n",
    "    train_accuracy = knn.score(X_bow, y_train)\n",
    "    # use the model and evaluate performance on validate\n",
    "    validate_accuracy = knn.score(X_bow_val, y_val)\n",
    "    \n",
    "    # create output of current loop's hyperparameters and accuracy to append to metrics\n",
    "    output = {\n",
    "        \"k\": k,\n",
    "        \"train_accuracy\": train_accuracy,\n",
    "        \"validate_accuracy\": validate_accuracy\n",
    "    }\n",
    "    \n",
    "    scores.append(output)\n",
    "\n",
    "# convert scores list to a dataframe for easy reading\n",
    "df = pd.DataFrame(scores)\n",
    "# add column to assess the difference between train & validate accuracy\n",
    "df['difference'] = df.train_accuracy - df.validate_accuracy\n",
    "df"
   ]
  },
  {
   "cell_type": "code",
   "execution_count": null,
   "id": "f1a85d5c",
   "metadata": {},
   "outputs": [],
   "source": []
  }
 ],
 "metadata": {
  "kernelspec": {
   "display_name": "Python 3 (ipykernel)",
   "language": "python",
   "name": "python3"
  },
  "language_info": {
   "codemirror_mode": {
    "name": "ipython",
    "version": 3
   },
   "file_extension": ".py",
   "mimetype": "text/x-python",
   "name": "python",
   "nbconvert_exporter": "python",
   "pygments_lexer": "ipython3",
   "version": "3.9.7"
  }
 },
 "nbformat": 4,
 "nbformat_minor": 5
}
