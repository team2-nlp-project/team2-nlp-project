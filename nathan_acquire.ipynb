{
 "cells": [
  {
   "cell_type": "code",
   "execution_count": 1,
   "id": "12d749e2",
   "metadata": {},
   "outputs": [],
   "source": [
    "from requests import get\n",
    "from bs4 import BeautifulSoup\n",
    "import pandas as pd"
   ]
  },
  {
   "cell_type": "code",
   "execution_count": 3,
   "id": "5b554c9f",
   "metadata": {},
   "outputs": [
    {
     "data": {
      "text/plain": [
       "<h1 class=\"h3 lh-condensed\">\n",
       "<a data-hydro-click='{\"event_type\":\"explore.click\",\"payload\":{\"click_context\":\"TRENDING_REPOSITORIES_PAGE\",\"click_target\":\"REPOSITORY\",\"click_visual_representation\":\"REPOSITORY_NAME_HEADING\",\"actor_id\":null,\"record_id\":39840932,\"originating_url\":\"https://github.com/trending\",\"user_id\":null}}' data-hydro-click-hmac=\"b5c21c00a03199cc476d548acb97ab258f58b11b86fc31b42a24574f04824f67\" data-view-component=\"true\" href=\"/google/googletest\">\n",
       "<svg aria-hidden=\"true\" class=\"octicon octicon-repo mr-1 color-fg-muted\" data-view-component=\"true\" height=\"16\" version=\"1.1\" viewbox=\"0 0 16 16\" width=\"16\">\n",
       "<path d=\"M2 2.5A2.5 2.5 0 014.5 0h8.75a.75.75 0 01.75.75v12.5a.75.75 0 01-.75.75h-2.5a.75.75 0 110-1.5h1.75v-2h-8a1 1 0 00-.714 1.7.75.75 0 01-1.072 1.05A2.495 2.495 0 012 11.5v-9zm10.5-1V9h-8c-.356 0-.694.074-1 .208V2.5a1 1 0 011-1h8zM5 12.25v3.25a.25.25 0 00.4.2l1.45-1.087a.25.25 0 01.3 0L8.6 15.7a.25.25 0 00.4-.2v-3.25a.25.25 0 00-.25-.25h-3.5a.25.25 0 00-.25.25z\" fill-rule=\"evenodd\"></path>\n",
       "</svg>\n",
       "<span class=\"text-normal\" data-view-component=\"true\">\n",
       "        google /\n",
       "</span>\n",
       "      googletest\n",
       "</a>\n",
       "</h1>"
      ]
     },
     "execution_count": 3,
     "metadata": {},
     "output_type": "execute_result"
    }
   ],
   "source": [
    "url = 'https://github.com/trending' \n",
    "response = get(url)\n",
    "soup = BeautifulSoup(response.text, 'html.parser')\n",
    "headings = soup.select('h1.h3.lh-condensed')\n",
    "headings[0]"
   ]
  },
  {
   "cell_type": "code",
   "execution_count": 5,
   "id": "e51420a0",
   "metadata": {},
   "outputs": [
    {
     "data": {
      "text/plain": [
       "25"
      ]
     },
     "execution_count": 5,
     "metadata": {},
     "output_type": "execute_result"
    }
   ],
   "source": [
    "len(headings)"
   ]
  },
  {
   "cell_type": "code",
   "execution_count": 6,
   "id": "0b000b88",
   "metadata": {},
   "outputs": [
    {
     "data": {
      "text/plain": [
       "['google/googletest',\n",
       " 'projectdiscovery/nuclei-templates',\n",
       " 'digitalocean/nginxconfig.io',\n",
       " 'flutter/flutter',\n",
       " 'PaddlePaddle/PaddleOCR',\n",
       " 'flutter/pinball',\n",
       " 'wolfogre/go-pprof-practice',\n",
       " 'supabase/supabase',\n",
       " 'felipefialho/frontend-challenges',\n",
       " 'flutter/samples',\n",
       " 'alibaba/fastjson2',\n",
       " 'florinpop17/app-ideas',\n",
       " 'charmbracelet/bubbletea',\n",
       " 'huggingface/transformers',\n",
       " 'databricks-academy/data-engineering-with-databricks',\n",
       " 'hectorqin/reader',\n",
       " 'Azure/azure-rest-api-specs',\n",
       " 'terra-money/core',\n",
       " 'saltstack/salt',\n",
       " 'PKUFlyingPig/cs-self-learning',\n",
       " 'actions/virtual-environments',\n",
       " 'jojoldu/junior-recruit-scheduler',\n",
       " 'dotnet/aspnetcore',\n",
       " 'danielgindi/Charts',\n",
       " 'microsoft/unilm']"
      ]
     },
     "execution_count": 6,
     "metadata": {},
     "output_type": "execute_result"
    }
   ],
   "source": [
    "[h.select_one('a').attrs['href'][1:] for h in soup.select('h1.h3.lh-condensed')]"
   ]
  },
  {
   "cell_type": "code",
   "execution_count": null,
   "id": "33284969",
   "metadata": {},
   "outputs": [],
   "source": []
  },
  {
   "cell_type": "code",
   "execution_count": null,
   "id": "ddb3b4fa",
   "metadata": {},
   "outputs": [],
   "source": []
  },
  {
   "cell_type": "code",
   "execution_count": 11,
   "id": "523e0153",
   "metadata": {},
   "outputs": [
    {
     "data": {
      "text/plain": [
       "<div class=\"f4 text-normal\">\n",
       "<a class=\"v-align-middle\" data-hydro-click='{\"event_type\":\"search_result.click\",\"payload\":{\"page_number\":1,\"per_page\":10,\"query\":\"stars:&gt;1\",\"result_position\":1,\"click_id\":14204342,\"result\":{\"id\":14204342,\"global_relay_id\":\"MDEwOlJlcG9zaXRvcnkxNDIwNDM0Mg==\",\"model_name\":\"Repository\",\"url\":\"https://github.com/jtleek/datasharing\"},\"originating_url\":\"https://github.com/search?o=desc&amp;q=stars:%3E1&amp;s=forks&amp;type=Repositories\",\"user_id\":null}}' data-hydro-click-hmac=\"43ffd03f9b9f100d5d4cff6300156df517f385d2cd83787e829219fd8b4df50e\" href=\"/jtleek/datasharing\">jtleek/datasharing</a>\n",
       "</div>"
      ]
     },
     "execution_count": 11,
     "metadata": {},
     "output_type": "execute_result"
    }
   ],
   "source": [
    "url = 'https://github.com/search?o=desc&q=stars:%3E1&s=forks&type=Repositories' \n",
    "response = get(url)\n",
    "soup = BeautifulSoup(response.text, 'html.parser')\n",
    "headings = soup.select('div.f4.text-normal')\n",
    "headings[0]"
   ]
  },
  {
   "cell_type": "code",
   "execution_count": null,
   "id": "ccd76615",
   "metadata": {},
   "outputs": [],
   "source": []
  },
  {
   "cell_type": "code",
   "execution_count": 10,
   "id": "06f16399",
   "metadata": {},
   "outputs": [
    {
     "data": {
      "text/plain": [
       "'\\n\\n\\n\\n\\n\\nRate limit · GitHub\\n\\n\\n\\n\\n\\nWhoa there!\\nYou have exceeded a secondary rate limit.\\n        Please wait a few minutes before you try again;\\n        in some cases this may take up to an hour.\\n      \\n\\nContact Support —\\n        GitHub Status —\\n        @githubstatus\\n\\n\\n\\n\\n\\n\\n\\n\\n\\n\\n'"
      ]
     },
     "execution_count": 10,
     "metadata": {},
     "output_type": "execute_result"
    }
   ],
   "source": [
    "soup.text"
   ]
  },
  {
   "cell_type": "code",
   "execution_count": 12,
   "id": "cf9bdd89",
   "metadata": {},
   "outputs": [
    {
     "data": {
      "text/plain": [
       "['jtleek/datasharing',\n",
       " 'rdpeng/ProgrammingAssignment2',\n",
       " 'octocat/Spoon-Knife',\n",
       " 'tensorflow/tensorflow',\n",
       " 'twbs/bootstrap',\n",
       " 'Pierian-Data/Complete-Python-3-Bootcamp',\n",
       " 'nightscout/cgm-remote-monitor',\n",
       " 'jwasham/coding-interview-university',\n",
       " 'rdpeng/ExData_Plotting1',\n",
       " 'github/docs']"
      ]
     },
     "execution_count": 12,
     "metadata": {},
     "output_type": "execute_result"
    }
   ],
   "source": [
    "[h.select_one('a').attrs['href'][1:] for h in soup.select('div.f4.text-normal')]"
   ]
  },
  {
   "cell_type": "code",
   "execution_count": 13,
   "id": "584d371f",
   "metadata": {},
   "outputs": [],
   "source": [
    "url = 'https://github.com/search?o=desc&p=2&q=stars%3A%3E1&s=forks&type=Repositories'\n",
    "response = get(url)"
   ]
  },
  {
   "cell_type": "code",
   "execution_count": 14,
   "id": "0086e5d8",
   "metadata": {},
   "outputs": [
    {
     "data": {
      "text/plain": [
       "<div class=\"f4 text-normal\">\n",
       "<a class=\"v-align-middle\" data-hydro-click='{\"event_type\":\"search_result.click\",\"payload\":{\"page_number\":2,\"per_page\":10,\"query\":\"stars:&gt;1\",\"result_position\":1,\"click_id\":189621607,\"result\":{\"id\":189621607,\"global_relay_id\":\"MDEwOlJlcG9zaXRvcnkxODk2MjE2MDc=\",\"model_name\":\"Repository\",\"url\":\"https://github.com/github/docs\"},\"originating_url\":\"https://github.com/search?o=desc&amp;p=2&amp;q=stars%3A%3E1&amp;s=forks&amp;type=Repositories\",\"user_id\":null}}' data-hydro-click-hmac=\"e0c9c413683b12336f4ab1b96034d225dd4b7213d00e333d6630186cc5935124\" href=\"/github/docs\">github/docs</a>\n",
       "</div>"
      ]
     },
     "execution_count": 14,
     "metadata": {},
     "output_type": "execute_result"
    }
   ],
   "source": [
    "soup = BeautifulSoup(response.text, 'html.parser')\n",
    "headings = soup.select('div.f4.text-normal')\n",
    "headings[0]"
   ]
  },
  {
   "cell_type": "code",
   "execution_count": 15,
   "id": "12670f94",
   "metadata": {},
   "outputs": [
    {
     "data": {
      "text/plain": [
       "['github/docs',\n",
       " 'opencv/opencv',\n",
       " 'EbookFoundation/free-programming-books',\n",
       " 'eugenp/tutorials',\n",
       " 'CyC2018/CS-Notes',\n",
       " 'jackfrued/Python-100-Days',\n",
       " 'firstcontributions/first-contributions',\n",
       " 'torvalds/linux',\n",
       " 'Snailclimb/JavaGuide',\n",
       " 'facebook/react']"
      ]
     },
     "execution_count": 15,
     "metadata": {},
     "output_type": "execute_result"
    }
   ],
   "source": [
    "[h.select_one('a').attrs['href'][1:] for h in soup.select('div.f4.text-normal')]"
   ]
  },
  {
   "cell_type": "code",
   "execution_count": 16,
   "id": "43033ca7",
   "metadata": {},
   "outputs": [],
   "source": [
    "url = 'https://github.com/search?o=desc&p=3&q=stars%3A%3E1&s=forks&type=Repositories'\n",
    "response = get(url)"
   ]
  },
  {
   "cell_type": "code",
   "execution_count": 17,
   "id": "e34f7a4f",
   "metadata": {},
   "outputs": [
    {
     "data": {
      "text/plain": [
       "<div class=\"f4 text-normal\">\n",
       "<a class=\"v-align-middle\" data-hydro-click='{\"event_type\":\"search_result.click\",\"payload\":{\"page_number\":3,\"per_page\":10,\"query\":\"stars:&gt;1\",\"result_position\":1,\"click_id\":15783450,\"result\":{\"id\":15783450,\"global_relay_id\":\"MDEwOlJlcG9zaXRvcnkxNTc4MzQ1MA==\",\"model_name\":\"Repository\",\"url\":\"https://github.com/jlord/patchwork\"},\"originating_url\":\"https://github.com/search?o=desc&amp;p=3&amp;q=stars%3A%3E1&amp;s=forks&amp;type=Repositories\",\"user_id\":null}}' data-hydro-click-hmac=\"e9e156fd89fd4f4322570e4ca03c27e94962a4e53376501c1e4090099efa3850\" href=\"/jlord/patchwork\">jlord/patchwork</a>\n",
       "</div>"
      ]
     },
     "execution_count": 17,
     "metadata": {},
     "output_type": "execute_result"
    }
   ],
   "source": [
    "soup = BeautifulSoup(response.text, 'html.parser')\n",
    "headings = soup.select('div.f4.text-normal')\n",
    "headings[0]"
   ]
  },
  {
   "cell_type": "code",
   "execution_count": 18,
   "id": "be9ad9b9",
   "metadata": {},
   "outputs": [
    {
     "data": {
      "text/plain": [
       "['jlord/patchwork',\n",
       " 'TheAlgorithms/Python',\n",
       " 'ant-design/ant-design',\n",
       " 'barryclark/jekyll-now',\n",
       " 'bitcoin/bitcoin',\n",
       " 'angular/angular.js',\n",
       " 'kamranahmedse/developer-roadmap',\n",
       " 'PanJiaChen/vue-element-admin',\n",
       " 'django/django',\n",
       " 'mui/material-ui']"
      ]
     },
     "execution_count": 18,
     "metadata": {},
     "output_type": "execute_result"
    }
   ],
   "source": [
    "[h.select_one('a').attrs['href'][1:] for h in soup.select('div.f4.text-normal')]"
   ]
  },
  {
   "cell_type": "code",
   "execution_count": 19,
   "id": "dc324855",
   "metadata": {},
   "outputs": [],
   "source": [
    "url = 'https://github.com/search?o=desc&p=4&q=stars%3A%3E1&s=forks&type=Repositories'\n",
    "response = get(url)"
   ]
  },
  {
   "cell_type": "code",
   "execution_count": 20,
   "id": "82d2b3b8",
   "metadata": {},
   "outputs": [
    {
     "data": {
      "text/plain": [
       "<div class=\"f4 text-normal\">\n",
       "<a class=\"v-align-middle\" data-hydro-click='{\"event_type\":\"search_result.click\",\"payload\":{\"page_number\":4,\"per_page\":10,\"query\":\"stars:&gt;1\",\"result_position\":1,\"click_id\":85077558,\"result\":{\"id\":85077558,\"global_relay_id\":\"MDEwOlJlcG9zaXRvcnk4NTA3NzU1OA==\",\"model_name\":\"Repository\",\"url\":\"https://github.com/kamranahmedse/developer-roadmap\"},\"originating_url\":\"https://github.com/search?o=desc&amp;p=4&amp;q=stars%3A%3E1&amp;s=forks&amp;type=Repositories\",\"user_id\":null}}' data-hydro-click-hmac=\"325592ad3d339c70a816b7cd30e0febd1f1cffa99766992420bf7e3a272c2f94\" href=\"/kamranahmedse/developer-roadmap\">kamranahmedse/developer-roadmap</a>\n",
       "</div>"
      ]
     },
     "execution_count": 20,
     "metadata": {},
     "output_type": "execute_result"
    }
   ],
   "source": [
    "soup = BeautifulSoup(response.text, 'html.parser')\n",
    "headings = soup.select('div.f4.text-normal')\n",
    "headings[0]"
   ]
  },
  {
   "cell_type": "code",
   "execution_count": 21,
   "id": "8f18d4e8",
   "metadata": {},
   "outputs": [
    {
     "data": {
      "text/plain": [
       "['kamranahmedse/developer-roadmap',\n",
       " 'PanJiaChen/vue-element-admin',\n",
       " 'DefinitelyTyped/DefinitelyTyped',\n",
       " 'django/django',\n",
       " 'mui/material-ui',\n",
       " 'RedHatTraining/DO180-apps',\n",
       " 'qmk/qmk_firmware',\n",
       " 'apache/spark',\n",
       " 'apache/dubbo',\n",
       " 'google/it-cert-automation-practice']"
      ]
     },
     "execution_count": 21,
     "metadata": {},
     "output_type": "execute_result"
    }
   ],
   "source": [
    "[h.select_one('a').attrs['href'][1:] for h in soup.select('div.f4.text-normal')]"
   ]
  },
  {
   "cell_type": "code",
   "execution_count": 22,
   "id": "c396b919",
   "metadata": {},
   "outputs": [],
   "source": [
    "url = 'https://github.com/search?o=desc&p=5&q=stars%3A%3E1&s=forks&type=Repositories'\n",
    "response = get(url)"
   ]
  },
  {
   "cell_type": "code",
   "execution_count": 23,
   "id": "bcfa4c3e",
   "metadata": {},
   "outputs": [
    {
     "data": {
      "text/plain": [
       "<div class=\"f4 text-normal\">\n",
       "<a class=\"v-align-middle\" data-hydro-click='{\"event_type\":\"search_result.click\",\"payload\":{\"page_number\":5,\"per_page\":10,\"query\":\"stars:&gt;1\",\"result_position\":1,\"click_id\":63537249,\"result\":{\"id\":63537249,\"global_relay_id\":\"MDEwOlJlcG9zaXRvcnk2MzUzNzI0OQ==\",\"model_name\":\"Repository\",\"url\":\"https://github.com/facebook/create-react-app\"},\"originating_url\":\"https://github.com/search?o=desc&amp;p=5&amp;q=stars%3A%3E1&amp;s=forks&amp;type=Repositories\",\"user_id\":null}}' data-hydro-click-hmac=\"a062b7ac7393e0c6659a6a3b8e0b0188fd221d8aae2c97257b9afef49fa07848\" href=\"/facebook/create-react-app\">facebook/create-react-app</a>\n",
       "</div>"
      ]
     },
     "execution_count": 23,
     "metadata": {},
     "output_type": "execute_result"
    }
   ],
   "source": [
    "soup = BeautifulSoup(response.text, 'html.parser')\n",
    "headings = soup.select('div.f4.text-normal')\n",
    "headings[0]"
   ]
  },
  {
   "cell_type": "code",
   "execution_count": 24,
   "id": "a511770a",
   "metadata": {},
   "outputs": [
    {
     "data": {
      "text/plain": [
       "['facebook/create-react-app',\n",
       " 'airbnb/javascript',\n",
       " 'git/git',\n",
       " 'nodejs/node',\n",
       " 'sindresorhus/awesome',\n",
       " 'iluwatar/java-design-patterns',\n",
       " 'python/cpython',\n",
       " 'd3/d3',\n",
       " 'scikit-learn/scikit-learn',\n",
       " 'atralice/Curso.Prep.Henry']"
      ]
     },
     "execution_count": 24,
     "metadata": {},
     "output_type": "execute_result"
    }
   ],
   "source": [
    "[h.select_one('a').attrs['href'][1:] for h in soup.select('div.f4.text-normal')]"
   ]
  },
  {
   "cell_type": "code",
   "execution_count": 3,
   "id": "b2bd3d52",
   "metadata": {},
   "outputs": [],
   "source": [
    "url = 'https://github.com/search?o=desc&p=7&q=stars%3A%3E1&s=forks&type=Repositories'\n",
    "response = get(url)"
   ]
  },
  {
   "cell_type": "code",
   "execution_count": 4,
   "id": "b6762bd7",
   "metadata": {},
   "outputs": [
    {
     "data": {
      "text/plain": [
       "<div class=\"f4 text-normal\">\n",
       "<a class=\"v-align-middle\" data-hydro-click='{\"event_type\":\"search_result.click\",\"payload\":{\"page_number\":7,\"per_page\":10,\"query\":\"stars:&gt;1\",\"result_position\":1,\"click_id\":12791642,\"result\":{\"id\":12791642,\"global_relay_id\":\"MDEwOlJlcG9zaXRvcnkxMjc5MTY0Mg==\",\"model_name\":\"Repository\",\"url\":\"https://github.com/BVLC/caffe\"},\"originating_url\":\"https://github.com/search?o=desc&amp;p=7&amp;q=stars%3A%3E1&amp;s=forks&amp;type=Repositories\",\"user_id\":null}}' data-hydro-click-hmac=\"ca60a6ad3c9032632c5b2989897b455af1ac1cd40c2e955fc0a697b9a304322f\" href=\"/BVLC/caffe\">BVLC/caffe</a>\n",
       "</div>"
      ]
     },
     "execution_count": 4,
     "metadata": {},
     "output_type": "execute_result"
    }
   ],
   "source": [
    "soup = BeautifulSoup(response.text, 'html.parser')\n",
    "headings = soup.select('div.f4.text-normal')\n",
    "headings[0]"
   ]
  },
  {
   "cell_type": "code",
   "execution_count": 5,
   "id": "630e32bc",
   "metadata": {},
   "outputs": [
    {
     "data": {
      "text/plain": [
       "['BVLC/caffe',\n",
       " 'apache/echarts',\n",
       " 'CSSEGISandData/COVID-19',\n",
       " 'jenkins-docs/simple-java-maven-app',\n",
       " 'vercel/next.js',\n",
       " 'home-assistant/core',\n",
       " 'moby/moby',\n",
       " 'ColorlibHQ/AdminLTE',\n",
       " 'scm-ninja/starter-web',\n",
       " 'xingshaocheng/architect-awesome']"
      ]
     },
     "execution_count": 5,
     "metadata": {},
     "output_type": "execute_result"
    }
   ],
   "source": [
    "[h.select_one('a').attrs['href'][1:] for h in soup.select('div.f4.text-normal')]"
   ]
  },
  {
   "cell_type": "code",
   "execution_count": 6,
   "id": "58fa9e87",
   "metadata": {},
   "outputs": [],
   "source": [
    "url = 'https://github.com/search?o=desc&p=8&q=stars%3A%3E1&s=forks&type=Repositories'\n",
    "response = get(url)"
   ]
  },
  {
   "cell_type": "code",
   "execution_count": 7,
   "id": "4140e15b",
   "metadata": {},
   "outputs": [
    {
     "data": {
      "text/plain": [
       "<div class=\"f4 text-normal\">\n",
       "<a class=\"v-align-middle\" data-hydro-click='{\"event_type\":\"search_result.click\",\"payload\":{\"page_number\":8,\"per_page\":10,\"query\":\"stars:&gt;1\",\"result_position\":1,\"click_id\":7512484,\"result\":{\"id\":7512484,\"global_relay_id\":\"MDEwOlJlcG9zaXRvcnk3NTEyNDg0\",\"model_name\":\"Repository\",\"url\":\"https://github.com/ArduPilot/ardupilot\"},\"originating_url\":\"https://github.com/search?o=desc&amp;p=8&amp;q=stars%3A%3E1&amp;s=forks&amp;type=Repositories\",\"user_id\":null}}' data-hydro-click-hmac=\"f601b80df1bdce61deeda313efce5c121a9eb1e642ac2468cf8d2c4ea0d00738\" href=\"/ArduPilot/ardupilot\">ArduPilot/ardupilot</a>\n",
       "</div>"
      ]
     },
     "execution_count": 7,
     "metadata": {},
     "output_type": "execute_result"
    }
   ],
   "source": [
    "soup = BeautifulSoup(response.text, 'html.parser')\n",
    "headings = soup.select('div.f4.text-normal')\n",
    "headings[0]"
   ]
  },
  {
   "cell_type": "code",
   "execution_count": 8,
   "id": "9b86924c",
   "metadata": {},
   "outputs": [
    {
     "data": {
      "text/plain": [
       "['ArduPilot/ardupilot',\n",
       " 'codebasics/py',\n",
       " 'ageitgey/face_recognition',\n",
       " 'bailicangdu/vue2-elm',\n",
       " 'angular/angular-cli',\n",
       " 'kdn251/interviews',\n",
       " 'Trinea/android-open-project',\n",
       " 'zero-to-mastery/start-here-guidelines',\n",
       " 'FortAwesome/Font-Awesome',\n",
       " 'Homebrew/legacy-homebrew']"
      ]
     },
     "execution_count": 8,
     "metadata": {},
     "output_type": "execute_result"
    }
   ],
   "source": [
    "[h.select_one('a').attrs['href'][1:] for h in soup.select('div.f4.text-normal')]"
   ]
  },
  {
   "cell_type": "code",
   "execution_count": 9,
   "id": "5b44cef8",
   "metadata": {},
   "outputs": [],
   "source": [
    "url = 'https://github.com/search?o=desc&p=9&q=stars%3A%3E1&s=forks&type=Repositories'\n",
    "response = get(url)"
   ]
  },
  {
   "cell_type": "code",
   "execution_count": 10,
   "id": "fe7432f4",
   "metadata": {},
   "outputs": [
    {
     "data": {
      "text/plain": [
       "<div class=\"f4 text-normal\">\n",
       "<a class=\"v-align-middle\" data-hydro-click='{\"event_type\":\"search_result.click\",\"payload\":{\"page_number\":9,\"per_page\":10,\"query\":\"stars:&gt;1\",\"result_position\":1,\"click_id\":65388917,\"result\":{\"id\":65388917,\"global_relay_id\":\"MDEwOlJlcG9zaXRvcnk2NTM4ODkxNw==\",\"model_name\":\"Repository\",\"url\":\"https://github.com/jakevdp/PythonDataScienceHandbook\"},\"originating_url\":\"https://github.com/search?o=desc&amp;p=9&amp;q=stars%3A%3E1&amp;s=forks&amp;type=Repositories\",\"user_id\":null}}' data-hydro-click-hmac=\"739f5bacd6b2f2da309c9ae8bf4927a9384c5739cdc0235464bda91e366d620f\" href=\"/jakevdp/PythonDataScienceHandbook\">jakevdp/PythonDataScienceHandbook</a>\n",
       "</div>"
      ]
     },
     "execution_count": 10,
     "metadata": {},
     "output_type": "execute_result"
    }
   ],
   "source": [
    "soup = BeautifulSoup(response.text, 'html.parser')\n",
    "headings = soup.select('div.f4.text-normal')\n",
    "headings[0]"
   ]
  },
  {
   "cell_type": "code",
   "execution_count": 11,
   "id": "7495301c",
   "metadata": {},
   "outputs": [
    {
     "data": {
      "text/plain": [
       "['jakevdp/PythonDataScienceHandbook',\n",
       " 'aymericdamien/TensorFlow-Examples',\n",
       " 'pallets/flask',\n",
       " 'github/opensource.guide',\n",
       " 'golang/go',\n",
       " 'TheOdinProject/css-exercises',\n",
       " 'selfteaching/the-craft-of-selfteaching',\n",
       " 'pandas-dev/pandas',\n",
       " 'ElemeFE/element',\n",
       " 'ionic-team/ionic-framework']"
      ]
     },
     "execution_count": 11,
     "metadata": {},
     "output_type": "execute_result"
    }
   ],
   "source": [
    "[h.select_one('a').attrs['href'][1:] for h in soup.select('div.f4.text-normal')]"
   ]
  },
  {
   "cell_type": "code",
   "execution_count": 15,
   "id": "aa0d68b4",
   "metadata": {},
   "outputs": [],
   "source": [
    "url = 'https://github.com/search?o=desc&p=10&q=stars%3A%3E1&s=forks&type=Repositories'\n",
    "response = get(url)"
   ]
  },
  {
   "cell_type": "code",
   "execution_count": 16,
   "id": "324d34ca",
   "metadata": {},
   "outputs": [
    {
     "data": {
      "text/plain": [
       "<div class=\"f4 text-normal\">\n",
       "<a class=\"v-align-middle\" data-hydro-click='{\"event_type\":\"search_result.click\",\"payload\":{\"page_number\":10,\"per_page\":10,\"query\":\"stars:&gt;1\",\"result_position\":1,\"click_id\":151834062,\"result\":{\"id\":151834062,\"global_relay_id\":\"MDEwOlJlcG9zaXRvcnkxNTE4MzQwNjI=\",\"model_name\":\"Repository\",\"url\":\"https://github.com/doocs/advanced-java\"},\"originating_url\":\"https://github.com/search?o=desc&amp;p=10&amp;q=stars%3A%3E1&amp;s=forks&amp;type=Repositories\",\"user_id\":null}}' data-hydro-click-hmac=\"a1b5dbd4a88b4054862a755cc84a8806667ebc0e3b2996a0aed4f405b05dd362\" href=\"/doocs/advanced-java\">doocs/advanced-java</a>\n",
       "</div>"
      ]
     },
     "execution_count": 16,
     "metadata": {},
     "output_type": "execute_result"
    }
   ],
   "source": [
    "soup = BeautifulSoup(response.text, 'html.parser')\n",
    "headings = soup.select('div.f4.text-normal')\n",
    "headings[0]"
   ]
  },
  {
   "cell_type": "code",
   "execution_count": 17,
   "id": "4b2b01a3",
   "metadata": {},
   "outputs": [
    {
     "data": {
      "text/plain": [
       "['doocs/advanced-java',\n",
       " 'MarlinFirmware/Marlin',\n",
       " 'shadowsocks/shadowsocks-windows',\n",
       " 'CoreyMSchafer/code_snippets',\n",
       " 'MicrosoftDocs/azure-docs',\n",
       " 'odoo/odoo',\n",
       " 'FreeRDP/FreeRDP',\n",
       " 'hakimel/reveal.js',\n",
       " 'gabrielecirulli/2048',\n",
       " 'udacity/course-collaboration-travel-plans']"
      ]
     },
     "execution_count": 17,
     "metadata": {},
     "output_type": "execute_result"
    }
   ],
   "source": [
    "[h.select_one('a').attrs['href'][1:] for h in soup.select('div.f4.text-normal')]"
   ]
  },
  {
   "cell_type": "code",
   "execution_count": 18,
   "id": "ed1a55f3",
   "metadata": {},
   "outputs": [],
   "source": [
    "url = 'https://github.com/search?o=desc&p=11&q=stars%3A%3E1&s=forks&type=Repositories'\n",
    "response = get(url)"
   ]
  },
  {
   "cell_type": "code",
   "execution_count": 19,
   "id": "9cd15b02",
   "metadata": {},
   "outputs": [
    {
     "data": {
      "text/plain": [
       "<div class=\"f4 text-normal\">\n",
       "<a class=\"v-align-middle\" data-hydro-click='{\"event_type\":\"search_result.click\",\"payload\":{\"page_number\":11,\"per_page\":10,\"query\":\"stars:&gt;1\",\"result_position\":1,\"click_id\":19415064,\"result\":{\"id\":19415064,\"global_relay_id\":\"MDEwOlJlcG9zaXRvcnkxOTQxNTA2NA==\",\"model_name\":\"Repository\",\"url\":\"https://github.com/ossu/computer-science\"},\"originating_url\":\"https://github.com/search?o=desc&amp;p=11&amp;q=stars%3A%3E1&amp;s=forks&amp;type=Repositories\",\"user_id\":null}}' data-hydro-click-hmac=\"be409c79a21bec307c6a75bc34ac714763fdb263fb6a4b138e88c09e0b07bc45\" href=\"/ossu/computer-science\">ossu/computer-science</a>\n",
       "</div>"
      ]
     },
     "execution_count": 19,
     "metadata": {},
     "output_type": "execute_result"
    }
   ],
   "source": [
    "soup = BeautifulSoup(response.text, 'html.parser')\n",
    "headings = soup.select('div.f4.text-normal')\n",
    "headings[0]"
   ]
  },
  {
   "cell_type": "code",
   "execution_count": null,
   "id": "a12acecd",
   "metadata": {},
   "outputs": [],
   "source": []
  },
  {
   "cell_type": "code",
   "execution_count": null,
   "id": "a92f21c6",
   "metadata": {},
   "outputs": [],
   "source": []
  },
  {
   "cell_type": "code",
   "execution_count": 20,
   "id": "79969954",
   "metadata": {},
   "outputs": [
    {
     "data": {
      "text/plain": [
       "['ossu/computer-science',\n",
       " 'jakevdp/PythonDataScienceHandbook',\n",
       " 'aymericdamien/TensorFlow-Examples',\n",
       " 'reduxjs/redux',\n",
       " 'pallets/flask',\n",
       " 'TheAlgorithms/Java',\n",
       " 'scutan90/DeepLearning-500-questions',\n",
       " 'huggingface/transformers',\n",
       " 'github/opensource.guide',\n",
       " 'golang/go']"
      ]
     },
     "execution_count": 20,
     "metadata": {},
     "output_type": "execute_result"
    }
   ],
   "source": [
    "[h.select_one('a').attrs['href'][1:] for h in soup.select('div.f4.text-normal')]"
   ]
  },
  {
   "cell_type": "code",
   "execution_count": 24,
   "id": "3f502422",
   "metadata": {},
   "outputs": [],
   "source": [
    "url = 'https://github.com/search?o=desc&p=12&q=stars%3A%3E1&s=forks&type=Repositories'\n",
    "response = get(url)"
   ]
  },
  {
   "cell_type": "code",
   "execution_count": 25,
   "id": "4deae3bf",
   "metadata": {},
   "outputs": [
    {
     "data": {
      "text/plain": [
       "<div class=\"f4 text-normal\">\n",
       "<a class=\"v-align-middle\" data-hydro-click='{\"event_type\":\"search_result.click\",\"payload\":{\"page_number\":12,\"per_page\":10,\"query\":\"stars:&gt;1\",\"result_position\":1,\"click_id\":36535156,\"result\":{\"id\":36535156,\"global_relay_id\":\"MDEwOlJlcG9zaXRvcnkzNjUzNTE1Ng==\",\"model_name\":\"Repository\",\"url\":\"https://github.com/reduxjs/redux\"},\"originating_url\":\"https://github.com/search?o=desc&amp;p=12&amp;q=stars%3A%3E1&amp;s=forks&amp;type=Repositories\",\"user_id\":null}}' data-hydro-click-hmac=\"eff2a06d7f616754e6648970e679e745ee63b926291636a62d8b6613bcc6bac6\" href=\"/reduxjs/redux\">reduxjs/redux</a>\n",
       "</div>"
      ]
     },
     "execution_count": 25,
     "metadata": {},
     "output_type": "execute_result"
    }
   ],
   "source": [
    "soup = BeautifulSoup(response.text, 'html.parser')\n",
    "headings = soup.select('div.f4.text-normal')\n",
    "headings[0]"
   ]
  },
  {
   "cell_type": "code",
   "execution_count": 26,
   "id": "e5bf19ad",
   "metadata": {},
   "outputs": [
    {
     "data": {
      "text/plain": [
       "['reduxjs/redux',\n",
       " 'pallets/flask',\n",
       " 'scutan90/DeepLearning-500-questions',\n",
       " 'huggingface/transformers',\n",
       " 'github/opensource.guide',\n",
       " 'golang/go',\n",
       " 'TheOdinProject/css-exercises',\n",
       " 'selfteaching/the-craft-of-selfteaching',\n",
       " 'netty/netty',\n",
       " 'Azure/azure-quickstart-templates']"
      ]
     },
     "execution_count": 26,
     "metadata": {},
     "output_type": "execute_result"
    }
   ],
   "source": [
    "[h.select_one('a').attrs['href'][1:] for h in soup.select('div.f4.text-normal')]"
   ]
  },
  {
   "cell_type": "code",
   "execution_count": 23,
   "id": "943e3e20",
   "metadata": {},
   "outputs": [
    {
     "data": {
      "text/plain": [
       "'\\n\\n\\n\\n\\n\\nRate limit · GitHub\\n\\n\\n\\n\\n\\nWhoa there!\\nYou have exceeded a secondary rate limit.\\n        Please wait a few minutes before you try again;\\n        in some cases this may take up to an hour.\\n      \\n\\nContact Support —\\n        GitHub Status —\\n        @githubstatus\\n\\n\\n\\n\\n\\n\\n\\n\\n\\n\\n'"
      ]
     },
     "execution_count": 23,
     "metadata": {},
     "output_type": "execute_result"
    }
   ],
   "source": [
    "soup.text"
   ]
  },
  {
   "cell_type": "code",
   "execution_count": null,
   "id": "de61f3a9",
   "metadata": {},
   "outputs": [],
   "source": [
    "import pandas as pd\n",
    "import os\n",
    "\n",
    "#### Pulled from class will need to add values\n",
    "\n",
    "\"\"\"\n",
    "A module for obtaining repo readme and language data from the github API.\n",
    "Before using this module, read through it, and follow the instructions marked\n",
    "TODO.\n",
    "After doing so, run it like this:\n",
    "    python acquire.py\n",
    "To create the `data.json` file that contains the data.\n",
    "\"\"\"\n",
    "import os\n",
    "import json\n",
    "from typing import Dict, List, Optional, Union, cast\n",
    "import requests\n",
    "\n",
    "from env import github_token, github_username\n",
    "\n",
    "# TODO: Make a github personal access token.\n",
    "#     1. Go here and generate a personal access token https://github.com/settings/tokens\n",
    "#        You do _not_ need select any scopes, i.e. leave all the checkboxes unchecked\n",
    "#     2. Save it in your env.py file under the variable `github_token`\n",
    "# TODO: Add your github username to your env.py file under the variable `github_username`\n",
    "# TODO: Add more repositories to the `REPOS` list below.\n",
    "\n",
    "REPOS = [\n",
    " \n",
    " 'topkecleon/telegram-bot-bash',\n",
    " 'evil-mad/EggBot',\n",
    " 'telegram-bot-rb/telegram-bot',\n",
    " 'alfficcadenti/splinterlands-bot',\n",
    " 'nodeWechat/wechat4u',\n",
    " 'tucnak/telebot',\n",
    " 'CarlGroth/Carl-Bot',\n",
    " 'grapeot/WechatForwardBot',\n",
    " 'googleworkspace/hangouts-chat-samples',\n",
    " 'GreyWolfDev/Werewolf',\n",
    " 'abdelhai/awesome-bots',\n",
    " 'mdgspace/bot',\n",
    " 'Sank6/Discord-Bot-List',\n",
    " 'samc621/SneakerBot',\n",
    " 'boto/boto3-sample',\n",
    " 'huseinzol05/Stock-Prediction-Models',\n",
    " 'SAPConversationalAI/Webchat',\n",
    " 'soumyadityac/youtube-viewer',\n",
    " 'CodeWithJoe2020/pancakeswapBot',\n",
    " 'Merubokkusu/discord-spam-bots',\n",
    " 'ZeroDiscord/EconomyBot',\n",
    " 'scrapinghub/slackbot',\n",
    " 'baidu/boteye',\n",
    " 'kcloze/swoole-bot',\n",
    " 'hyperchessbot/hyperbot',\n",
    " 'yangyuan/hearthrock',\n",
    "]\n",
    "\n",
    "headers = {\"Authorization\": f\"token {github_token}\", \"User-Agent\": github_username}\n",
    "\n",
    "if headers[\"Authorization\"] == \"token \" or headers[\"User-Agent\"] == \"\":\n",
    "    raise Exception(\n",
    "        \"You need to follow the instructions marked TODO in this script before trying to use it\"\n",
    "    )\n",
    "\n",
    "\n",
    "def github_api_request(url: str) -> Union[List, Dict]:\n",
    "    response = requests.get(url, headers=headers)\n",
    "    response_data = response.json()\n",
    "    if response.status_code != 200:\n",
    "        raise Exception(\n",
    "            f\"Error response from github api! status code: {response.status_code}, \"\n",
    "            f\"response: {json.dumps(response_data)}\"\n",
    "        )\n",
    "    return response_data\n",
    "\n",
    "\n",
    "def get_repo_language(repo: str) -> str:\n",
    "    url = f\"https://api.github.com/repos/{repo}\"\n",
    "    repo_info = github_api_request(url)\n",
    "    if type(repo_info) is dict:\n",
    "        repo_info = cast(Dict, repo_info)\n",
    "        if \"language\" not in repo_info:\n",
    "            raise Exception(\n",
    "                \"'language' key not round in response\\n{}\".format(json.dumps(repo_info))\n",
    "            )\n",
    "        return repo_info[\"language\"]\n",
    "    raise Exception(\n",
    "        f\"Expecting a dictionary response from {url}, instead got {json.dumps(repo_info)}\"\n",
    "    )\n",
    "\n",
    "\n",
    "def get_repo_contents(repo: str) -> List[Dict[str, str]]:\n",
    "    url = f\"https://api.github.com/repos/{repo}/contents/\"\n",
    "    contents = github_api_request(url)\n",
    "    if type(contents) is list:\n",
    "        contents = cast(List, contents)\n",
    "        return contents\n",
    "    raise Exception(\n",
    "        f\"Expecting a list response from {url}, instead got {json.dumps(contents)}\"\n",
    "    )\n",
    "\n",
    "\n",
    "def get_readme_download_url(files: List[Dict[str, str]]) -> str:\n",
    "    \"\"\"\n",
    "    Takes in a response from the github api that lists the files in a repo and\n",
    "    returns the url that can be used to download the repo's README file.\n",
    "    \"\"\"\n",
    "    for file in files:\n",
    "        if file[\"name\"].lower().startswith(\"readme\"):\n",
    "            return file[\"download_url\"]\n",
    "    return \"\"\n",
    "\n",
    "\n",
    "def process_repo(repo: str) -> Dict[str, str]:\n",
    "    \"\"\"\n",
    "    Takes a repo name like \"gocodeup/codeup-setup-script\" and returns a\n",
    "    dictionary with the language of the repo and the readme contents.\n",
    "    \"\"\"\n",
    "    contents = get_repo_contents(repo)\n",
    "    readme_download_url = get_readme_download_url(contents)\n",
    "    if readme_download_url == \"\":\n",
    "        readme_contents = \"\"\n",
    "    else:\n",
    "        readme_contents = requests.get(readme_download_url).text\n",
    "    return {\n",
    "        \"repo\": repo,\n",
    "        \"language\": get_repo_language(repo),\n",
    "        \"readme_contents\": readme_contents,\n",
    "    }\n",
    "\n",
    "\n",
    "def scrape_github_data():\n",
    "    \"\"\"\n",
    "    This function checks for a local csv file of raw data. If a local csv exists it reads it \n",
    "    to a df.\n",
    "    \n",
    "    If no local csv of raw data exists, it loops through all of the repos in the REPOS list above and\n",
    "    and runs the process functions to scrape the repo name, language, and readme\n",
    "    contents. It then writes the resulting dictionary of lists to a df, returning\n",
    "    a dataframe of raw data. It then caches the raw data to a local csv file.\n",
    "    \"\"\"\n",
    "    if os.path.isfile('raw_data.csv'):\n",
    "        df = pd.read_csv('raw_data.csv')\n",
    "\n",
    "    else:\n",
    "        df = pd.DataFrame([process_repo(repo) for repo in REPOS])\n",
    "        df.to_csv('raw_data.csv')\n",
    "\n",
    "    return df\n",
    "\n",
    "\n",
    "if __name__ == \"__main__\":\n",
    "    data = scrape_github_data()\n",
    "    json.dump(data, open(\"data.json\", \"w\"), indent=1)"
   ]
  },
  {
   "cell_type": "code",
   "execution_count": null,
   "id": "67533e96",
   "metadata": {},
   "outputs": [],
   "source": []
  },
  {
   "cell_type": "code",
   "execution_count": 28,
   "id": "86546b05",
   "metadata": {},
   "outputs": [
    {
     "data": {
      "text/html": [
       "<div>\n",
       "<style scoped>\n",
       "    .dataframe tbody tr th:only-of-type {\n",
       "        vertical-align: middle;\n",
       "    }\n",
       "\n",
       "    .dataframe tbody tr th {\n",
       "        vertical-align: top;\n",
       "    }\n",
       "\n",
       "    .dataframe thead th {\n",
       "        text-align: right;\n",
       "    }\n",
       "</style>\n",
       "<table border=\"1\" class=\"dataframe\">\n",
       "  <thead>\n",
       "    <tr style=\"text-align: right;\">\n",
       "      <th></th>\n",
       "      <th>repo</th>\n",
       "      <th>language</th>\n",
       "      <th>readme_contents</th>\n",
       "    </tr>\n",
       "  </thead>\n",
       "  <tbody>\n",
       "    <tr>\n",
       "      <th>0</th>\n",
       "      <td>gocodeup/codeup-setup-script</td>\n",
       "      <td>Shell</td>\n",
       "      <td># Codeup Setup Script\\n\\nSetup script for Code...</td>\n",
       "    </tr>\n",
       "    <tr>\n",
       "      <th>1</th>\n",
       "      <td>gocodeup/movies-application</td>\n",
       "      <td>JavaScript</td>\n",
       "      <td># Movies Application\\n\\nFor this project, we w...</td>\n",
       "    </tr>\n",
       "    <tr>\n",
       "      <th>2</th>\n",
       "      <td>torvalds/linux</td>\n",
       "      <td>C</td>\n",
       "      <td>Linux kernel\\n============\\n\\nThere are severa...</td>\n",
       "    </tr>\n",
       "    <tr>\n",
       "      <th>3</th>\n",
       "      <td>jtleek/datasharing</td>\n",
       "      <td>None</td>\n",
       "      <td>How to share data with a statistician\\n=======...</td>\n",
       "    </tr>\n",
       "    <tr>\n",
       "      <th>4</th>\n",
       "      <td>rdpeng/ProgrammingAssignment2</td>\n",
       "      <td>R</td>\n",
       "      <td>### Introduction\\n\\nThis second programming as...</td>\n",
       "    </tr>\n",
       "  </tbody>\n",
       "</table>\n",
       "</div>"
      ],
      "text/plain": [
       "                            repo    language  \\\n",
       "0   gocodeup/codeup-setup-script       Shell   \n",
       "1    gocodeup/movies-application  JavaScript   \n",
       "2                 torvalds/linux           C   \n",
       "3             jtleek/datasharing        None   \n",
       "4  rdpeng/ProgrammingAssignment2           R   \n",
       "\n",
       "                                     readme_contents  \n",
       "0  # Codeup Setup Script\\n\\nSetup script for Code...  \n",
       "1  # Movies Application\\n\\nFor this project, we w...  \n",
       "2  Linux kernel\\n============\\n\\nThere are severa...  \n",
       "3  How to share data with a statistician\\n=======...  \n",
       "4  ### Introduction\\n\\nThis second programming as...  "
      ]
     },
     "execution_count": 28,
     "metadata": {},
     "output_type": "execute_result"
    }
   ],
   "source": [
    "df = pd.read_json('data.json')\n",
    "df.head()"
   ]
  },
  {
   "cell_type": "code",
   "execution_count": 30,
   "id": "e75faf35",
   "metadata": {},
   "outputs": [
    {
     "data": {
      "text/plain": [
       "JavaScript          62\n",
       "Python              49\n",
       "NaN                 32\n",
       "Java                21\n",
       "TypeScript          19\n",
       "C++                 17\n",
       "Go                  14\n",
       "HTML                12\n",
       "Jupyter Notebook    11\n",
       "C                    9\n",
       "CSS                  6\n",
       "C#                   6\n",
       "Dart                 6\n",
       "Vue                  5\n",
       "PHP                  5\n",
       "Shell                5\n",
       "PowerShell           2\n",
       "Ruby                 2\n",
       "Rich Text Format     2\n",
       "R                    2\n",
       "Kotlin               2\n",
       "Swift                2\n",
       "Jinja                1\n",
       "Lua                  1\n",
       "Objective-C          1\n",
       "Scala                1\n",
       "CoffeeScript         1\n",
       "Clojure              1\n",
       "OCaml                1\n",
       "Solidity             1\n",
       "Groovy               1\n",
       "ApacheConf           1\n",
       "Name: language, dtype: int64"
      ]
     },
     "execution_count": 30,
     "metadata": {},
     "output_type": "execute_result"
    }
   ],
   "source": [
    "df.language.value_counts(dropna=False)"
   ]
  },
  {
   "cell_type": "code",
   "execution_count": 31,
   "id": "e92020d3",
   "metadata": {},
   "outputs": [
    {
     "data": {
      "text/plain": [
       "(301, 3)"
      ]
     },
     "execution_count": 31,
     "metadata": {},
     "output_type": "execute_result"
    }
   ],
   "source": [
    "df.shape"
   ]
  },
  {
   "cell_type": "code",
   "execution_count": 2,
   "id": "f48ae6d6",
   "metadata": {},
   "outputs": [],
   "source": [
    "# unicode, regex, json for text digestion\n",
    "import unicodedata\n",
    "import re\n",
    "import json\n",
    "\n",
    "# nltk: natural language toolkit -> tokenization, stopwords (more on this soon)\n",
    "import nltk\n",
    "from nltk.tokenize.toktok import ToktokTokenizer\n",
    "from nltk.corpus import stopwords\n",
    "\n",
    "# pandas dataframe manipulation, acquire script, time formatting\n",
    "import pandas as pd\n",
    "import acquire\n",
    "from time import strftime\n",
    "\n",
    "# shh, down in front\n",
    "import warnings\n",
    "warnings.filterwarnings('ignore')"
   ]
  },
  {
   "cell_type": "code",
   "execution_count": 3,
   "id": "63cb703a",
   "metadata": {},
   "outputs": [],
   "source": [
    "def basic_clean(text):\n",
    "    text = text.lower()\n",
    "    text = unicodedata.normalize('NFKD', text).encode('ascii', 'ignore').decode('utf-8', 'ignore')\n",
    "    text = re.sub(r\"[^a-z0-9'\\s]\", '', text)\n",
    "    return text\n",
    "\n",
    "def tokenize(text):\n",
    "    tokenizer = nltk.tokenize.ToktokTokenizer()\n",
    "    text = tokenizer.tokenize(text, return_str=True)\n",
    "    return text\n",
    "\n",
    "def stem(text):\n",
    "    ps = nltk.porter.PorterStemmer()\n",
    "    stems = [ps.stem(word) for word in text.split()]\n",
    "    text = ' '.join(stems)\n",
    "    return text\n",
    "\n",
    "def lemmatize(text):\n",
    "    wnl = nltk.stem.WordNetLemmatizer()\n",
    "    lemmas = [wnl.lemmatize(word) for word in text.split()]\n",
    "    text = ' '.join(lemmas)\n",
    "    return text\n",
    "\n"
   ]
  },
  {
   "cell_type": "code",
   "execution_count": 35,
   "id": "0eef8d25",
   "metadata": {},
   "outputs": [
    {
     "data": {
      "text/html": [
       "<div>\n",
       "<style scoped>\n",
       "    .dataframe tbody tr th:only-of-type {\n",
       "        vertical-align: middle;\n",
       "    }\n",
       "\n",
       "    .dataframe tbody tr th {\n",
       "        vertical-align: top;\n",
       "    }\n",
       "\n",
       "    .dataframe thead th {\n",
       "        text-align: right;\n",
       "    }\n",
       "</style>\n",
       "<table border=\"1\" class=\"dataframe\">\n",
       "  <thead>\n",
       "    <tr style=\"text-align: right;\">\n",
       "      <th></th>\n",
       "      <th>repo</th>\n",
       "      <th>language</th>\n",
       "      <th>readme_contents</th>\n",
       "      <th>clean</th>\n",
       "      <th>stemmed</th>\n",
       "    </tr>\n",
       "  </thead>\n",
       "  <tbody>\n",
       "    <tr>\n",
       "      <th>0</th>\n",
       "      <td>gocodeup/codeup-setup-script</td>\n",
       "      <td>Shell</td>\n",
       "      <td># Codeup Setup Script\\n\\nSetup script for Code...</td>\n",
       "      <td>codeup setup script\\n\\nsetup script for codeu...</td>\n",
       "      <td>codeup setup script setup script for codeup st...</td>\n",
       "    </tr>\n",
       "    <tr>\n",
       "      <th>1</th>\n",
       "      <td>gocodeup/movies-application</td>\n",
       "      <td>JavaScript</td>\n",
       "      <td># Movies Application\\n\\nFor this project, we w...</td>\n",
       "      <td>movies application\\n\\nfor this project we wil...</td>\n",
       "      <td>movi applic for thi project we will be build a...</td>\n",
       "    </tr>\n",
       "    <tr>\n",
       "      <th>2</th>\n",
       "      <td>torvalds/linux</td>\n",
       "      <td>C</td>\n",
       "      <td>Linux kernel\\n============\\n\\nThere are severa...</td>\n",
       "      <td>linux kernel\\n\\n\\nthere are several guides for...</td>\n",
       "      <td>linux kernel there are sever guid for kernel d...</td>\n",
       "    </tr>\n",
       "    <tr>\n",
       "      <th>3</th>\n",
       "      <td>jtleek/datasharing</td>\n",
       "      <td>None</td>\n",
       "      <td>How to share data with a statistician\\n=======...</td>\n",
       "      <td>how to share data with a statistician\\n\\n\\nthi...</td>\n",
       "      <td>how to share data with a statistician thi is a...</td>\n",
       "    </tr>\n",
       "    <tr>\n",
       "      <th>4</th>\n",
       "      <td>rdpeng/ProgrammingAssignment2</td>\n",
       "      <td>R</td>\n",
       "      <td>### Introduction\\n\\nThis second programming as...</td>\n",
       "      <td>introduction\\n\\nthis second programming assig...</td>\n",
       "      <td>introduct thi second program assign will requi...</td>\n",
       "    </tr>\n",
       "  </tbody>\n",
       "</table>\n",
       "</div>"
      ],
      "text/plain": [
       "                            repo    language  \\\n",
       "0   gocodeup/codeup-setup-script       Shell   \n",
       "1    gocodeup/movies-application  JavaScript   \n",
       "2                 torvalds/linux           C   \n",
       "3             jtleek/datasharing        None   \n",
       "4  rdpeng/ProgrammingAssignment2           R   \n",
       "\n",
       "                                     readme_contents  \\\n",
       "0  # Codeup Setup Script\\n\\nSetup script for Code...   \n",
       "1  # Movies Application\\n\\nFor this project, we w...   \n",
       "2  Linux kernel\\n============\\n\\nThere are severa...   \n",
       "3  How to share data with a statistician\\n=======...   \n",
       "4  ### Introduction\\n\\nThis second programming as...   \n",
       "\n",
       "                                               clean  \\\n",
       "0   codeup setup script\\n\\nsetup script for codeu...   \n",
       "1   movies application\\n\\nfor this project we wil...   \n",
       "2  linux kernel\\n\\n\\nthere are several guides for...   \n",
       "3  how to share data with a statistician\\n\\n\\nthi...   \n",
       "4   introduction\\n\\nthis second programming assig...   \n",
       "\n",
       "                                             stemmed  \n",
       "0  codeup setup script setup script for codeup st...  \n",
       "1  movi applic for thi project we will be build a...  \n",
       "2  linux kernel there are sever guid for kernel d...  \n",
       "3  how to share data with a statistician thi is a...  \n",
       "4  introduct thi second program assign will requi...  "
      ]
     },
     "execution_count": 35,
     "metadata": {},
     "output_type": "execute_result"
    }
   ],
   "source": [
    "df['clean'] = df.readme_contents.apply(basic_clean)\n",
    "tokenized_df = df.clean.apply(tokenize)\n",
    "df['stemmed'] = tokenized_df.apply(stem)\n",
    "df.head()"
   ]
  },
  {
   "cell_type": "code",
   "execution_count": 36,
   "id": "b8fdcc2c",
   "metadata": {},
   "outputs": [
    {
     "data": {
      "text/plain": [
       "pandas.core.series.Series"
      ]
     },
     "execution_count": 36,
     "metadata": {},
     "output_type": "execute_result"
    }
   ],
   "source": [
    "type(df.clean)"
   ]
  },
  {
   "cell_type": "code",
   "execution_count": 37,
   "id": "cb6d94e6",
   "metadata": {},
   "outputs": [
    {
     "data": {
      "text/plain": [
       "pandas.core.series.Series"
      ]
     },
     "execution_count": 37,
     "metadata": {},
     "output_type": "execute_result"
    }
   ],
   "source": [
    "type(df.readme_contents)"
   ]
  },
  {
   "cell_type": "code",
   "execution_count": 38,
   "id": "5fb70933",
   "metadata": {},
   "outputs": [
    {
     "name": "stdout",
     "output_type": "stream",
     "text": [
      "<class 'pandas.core.frame.DataFrame'>\n",
      "RangeIndex: 301 entries, 0 to 300\n",
      "Data columns (total 5 columns):\n",
      " #   Column           Non-Null Count  Dtype \n",
      "---  ------           --------------  ----- \n",
      " 0   repo             301 non-null    object\n",
      " 1   language         269 non-null    object\n",
      " 2   readme_contents  301 non-null    object\n",
      " 3   clean            301 non-null    object\n",
      " 4   stemmed          301 non-null    object\n",
      "dtypes: object(5)\n",
      "memory usage: 11.9+ KB\n"
     ]
    }
   ],
   "source": [
    "df.info()"
   ]
  },
  {
   "cell_type": "code",
   "execution_count": 4,
   "id": "b1b4d01e",
   "metadata": {},
   "outputs": [],
   "source": [
    "import matt_prepare"
   ]
  },
  {
   "cell_type": "code",
   "execution_count": 5,
   "id": "7eab598b",
   "metadata": {},
   "outputs": [],
   "source": [
    "df = matt_prepare.clean_df()"
   ]
  },
  {
   "cell_type": "code",
   "execution_count": 6,
   "id": "7a549c9e",
   "metadata": {},
   "outputs": [
    {
     "data": {
      "text/html": [
       "<div>\n",
       "<style scoped>\n",
       "    .dataframe tbody tr th:only-of-type {\n",
       "        vertical-align: middle;\n",
       "    }\n",
       "\n",
       "    .dataframe tbody tr th {\n",
       "        vertical-align: top;\n",
       "    }\n",
       "\n",
       "    .dataframe thead th {\n",
       "        text-align: right;\n",
       "    }\n",
       "</style>\n",
       "<table border=\"1\" class=\"dataframe\">\n",
       "  <thead>\n",
       "    <tr style=\"text-align: right;\">\n",
       "      <th></th>\n",
       "      <th>repo</th>\n",
       "      <th>language</th>\n",
       "      <th>readme_contents</th>\n",
       "      <th>clean</th>\n",
       "      <th>stemmed</th>\n",
       "      <th>lemmatized</th>\n",
       "      <th>character_count</th>\n",
       "      <th>word_count</th>\n",
       "    </tr>\n",
       "  </thead>\n",
       "  <tbody>\n",
       "    <tr>\n",
       "      <th>0</th>\n",
       "      <td>gocodeup/codeup-setup-script</td>\n",
       "      <td>Shell</td>\n",
       "      <td># Codeup Setup Script\\n\\nSetup script for Code...</td>\n",
       "      <td>codeup setup script setup script codeup studen...</td>\n",
       "      <td>codeup setup script setup script codeup studen...</td>\n",
       "      <td>codeup setup script setup script codeup studen...</td>\n",
       "      <td>1062</td>\n",
       "      <td>119</td>\n",
       "    </tr>\n",
       "    <tr>\n",
       "      <th>1</th>\n",
       "      <td>gocodeup/movies-application</td>\n",
       "      <td>JavaScript</td>\n",
       "      <td># Movies Application\\n\\nFor this project, we w...</td>\n",
       "      <td>movies application project building single pag...</td>\n",
       "      <td>movi applic project build singl page movi appl...</td>\n",
       "      <td>movie application project building single page...</td>\n",
       "      <td>2888</td>\n",
       "      <td>411</td>\n",
       "    </tr>\n",
       "    <tr>\n",
       "      <th>2</th>\n",
       "      <td>torvalds/linux</td>\n",
       "      <td>C</td>\n",
       "      <td>Linux kernel\\n============\\n\\nThere are severa...</td>\n",
       "      <td>linux kernel several guides kernel developers ...</td>\n",
       "      <td>linux kernel sever guid kernel develop user gu...</td>\n",
       "      <td>linux kernel several guide kernel developer us...</td>\n",
       "      <td>505</td>\n",
       "      <td>58</td>\n",
       "    </tr>\n",
       "    <tr>\n",
       "      <th>4</th>\n",
       "      <td>rdpeng/ProgrammingAssignment2</td>\n",
       "      <td>R</td>\n",
       "      <td>### Introduction\\n\\nThis second programming as...</td>\n",
       "      <td>introduction second programming assignment req...</td>\n",
       "      <td>introduct second program assign requir write r...</td>\n",
       "      <td>introduction second programming assignment req...</td>\n",
       "      <td>2488</td>\n",
       "      <td>332</td>\n",
       "    </tr>\n",
       "    <tr>\n",
       "      <th>5</th>\n",
       "      <td>octocat/Spoon-Knife</td>\n",
       "      <td>HTML</td>\n",
       "      <td>### Well hello there!\\n\\nThis repository is me...</td>\n",
       "      <td>well hello repository meant provide example fo...</td>\n",
       "      <td>well hello repositori meant provid exampl fork...</td>\n",
       "      <td>well hello repository meant provide example fo...</td>\n",
       "      <td>519</td>\n",
       "      <td>60</td>\n",
       "    </tr>\n",
       "  </tbody>\n",
       "</table>\n",
       "</div>"
      ],
      "text/plain": [
       "                            repo    language  \\\n",
       "0   gocodeup/codeup-setup-script       Shell   \n",
       "1    gocodeup/movies-application  JavaScript   \n",
       "2                 torvalds/linux           C   \n",
       "4  rdpeng/ProgrammingAssignment2           R   \n",
       "5            octocat/Spoon-Knife        HTML   \n",
       "\n",
       "                                     readme_contents  \\\n",
       "0  # Codeup Setup Script\\n\\nSetup script for Code...   \n",
       "1  # Movies Application\\n\\nFor this project, we w...   \n",
       "2  Linux kernel\\n============\\n\\nThere are severa...   \n",
       "4  ### Introduction\\n\\nThis second programming as...   \n",
       "5  ### Well hello there!\\n\\nThis repository is me...   \n",
       "\n",
       "                                               clean  \\\n",
       "0  codeup setup script setup script codeup studen...   \n",
       "1  movies application project building single pag...   \n",
       "2  linux kernel several guides kernel developers ...   \n",
       "4  introduction second programming assignment req...   \n",
       "5  well hello repository meant provide example fo...   \n",
       "\n",
       "                                             stemmed  \\\n",
       "0  codeup setup script setup script codeup studen...   \n",
       "1  movi applic project build singl page movi appl...   \n",
       "2  linux kernel sever guid kernel develop user gu...   \n",
       "4  introduct second program assign requir write r...   \n",
       "5  well hello repositori meant provid exampl fork...   \n",
       "\n",
       "                                          lemmatized  character_count  \\\n",
       "0  codeup setup script setup script codeup studen...             1062   \n",
       "1  movie application project building single page...             2888   \n",
       "2  linux kernel several guide kernel developer us...              505   \n",
       "4  introduction second programming assignment req...             2488   \n",
       "5  well hello repository meant provide example fo...              519   \n",
       "\n",
       "   word_count  \n",
       "0         119  \n",
       "1         411  \n",
       "2          58  \n",
       "4         332  \n",
       "5          60  "
      ]
     },
     "execution_count": 6,
     "metadata": {},
     "output_type": "execute_result"
    }
   ],
   "source": [
    "df.head()"
   ]
  },
  {
   "cell_type": "code",
   "execution_count": 7,
   "id": "2ba07aa9",
   "metadata": {},
   "outputs": [
    {
     "data": {
      "text/plain": [
       "JavaScript          62\n",
       "Python              49\n",
       "Java                21\n",
       "TypeScript          19\n",
       "C++                 17\n",
       "Go                  14\n",
       "HTML                12\n",
       "Jupyter Notebook    11\n",
       "C                    9\n",
       "CSS                  6\n",
       "C#                   6\n",
       "Dart                 6\n",
       "Vue                  5\n",
       "PHP                  5\n",
       "Shell                5\n",
       "PowerShell           2\n",
       "Ruby                 2\n",
       "Rich Text Format     2\n",
       "R                    2\n",
       "Kotlin               2\n",
       "Swift                2\n",
       "Jinja                1\n",
       "Lua                  1\n",
       "Objective-C          1\n",
       "Scala                1\n",
       "CoffeeScript         1\n",
       "Clojure              1\n",
       "OCaml                1\n",
       "Solidity             1\n",
       "Groovy               1\n",
       "ApacheConf           1\n",
       "Name: language, dtype: int64"
      ]
     },
     "execution_count": 7,
     "metadata": {},
     "output_type": "execute_result"
    }
   ],
   "source": [
    "df.language.value_counts(dropna=False)"
   ]
  },
  {
   "cell_type": "code",
   "execution_count": 8,
   "id": "45243005",
   "metadata": {},
   "outputs": [
    {
     "data": {
      "text/plain": [
       "(269, 8)"
      ]
     },
     "execution_count": 8,
     "metadata": {},
     "output_type": "execute_result"
    }
   ],
   "source": [
    "df.shape"
   ]
  },
  {
   "cell_type": "code",
   "execution_count": 9,
   "id": "bb060281",
   "metadata": {},
   "outputs": [],
   "source": [
    "df = df.dropna()"
   ]
  },
  {
   "cell_type": "code",
   "execution_count": 10,
   "id": "ec780f61",
   "metadata": {},
   "outputs": [
    {
     "data": {
      "text/plain": [
       "(269, 8)"
      ]
     },
     "execution_count": 10,
     "metadata": {},
     "output_type": "execute_result"
    }
   ],
   "source": [
    "df.shape"
   ]
  },
  {
   "cell_type": "code",
   "execution_count": 11,
   "id": "86c8c619",
   "metadata": {},
   "outputs": [
    {
     "data": {
      "text/html": [
       "<div>\n",
       "<style scoped>\n",
       "    .dataframe tbody tr th:only-of-type {\n",
       "        vertical-align: middle;\n",
       "    }\n",
       "\n",
       "    .dataframe tbody tr th {\n",
       "        vertical-align: top;\n",
       "    }\n",
       "\n",
       "    .dataframe thead th {\n",
       "        text-align: right;\n",
       "    }\n",
       "</style>\n",
       "<table border=\"1\" class=\"dataframe\">\n",
       "  <thead>\n",
       "    <tr style=\"text-align: right;\">\n",
       "      <th></th>\n",
       "      <th>repo</th>\n",
       "      <th>language</th>\n",
       "      <th>readme_contents</th>\n",
       "      <th>clean</th>\n",
       "      <th>stemmed</th>\n",
       "      <th>lemmatized</th>\n",
       "      <th>character_count</th>\n",
       "      <th>word_count</th>\n",
       "    </tr>\n",
       "  </thead>\n",
       "  <tbody>\n",
       "    <tr>\n",
       "      <th>0</th>\n",
       "      <td>gocodeup/codeup-setup-script</td>\n",
       "      <td>Shell</td>\n",
       "      <td># Codeup Setup Script\\n\\nSetup script for Code...</td>\n",
       "      <td>codeup setup script setup script codeup studen...</td>\n",
       "      <td>codeup setup script setup script codeup studen...</td>\n",
       "      <td>codeup setup script setup script codeup studen...</td>\n",
       "      <td>1062</td>\n",
       "      <td>119</td>\n",
       "    </tr>\n",
       "    <tr>\n",
       "      <th>1</th>\n",
       "      <td>gocodeup/movies-application</td>\n",
       "      <td>JavaScript</td>\n",
       "      <td># Movies Application\\n\\nFor this project, we w...</td>\n",
       "      <td>movies application project building single pag...</td>\n",
       "      <td>movi applic project build singl page movi appl...</td>\n",
       "      <td>movie application project building single page...</td>\n",
       "      <td>2888</td>\n",
       "      <td>411</td>\n",
       "    </tr>\n",
       "    <tr>\n",
       "      <th>2</th>\n",
       "      <td>torvalds/linux</td>\n",
       "      <td>C</td>\n",
       "      <td>Linux kernel\\n============\\n\\nThere are severa...</td>\n",
       "      <td>linux kernel several guides kernel developers ...</td>\n",
       "      <td>linux kernel sever guid kernel develop user gu...</td>\n",
       "      <td>linux kernel several guide kernel developer us...</td>\n",
       "      <td>505</td>\n",
       "      <td>58</td>\n",
       "    </tr>\n",
       "    <tr>\n",
       "      <th>4</th>\n",
       "      <td>rdpeng/ProgrammingAssignment2</td>\n",
       "      <td>R</td>\n",
       "      <td>### Introduction\\n\\nThis second programming as...</td>\n",
       "      <td>introduction second programming assignment req...</td>\n",
       "      <td>introduct second program assign requir write r...</td>\n",
       "      <td>introduction second programming assignment req...</td>\n",
       "      <td>2488</td>\n",
       "      <td>332</td>\n",
       "    </tr>\n",
       "    <tr>\n",
       "      <th>5</th>\n",
       "      <td>octocat/Spoon-Knife</td>\n",
       "      <td>HTML</td>\n",
       "      <td>### Well hello there!\\n\\nThis repository is me...</td>\n",
       "      <td>well hello repository meant provide example fo...</td>\n",
       "      <td>well hello repositori meant provid exampl fork...</td>\n",
       "      <td>well hello repository meant provide example fo...</td>\n",
       "      <td>519</td>\n",
       "      <td>60</td>\n",
       "    </tr>\n",
       "  </tbody>\n",
       "</table>\n",
       "</div>"
      ],
      "text/plain": [
       "                            repo    language  \\\n",
       "0   gocodeup/codeup-setup-script       Shell   \n",
       "1    gocodeup/movies-application  JavaScript   \n",
       "2                 torvalds/linux           C   \n",
       "4  rdpeng/ProgrammingAssignment2           R   \n",
       "5            octocat/Spoon-Knife        HTML   \n",
       "\n",
       "                                     readme_contents  \\\n",
       "0  # Codeup Setup Script\\n\\nSetup script for Code...   \n",
       "1  # Movies Application\\n\\nFor this project, we w...   \n",
       "2  Linux kernel\\n============\\n\\nThere are severa...   \n",
       "4  ### Introduction\\n\\nThis second programming as...   \n",
       "5  ### Well hello there!\\n\\nThis repository is me...   \n",
       "\n",
       "                                               clean  \\\n",
       "0  codeup setup script setup script codeup studen...   \n",
       "1  movies application project building single pag...   \n",
       "2  linux kernel several guides kernel developers ...   \n",
       "4  introduction second programming assignment req...   \n",
       "5  well hello repository meant provide example fo...   \n",
       "\n",
       "                                             stemmed  \\\n",
       "0  codeup setup script setup script codeup studen...   \n",
       "1  movi applic project build singl page movi appl...   \n",
       "2  linux kernel sever guid kernel develop user gu...   \n",
       "4  introduct second program assign requir write r...   \n",
       "5  well hello repositori meant provid exampl fork...   \n",
       "\n",
       "                                          lemmatized  character_count  \\\n",
       "0  codeup setup script setup script codeup studen...             1062   \n",
       "1  movie application project building single page...             2888   \n",
       "2  linux kernel several guide kernel developer us...              505   \n",
       "4  introduction second programming assignment req...             2488   \n",
       "5  well hello repository meant provide example fo...              519   \n",
       "\n",
       "   word_count  \n",
       "0         119  \n",
       "1         411  \n",
       "2          58  \n",
       "4         332  \n",
       "5          60  "
      ]
     },
     "execution_count": 11,
     "metadata": {},
     "output_type": "execute_result"
    }
   ],
   "source": [
    "df.head()"
   ]
  },
  {
   "cell_type": "code",
   "execution_count": 16,
   "id": "b91464ee",
   "metadata": {},
   "outputs": [
    {
     "data": {
      "text/plain": [
       "other         101\n",
       "JavaScript     62\n",
       "Python         49\n",
       "Java           21\n",
       "TypeScript     19\n",
       "C++            17\n",
       "Name: top_five, dtype: int64"
      ]
     },
     "execution_count": 16,
     "metadata": {},
     "output_type": "execute_result"
    }
   ],
   "source": [
    "import numpy as np\n",
    "top_five = ['JavaScript', 'Python', 'Java', 'TypeScript', 'C++']\n",
    "df['top_five_languages'] = np.where(df.language.isin(top_five), df.language, 'other')\n",
    "df.top_five.value_counts()"
   ]
  },
  {
   "cell_type": "code",
   "execution_count": null,
   "id": "eae9a413",
   "metadata": {},
   "outputs": [],
   "source": []
  },
  {
   "cell_type": "code",
   "execution_count": 162,
   "id": "c84a4606",
   "metadata": {},
   "outputs": [],
   "source": [
    "import matt_prepare\n",
    "from requests import get\n",
    "from bs4 import BeautifulSoup\n",
    "import pandas as pd\n",
    "import numpy as np\n",
    "# unicode, regex, json for text digestion\n",
    "import unicodedata\n",
    "import re\n",
    "import json\n",
    "\n",
    "# nltk: natural language toolkit -> tokenization, stopwords (more on this soon)\n",
    "import nltk\n",
    "from nltk.tokenize.toktok import ToktokTokenizer\n",
    "from nltk.corpus import stopwords\n",
    "\n",
    "# pandas dataframe manipulation, acquire script, time formatting\n",
    "import pandas as pd\n",
    "import acquire\n",
    "from time import strftime\n",
    "\n",
    "# shh, down in front\n",
    "import warnings\n",
    "warnings.filterwarnings('ignore')\n",
    "\n",
    "from sklearn.model_selection import train_test_split\n",
    "from sklearn.tree import DecisionTreeClassifier\n",
    "from sklearn.feature_extraction.text import TfidfVectorizer\n",
    "from sklearn.feature_extraction.text import CountVectorizer\n",
    "from sklearn.linear_model import LogisticRegression\n",
    "from sklearn.neighbors import KNeighborsClassifier \n",
    "from sklearn.ensemble import RandomForestClassifier\n",
    "from sklearn.metrics import classification_report\n",
    "from sklearn.metrics import confusion_matrix"
   ]
  },
  {
   "cell_type": "code",
   "execution_count": 2,
   "id": "8ebcbed0",
   "metadata": {},
   "outputs": [
    {
     "data": {
      "text/html": [
       "<div>\n",
       "<style scoped>\n",
       "    .dataframe tbody tr th:only-of-type {\n",
       "        vertical-align: middle;\n",
       "    }\n",
       "\n",
       "    .dataframe tbody tr th {\n",
       "        vertical-align: top;\n",
       "    }\n",
       "\n",
       "    .dataframe thead th {\n",
       "        text-align: right;\n",
       "    }\n",
       "</style>\n",
       "<table border=\"1\" class=\"dataframe\">\n",
       "  <thead>\n",
       "    <tr style=\"text-align: right;\">\n",
       "      <th></th>\n",
       "      <th>repo</th>\n",
       "      <th>language</th>\n",
       "      <th>readme_contents</th>\n",
       "      <th>clean</th>\n",
       "      <th>stemmed</th>\n",
       "      <th>lemmatized</th>\n",
       "      <th>character_count</th>\n",
       "      <th>word_count</th>\n",
       "      <th>top_five_languages</th>\n",
       "    </tr>\n",
       "  </thead>\n",
       "  <tbody>\n",
       "    <tr>\n",
       "      <th>0</th>\n",
       "      <td>gocodeup/codeup-setup-script</td>\n",
       "      <td>Shell</td>\n",
       "      <td># Codeup Setup Script\\n\\nSetup script for Code...</td>\n",
       "      <td>codeup setup script setup script codeup studen...</td>\n",
       "      <td>codeup setup script setup script codeup studen...</td>\n",
       "      <td>codeup setup script setup script codeup studen...</td>\n",
       "      <td>1062</td>\n",
       "      <td>119</td>\n",
       "      <td>other</td>\n",
       "    </tr>\n",
       "    <tr>\n",
       "      <th>1</th>\n",
       "      <td>gocodeup/movies-application</td>\n",
       "      <td>JavaScript</td>\n",
       "      <td># Movies Application\\n\\nFor this project, we w...</td>\n",
       "      <td>movies application project building single pag...</td>\n",
       "      <td>movi applic project build singl page movi appl...</td>\n",
       "      <td>movie application project building single page...</td>\n",
       "      <td>2888</td>\n",
       "      <td>411</td>\n",
       "      <td>JavaScript</td>\n",
       "    </tr>\n",
       "    <tr>\n",
       "      <th>2</th>\n",
       "      <td>torvalds/linux</td>\n",
       "      <td>C</td>\n",
       "      <td>Linux kernel\\n============\\n\\nThere are severa...</td>\n",
       "      <td>linux kernel several guides kernel developers ...</td>\n",
       "      <td>linux kernel sever guid kernel develop user gu...</td>\n",
       "      <td>linux kernel several guide kernel developer us...</td>\n",
       "      <td>505</td>\n",
       "      <td>58</td>\n",
       "      <td>other</td>\n",
       "    </tr>\n",
       "    <tr>\n",
       "      <th>4</th>\n",
       "      <td>rdpeng/ProgrammingAssignment2</td>\n",
       "      <td>R</td>\n",
       "      <td>### Introduction\\n\\nThis second programming as...</td>\n",
       "      <td>introduction second programming assignment req...</td>\n",
       "      <td>introduct second program assign requir write r...</td>\n",
       "      <td>introduction second programming assignment req...</td>\n",
       "      <td>2488</td>\n",
       "      <td>332</td>\n",
       "      <td>other</td>\n",
       "    </tr>\n",
       "    <tr>\n",
       "      <th>5</th>\n",
       "      <td>octocat/Spoon-Knife</td>\n",
       "      <td>HTML</td>\n",
       "      <td>### Well hello there!\\n\\nThis repository is me...</td>\n",
       "      <td>well hello repository meant provide example fo...</td>\n",
       "      <td>well hello repositori meant provid exampl fork...</td>\n",
       "      <td>well hello repository meant provide example fo...</td>\n",
       "      <td>519</td>\n",
       "      <td>60</td>\n",
       "      <td>other</td>\n",
       "    </tr>\n",
       "  </tbody>\n",
       "</table>\n",
       "</div>"
      ],
      "text/plain": [
       "                            repo    language  \\\n",
       "0   gocodeup/codeup-setup-script       Shell   \n",
       "1    gocodeup/movies-application  JavaScript   \n",
       "2                 torvalds/linux           C   \n",
       "4  rdpeng/ProgrammingAssignment2           R   \n",
       "5            octocat/Spoon-Knife        HTML   \n",
       "\n",
       "                                     readme_contents  \\\n",
       "0  # Codeup Setup Script\\n\\nSetup script for Code...   \n",
       "1  # Movies Application\\n\\nFor this project, we w...   \n",
       "2  Linux kernel\\n============\\n\\nThere are severa...   \n",
       "4  ### Introduction\\n\\nThis second programming as...   \n",
       "5  ### Well hello there!\\n\\nThis repository is me...   \n",
       "\n",
       "                                               clean  \\\n",
       "0  codeup setup script setup script codeup studen...   \n",
       "1  movies application project building single pag...   \n",
       "2  linux kernel several guides kernel developers ...   \n",
       "4  introduction second programming assignment req...   \n",
       "5  well hello repository meant provide example fo...   \n",
       "\n",
       "                                             stemmed  \\\n",
       "0  codeup setup script setup script codeup studen...   \n",
       "1  movi applic project build singl page movi appl...   \n",
       "2  linux kernel sever guid kernel develop user gu...   \n",
       "4  introduct second program assign requir write r...   \n",
       "5  well hello repositori meant provid exampl fork...   \n",
       "\n",
       "                                          lemmatized  character_count  \\\n",
       "0  codeup setup script setup script codeup studen...             1062   \n",
       "1  movie application project building single page...             2888   \n",
       "2  linux kernel several guide kernel developer us...              505   \n",
       "4  introduction second programming assignment req...             2488   \n",
       "5  well hello repository meant provide example fo...              519   \n",
       "\n",
       "   word_count top_five_languages  \n",
       "0         119              other  \n",
       "1         411         JavaScript  \n",
       "2          58              other  \n",
       "4         332              other  \n",
       "5          60              other  "
      ]
     },
     "execution_count": 2,
     "metadata": {},
     "output_type": "execute_result"
    }
   ],
   "source": [
    "df = matt_prepare.clean_df()\n",
    "df.head()"
   ]
  },
  {
   "cell_type": "code",
   "execution_count": 3,
   "id": "a8e46ac8",
   "metadata": {},
   "outputs": [
    {
     "data": {
      "text/plain": [
       "other         101\n",
       "JavaScript     62\n",
       "Python         49\n",
       "Java           21\n",
       "TypeScript     19\n",
       "C++            17\n",
       "Name: top_five_languages, dtype: int64"
      ]
     },
     "execution_count": 3,
     "metadata": {},
     "output_type": "execute_result"
    }
   ],
   "source": [
    "df.top_five_languages.value_counts()"
   ]
  },
  {
   "cell_type": "code",
   "execution_count": 95,
   "id": "be8406fc",
   "metadata": {},
   "outputs": [
    {
     "data": {
      "text/plain": [
       "0.3754646840148699"
      ]
     },
     "execution_count": 95,
     "metadata": {},
     "output_type": "execute_result"
    }
   ],
   "source": [
    "#baseline\n",
    "101 / df.shape[0]"
   ]
  },
  {
   "cell_type": "code",
   "execution_count": 101,
   "id": "20fa8fc8",
   "metadata": {},
   "outputs": [
    {
     "data": {
      "text/plain": [
       "(269, 9)"
      ]
     },
     "execution_count": 101,
     "metadata": {},
     "output_type": "execute_result"
    }
   ],
   "source": [
    "df.shape"
   ]
  },
  {
   "cell_type": "code",
   "execution_count": null,
   "id": "7dd98053",
   "metadata": {},
   "outputs": [],
   "source": []
  },
  {
   "cell_type": "code",
   "execution_count": 4,
   "id": "ced5c4eb",
   "metadata": {},
   "outputs": [
    {
     "data": {
      "text/plain": [
       "((150, 9), (65, 9), (54, 9))"
      ]
     },
     "execution_count": 4,
     "metadata": {},
     "output_type": "execute_result"
    }
   ],
   "source": [
    "train, validate, test = matt_prepare.split_data(df)\n",
    "train.shape, validate.shape, test.shape"
   ]
  },
  {
   "cell_type": "code",
   "execution_count": 6,
   "id": "01ba2270",
   "metadata": {},
   "outputs": [
    {
     "data": {
      "text/plain": [
       "252    py repository store sample python program repo...\n",
       "119    hrefhttpsreduxjsorgimg srchttpscamogithubuserc...\n",
       "240    deprecated use floatingactionbuttonhttpsdevelo...\n",
       "69     h1 stylecolor redthis repo deprecated due chan...\n",
       "95     threejs npm packagenpmnpmurl build sizebuildsi...\n",
       "Name: lemmatized, dtype: object"
      ]
     },
     "execution_count": 6,
     "metadata": {},
     "output_type": "execute_result"
    }
   ],
   "source": [
    "X_train = train.lemmatized\n",
    "y_train = train.top_five_languages\n",
    "X_train.head()"
   ]
  },
  {
   "cell_type": "code",
   "execution_count": 8,
   "id": "906372e9",
   "metadata": {},
   "outputs": [
    {
     "data": {
      "text/plain": [
       "252         other\n",
       "119    TypeScript\n",
       "240          Java\n",
       "69         Python\n",
       "95     JavaScript\n",
       "Name: top_five_languages, dtype: object"
      ]
     },
     "execution_count": 8,
     "metadata": {},
     "output_type": "execute_result"
    }
   ],
   "source": [
    "y_train.head()"
   ]
  },
  {
   "cell_type": "code",
   "execution_count": 9,
   "id": "8e59f2b7",
   "metadata": {},
   "outputs": [],
   "source": [
    "X_train = train.lemmatized\n",
    "y_train = train.top_five_languages\n",
    "X_val = validate.lemmatized\n",
    "y_val = validate.top_five_languages\n",
    "X_test = test.lemmatized\n",
    "y_test = test.top_five_languages"
   ]
  },
  {
   "cell_type": "code",
   "execution_count": 12,
   "id": "e38f073e",
   "metadata": {},
   "outputs": [
    {
     "data": {
      "text/plain": [
       "<150x21147 sparse matrix of type '<class 'numpy.int64'>'\n",
       "\twith 45581 stored elements in Compressed Sparse Row format>"
      ]
     },
     "execution_count": 12,
     "metadata": {},
     "output_type": "execute_result"
    }
   ],
   "source": [
    "cv = CountVectorizer()\n",
    "X_bow = cv.fit_transform(X_train)\n",
    "X_bow"
   ]
  },
  {
   "cell_type": "code",
   "execution_count": 13,
   "id": "14b0b2bd",
   "metadata": {},
   "outputs": [
    {
     "data": {
      "text/plain": [
       "<150x21147 sparse matrix of type '<class 'numpy.float64'>'\n",
       "\twith 45581 stored elements in Compressed Sparse Row format>"
      ]
     },
     "execution_count": 13,
     "metadata": {},
     "output_type": "execute_result"
    }
   ],
   "source": [
    "tfidf = TfidfVectorizer()\n",
    "X_tfidf = tfidf.fit_transform(X_train)\n",
    "X_tfidf"
   ]
  },
  {
   "cell_type": "code",
   "execution_count": 14,
   "id": "d87e801e",
   "metadata": {},
   "outputs": [
    {
     "data": {
      "text/plain": [
       "0.8066666666666666"
      ]
     },
     "execution_count": 14,
     "metadata": {},
     "output_type": "execute_result"
    }
   ],
   "source": [
    "tree = DecisionTreeClassifier(max_depth=5)\n",
    "tree.fit(X_bow, y_train)\n",
    "tree.score(X_bow, y_train)"
   ]
  },
  {
   "cell_type": "code",
   "execution_count": 15,
   "id": "7fd0aff4",
   "metadata": {},
   "outputs": [
    {
     "data": {
      "text/plain": [
       "0.8133333333333334"
      ]
     },
     "execution_count": 15,
     "metadata": {},
     "output_type": "execute_result"
    }
   ],
   "source": [
    "tree.fit(X_tfidf, y_train)\n",
    "tree.score(X_tfidf, y_train)"
   ]
  },
  {
   "cell_type": "code",
   "execution_count": 16,
   "id": "c9a968b4",
   "metadata": {},
   "outputs": [
    {
     "data": {
      "text/plain": [
       "0.9066666666666666"
      ]
     },
     "execution_count": 16,
     "metadata": {},
     "output_type": "execute_result"
    }
   ],
   "source": [
    "tree = DecisionTreeClassifier(max_depth=10)\n",
    "tree.fit(X_bow, y_train)\n",
    "tree.score(X_bow, y_train)"
   ]
  },
  {
   "cell_type": "code",
   "execution_count": 17,
   "id": "03bfb28f",
   "metadata": {},
   "outputs": [
    {
     "data": {
      "text/plain": [
       "0.9266666666666666"
      ]
     },
     "execution_count": 17,
     "metadata": {},
     "output_type": "execute_result"
    }
   ],
   "source": [
    "tree.fit(X_tfidf, y_train)\n",
    "tree.score(X_tfidf, y_train)"
   ]
  },
  {
   "cell_type": "code",
   "execution_count": 18,
   "id": "3ec28778",
   "metadata": {},
   "outputs": [
    {
     "data": {
      "text/plain": [
       "0.94"
      ]
     },
     "execution_count": 18,
     "metadata": {},
     "output_type": "execute_result"
    }
   ],
   "source": [
    "tree = DecisionTreeClassifier(max_depth=15)\n",
    "tree.fit(X_bow, y_train)\n",
    "tree.score(X_bow, y_train)"
   ]
  },
  {
   "cell_type": "code",
   "execution_count": 19,
   "id": "e9c7bd96",
   "metadata": {},
   "outputs": [
    {
     "data": {
      "text/plain": [
       "0.98"
      ]
     },
     "execution_count": 19,
     "metadata": {},
     "output_type": "execute_result"
    }
   ],
   "source": [
    "tree.fit(X_tfidf, y_train)\n",
    "tree.score(X_tfidf, y_train)"
   ]
  },
  {
   "cell_type": "code",
   "execution_count": 20,
   "id": "340efd77",
   "metadata": {},
   "outputs": [
    {
     "data": {
      "text/plain": [
       "0.9933333333333333"
      ]
     },
     "execution_count": 20,
     "metadata": {},
     "output_type": "execute_result"
    }
   ],
   "source": [
    "tree = DecisionTreeClassifier(max_depth=20)\n",
    "tree.fit(X_bow, y_train)\n",
    "tree.score(X_bow, y_train)"
   ]
  },
  {
   "cell_type": "code",
   "execution_count": 21,
   "id": "489ce1cc",
   "metadata": {},
   "outputs": [
    {
     "data": {
      "text/plain": [
       "0.9866666666666667"
      ]
     },
     "execution_count": 21,
     "metadata": {},
     "output_type": "execute_result"
    }
   ],
   "source": [
    "tree.fit(X_tfidf, y_train)\n",
    "tree.score(X_tfidf, y_train)"
   ]
  },
  {
   "cell_type": "code",
   "execution_count": null,
   "id": "b4a5b6ba",
   "metadata": {},
   "outputs": [],
   "source": []
  },
  {
   "cell_type": "code",
   "execution_count": 109,
   "id": "43a2266a",
   "metadata": {},
   "outputs": [
    {
     "data": {
      "text/plain": [
       "DecisionTreeClassifier(max_depth=15, random_state=123)"
      ]
     },
     "execution_count": 109,
     "metadata": {},
     "output_type": "execute_result"
    }
   ],
   "source": [
    "#cv train\n",
    "cv = CountVectorizer()\n",
    "X_bow = cv.fit_transform(X_train)\n",
    "X_bow_val = cv.transform(X_val)\n",
    "#tfidf train\n",
    "tfidf = TfidfVectorizer()\n",
    "X_tfidf = tfidf.fit_transform(X_train)\n",
    "X_tfidf_val = tfidf.transform(X_val)\n",
    "#DT\n",
    "tree = DecisionTreeClassifier(max_depth=15, random_state=123)\n",
    "#tree fit\n",
    "tree.fit(X_bow, y_train)"
   ]
  },
  {
   "cell_type": "code",
   "execution_count": 110,
   "id": "4ab1b0aa",
   "metadata": {},
   "outputs": [
    {
     "data": {
      "text/plain": [
       "(0.9666666666666667, 0.6307692307692307)"
      ]
     },
     "execution_count": 110,
     "metadata": {},
     "output_type": "execute_result"
    }
   ],
   "source": [
    "tree.score(X_bow, y_train), tree.score(X_bow_val, y_val)"
   ]
  },
  {
   "cell_type": "code",
   "execution_count": 111,
   "id": "79b954bc",
   "metadata": {},
   "outputs": [
    {
     "data": {
      "text/plain": [
       "DecisionTreeClassifier(max_depth=15, random_state=123)"
      ]
     },
     "execution_count": 111,
     "metadata": {},
     "output_type": "execute_result"
    }
   ],
   "source": [
    "tree.fit(X_tfidf, y_train)"
   ]
  },
  {
   "cell_type": "code",
   "execution_count": 112,
   "id": "44ea2b90",
   "metadata": {},
   "outputs": [
    {
     "data": {
      "text/plain": [
       "(0.98, 0.6)"
      ]
     },
     "execution_count": 112,
     "metadata": {},
     "output_type": "execute_result"
    }
   ],
   "source": [
    "tree.score(X_tfidf, y_train), tree.score(X_tfidf_val, y_val)"
   ]
  },
  {
   "cell_type": "code",
   "execution_count": null,
   "id": "4d122372",
   "metadata": {},
   "outputs": [],
   "source": []
  },
  {
   "cell_type": "code",
   "execution_count": null,
   "id": "cba9cb2f",
   "metadata": {},
   "outputs": [],
   "source": []
  },
  {
   "cell_type": "code",
   "execution_count": 113,
   "id": "1fe87b44",
   "metadata": {},
   "outputs": [
    {
     "data": {
      "text/plain": [
       "DecisionTreeClassifier(max_depth=20, random_state=123)"
      ]
     },
     "execution_count": 113,
     "metadata": {},
     "output_type": "execute_result"
    }
   ],
   "source": [
    "#cv train\n",
    "cv = CountVectorizer()\n",
    "X_bow = cv.fit_transform(X_train)\n",
    "X_bow_val = cv.transform(X_val)\n",
    "#tfidf train\n",
    "tfidf = TfidfVectorizer()\n",
    "X_tfidf = tfidf.fit_transform(X_train)\n",
    "X_tfidf_val = tfidf.transform(X_val)\n",
    "#DT\n",
    "tree = DecisionTreeClassifier(max_depth=20, random_state=123)\n",
    "#tree fit\n",
    "tree.fit(X_bow, y_train)"
   ]
  },
  {
   "cell_type": "code",
   "execution_count": 114,
   "id": "ef900da0",
   "metadata": {},
   "outputs": [
    {
     "data": {
      "text/plain": [
       "(0.9933333333333333, 0.6153846153846154)"
      ]
     },
     "execution_count": 114,
     "metadata": {},
     "output_type": "execute_result"
    }
   ],
   "source": [
    "tree.score(X_bow, y_train), tree.score(X_bow_val, y_val)"
   ]
  },
  {
   "cell_type": "code",
   "execution_count": 115,
   "id": "ed91ac69",
   "metadata": {},
   "outputs": [
    {
     "data": {
      "text/plain": [
       "DecisionTreeClassifier(max_depth=20, random_state=123)"
      ]
     },
     "execution_count": 115,
     "metadata": {},
     "output_type": "execute_result"
    }
   ],
   "source": [
    "tree.fit(X_tfidf, y_train)"
   ]
  },
  {
   "cell_type": "code",
   "execution_count": 116,
   "id": "64622fa7",
   "metadata": {},
   "outputs": [
    {
     "data": {
      "text/plain": [
       "(0.9933333333333333, 0.5692307692307692)"
      ]
     },
     "execution_count": 116,
     "metadata": {},
     "output_type": "execute_result"
    }
   ],
   "source": [
    "tree.score(X_tfidf, y_train), tree.score(X_tfidf_val, y_val)"
   ]
  },
  {
   "cell_type": "code",
   "execution_count": null,
   "id": "3c080092",
   "metadata": {},
   "outputs": [],
   "source": []
  },
  {
   "cell_type": "code",
   "execution_count": 117,
   "id": "7addb512",
   "metadata": {},
   "outputs": [
    {
     "data": {
      "text/plain": [
       "DecisionTreeClassifier(max_depth=10, random_state=123)"
      ]
     },
     "execution_count": 117,
     "metadata": {},
     "output_type": "execute_result"
    }
   ],
   "source": [
    "#cv train\n",
    "cv = CountVectorizer()\n",
    "X_bow = cv.fit_transform(X_train)\n",
    "X_bow_val = cv.transform(X_val)\n",
    "#tfidf train\n",
    "tfidf = TfidfVectorizer()\n",
    "X_tfidf = tfidf.fit_transform(X_train)\n",
    "X_tfidf_val = tfidf.transform(X_val)\n",
    "#DT\n",
    "tree = DecisionTreeClassifier(max_depth=10, random_state=123)\n",
    "#tree fit\n",
    "tree.fit(X_bow, y_train)"
   ]
  },
  {
   "cell_type": "code",
   "execution_count": 118,
   "id": "def8ec32",
   "metadata": {},
   "outputs": [
    {
     "data": {
      "text/plain": [
       "(0.9133333333333333, 0.6615384615384615)"
      ]
     },
     "execution_count": 118,
     "metadata": {},
     "output_type": "execute_result"
    }
   ],
   "source": [
    "tree.score(X_bow, y_train), tree.score(X_bow_val, y_val)"
   ]
  },
  {
   "cell_type": "code",
   "execution_count": 119,
   "id": "ff09bec3",
   "metadata": {},
   "outputs": [
    {
     "data": {
      "text/plain": [
       "DecisionTreeClassifier(max_depth=10, random_state=123)"
      ]
     },
     "execution_count": 119,
     "metadata": {},
     "output_type": "execute_result"
    }
   ],
   "source": [
    "tree.fit(X_tfidf, y_train)"
   ]
  },
  {
   "cell_type": "code",
   "execution_count": 120,
   "id": "6ce63376",
   "metadata": {},
   "outputs": [
    {
     "data": {
      "text/plain": [
       "(0.9266666666666666, 0.6)"
      ]
     },
     "execution_count": 120,
     "metadata": {},
     "output_type": "execute_result"
    }
   ],
   "source": [
    "tree.score(X_tfidf, y_train), tree.score(X_tfidf_val, y_val)"
   ]
  },
  {
   "cell_type": "code",
   "execution_count": null,
   "id": "2b083311",
   "metadata": {},
   "outputs": [],
   "source": []
  },
  {
   "cell_type": "code",
   "execution_count": 121,
   "id": "07890dd5",
   "metadata": {},
   "outputs": [
    {
     "data": {
      "text/plain": [
       "DecisionTreeClassifier(max_depth=30, random_state=123)"
      ]
     },
     "execution_count": 121,
     "metadata": {},
     "output_type": "execute_result"
    }
   ],
   "source": [
    "#cv train\n",
    "cv = CountVectorizer()\n",
    "X_bow = cv.fit_transform(X_train)\n",
    "X_bow_val = cv.transform(X_val)\n",
    "#tfidf train\n",
    "tfidf = TfidfVectorizer()\n",
    "X_tfidf = tfidf.fit_transform(X_train)\n",
    "X_tfidf_val = tfidf.transform(X_val)\n",
    "#DT\n",
    "tree = DecisionTreeClassifier(max_depth=30, random_state=123)\n",
    "#tree fit\n",
    "tree.fit(X_bow, y_train)"
   ]
  },
  {
   "cell_type": "code",
   "execution_count": 122,
   "id": "3554907e",
   "metadata": {},
   "outputs": [
    {
     "data": {
      "text/plain": [
       "(1.0, 0.6)"
      ]
     },
     "execution_count": 122,
     "metadata": {},
     "output_type": "execute_result"
    }
   ],
   "source": [
    "tree.score(X_bow, y_train), tree.score(X_bow_val, y_val)"
   ]
  },
  {
   "cell_type": "code",
   "execution_count": 123,
   "id": "66f2cbd0",
   "metadata": {},
   "outputs": [
    {
     "data": {
      "text/plain": [
       "DecisionTreeClassifier(max_depth=30, random_state=123)"
      ]
     },
     "execution_count": 123,
     "metadata": {},
     "output_type": "execute_result"
    }
   ],
   "source": [
    "tree.fit(X_tfidf, y_train)"
   ]
  },
  {
   "cell_type": "code",
   "execution_count": 124,
   "id": "c84875e7",
   "metadata": {},
   "outputs": [
    {
     "data": {
      "text/plain": [
       "(1.0, 0.5692307692307692)"
      ]
     },
     "execution_count": 124,
     "metadata": {},
     "output_type": "execute_result"
    }
   ],
   "source": [
    "tree.score(X_tfidf, y_train), tree.score(X_tfidf_val, y_val)"
   ]
  },
  {
   "cell_type": "code",
   "execution_count": null,
   "id": "7c0409ca",
   "metadata": {},
   "outputs": [],
   "source": []
  },
  {
   "cell_type": "markdown",
   "id": "615225df",
   "metadata": {},
   "source": [
    "## Best DT single words "
   ]
  },
  {
   "cell_type": "code",
   "execution_count": 128,
   "id": "9a89ce4e",
   "metadata": {},
   "outputs": [],
   "source": [
    "cv = CountVectorizer()\n",
    "X_bow = cv.fit_transform(X_train)\n",
    "X_bow_val = cv.transform(X_val)\n",
    "\n",
    "tfidf = TfidfVectorizer()\n",
    "X_tfidf = tfidf.fit_transform(X_train)\n",
    "X_tfidf_val = tfidf.transform(X_val)"
   ]
  },
  {
   "cell_type": "code",
   "execution_count": 129,
   "id": "695c33a4",
   "metadata": {},
   "outputs": [
    {
     "data": {
      "text/plain": [
       "(0.9666666666666667, 0.6307692307692307)"
      ]
     },
     "execution_count": 129,
     "metadata": {},
     "output_type": "execute_result"
    }
   ],
   "source": [
    "tree = DecisionTreeClassifier(max_depth=15, random_state=123)\n",
    "tree.fit(X_bow, y_train)\n",
    "tree.score(X_bow, y_train), tree.score(X_bow_val, y_val)"
   ]
  },
  {
   "cell_type": "code",
   "execution_count": 130,
   "id": "6cad2520",
   "metadata": {},
   "outputs": [
    {
     "data": {
      "text/plain": [
       "(0.98, 0.6)"
      ]
     },
     "execution_count": 130,
     "metadata": {},
     "output_type": "execute_result"
    }
   ],
   "source": [
    "tree = DecisionTreeClassifier(max_depth=15, random_state=123)\n",
    "tree.fit(X_tfidf, y_train)\n",
    "tree.score(X_tfidf, y_train), tree.score(X_tfidf_val, y_val)"
   ]
  },
  {
   "cell_type": "markdown",
   "id": "cba8d0f3",
   "metadata": {},
   "source": [
    "---"
   ]
  },
  {
   "cell_type": "code",
   "execution_count": 131,
   "id": "7c5908df",
   "metadata": {},
   "outputs": [],
   "source": [
    "cv = CountVectorizer(ngram_range=(1,2))\n",
    "X_bow = cv.fit_transform(X_train)\n",
    "X_bow_val = cv.transform(X_val)\n",
    "\n",
    "tfidf = TfidfVectorizer(ngram_range=(1,2))\n",
    "X_tfidf = tfidf.fit_transform(X_train)\n",
    "X_tfidf_val = tfidf.transform(X_val)"
   ]
  },
  {
   "cell_type": "code",
   "execution_count": 132,
   "id": "716eed80",
   "metadata": {},
   "outputs": [
    {
     "data": {
      "text/plain": [
       "(0.9466666666666667, 0.5846153846153846)"
      ]
     },
     "execution_count": 132,
     "metadata": {},
     "output_type": "execute_result"
    }
   ],
   "source": [
    "tree = DecisionTreeClassifier(max_depth=10, random_state=123)\n",
    "tree.fit(X_bow, y_train)\n",
    "tree.score(X_bow, y_train), tree.score(X_bow_val, y_val)"
   ]
  },
  {
   "cell_type": "code",
   "execution_count": 133,
   "id": "bff702c3",
   "metadata": {},
   "outputs": [
    {
     "data": {
      "text/plain": [
       "(0.88, 0.6307692307692307)"
      ]
     },
     "execution_count": 133,
     "metadata": {},
     "output_type": "execute_result"
    }
   ],
   "source": [
    "tree = DecisionTreeClassifier(max_depth=10, random_state=123)\n",
    "tree.fit(X_tfidf, y_train)\n",
    "tree.score(X_tfidf, y_train), tree.score(X_tfidf_val, y_val)"
   ]
  },
  {
   "cell_type": "code",
   "execution_count": 134,
   "id": "8c21b3cc",
   "metadata": {},
   "outputs": [
    {
     "data": {
      "text/plain": [
       "(0.9933333333333333, 0.5846153846153846)"
      ]
     },
     "execution_count": 134,
     "metadata": {},
     "output_type": "execute_result"
    }
   ],
   "source": [
    "tree = DecisionTreeClassifier(max_depth=20, random_state=123)\n",
    "tree.fit(X_bow, y_train)\n",
    "tree.score(X_bow, y_train), tree.score(X_bow_val, y_val)"
   ]
  },
  {
   "cell_type": "code",
   "execution_count": 135,
   "id": "412129a1",
   "metadata": {},
   "outputs": [
    {
     "data": {
      "text/plain": [
       "(0.9933333333333333, 0.5846153846153846)"
      ]
     },
     "execution_count": 135,
     "metadata": {},
     "output_type": "execute_result"
    }
   ],
   "source": [
    "tree = DecisionTreeClassifier(max_depth=20, random_state=123)\n",
    "tree.fit(X_tfidf, y_train)\n",
    "tree.score(X_tfidf, y_train), tree.score(X_tfidf_val, y_val)"
   ]
  },
  {
   "cell_type": "code",
   "execution_count": 136,
   "id": "284eb02d",
   "metadata": {},
   "outputs": [
    {
     "data": {
      "text/plain": [
       "(1.0, 0.5692307692307692)"
      ]
     },
     "execution_count": 136,
     "metadata": {},
     "output_type": "execute_result"
    }
   ],
   "source": [
    "tree = DecisionTreeClassifier(max_depth=30, random_state=123)\n",
    "tree.fit(X_bow, y_train)\n",
    "tree.score(X_bow, y_train), tree.score(X_bow_val, y_val)"
   ]
  },
  {
   "cell_type": "code",
   "execution_count": 137,
   "id": "7beb5db2",
   "metadata": {},
   "outputs": [
    {
     "data": {
      "text/plain": [
       "(1.0, 0.5846153846153846)"
      ]
     },
     "execution_count": 137,
     "metadata": {},
     "output_type": "execute_result"
    }
   ],
   "source": [
    "tree = DecisionTreeClassifier(max_depth=30, random_state=123)\n",
    "tree.fit(X_tfidf, y_train)\n",
    "tree.score(X_tfidf, y_train), tree.score(X_tfidf_val, y_val)"
   ]
  },
  {
   "cell_type": "code",
   "execution_count": 138,
   "id": "4e122d32",
   "metadata": {},
   "outputs": [
    {
     "data": {
      "text/plain": [
       "(1.0, 0.5692307692307692)"
      ]
     },
     "execution_count": 138,
     "metadata": {},
     "output_type": "execute_result"
    }
   ],
   "source": [
    "tree = DecisionTreeClassifier(max_depth=40, random_state=123)\n",
    "tree.fit(X_bow, y_train)\n",
    "tree.score(X_bow, y_train), tree.score(X_bow_val, y_val)"
   ]
  },
  {
   "cell_type": "code",
   "execution_count": 139,
   "id": "c6eb5e68",
   "metadata": {},
   "outputs": [
    {
     "data": {
      "text/plain": [
       "(1.0, 0.5846153846153846)"
      ]
     },
     "execution_count": 139,
     "metadata": {},
     "output_type": "execute_result"
    }
   ],
   "source": [
    "tree = DecisionTreeClassifier(max_depth=40, random_state=123)\n",
    "tree.fit(X_tfidf, y_train)\n",
    "tree.score(X_tfidf, y_train), tree.score(X_tfidf_val, y_val)"
   ]
  },
  {
   "cell_type": "code",
   "execution_count": 140,
   "id": "213ab560",
   "metadata": {},
   "outputs": [
    {
     "data": {
      "text/plain": [
       "(1.0, 0.5692307692307692)"
      ]
     },
     "execution_count": 140,
     "metadata": {},
     "output_type": "execute_result"
    }
   ],
   "source": [
    "tree = DecisionTreeClassifier(max_depth=50, random_state=123)\n",
    "tree.fit(X_bow, y_train)\n",
    "tree.score(X_bow, y_train), tree.score(X_bow_val, y_val)"
   ]
  },
  {
   "cell_type": "code",
   "execution_count": 141,
   "id": "454ae08d",
   "metadata": {},
   "outputs": [
    {
     "data": {
      "text/plain": [
       "(0.9666666666666667, 0.5692307692307692)"
      ]
     },
     "execution_count": 141,
     "metadata": {},
     "output_type": "execute_result"
    }
   ],
   "source": [
    "tree = DecisionTreeClassifier(max_depth=15, random_state=123)\n",
    "tree.fit(X_tfidf, y_train)\n",
    "tree.score(X_tfidf, y_train), tree.score(X_tfidf_val, y_val)"
   ]
  },
  {
   "cell_type": "code",
   "execution_count": null,
   "id": "b85baa99",
   "metadata": {},
   "outputs": [],
   "source": []
  },
  {
   "cell_type": "markdown",
   "id": "a54236f9",
   "metadata": {},
   "source": [
    "### Best DT ngram range 1,2"
   ]
  },
  {
   "cell_type": "code",
   "execution_count": 142,
   "id": "d40e7add",
   "metadata": {},
   "outputs": [],
   "source": [
    "cv = CountVectorizer(ngram_range=(1,2))\n",
    "X_bow = cv.fit_transform(X_train)\n",
    "X_bow_val = cv.transform(X_val)\n",
    "\n",
    "tfidf = TfidfVectorizer(ngram_range=(1,2))\n",
    "X_tfidf = tfidf.fit_transform(X_train)\n",
    "X_tfidf_val = tfidf.transform(X_val)"
   ]
  },
  {
   "cell_type": "code",
   "execution_count": 143,
   "id": "9992971d",
   "metadata": {},
   "outputs": [
    {
     "data": {
      "text/plain": [
       "(0.9933333333333333, 0.5846153846153846)"
      ]
     },
     "execution_count": 143,
     "metadata": {},
     "output_type": "execute_result"
    }
   ],
   "source": [
    "tree = DecisionTreeClassifier(max_depth=20, random_state=123)\n",
    "tree.fit(X_bow, y_train)\n",
    "tree.score(X_bow, y_train), tree.score(X_bow_val, y_val)"
   ]
  },
  {
   "cell_type": "code",
   "execution_count": 144,
   "id": "ec4cb03d",
   "metadata": {},
   "outputs": [
    {
     "data": {
      "text/plain": [
       "(0.88, 0.6307692307692307)"
      ]
     },
     "execution_count": 144,
     "metadata": {},
     "output_type": "execute_result"
    }
   ],
   "source": [
    "tree = DecisionTreeClassifier(max_depth=10, random_state=123)\n",
    "tree.fit(X_tfidf, y_train)\n",
    "tree.score(X_tfidf, y_train), tree.score(X_tfidf_val, y_val)"
   ]
  },
  {
   "cell_type": "code",
   "execution_count": null,
   "id": "df0debd7",
   "metadata": {},
   "outputs": [],
   "source": []
  },
  {
   "cell_type": "code",
   "execution_count": 146,
   "id": "d4ea9aa5",
   "metadata": {},
   "outputs": [],
   "source": [
    "cv = CountVectorizer()\n",
    "X_bow = cv.fit_transform(X_train)\n",
    "X_bow_val = cv.transform(X_val)\n",
    "\n",
    "tfidf = TfidfVectorizer()\n",
    "X_tfidf = tfidf.fit_transform(X_train)\n",
    "X_tfidf_val = tfidf.transform(X_val)"
   ]
  },
  {
   "cell_type": "code",
   "execution_count": 149,
   "id": "eba95077",
   "metadata": {},
   "outputs": [
    {
     "data": {
      "text/plain": [
       "(0.9933333333333333, 0.5384615384615384)"
      ]
     },
     "execution_count": 149,
     "metadata": {},
     "output_type": "execute_result"
    }
   ],
   "source": [
    "lm = LogisticRegression(random_state=123).fit(X_bow, y_train)\n",
    "lm.score(X_bow, y_train), lm.score(X_bow_val, y_val)"
   ]
  },
  {
   "cell_type": "code",
   "execution_count": 150,
   "id": "0f913bfd",
   "metadata": {},
   "outputs": [
    {
     "data": {
      "text/plain": [
       "(0.8, 0.5076923076923077)"
      ]
     },
     "execution_count": 150,
     "metadata": {},
     "output_type": "execute_result"
    }
   ],
   "source": [
    "lm = LogisticRegression(random_state=123).fit(X_tfidf, y_train)\n",
    "lm.score(X_tfidf, y_train), lm.score(X_tfidf_val, y_val)"
   ]
  },
  {
   "cell_type": "code",
   "execution_count": null,
   "id": "fa84bb87",
   "metadata": {},
   "outputs": [],
   "source": []
  },
  {
   "cell_type": "code",
   "execution_count": 151,
   "id": "c3f7af1c",
   "metadata": {},
   "outputs": [],
   "source": [
    "cv = CountVectorizer(ngram_range=(1,2))\n",
    "X_bow = cv.fit_transform(X_train)\n",
    "X_bow_val = cv.transform(X_val)\n",
    "\n",
    "tfidf = TfidfVectorizer()\n",
    "X_tfidf = tfidf.fit_transform(X_train)\n",
    "X_tfidf_val = tfidf.transform(X_val)"
   ]
  },
  {
   "cell_type": "code",
   "execution_count": 152,
   "id": "6420dfd5",
   "metadata": {},
   "outputs": [
    {
     "data": {
      "text/plain": [
       "(0.9933333333333333, 0.5846153846153846)"
      ]
     },
     "execution_count": 152,
     "metadata": {},
     "output_type": "execute_result"
    }
   ],
   "source": [
    "lm = LogisticRegression(random_state=123).fit(X_bow, y_train)\n",
    "lm.score(X_bow, y_train), lm.score(X_bow_val, y_val)"
   ]
  },
  {
   "cell_type": "code",
   "execution_count": 153,
   "id": "a4e04a76",
   "metadata": {},
   "outputs": [
    {
     "data": {
      "text/plain": [
       "(0.8, 0.5076923076923077)"
      ]
     },
     "execution_count": 153,
     "metadata": {},
     "output_type": "execute_result"
    }
   ],
   "source": [
    "lm = LogisticRegression(random_state=123).fit(X_tfidf, y_train)\n",
    "lm.score(X_tfidf, y_train), lm.score(X_tfidf_val, y_val)"
   ]
  },
  {
   "cell_type": "markdown",
   "id": "0ce8b8eb",
   "metadata": {},
   "source": [
    "### logistic regression"
   ]
  },
  {
   "cell_type": "code",
   "execution_count": 154,
   "id": "57e78c5b",
   "metadata": {},
   "outputs": [
    {
     "data": {
      "text/html": [
       "<div>\n",
       "<style scoped>\n",
       "    .dataframe tbody tr th:only-of-type {\n",
       "        vertical-align: middle;\n",
       "    }\n",
       "\n",
       "    .dataframe tbody tr th {\n",
       "        vertical-align: top;\n",
       "    }\n",
       "\n",
       "    .dataframe thead th {\n",
       "        text-align: right;\n",
       "    }\n",
       "</style>\n",
       "<table border=\"1\" class=\"dataframe\">\n",
       "  <thead>\n",
       "    <tr style=\"text-align: right;\">\n",
       "      <th></th>\n",
       "      <th>C</th>\n",
       "      <th>train_accuracy</th>\n",
       "      <th>validate_accuracy</th>\n",
       "      <th>difference</th>\n",
       "    </tr>\n",
       "  </thead>\n",
       "  <tbody>\n",
       "    <tr>\n",
       "      <th>0</th>\n",
       "      <td>0.001</td>\n",
       "      <td>0.733333</td>\n",
       "      <td>0.492308</td>\n",
       "      <td>0.241026</td>\n",
       "    </tr>\n",
       "    <tr>\n",
       "      <th>1</th>\n",
       "      <td>0.005</td>\n",
       "      <td>0.886667</td>\n",
       "      <td>0.569231</td>\n",
       "      <td>0.317436</td>\n",
       "    </tr>\n",
       "    <tr>\n",
       "      <th>2</th>\n",
       "      <td>0.010</td>\n",
       "      <td>0.926667</td>\n",
       "      <td>0.615385</td>\n",
       "      <td>0.311282</td>\n",
       "    </tr>\n",
       "    <tr>\n",
       "      <th>3</th>\n",
       "      <td>0.050</td>\n",
       "      <td>0.953333</td>\n",
       "      <td>0.646154</td>\n",
       "      <td>0.307179</td>\n",
       "    </tr>\n",
       "    <tr>\n",
       "      <th>4</th>\n",
       "      <td>0.100</td>\n",
       "      <td>0.966667</td>\n",
       "      <td>0.569231</td>\n",
       "      <td>0.397436</td>\n",
       "    </tr>\n",
       "    <tr>\n",
       "      <th>5</th>\n",
       "      <td>0.500</td>\n",
       "      <td>0.993333</td>\n",
       "      <td>0.553846</td>\n",
       "      <td>0.439487</td>\n",
       "    </tr>\n",
       "    <tr>\n",
       "      <th>6</th>\n",
       "      <td>1.000</td>\n",
       "      <td>0.993333</td>\n",
       "      <td>0.538462</td>\n",
       "      <td>0.454872</td>\n",
       "    </tr>\n",
       "    <tr>\n",
       "      <th>7</th>\n",
       "      <td>5.000</td>\n",
       "      <td>1.000000</td>\n",
       "      <td>0.553846</td>\n",
       "      <td>0.446154</td>\n",
       "    </tr>\n",
       "    <tr>\n",
       "      <th>8</th>\n",
       "      <td>10.000</td>\n",
       "      <td>1.000000</td>\n",
       "      <td>0.553846</td>\n",
       "      <td>0.446154</td>\n",
       "    </tr>\n",
       "    <tr>\n",
       "      <th>9</th>\n",
       "      <td>50.000</td>\n",
       "      <td>1.000000</td>\n",
       "      <td>0.538462</td>\n",
       "      <td>0.461538</td>\n",
       "    </tr>\n",
       "    <tr>\n",
       "      <th>10</th>\n",
       "      <td>100.000</td>\n",
       "      <td>1.000000</td>\n",
       "      <td>0.523077</td>\n",
       "      <td>0.476923</td>\n",
       "    </tr>\n",
       "    <tr>\n",
       "      <th>11</th>\n",
       "      <td>500.000</td>\n",
       "      <td>1.000000</td>\n",
       "      <td>0.523077</td>\n",
       "      <td>0.476923</td>\n",
       "    </tr>\n",
       "    <tr>\n",
       "      <th>12</th>\n",
       "      <td>1000.000</td>\n",
       "      <td>1.000000</td>\n",
       "      <td>0.538462</td>\n",
       "      <td>0.461538</td>\n",
       "    </tr>\n",
       "  </tbody>\n",
       "</table>\n",
       "</div>"
      ],
      "text/plain": [
       "           C  train_accuracy  validate_accuracy  difference\n",
       "0      0.001        0.733333           0.492308    0.241026\n",
       "1      0.005        0.886667           0.569231    0.317436\n",
       "2      0.010        0.926667           0.615385    0.311282\n",
       "3      0.050        0.953333           0.646154    0.307179\n",
       "4      0.100        0.966667           0.569231    0.397436\n",
       "5      0.500        0.993333           0.553846    0.439487\n",
       "6      1.000        0.993333           0.538462    0.454872\n",
       "7      5.000        1.000000           0.553846    0.446154\n",
       "8     10.000        1.000000           0.553846    0.446154\n",
       "9     50.000        1.000000           0.538462    0.461538\n",
       "10   100.000        1.000000           0.523077    0.476923\n",
       "11   500.000        1.000000           0.523077    0.476923\n",
       "12  1000.000        1.000000           0.538462    0.461538"
      ]
     },
     "execution_count": 154,
     "metadata": {},
     "output_type": "execute_result"
    }
   ],
   "source": [
    "cv = CountVectorizer()\n",
    "X_bow = cv.fit_transform(X_train)\n",
    "X_bow_val = cv.transform(X_val)\n",
    "\n",
    "# Evaluate Logistic Regression models on train & validate set by looping through different values for c hyperparameter\n",
    "\n",
    "# create empty list for which to append metrics from each loop\n",
    "metrics = []\n",
    "\n",
    "# create loop for values in list\n",
    "for c in [.001, .005, .01, .05, .1, .5, 1, 5, 10, 50, 100, 500, 1000]:\n",
    "            \n",
    "    # define the model setting hyperparameters to values for current loop\n",
    "    logit = LogisticRegression(C=c)\n",
    "    \n",
    "    # fit the model on train\n",
    "    logit.fit(X_bow, y_train)\n",
    "    \n",
    "    # use the model and evaluate performance on train\n",
    "    train_accuracy = logit.score(X_bow, y_train)\n",
    "    # use the model and evaluate performance on validate\n",
    "    validate_accuracy = logit.score(X_bow_val, y_val)\n",
    "    \n",
    "    # create output of current loop's hyperparameters and accuracy to append to metrics\n",
    "    output = {\n",
    "        'C': c,\n",
    "        'train_accuracy': train_accuracy,\n",
    "        'validate_accuracy': validate_accuracy\n",
    "    }\n",
    "    \n",
    "    metrics.append(output)\n",
    "\n",
    "# convert metrics list to a dataframe for easy reading\n",
    "df = pd.DataFrame(metrics)\n",
    "# add column to assess the difference between train & validate accuracy\n",
    "df['difference'] = df.train_accuracy - df.validate_accuracy\n",
    "df"
   ]
  },
  {
   "cell_type": "code",
   "execution_count": 156,
   "id": "837e76a3",
   "metadata": {},
   "outputs": [
    {
     "data": {
      "text/html": [
       "<div>\n",
       "<style scoped>\n",
       "    .dataframe tbody tr th:only-of-type {\n",
       "        vertical-align: middle;\n",
       "    }\n",
       "\n",
       "    .dataframe tbody tr th {\n",
       "        vertical-align: top;\n",
       "    }\n",
       "\n",
       "    .dataframe thead th {\n",
       "        text-align: right;\n",
       "    }\n",
       "</style>\n",
       "<table border=\"1\" class=\"dataframe\">\n",
       "  <thead>\n",
       "    <tr style=\"text-align: right;\">\n",
       "      <th></th>\n",
       "      <th>C</th>\n",
       "      <th>train_accuracy</th>\n",
       "      <th>validate_accuracy</th>\n",
       "      <th>difference</th>\n",
       "    </tr>\n",
       "  </thead>\n",
       "  <tbody>\n",
       "    <tr>\n",
       "      <th>0</th>\n",
       "      <td>0.001</td>\n",
       "      <td>0.360000</td>\n",
       "      <td>0.400000</td>\n",
       "      <td>-0.040000</td>\n",
       "    </tr>\n",
       "    <tr>\n",
       "      <th>1</th>\n",
       "      <td>0.005</td>\n",
       "      <td>0.360000</td>\n",
       "      <td>0.400000</td>\n",
       "      <td>-0.040000</td>\n",
       "    </tr>\n",
       "    <tr>\n",
       "      <th>2</th>\n",
       "      <td>0.010</td>\n",
       "      <td>0.360000</td>\n",
       "      <td>0.400000</td>\n",
       "      <td>-0.040000</td>\n",
       "    </tr>\n",
       "    <tr>\n",
       "      <th>3</th>\n",
       "      <td>0.050</td>\n",
       "      <td>0.360000</td>\n",
       "      <td>0.400000</td>\n",
       "      <td>-0.040000</td>\n",
       "    </tr>\n",
       "    <tr>\n",
       "      <th>4</th>\n",
       "      <td>0.100</td>\n",
       "      <td>0.360000</td>\n",
       "      <td>0.400000</td>\n",
       "      <td>-0.040000</td>\n",
       "    </tr>\n",
       "    <tr>\n",
       "      <th>5</th>\n",
       "      <td>0.500</td>\n",
       "      <td>0.693333</td>\n",
       "      <td>0.476923</td>\n",
       "      <td>0.216410</td>\n",
       "    </tr>\n",
       "    <tr>\n",
       "      <th>6</th>\n",
       "      <td>1.000</td>\n",
       "      <td>0.800000</td>\n",
       "      <td>0.507692</td>\n",
       "      <td>0.292308</td>\n",
       "    </tr>\n",
       "    <tr>\n",
       "      <th>7</th>\n",
       "      <td>5.000</td>\n",
       "      <td>0.993333</td>\n",
       "      <td>0.676923</td>\n",
       "      <td>0.316410</td>\n",
       "    </tr>\n",
       "    <tr>\n",
       "      <th>8</th>\n",
       "      <td>10.000</td>\n",
       "      <td>0.993333</td>\n",
       "      <td>0.692308</td>\n",
       "      <td>0.301026</td>\n",
       "    </tr>\n",
       "    <tr>\n",
       "      <th>9</th>\n",
       "      <td>50.000</td>\n",
       "      <td>0.993333</td>\n",
       "      <td>0.661538</td>\n",
       "      <td>0.331795</td>\n",
       "    </tr>\n",
       "    <tr>\n",
       "      <th>10</th>\n",
       "      <td>100.000</td>\n",
       "      <td>1.000000</td>\n",
       "      <td>0.646154</td>\n",
       "      <td>0.353846</td>\n",
       "    </tr>\n",
       "    <tr>\n",
       "      <th>11</th>\n",
       "      <td>500.000</td>\n",
       "      <td>1.000000</td>\n",
       "      <td>0.661538</td>\n",
       "      <td>0.338462</td>\n",
       "    </tr>\n",
       "    <tr>\n",
       "      <th>12</th>\n",
       "      <td>1000.000</td>\n",
       "      <td>1.000000</td>\n",
       "      <td>0.661538</td>\n",
       "      <td>0.338462</td>\n",
       "    </tr>\n",
       "  </tbody>\n",
       "</table>\n",
       "</div>"
      ],
      "text/plain": [
       "           C  train_accuracy  validate_accuracy  difference\n",
       "0      0.001        0.360000           0.400000   -0.040000\n",
       "1      0.005        0.360000           0.400000   -0.040000\n",
       "2      0.010        0.360000           0.400000   -0.040000\n",
       "3      0.050        0.360000           0.400000   -0.040000\n",
       "4      0.100        0.360000           0.400000   -0.040000\n",
       "5      0.500        0.693333           0.476923    0.216410\n",
       "6      1.000        0.800000           0.507692    0.292308\n",
       "7      5.000        0.993333           0.676923    0.316410\n",
       "8     10.000        0.993333           0.692308    0.301026\n",
       "9     50.000        0.993333           0.661538    0.331795\n",
       "10   100.000        1.000000           0.646154    0.353846\n",
       "11   500.000        1.000000           0.661538    0.338462\n",
       "12  1000.000        1.000000           0.661538    0.338462"
      ]
     },
     "execution_count": 156,
     "metadata": {},
     "output_type": "execute_result"
    }
   ],
   "source": [
    "tfidf = TfidfVectorizer()\n",
    "X_tfidf = tfidf.fit_transform(X_train)\n",
    "X_tfidf_val = tfidf.transform(X_val)\n",
    "# Evaluate Logistic Regression models on train & validate set by looping through different values for c hyperparameter\n",
    "\n",
    "# create empty list for which to append metrics from each loop\n",
    "metrics = []\n",
    "\n",
    "# create loop for values in list\n",
    "for c in [.001, .005, .01, .05, .1, .5, 1, 5, 10, 50, 100, 500, 1000]:\n",
    "            \n",
    "    # define the model setting hyperparameters to values for current loop\n",
    "    logit = LogisticRegression(C=c)\n",
    "    \n",
    "    # fit the model on train\n",
    "    logit.fit(X_tfidf, y_train)\n",
    "    \n",
    "    # use the model and evaluate performance on train\n",
    "    train_accuracy = logit.score(X_tfidf, y_train)\n",
    "    # use the model and evaluate performance on validate\n",
    "    validate_accuracy = logit.score(X_tfidf_val, y_val)\n",
    "    \n",
    "    # create output of current loop's hyperparameters and accuracy to append to metrics\n",
    "    output = {\n",
    "        'C': c,\n",
    "        'train_accuracy': train_accuracy,\n",
    "        'validate_accuracy': validate_accuracy\n",
    "    }\n",
    "    \n",
    "    metrics.append(output)\n",
    "\n",
    "# convert metrics list to a dataframe for easy reading\n",
    "df = pd.DataFrame(metrics)\n",
    "# add column to assess the difference between train & validate accuracy\n",
    "df['difference'] = df.train_accuracy - df.validate_accuracy\n",
    "df"
   ]
  },
  {
   "cell_type": "code",
   "execution_count": 165,
   "id": "19bf43a0",
   "metadata": {},
   "outputs": [
    {
     "data": {
      "text/html": [
       "<div>\n",
       "<style scoped>\n",
       "    .dataframe tbody tr th:only-of-type {\n",
       "        vertical-align: middle;\n",
       "    }\n",
       "\n",
       "    .dataframe tbody tr th {\n",
       "        vertical-align: top;\n",
       "    }\n",
       "\n",
       "    .dataframe thead th {\n",
       "        text-align: right;\n",
       "    }\n",
       "</style>\n",
       "<table border=\"1\" class=\"dataframe\">\n",
       "  <thead>\n",
       "    <tr style=\"text-align: right;\">\n",
       "      <th></th>\n",
       "      <th>C</th>\n",
       "      <th>train_accuracy</th>\n",
       "      <th>validate_accuracy</th>\n",
       "      <th>difference</th>\n",
       "    </tr>\n",
       "  </thead>\n",
       "  <tbody>\n",
       "    <tr>\n",
       "      <th>0</th>\n",
       "      <td>0.001</td>\n",
       "      <td>0.760000</td>\n",
       "      <td>0.446154</td>\n",
       "      <td>0.313846</td>\n",
       "    </tr>\n",
       "    <tr>\n",
       "      <th>1</th>\n",
       "      <td>0.005</td>\n",
       "      <td>0.913333</td>\n",
       "      <td>0.569231</td>\n",
       "      <td>0.344103</td>\n",
       "    </tr>\n",
       "    <tr>\n",
       "      <th>2</th>\n",
       "      <td>0.010</td>\n",
       "      <td>0.940000</td>\n",
       "      <td>0.569231</td>\n",
       "      <td>0.370769</td>\n",
       "    </tr>\n",
       "    <tr>\n",
       "      <th>3</th>\n",
       "      <td>0.050</td>\n",
       "      <td>0.966667</td>\n",
       "      <td>0.630769</td>\n",
       "      <td>0.335897</td>\n",
       "    </tr>\n",
       "    <tr>\n",
       "      <th>4</th>\n",
       "      <td>0.100</td>\n",
       "      <td>0.973333</td>\n",
       "      <td>0.661538</td>\n",
       "      <td>0.311795</td>\n",
       "    </tr>\n",
       "    <tr>\n",
       "      <th>5</th>\n",
       "      <td>0.500</td>\n",
       "      <td>0.993333</td>\n",
       "      <td>0.600000</td>\n",
       "      <td>0.393333</td>\n",
       "    </tr>\n",
       "    <tr>\n",
       "      <th>6</th>\n",
       "      <td>1.000</td>\n",
       "      <td>0.993333</td>\n",
       "      <td>0.584615</td>\n",
       "      <td>0.408718</td>\n",
       "    </tr>\n",
       "    <tr>\n",
       "      <th>7</th>\n",
       "      <td>5.000</td>\n",
       "      <td>1.000000</td>\n",
       "      <td>0.569231</td>\n",
       "      <td>0.430769</td>\n",
       "    </tr>\n",
       "    <tr>\n",
       "      <th>8</th>\n",
       "      <td>10.000</td>\n",
       "      <td>1.000000</td>\n",
       "      <td>0.569231</td>\n",
       "      <td>0.430769</td>\n",
       "    </tr>\n",
       "    <tr>\n",
       "      <th>9</th>\n",
       "      <td>50.000</td>\n",
       "      <td>1.000000</td>\n",
       "      <td>0.553846</td>\n",
       "      <td>0.446154</td>\n",
       "    </tr>\n",
       "    <tr>\n",
       "      <th>10</th>\n",
       "      <td>100.000</td>\n",
       "      <td>1.000000</td>\n",
       "      <td>0.553846</td>\n",
       "      <td>0.446154</td>\n",
       "    </tr>\n",
       "    <tr>\n",
       "      <th>11</th>\n",
       "      <td>500.000</td>\n",
       "      <td>1.000000</td>\n",
       "      <td>0.507692</td>\n",
       "      <td>0.492308</td>\n",
       "    </tr>\n",
       "    <tr>\n",
       "      <th>12</th>\n",
       "      <td>1000.000</td>\n",
       "      <td>1.000000</td>\n",
       "      <td>0.507692</td>\n",
       "      <td>0.492308</td>\n",
       "    </tr>\n",
       "  </tbody>\n",
       "</table>\n",
       "</div>"
      ],
      "text/plain": [
       "           C  train_accuracy  validate_accuracy  difference\n",
       "0      0.001        0.760000           0.446154    0.313846\n",
       "1      0.005        0.913333           0.569231    0.344103\n",
       "2      0.010        0.940000           0.569231    0.370769\n",
       "3      0.050        0.966667           0.630769    0.335897\n",
       "4      0.100        0.973333           0.661538    0.311795\n",
       "5      0.500        0.993333           0.600000    0.393333\n",
       "6      1.000        0.993333           0.584615    0.408718\n",
       "7      5.000        1.000000           0.569231    0.430769\n",
       "8     10.000        1.000000           0.569231    0.430769\n",
       "9     50.000        1.000000           0.553846    0.446154\n",
       "10   100.000        1.000000           0.553846    0.446154\n",
       "11   500.000        1.000000           0.507692    0.492308\n",
       "12  1000.000        1.000000           0.507692    0.492308"
      ]
     },
     "execution_count": 165,
     "metadata": {},
     "output_type": "execute_result"
    }
   ],
   "source": [
    "cv = CountVectorizer(ngram_range=(1,2))\n",
    "X_bow = cv.fit_transform(X_train)\n",
    "X_bow_val = cv.transform(X_val)\n",
    "\n",
    "# Evaluate Logistic Regression models on train & validate set by looping through different values for c hyperparameter\n",
    "\n",
    "# create empty list for which to append metrics from each loop\n",
    "metrics = []\n",
    "\n",
    "# create loop for values in list\n",
    "for c in [.001, .005, .01, .05, .1, .5, 1, 5, 10, 50, 100, 500, 1000]:\n",
    "            \n",
    "    # define the model setting hyperparameters to values for current loop\n",
    "    logit = LogisticRegression(C=c)\n",
    "    \n",
    "    # fit the model on train\n",
    "    logit.fit(X_bow, y_train)\n",
    "    \n",
    "    # use the model and evaluate performance on train\n",
    "    train_accuracy = logit.score(X_bow, y_train)\n",
    "    # use the model and evaluate performance on validate\n",
    "    validate_accuracy = logit.score(X_bow_val, y_val)\n",
    "    \n",
    "    # create output of current loop's hyperparameters and accuracy to append to metrics\n",
    "    output = {\n",
    "        'C': c,\n",
    "        'train_accuracy': train_accuracy,\n",
    "        'validate_accuracy': validate_accuracy\n",
    "    }\n",
    "    \n",
    "    metrics.append(output)\n",
    "\n",
    "# convert metrics list to a dataframe for easy reading\n",
    "df = pd.DataFrame(metrics)\n",
    "# add column to assess the difference between train & validate accuracy\n",
    "df['difference'] = df.train_accuracy - df.validate_accuracy\n",
    "df"
   ]
  },
  {
   "cell_type": "code",
   "execution_count": 166,
   "id": "298c7883",
   "metadata": {},
   "outputs": [
    {
     "data": {
      "text/html": [
       "<div>\n",
       "<style scoped>\n",
       "    .dataframe tbody tr th:only-of-type {\n",
       "        vertical-align: middle;\n",
       "    }\n",
       "\n",
       "    .dataframe tbody tr th {\n",
       "        vertical-align: top;\n",
       "    }\n",
       "\n",
       "    .dataframe thead th {\n",
       "        text-align: right;\n",
       "    }\n",
       "</style>\n",
       "<table border=\"1\" class=\"dataframe\">\n",
       "  <thead>\n",
       "    <tr style=\"text-align: right;\">\n",
       "      <th></th>\n",
       "      <th>C</th>\n",
       "      <th>train_accuracy</th>\n",
       "      <th>validate_accuracy</th>\n",
       "      <th>difference</th>\n",
       "    </tr>\n",
       "  </thead>\n",
       "  <tbody>\n",
       "    <tr>\n",
       "      <th>0</th>\n",
       "      <td>0.001</td>\n",
       "      <td>0.360000</td>\n",
       "      <td>0.400000</td>\n",
       "      <td>-0.040000</td>\n",
       "    </tr>\n",
       "    <tr>\n",
       "      <th>1</th>\n",
       "      <td>0.005</td>\n",
       "      <td>0.360000</td>\n",
       "      <td>0.400000</td>\n",
       "      <td>-0.040000</td>\n",
       "    </tr>\n",
       "    <tr>\n",
       "      <th>2</th>\n",
       "      <td>0.010</td>\n",
       "      <td>0.360000</td>\n",
       "      <td>0.400000</td>\n",
       "      <td>-0.040000</td>\n",
       "    </tr>\n",
       "    <tr>\n",
       "      <th>3</th>\n",
       "      <td>0.050</td>\n",
       "      <td>0.360000</td>\n",
       "      <td>0.400000</td>\n",
       "      <td>-0.040000</td>\n",
       "    </tr>\n",
       "    <tr>\n",
       "      <th>4</th>\n",
       "      <td>0.100</td>\n",
       "      <td>0.360000</td>\n",
       "      <td>0.400000</td>\n",
       "      <td>-0.040000</td>\n",
       "    </tr>\n",
       "    <tr>\n",
       "      <th>5</th>\n",
       "      <td>0.500</td>\n",
       "      <td>0.693333</td>\n",
       "      <td>0.461538</td>\n",
       "      <td>0.231795</td>\n",
       "    </tr>\n",
       "    <tr>\n",
       "      <th>6</th>\n",
       "      <td>1.000</td>\n",
       "      <td>0.806667</td>\n",
       "      <td>0.476923</td>\n",
       "      <td>0.329744</td>\n",
       "    </tr>\n",
       "    <tr>\n",
       "      <th>7</th>\n",
       "      <td>5.000</td>\n",
       "      <td>0.993333</td>\n",
       "      <td>0.630769</td>\n",
       "      <td>0.362564</td>\n",
       "    </tr>\n",
       "    <tr>\n",
       "      <th>8</th>\n",
       "      <td>10.000</td>\n",
       "      <td>0.993333</td>\n",
       "      <td>0.630769</td>\n",
       "      <td>0.362564</td>\n",
       "    </tr>\n",
       "    <tr>\n",
       "      <th>9</th>\n",
       "      <td>50.000</td>\n",
       "      <td>0.993333</td>\n",
       "      <td>0.661538</td>\n",
       "      <td>0.331795</td>\n",
       "    </tr>\n",
       "    <tr>\n",
       "      <th>10</th>\n",
       "      <td>100.000</td>\n",
       "      <td>1.000000</td>\n",
       "      <td>0.646154</td>\n",
       "      <td>0.353846</td>\n",
       "    </tr>\n",
       "    <tr>\n",
       "      <th>11</th>\n",
       "      <td>500.000</td>\n",
       "      <td>1.000000</td>\n",
       "      <td>0.676923</td>\n",
       "      <td>0.323077</td>\n",
       "    </tr>\n",
       "    <tr>\n",
       "      <th>12</th>\n",
       "      <td>1000.000</td>\n",
       "      <td>1.000000</td>\n",
       "      <td>0.676923</td>\n",
       "      <td>0.323077</td>\n",
       "    </tr>\n",
       "  </tbody>\n",
       "</table>\n",
       "</div>"
      ],
      "text/plain": [
       "           C  train_accuracy  validate_accuracy  difference\n",
       "0      0.001        0.360000           0.400000   -0.040000\n",
       "1      0.005        0.360000           0.400000   -0.040000\n",
       "2      0.010        0.360000           0.400000   -0.040000\n",
       "3      0.050        0.360000           0.400000   -0.040000\n",
       "4      0.100        0.360000           0.400000   -0.040000\n",
       "5      0.500        0.693333           0.461538    0.231795\n",
       "6      1.000        0.806667           0.476923    0.329744\n",
       "7      5.000        0.993333           0.630769    0.362564\n",
       "8     10.000        0.993333           0.630769    0.362564\n",
       "9     50.000        0.993333           0.661538    0.331795\n",
       "10   100.000        1.000000           0.646154    0.353846\n",
       "11   500.000        1.000000           0.676923    0.323077\n",
       "12  1000.000        1.000000           0.676923    0.323077"
      ]
     },
     "execution_count": 166,
     "metadata": {},
     "output_type": "execute_result"
    }
   ],
   "source": [
    "tfidf = TfidfVectorizer(ngram_range=(1,2))\n",
    "X_tfidf = tfidf.fit_transform(X_train)\n",
    "X_tfidf_val = tfidf.transform(X_val)\n",
    "# Evaluate Logistic Regression models on train & validate set by looping through different values for c hyperparameter\n",
    "\n",
    "# create empty list for which to append metrics from each loop\n",
    "metrics = []\n",
    "\n",
    "# create loop for values in list\n",
    "for c in [.001, .005, .01, .05, .1, .5, 1, 5, 10, 50, 100, 500, 1000]:\n",
    "            \n",
    "    # define the model setting hyperparameters to values for current loop\n",
    "    logit = LogisticRegression(C=c)\n",
    "    \n",
    "    # fit the model on train\n",
    "    logit.fit(X_tfidf, y_train)\n",
    "    \n",
    "    # use the model and evaluate performance on train\n",
    "    train_accuracy = logit.score(X_tfidf, y_train)\n",
    "    # use the model and evaluate performance on validate\n",
    "    validate_accuracy = logit.score(X_tfidf_val, y_val)\n",
    "    \n",
    "    # create output of current loop's hyperparameters and accuracy to append to metrics\n",
    "    output = {\n",
    "        'C': c,\n",
    "        'train_accuracy': train_accuracy,\n",
    "        'validate_accuracy': validate_accuracy\n",
    "    }\n",
    "    \n",
    "    metrics.append(output)\n",
    "\n",
    "# convert metrics list to a dataframe for easy reading\n",
    "df = pd.DataFrame(metrics)\n",
    "# add column to assess the difference between train & validate accuracy\n",
    "df['difference'] = df.train_accuracy - df.validate_accuracy\n",
    "df"
   ]
  },
  {
   "cell_type": "code",
   "execution_count": 167,
   "id": "9fcf351b",
   "metadata": {},
   "outputs": [
    {
     "data": {
      "text/html": [
       "<div>\n",
       "<style scoped>\n",
       "    .dataframe tbody tr th:only-of-type {\n",
       "        vertical-align: middle;\n",
       "    }\n",
       "\n",
       "    .dataframe tbody tr th {\n",
       "        vertical-align: top;\n",
       "    }\n",
       "\n",
       "    .dataframe thead th {\n",
       "        text-align: right;\n",
       "    }\n",
       "</style>\n",
       "<table border=\"1\" class=\"dataframe\">\n",
       "  <thead>\n",
       "    <tr style=\"text-align: right;\">\n",
       "      <th></th>\n",
       "      <th>C</th>\n",
       "      <th>train_accuracy</th>\n",
       "      <th>validate_accuracy</th>\n",
       "      <th>difference</th>\n",
       "    </tr>\n",
       "  </thead>\n",
       "  <tbody>\n",
       "    <tr>\n",
       "      <th>0</th>\n",
       "      <td>0.001</td>\n",
       "      <td>0.360000</td>\n",
       "      <td>0.400000</td>\n",
       "      <td>-0.040000</td>\n",
       "    </tr>\n",
       "    <tr>\n",
       "      <th>1</th>\n",
       "      <td>0.005</td>\n",
       "      <td>0.360000</td>\n",
       "      <td>0.400000</td>\n",
       "      <td>-0.040000</td>\n",
       "    </tr>\n",
       "    <tr>\n",
       "      <th>2</th>\n",
       "      <td>0.010</td>\n",
       "      <td>0.360000</td>\n",
       "      <td>0.400000</td>\n",
       "      <td>-0.040000</td>\n",
       "    </tr>\n",
       "    <tr>\n",
       "      <th>3</th>\n",
       "      <td>0.050</td>\n",
       "      <td>0.360000</td>\n",
       "      <td>0.400000</td>\n",
       "      <td>-0.040000</td>\n",
       "    </tr>\n",
       "    <tr>\n",
       "      <th>4</th>\n",
       "      <td>0.100</td>\n",
       "      <td>0.360000</td>\n",
       "      <td>0.400000</td>\n",
       "      <td>-0.040000</td>\n",
       "    </tr>\n",
       "    <tr>\n",
       "      <th>5</th>\n",
       "      <td>0.500</td>\n",
       "      <td>0.693333</td>\n",
       "      <td>0.461538</td>\n",
       "      <td>0.231795</td>\n",
       "    </tr>\n",
       "    <tr>\n",
       "      <th>6</th>\n",
       "      <td>1.000</td>\n",
       "      <td>0.806667</td>\n",
       "      <td>0.476923</td>\n",
       "      <td>0.329744</td>\n",
       "    </tr>\n",
       "    <tr>\n",
       "      <th>7</th>\n",
       "      <td>5.000</td>\n",
       "      <td>0.993333</td>\n",
       "      <td>0.615385</td>\n",
       "      <td>0.377949</td>\n",
       "    </tr>\n",
       "    <tr>\n",
       "      <th>8</th>\n",
       "      <td>10.000</td>\n",
       "      <td>0.993333</td>\n",
       "      <td>0.646154</td>\n",
       "      <td>0.347179</td>\n",
       "    </tr>\n",
       "    <tr>\n",
       "      <th>9</th>\n",
       "      <td>50.000</td>\n",
       "      <td>0.993333</td>\n",
       "      <td>0.646154</td>\n",
       "      <td>0.347179</td>\n",
       "    </tr>\n",
       "    <tr>\n",
       "      <th>10</th>\n",
       "      <td>100.000</td>\n",
       "      <td>0.993333</td>\n",
       "      <td>0.615385</td>\n",
       "      <td>0.377949</td>\n",
       "    </tr>\n",
       "    <tr>\n",
       "      <th>11</th>\n",
       "      <td>500.000</td>\n",
       "      <td>1.000000</td>\n",
       "      <td>0.661538</td>\n",
       "      <td>0.338462</td>\n",
       "    </tr>\n",
       "    <tr>\n",
       "      <th>12</th>\n",
       "      <td>1000.000</td>\n",
       "      <td>1.000000</td>\n",
       "      <td>0.661538</td>\n",
       "      <td>0.338462</td>\n",
       "    </tr>\n",
       "  </tbody>\n",
       "</table>\n",
       "</div>"
      ],
      "text/plain": [
       "           C  train_accuracy  validate_accuracy  difference\n",
       "0      0.001        0.360000           0.400000   -0.040000\n",
       "1      0.005        0.360000           0.400000   -0.040000\n",
       "2      0.010        0.360000           0.400000   -0.040000\n",
       "3      0.050        0.360000           0.400000   -0.040000\n",
       "4      0.100        0.360000           0.400000   -0.040000\n",
       "5      0.500        0.693333           0.461538    0.231795\n",
       "6      1.000        0.806667           0.476923    0.329744\n",
       "7      5.000        0.993333           0.615385    0.377949\n",
       "8     10.000        0.993333           0.646154    0.347179\n",
       "9     50.000        0.993333           0.646154    0.347179\n",
       "10   100.000        0.993333           0.615385    0.377949\n",
       "11   500.000        1.000000           0.661538    0.338462\n",
       "12  1000.000        1.000000           0.661538    0.338462"
      ]
     },
     "execution_count": 167,
     "metadata": {},
     "output_type": "execute_result"
    }
   ],
   "source": [
    "tfidf = TfidfVectorizer(ngram_range=(1,3))\n",
    "X_tfidf = tfidf.fit_transform(X_train)\n",
    "X_tfidf_val = tfidf.transform(X_val)\n",
    "# Evaluate Logistic Regression models on train & validate set by looping through different values for c hyperparameter\n",
    "\n",
    "# create empty list for which to append metrics from each loop\n",
    "metrics = []\n",
    "\n",
    "# create loop for values in list\n",
    "for c in [.001, .005, .01, .05, .1, .5, 1, 5, 10, 50, 100, 500, 1000]:\n",
    "            \n",
    "    # define the model setting hyperparameters to values for current loop\n",
    "    logit = LogisticRegression(C=c)\n",
    "    \n",
    "    # fit the model on train\n",
    "    logit.fit(X_tfidf, y_train)\n",
    "    \n",
    "    # use the model and evaluate performance on train\n",
    "    train_accuracy = logit.score(X_tfidf, y_train)\n",
    "    # use the model and evaluate performance on validate\n",
    "    validate_accuracy = logit.score(X_tfidf_val, y_val)\n",
    "    \n",
    "    # create output of current loop's hyperparameters and accuracy to append to metrics\n",
    "    output = {\n",
    "        'C': c,\n",
    "        'train_accuracy': train_accuracy,\n",
    "        'validate_accuracy': validate_accuracy\n",
    "    }\n",
    "    \n",
    "    metrics.append(output)\n",
    "\n",
    "# convert metrics list to a dataframe for easy reading\n",
    "df = pd.DataFrame(metrics)\n",
    "# add column to assess the difference between train & validate accuracy\n",
    "df['difference'] = df.train_accuracy - df.validate_accuracy\n",
    "df"
   ]
  },
  {
   "cell_type": "code",
   "execution_count": null,
   "id": "76fdaccc",
   "metadata": {},
   "outputs": [],
   "source": []
  },
  {
   "cell_type": "code",
   "execution_count": 169,
   "id": "098f4abf",
   "metadata": {},
   "outputs": [
    {
     "data": {
      "text/plain": [
       "(0.9933333333333333, 0.46296296296296297)"
      ]
     },
     "execution_count": 169,
     "metadata": {},
     "output_type": "execute_result"
    }
   ],
   "source": [
    "tfidf = TfidfVectorizer()\n",
    "X_tfidf = tfidf.fit_transform(X_train)\n",
    "X_tfidf_test = tfidf.transform(X_test)\n",
    "lm = LogisticRegression(C=10, random_state=123).fit(X_tfidf, y_train)\n",
    "lm.score(X_tfidf, y_train), lm.score(X_tfidf_test, y_test)"
   ]
  },
  {
   "cell_type": "code",
   "execution_count": 170,
   "id": "db255d27",
   "metadata": {},
   "outputs": [
    {
     "data": {
      "text/plain": [
       "(1.0, 0.4444444444444444)"
      ]
     },
     "execution_count": 170,
     "metadata": {},
     "output_type": "execute_result"
    }
   ],
   "source": [
    "tfidf = TfidfVectorizer(ngram_range=(1,2))\n",
    "X_tfidf = tfidf.fit_transform(X_train)\n",
    "X_tfidf_test = tfidf.transform(X_test)\n",
    "lm = LogisticRegression(C=500, random_state=123).fit(X_tfidf, y_train)\n",
    "lm.score(X_tfidf, y_train), lm.score(X_tfidf_test, y_test)"
   ]
  },
  {
   "cell_type": "code",
   "execution_count": null,
   "id": "a16ce24a",
   "metadata": {},
   "outputs": [],
   "source": []
  },
  {
   "cell_type": "code",
   "execution_count": 159,
   "id": "38ba9f12",
   "metadata": {},
   "outputs": [
    {
     "data": {
      "text/html": [
       "<div>\n",
       "<style scoped>\n",
       "    .dataframe tbody tr th:only-of-type {\n",
       "        vertical-align: middle;\n",
       "    }\n",
       "\n",
       "    .dataframe tbody tr th {\n",
       "        vertical-align: top;\n",
       "    }\n",
       "\n",
       "    .dataframe thead th {\n",
       "        text-align: right;\n",
       "    }\n",
       "</style>\n",
       "<table border=\"1\" class=\"dataframe\">\n",
       "  <thead>\n",
       "    <tr style=\"text-align: right;\">\n",
       "      <th></th>\n",
       "      <th>k</th>\n",
       "      <th>train_accuracy</th>\n",
       "      <th>validate_accuracy</th>\n",
       "      <th>difference</th>\n",
       "    </tr>\n",
       "  </thead>\n",
       "  <tbody>\n",
       "    <tr>\n",
       "      <th>0</th>\n",
       "      <td>1</td>\n",
       "      <td>1.000000</td>\n",
       "      <td>0.323077</td>\n",
       "      <td>0.676923</td>\n",
       "    </tr>\n",
       "    <tr>\n",
       "      <th>1</th>\n",
       "      <td>2</td>\n",
       "      <td>0.520000</td>\n",
       "      <td>0.276923</td>\n",
       "      <td>0.243077</td>\n",
       "    </tr>\n",
       "    <tr>\n",
       "      <th>2</th>\n",
       "      <td>3</td>\n",
       "      <td>0.593333</td>\n",
       "      <td>0.292308</td>\n",
       "      <td>0.301026</td>\n",
       "    </tr>\n",
       "    <tr>\n",
       "      <th>3</th>\n",
       "      <td>4</td>\n",
       "      <td>0.660000</td>\n",
       "      <td>0.384615</td>\n",
       "      <td>0.275385</td>\n",
       "    </tr>\n",
       "    <tr>\n",
       "      <th>4</th>\n",
       "      <td>5</td>\n",
       "      <td>0.573333</td>\n",
       "      <td>0.415385</td>\n",
       "      <td>0.157949</td>\n",
       "    </tr>\n",
       "    <tr>\n",
       "      <th>5</th>\n",
       "      <td>6</td>\n",
       "      <td>0.540000</td>\n",
       "      <td>0.415385</td>\n",
       "      <td>0.124615</td>\n",
       "    </tr>\n",
       "    <tr>\n",
       "      <th>6</th>\n",
       "      <td>7</td>\n",
       "      <td>0.446667</td>\n",
       "      <td>0.338462</td>\n",
       "      <td>0.108205</td>\n",
       "    </tr>\n",
       "    <tr>\n",
       "      <th>7</th>\n",
       "      <td>8</td>\n",
       "      <td>0.546667</td>\n",
       "      <td>0.400000</td>\n",
       "      <td>0.146667</td>\n",
       "    </tr>\n",
       "    <tr>\n",
       "      <th>8</th>\n",
       "      <td>9</td>\n",
       "      <td>0.586667</td>\n",
       "      <td>0.523077</td>\n",
       "      <td>0.063590</td>\n",
       "    </tr>\n",
       "    <tr>\n",
       "      <th>9</th>\n",
       "      <td>10</td>\n",
       "      <td>0.600000</td>\n",
       "      <td>0.430769</td>\n",
       "      <td>0.169231</td>\n",
       "    </tr>\n",
       "    <tr>\n",
       "      <th>10</th>\n",
       "      <td>11</td>\n",
       "      <td>0.560000</td>\n",
       "      <td>0.415385</td>\n",
       "      <td>0.144615</td>\n",
       "    </tr>\n",
       "    <tr>\n",
       "      <th>11</th>\n",
       "      <td>12</td>\n",
       "      <td>0.486667</td>\n",
       "      <td>0.430769</td>\n",
       "      <td>0.055897</td>\n",
       "    </tr>\n",
       "    <tr>\n",
       "      <th>12</th>\n",
       "      <td>13</td>\n",
       "      <td>0.460000</td>\n",
       "      <td>0.415385</td>\n",
       "      <td>0.044615</td>\n",
       "    </tr>\n",
       "    <tr>\n",
       "      <th>13</th>\n",
       "      <td>14</td>\n",
       "      <td>0.433333</td>\n",
       "      <td>0.384615</td>\n",
       "      <td>0.048718</td>\n",
       "    </tr>\n",
       "    <tr>\n",
       "      <th>14</th>\n",
       "      <td>15</td>\n",
       "      <td>0.426667</td>\n",
       "      <td>0.384615</td>\n",
       "      <td>0.042051</td>\n",
       "    </tr>\n",
       "    <tr>\n",
       "      <th>15</th>\n",
       "      <td>16</td>\n",
       "      <td>0.420000</td>\n",
       "      <td>0.400000</td>\n",
       "      <td>0.020000</td>\n",
       "    </tr>\n",
       "    <tr>\n",
       "      <th>16</th>\n",
       "      <td>17</td>\n",
       "      <td>0.406667</td>\n",
       "      <td>0.384615</td>\n",
       "      <td>0.022051</td>\n",
       "    </tr>\n",
       "    <tr>\n",
       "      <th>17</th>\n",
       "      <td>18</td>\n",
       "      <td>0.413333</td>\n",
       "      <td>0.369231</td>\n",
       "      <td>0.044103</td>\n",
       "    </tr>\n",
       "    <tr>\n",
       "      <th>18</th>\n",
       "      <td>19</td>\n",
       "      <td>0.413333</td>\n",
       "      <td>0.369231</td>\n",
       "      <td>0.044103</td>\n",
       "    </tr>\n",
       "  </tbody>\n",
       "</table>\n",
       "</div>"
      ],
      "text/plain": [
       "     k  train_accuracy  validate_accuracy  difference\n",
       "0    1        1.000000           0.323077    0.676923\n",
       "1    2        0.520000           0.276923    0.243077\n",
       "2    3        0.593333           0.292308    0.301026\n",
       "3    4        0.660000           0.384615    0.275385\n",
       "4    5        0.573333           0.415385    0.157949\n",
       "5    6        0.540000           0.415385    0.124615\n",
       "6    7        0.446667           0.338462    0.108205\n",
       "7    8        0.546667           0.400000    0.146667\n",
       "8    9        0.586667           0.523077    0.063590\n",
       "9   10        0.600000           0.430769    0.169231\n",
       "10  11        0.560000           0.415385    0.144615\n",
       "11  12        0.486667           0.430769    0.055897\n",
       "12  13        0.460000           0.415385    0.044615\n",
       "13  14        0.433333           0.384615    0.048718\n",
       "14  15        0.426667           0.384615    0.042051\n",
       "15  16        0.420000           0.400000    0.020000\n",
       "16  17        0.406667           0.384615    0.022051\n",
       "17  18        0.413333           0.369231    0.044103\n",
       "18  19        0.413333           0.369231    0.044103"
      ]
     },
     "execution_count": 159,
     "metadata": {},
     "output_type": "execute_result"
    }
   ],
   "source": [
    "cv = CountVectorizer()\n",
    "X_bow = cv.fit_transform(X_train)\n",
    "X_bow_val = cv.transform(X_val)\n",
    "\n",
    "\n",
    "# Evaluate KNearest Neighbors models on train & validate set by looping through different values for k hyperparameter\n",
    "\n",
    "# create empty list for which to append scores from each loop\n",
    "scores = []\n",
    "k_range = range (1,20)\n",
    "# create loop for range 1-20\n",
    "for k in k_range:\n",
    "            \n",
    "    # define the model setting hyperparameters to values for current loop\n",
    "    knn = KNeighborsClassifier(n_neighbors=k)\n",
    "    \n",
    "    # fit the model on train\n",
    "    knn.fit(X_bow, y_train)\n",
    "    \n",
    "    # use the model and evaluate performance on train\n",
    "    train_accuracy = knn.score(X_bow, y_train)\n",
    "    # use the model and evaluate performance on validate\n",
    "    validate_accuracy = knn.score(X_bow_val, y_val)\n",
    "    \n",
    "    # create output of current loop's hyperparameters and accuracy to append to metrics\n",
    "    output = {\n",
    "        \"k\": k,\n",
    "        \"train_accuracy\": train_accuracy,\n",
    "        \"validate_accuracy\": validate_accuracy\n",
    "    }\n",
    "    \n",
    "    scores.append(output)\n",
    "\n",
    "# convert scores list to a dataframe for easy reading\n",
    "df = pd.DataFrame(scores)\n",
    "# add column to assess the difference between train & validate accuracy\n",
    "df['difference'] = df.train_accuracy - df.validate_accuracy\n",
    "df"
   ]
  },
  {
   "cell_type": "code",
   "execution_count": 160,
   "id": "f495cd57",
   "metadata": {},
   "outputs": [
    {
     "data": {
      "text/html": [
       "<div>\n",
       "<style scoped>\n",
       "    .dataframe tbody tr th:only-of-type {\n",
       "        vertical-align: middle;\n",
       "    }\n",
       "\n",
       "    .dataframe tbody tr th {\n",
       "        vertical-align: top;\n",
       "    }\n",
       "\n",
       "    .dataframe thead th {\n",
       "        text-align: right;\n",
       "    }\n",
       "</style>\n",
       "<table border=\"1\" class=\"dataframe\">\n",
       "  <thead>\n",
       "    <tr style=\"text-align: right;\">\n",
       "      <th></th>\n",
       "      <th>k</th>\n",
       "      <th>train_accuracy</th>\n",
       "      <th>validate_accuracy</th>\n",
       "      <th>difference</th>\n",
       "    </tr>\n",
       "  </thead>\n",
       "  <tbody>\n",
       "    <tr>\n",
       "      <th>0</th>\n",
       "      <td>1</td>\n",
       "      <td>1.000000</td>\n",
       "      <td>0.261538</td>\n",
       "      <td>0.738462</td>\n",
       "    </tr>\n",
       "    <tr>\n",
       "      <th>1</th>\n",
       "      <td>2</td>\n",
       "      <td>0.300000</td>\n",
       "      <td>0.153846</td>\n",
       "      <td>0.146154</td>\n",
       "    </tr>\n",
       "    <tr>\n",
       "      <th>2</th>\n",
       "      <td>3</td>\n",
       "      <td>0.606667</td>\n",
       "      <td>0.261538</td>\n",
       "      <td>0.345128</td>\n",
       "    </tr>\n",
       "    <tr>\n",
       "      <th>3</th>\n",
       "      <td>4</td>\n",
       "      <td>0.706667</td>\n",
       "      <td>0.369231</td>\n",
       "      <td>0.337436</td>\n",
       "    </tr>\n",
       "    <tr>\n",
       "      <th>4</th>\n",
       "      <td>5</td>\n",
       "      <td>0.646667</td>\n",
       "      <td>0.430769</td>\n",
       "      <td>0.215897</td>\n",
       "    </tr>\n",
       "    <tr>\n",
       "      <th>5</th>\n",
       "      <td>6</td>\n",
       "      <td>0.646667</td>\n",
       "      <td>0.461538</td>\n",
       "      <td>0.185128</td>\n",
       "    </tr>\n",
       "    <tr>\n",
       "      <th>6</th>\n",
       "      <td>7</td>\n",
       "      <td>0.593333</td>\n",
       "      <td>0.415385</td>\n",
       "      <td>0.177949</td>\n",
       "    </tr>\n",
       "    <tr>\n",
       "      <th>7</th>\n",
       "      <td>8</td>\n",
       "      <td>0.573333</td>\n",
       "      <td>0.400000</td>\n",
       "      <td>0.173333</td>\n",
       "    </tr>\n",
       "    <tr>\n",
       "      <th>8</th>\n",
       "      <td>9</td>\n",
       "      <td>0.613333</td>\n",
       "      <td>0.461538</td>\n",
       "      <td>0.151795</td>\n",
       "    </tr>\n",
       "    <tr>\n",
       "      <th>9</th>\n",
       "      <td>10</td>\n",
       "      <td>0.593333</td>\n",
       "      <td>0.400000</td>\n",
       "      <td>0.193333</td>\n",
       "    </tr>\n",
       "    <tr>\n",
       "      <th>10</th>\n",
       "      <td>11</td>\n",
       "      <td>0.553333</td>\n",
       "      <td>0.461538</td>\n",
       "      <td>0.091795</td>\n",
       "    </tr>\n",
       "    <tr>\n",
       "      <th>11</th>\n",
       "      <td>12</td>\n",
       "      <td>0.500000</td>\n",
       "      <td>0.369231</td>\n",
       "      <td>0.130769</td>\n",
       "    </tr>\n",
       "    <tr>\n",
       "      <th>12</th>\n",
       "      <td>13</td>\n",
       "      <td>0.520000</td>\n",
       "      <td>0.369231</td>\n",
       "      <td>0.150769</td>\n",
       "    </tr>\n",
       "    <tr>\n",
       "      <th>13</th>\n",
       "      <td>14</td>\n",
       "      <td>0.533333</td>\n",
       "      <td>0.353846</td>\n",
       "      <td>0.179487</td>\n",
       "    </tr>\n",
       "    <tr>\n",
       "      <th>14</th>\n",
       "      <td>15</td>\n",
       "      <td>0.526667</td>\n",
       "      <td>0.338462</td>\n",
       "      <td>0.188205</td>\n",
       "    </tr>\n",
       "    <tr>\n",
       "      <th>15</th>\n",
       "      <td>16</td>\n",
       "      <td>0.526667</td>\n",
       "      <td>0.384615</td>\n",
       "      <td>0.142051</td>\n",
       "    </tr>\n",
       "    <tr>\n",
       "      <th>16</th>\n",
       "      <td>17</td>\n",
       "      <td>0.513333</td>\n",
       "      <td>0.430769</td>\n",
       "      <td>0.082564</td>\n",
       "    </tr>\n",
       "    <tr>\n",
       "      <th>17</th>\n",
       "      <td>18</td>\n",
       "      <td>0.513333</td>\n",
       "      <td>0.415385</td>\n",
       "      <td>0.097949</td>\n",
       "    </tr>\n",
       "    <tr>\n",
       "      <th>18</th>\n",
       "      <td>19</td>\n",
       "      <td>0.500000</td>\n",
       "      <td>0.461538</td>\n",
       "      <td>0.038462</td>\n",
       "    </tr>\n",
       "  </tbody>\n",
       "</table>\n",
       "</div>"
      ],
      "text/plain": [
       "     k  train_accuracy  validate_accuracy  difference\n",
       "0    1        1.000000           0.261538    0.738462\n",
       "1    2        0.300000           0.153846    0.146154\n",
       "2    3        0.606667           0.261538    0.345128\n",
       "3    4        0.706667           0.369231    0.337436\n",
       "4    5        0.646667           0.430769    0.215897\n",
       "5    6        0.646667           0.461538    0.185128\n",
       "6    7        0.593333           0.415385    0.177949\n",
       "7    8        0.573333           0.400000    0.173333\n",
       "8    9        0.613333           0.461538    0.151795\n",
       "9   10        0.593333           0.400000    0.193333\n",
       "10  11        0.553333           0.461538    0.091795\n",
       "11  12        0.500000           0.369231    0.130769\n",
       "12  13        0.520000           0.369231    0.150769\n",
       "13  14        0.533333           0.353846    0.179487\n",
       "14  15        0.526667           0.338462    0.188205\n",
       "15  16        0.526667           0.384615    0.142051\n",
       "16  17        0.513333           0.430769    0.082564\n",
       "17  18        0.513333           0.415385    0.097949\n",
       "18  19        0.500000           0.461538    0.038462"
      ]
     },
     "execution_count": 160,
     "metadata": {},
     "output_type": "execute_result"
    }
   ],
   "source": [
    "tfidf = TfidfVectorizer()\n",
    "X_tfidf = tfidf.fit_transform(X_train)\n",
    "X_tfidf_val = tfidf.transform(X_val)\n",
    "\n",
    "# Evaluate KNearest Neighbors models on train & validate set by looping through different values for k hyperparameter\n",
    "\n",
    "# create empty list for which to append scores from each loop\n",
    "scores = []\n",
    "k_range = range (1,20)\n",
    "# create loop for range 1-20\n",
    "for k in k_range:\n",
    "            \n",
    "    # define the model setting hyperparameters to values for current loop\n",
    "    knn = KNeighborsClassifier(n_neighbors=k)\n",
    "    \n",
    "    # fit the model on train\n",
    "    knn.fit(X_tfidf, y_train)\n",
    "    \n",
    "    # use the model and evaluate performance on train\n",
    "    train_accuracy = knn.score(X_tfidf, y_train)\n",
    "    # use the model and evaluate performance on validate\n",
    "    validate_accuracy = knn.score(X_tfidf_val, y_val)\n",
    "    \n",
    "    # create output of current loop's hyperparameters and accuracy to append to metrics\n",
    "    output = {\n",
    "        \"k\": k,\n",
    "        \"train_accuracy\": train_accuracy,\n",
    "        \"validate_accuracy\": validate_accuracy\n",
    "    }\n",
    "    \n",
    "    scores.append(output)\n",
    "\n",
    "# convert scores list to a dataframe for easy reading\n",
    "df = pd.DataFrame(scores)\n",
    "# add column to assess the difference between train & validate accuracy\n",
    "df['difference'] = df.train_accuracy - df.validate_accuracy\n",
    "df"
   ]
  },
  {
   "cell_type": "code",
   "execution_count": null,
   "id": "04e5688d",
   "metadata": {},
   "outputs": [],
   "source": []
  },
  {
   "cell_type": "code",
   "execution_count": null,
   "id": "8666b48d",
   "metadata": {},
   "outputs": [],
   "source": []
  },
  {
   "cell_type": "code",
   "execution_count": null,
   "id": "d22f201c",
   "metadata": {},
   "outputs": [],
   "source": []
  },
  {
   "cell_type": "code",
   "execution_count": 163,
   "id": "a741d664",
   "metadata": {},
   "outputs": [
    {
     "data": {
      "text/html": [
       "<div>\n",
       "<style scoped>\n",
       "    .dataframe tbody tr th:only-of-type {\n",
       "        vertical-align: middle;\n",
       "    }\n",
       "\n",
       "    .dataframe tbody tr th {\n",
       "        vertical-align: top;\n",
       "    }\n",
       "\n",
       "    .dataframe thead th {\n",
       "        text-align: right;\n",
       "    }\n",
       "</style>\n",
       "<table border=\"1\" class=\"dataframe\">\n",
       "  <thead>\n",
       "    <tr style=\"text-align: right;\">\n",
       "      <th></th>\n",
       "      <th>min_samples_per_leaf</th>\n",
       "      <th>max_depth</th>\n",
       "      <th>train_accuracy</th>\n",
       "      <th>validate_accuracy</th>\n",
       "      <th>difference</th>\n",
       "    </tr>\n",
       "  </thead>\n",
       "  <tbody>\n",
       "    <tr>\n",
       "      <th>0</th>\n",
       "      <td>1</td>\n",
       "      <td>1</td>\n",
       "      <td>0.406667</td>\n",
       "      <td>0.400000</td>\n",
       "      <td>0.006667</td>\n",
       "    </tr>\n",
       "    <tr>\n",
       "      <th>1</th>\n",
       "      <td>2</td>\n",
       "      <td>2</td>\n",
       "      <td>0.420000</td>\n",
       "      <td>0.400000</td>\n",
       "      <td>0.020000</td>\n",
       "    </tr>\n",
       "    <tr>\n",
       "      <th>2</th>\n",
       "      <td>3</td>\n",
       "      <td>3</td>\n",
       "      <td>0.466667</td>\n",
       "      <td>0.415385</td>\n",
       "      <td>0.051282</td>\n",
       "    </tr>\n",
       "    <tr>\n",
       "      <th>3</th>\n",
       "      <td>4</td>\n",
       "      <td>4</td>\n",
       "      <td>0.513333</td>\n",
       "      <td>0.430769</td>\n",
       "      <td>0.082564</td>\n",
       "    </tr>\n",
       "    <tr>\n",
       "      <th>4</th>\n",
       "      <td>5</td>\n",
       "      <td>5</td>\n",
       "      <td>0.493333</td>\n",
       "      <td>0.415385</td>\n",
       "      <td>0.077949</td>\n",
       "    </tr>\n",
       "    <tr>\n",
       "      <th>5</th>\n",
       "      <td>6</td>\n",
       "      <td>6</td>\n",
       "      <td>0.473333</td>\n",
       "      <td>0.430769</td>\n",
       "      <td>0.042564</td>\n",
       "    </tr>\n",
       "    <tr>\n",
       "      <th>6</th>\n",
       "      <td>7</td>\n",
       "      <td>7</td>\n",
       "      <td>0.453333</td>\n",
       "      <td>0.430769</td>\n",
       "      <td>0.022564</td>\n",
       "    </tr>\n",
       "    <tr>\n",
       "      <th>7</th>\n",
       "      <td>8</td>\n",
       "      <td>8</td>\n",
       "      <td>0.446667</td>\n",
       "      <td>0.415385</td>\n",
       "      <td>0.031282</td>\n",
       "    </tr>\n",
       "    <tr>\n",
       "      <th>8</th>\n",
       "      <td>9</td>\n",
       "      <td>9</td>\n",
       "      <td>0.406667</td>\n",
       "      <td>0.384615</td>\n",
       "      <td>0.022051</td>\n",
       "    </tr>\n",
       "    <tr>\n",
       "      <th>9</th>\n",
       "      <td>10</td>\n",
       "      <td>10</td>\n",
       "      <td>0.406667</td>\n",
       "      <td>0.400000</td>\n",
       "      <td>0.006667</td>\n",
       "    </tr>\n",
       "    <tr>\n",
       "      <th>10</th>\n",
       "      <td>11</td>\n",
       "      <td>11</td>\n",
       "      <td>0.380000</td>\n",
       "      <td>0.384615</td>\n",
       "      <td>-0.004615</td>\n",
       "    </tr>\n",
       "    <tr>\n",
       "      <th>11</th>\n",
       "      <td>12</td>\n",
       "      <td>12</td>\n",
       "      <td>0.386667</td>\n",
       "      <td>0.400000</td>\n",
       "      <td>-0.013333</td>\n",
       "    </tr>\n",
       "    <tr>\n",
       "      <th>12</th>\n",
       "      <td>13</td>\n",
       "      <td>13</td>\n",
       "      <td>0.380000</td>\n",
       "      <td>0.400000</td>\n",
       "      <td>-0.020000</td>\n",
       "    </tr>\n",
       "    <tr>\n",
       "      <th>13</th>\n",
       "      <td>14</td>\n",
       "      <td>14</td>\n",
       "      <td>0.360000</td>\n",
       "      <td>0.400000</td>\n",
       "      <td>-0.040000</td>\n",
       "    </tr>\n",
       "    <tr>\n",
       "      <th>14</th>\n",
       "      <td>15</td>\n",
       "      <td>15</td>\n",
       "      <td>0.360000</td>\n",
       "      <td>0.400000</td>\n",
       "      <td>-0.040000</td>\n",
       "    </tr>\n",
       "    <tr>\n",
       "      <th>15</th>\n",
       "      <td>16</td>\n",
       "      <td>16</td>\n",
       "      <td>0.360000</td>\n",
       "      <td>0.400000</td>\n",
       "      <td>-0.040000</td>\n",
       "    </tr>\n",
       "    <tr>\n",
       "      <th>16</th>\n",
       "      <td>17</td>\n",
       "      <td>17</td>\n",
       "      <td>0.360000</td>\n",
       "      <td>0.400000</td>\n",
       "      <td>-0.040000</td>\n",
       "    </tr>\n",
       "    <tr>\n",
       "      <th>17</th>\n",
       "      <td>18</td>\n",
       "      <td>18</td>\n",
       "      <td>0.360000</td>\n",
       "      <td>0.400000</td>\n",
       "      <td>-0.040000</td>\n",
       "    </tr>\n",
       "    <tr>\n",
       "      <th>18</th>\n",
       "      <td>19</td>\n",
       "      <td>19</td>\n",
       "      <td>0.360000</td>\n",
       "      <td>0.400000</td>\n",
       "      <td>-0.040000</td>\n",
       "    </tr>\n",
       "    <tr>\n",
       "      <th>19</th>\n",
       "      <td>20</td>\n",
       "      <td>20</td>\n",
       "      <td>0.360000</td>\n",
       "      <td>0.400000</td>\n",
       "      <td>-0.040000</td>\n",
       "    </tr>\n",
       "  </tbody>\n",
       "</table>\n",
       "</div>"
      ],
      "text/plain": [
       "    min_samples_per_leaf  max_depth  train_accuracy  validate_accuracy  \\\n",
       "0                      1          1        0.406667           0.400000   \n",
       "1                      2          2        0.420000           0.400000   \n",
       "2                      3          3        0.466667           0.415385   \n",
       "3                      4          4        0.513333           0.430769   \n",
       "4                      5          5        0.493333           0.415385   \n",
       "5                      6          6        0.473333           0.430769   \n",
       "6                      7          7        0.453333           0.430769   \n",
       "7                      8          8        0.446667           0.415385   \n",
       "8                      9          9        0.406667           0.384615   \n",
       "9                     10         10        0.406667           0.400000   \n",
       "10                    11         11        0.380000           0.384615   \n",
       "11                    12         12        0.386667           0.400000   \n",
       "12                    13         13        0.380000           0.400000   \n",
       "13                    14         14        0.360000           0.400000   \n",
       "14                    15         15        0.360000           0.400000   \n",
       "15                    16         16        0.360000           0.400000   \n",
       "16                    17         17        0.360000           0.400000   \n",
       "17                    18         18        0.360000           0.400000   \n",
       "18                    19         19        0.360000           0.400000   \n",
       "19                    20         20        0.360000           0.400000   \n",
       "\n",
       "    difference  \n",
       "0     0.006667  \n",
       "1     0.020000  \n",
       "2     0.051282  \n",
       "3     0.082564  \n",
       "4     0.077949  \n",
       "5     0.042564  \n",
       "6     0.022564  \n",
       "7     0.031282  \n",
       "8     0.022051  \n",
       "9     0.006667  \n",
       "10   -0.004615  \n",
       "11   -0.013333  \n",
       "12   -0.020000  \n",
       "13   -0.040000  \n",
       "14   -0.040000  \n",
       "15   -0.040000  \n",
       "16   -0.040000  \n",
       "17   -0.040000  \n",
       "18   -0.040000  \n",
       "19   -0.040000  "
      ]
     },
     "execution_count": 163,
     "metadata": {},
     "output_type": "execute_result"
    }
   ],
   "source": [
    "cv = CountVectorizer()\n",
    "X_bow = cv.fit_transform(X_train)\n",
    "X_bow_val = cv.transform(X_val)\n",
    "\n",
    "\n",
    "# Evaluate Random Forest models on train & validate set by looping through different values for max_depth and min_samples_leaf hyperparameters\n",
    "\n",
    "# create empty list for which to append metrics from each loop\n",
    "scores = []\n",
    "# set value for range\n",
    "max_value = range(1,21)\n",
    "\n",
    "# create loop for range 1-20\n",
    "for i in max_value:\n",
    "    # set depth & n_samples to value for current loop\n",
    "    depth = i\n",
    "    n_samples = i\n",
    "    \n",
    "    # define the model setting hyperparameters to values for current loop\n",
    "    forest = RandomForestClassifier(max_depth=depth, min_samples_leaf=n_samples, random_state=123)\n",
    "\n",
    "    # fit the model on train\n",
    "    forest = forest.fit(X_bow, y_train)\n",
    "\n",
    "    # use the model and evaluate performance on train\n",
    "    in_sample_accuracy = forest.score(X_bow, y_train)\n",
    "    # use the model and evaluate performance on validate\n",
    "    out_of_sample_accuracy = forest.score(X_bow_val, y_val)\n",
    "    \n",
    "    # create output of current loop's hyperparameters and accuracy to append to metrics\n",
    "    output = {\n",
    "        \"min_samples_per_leaf\": n_samples,\n",
    "        \"max_depth\": depth,\n",
    "        \"train_accuracy\": in_sample_accuracy,\n",
    "        \"validate_accuracy\": out_of_sample_accuracy\n",
    "    }\n",
    "    \n",
    "    scores.append(output)\n",
    "\n",
    "# convert metrics list to a dataframe for easy reading   \n",
    "df = pd.DataFrame(scores)\n",
    "# add column to assess the difference between train & validate accuracy\n",
    "df[\"difference\"] = df.train_accuracy - df.validate_accuracy\n",
    "df"
   ]
  },
  {
   "cell_type": "code",
   "execution_count": 164,
   "id": "4f20d500",
   "metadata": {},
   "outputs": [
    {
     "data": {
      "text/html": [
       "<div>\n",
       "<style scoped>\n",
       "    .dataframe tbody tr th:only-of-type {\n",
       "        vertical-align: middle;\n",
       "    }\n",
       "\n",
       "    .dataframe tbody tr th {\n",
       "        vertical-align: top;\n",
       "    }\n",
       "\n",
       "    .dataframe thead th {\n",
       "        text-align: right;\n",
       "    }\n",
       "</style>\n",
       "<table border=\"1\" class=\"dataframe\">\n",
       "  <thead>\n",
       "    <tr style=\"text-align: right;\">\n",
       "      <th></th>\n",
       "      <th>min_samples_per_leaf</th>\n",
       "      <th>max_depth</th>\n",
       "      <th>train_accuracy</th>\n",
       "      <th>validate_accuracy</th>\n",
       "      <th>difference</th>\n",
       "    </tr>\n",
       "  </thead>\n",
       "  <tbody>\n",
       "    <tr>\n",
       "      <th>0</th>\n",
       "      <td>1</td>\n",
       "      <td>1</td>\n",
       "      <td>0.380000</td>\n",
       "      <td>0.400000</td>\n",
       "      <td>-0.020000</td>\n",
       "    </tr>\n",
       "    <tr>\n",
       "      <th>1</th>\n",
       "      <td>2</td>\n",
       "      <td>2</td>\n",
       "      <td>0.433333</td>\n",
       "      <td>0.415385</td>\n",
       "      <td>0.017949</td>\n",
       "    </tr>\n",
       "    <tr>\n",
       "      <th>2</th>\n",
       "      <td>3</td>\n",
       "      <td>3</td>\n",
       "      <td>0.506667</td>\n",
       "      <td>0.430769</td>\n",
       "      <td>0.075897</td>\n",
       "    </tr>\n",
       "    <tr>\n",
       "      <th>3</th>\n",
       "      <td>4</td>\n",
       "      <td>4</td>\n",
       "      <td>0.553333</td>\n",
       "      <td>0.446154</td>\n",
       "      <td>0.107179</td>\n",
       "    </tr>\n",
       "    <tr>\n",
       "      <th>4</th>\n",
       "      <td>5</td>\n",
       "      <td>5</td>\n",
       "      <td>0.580000</td>\n",
       "      <td>0.461538</td>\n",
       "      <td>0.118462</td>\n",
       "    </tr>\n",
       "    <tr>\n",
       "      <th>5</th>\n",
       "      <td>6</td>\n",
       "      <td>6</td>\n",
       "      <td>0.540000</td>\n",
       "      <td>0.430769</td>\n",
       "      <td>0.109231</td>\n",
       "    </tr>\n",
       "    <tr>\n",
       "      <th>6</th>\n",
       "      <td>7</td>\n",
       "      <td>7</td>\n",
       "      <td>0.520000</td>\n",
       "      <td>0.446154</td>\n",
       "      <td>0.073846</td>\n",
       "    </tr>\n",
       "    <tr>\n",
       "      <th>7</th>\n",
       "      <td>8</td>\n",
       "      <td>8</td>\n",
       "      <td>0.466667</td>\n",
       "      <td>0.400000</td>\n",
       "      <td>0.066667</td>\n",
       "    </tr>\n",
       "    <tr>\n",
       "      <th>8</th>\n",
       "      <td>9</td>\n",
       "      <td>9</td>\n",
       "      <td>0.453333</td>\n",
       "      <td>0.415385</td>\n",
       "      <td>0.037949</td>\n",
       "    </tr>\n",
       "    <tr>\n",
       "      <th>9</th>\n",
       "      <td>10</td>\n",
       "      <td>10</td>\n",
       "      <td>0.426667</td>\n",
       "      <td>0.415385</td>\n",
       "      <td>0.011282</td>\n",
       "    </tr>\n",
       "    <tr>\n",
       "      <th>10</th>\n",
       "      <td>11</td>\n",
       "      <td>11</td>\n",
       "      <td>0.413333</td>\n",
       "      <td>0.415385</td>\n",
       "      <td>-0.002051</td>\n",
       "    </tr>\n",
       "    <tr>\n",
       "      <th>11</th>\n",
       "      <td>12</td>\n",
       "      <td>12</td>\n",
       "      <td>0.386667</td>\n",
       "      <td>0.400000</td>\n",
       "      <td>-0.013333</td>\n",
       "    </tr>\n",
       "    <tr>\n",
       "      <th>12</th>\n",
       "      <td>13</td>\n",
       "      <td>13</td>\n",
       "      <td>0.386667</td>\n",
       "      <td>0.400000</td>\n",
       "      <td>-0.013333</td>\n",
       "    </tr>\n",
       "    <tr>\n",
       "      <th>13</th>\n",
       "      <td>14</td>\n",
       "      <td>14</td>\n",
       "      <td>0.386667</td>\n",
       "      <td>0.400000</td>\n",
       "      <td>-0.013333</td>\n",
       "    </tr>\n",
       "    <tr>\n",
       "      <th>14</th>\n",
       "      <td>15</td>\n",
       "      <td>15</td>\n",
       "      <td>0.373333</td>\n",
       "      <td>0.400000</td>\n",
       "      <td>-0.026667</td>\n",
       "    </tr>\n",
       "    <tr>\n",
       "      <th>15</th>\n",
       "      <td>16</td>\n",
       "      <td>16</td>\n",
       "      <td>0.360000</td>\n",
       "      <td>0.400000</td>\n",
       "      <td>-0.040000</td>\n",
       "    </tr>\n",
       "    <tr>\n",
       "      <th>16</th>\n",
       "      <td>17</td>\n",
       "      <td>17</td>\n",
       "      <td>0.360000</td>\n",
       "      <td>0.400000</td>\n",
       "      <td>-0.040000</td>\n",
       "    </tr>\n",
       "    <tr>\n",
       "      <th>17</th>\n",
       "      <td>18</td>\n",
       "      <td>18</td>\n",
       "      <td>0.360000</td>\n",
       "      <td>0.400000</td>\n",
       "      <td>-0.040000</td>\n",
       "    </tr>\n",
       "    <tr>\n",
       "      <th>18</th>\n",
       "      <td>19</td>\n",
       "      <td>19</td>\n",
       "      <td>0.360000</td>\n",
       "      <td>0.400000</td>\n",
       "      <td>-0.040000</td>\n",
       "    </tr>\n",
       "    <tr>\n",
       "      <th>19</th>\n",
       "      <td>20</td>\n",
       "      <td>20</td>\n",
       "      <td>0.360000</td>\n",
       "      <td>0.400000</td>\n",
       "      <td>-0.040000</td>\n",
       "    </tr>\n",
       "  </tbody>\n",
       "</table>\n",
       "</div>"
      ],
      "text/plain": [
       "    min_samples_per_leaf  max_depth  train_accuracy  validate_accuracy  \\\n",
       "0                      1          1        0.380000           0.400000   \n",
       "1                      2          2        0.433333           0.415385   \n",
       "2                      3          3        0.506667           0.430769   \n",
       "3                      4          4        0.553333           0.446154   \n",
       "4                      5          5        0.580000           0.461538   \n",
       "5                      6          6        0.540000           0.430769   \n",
       "6                      7          7        0.520000           0.446154   \n",
       "7                      8          8        0.466667           0.400000   \n",
       "8                      9          9        0.453333           0.415385   \n",
       "9                     10         10        0.426667           0.415385   \n",
       "10                    11         11        0.413333           0.415385   \n",
       "11                    12         12        0.386667           0.400000   \n",
       "12                    13         13        0.386667           0.400000   \n",
       "13                    14         14        0.386667           0.400000   \n",
       "14                    15         15        0.373333           0.400000   \n",
       "15                    16         16        0.360000           0.400000   \n",
       "16                    17         17        0.360000           0.400000   \n",
       "17                    18         18        0.360000           0.400000   \n",
       "18                    19         19        0.360000           0.400000   \n",
       "19                    20         20        0.360000           0.400000   \n",
       "\n",
       "    difference  \n",
       "0    -0.020000  \n",
       "1     0.017949  \n",
       "2     0.075897  \n",
       "3     0.107179  \n",
       "4     0.118462  \n",
       "5     0.109231  \n",
       "6     0.073846  \n",
       "7     0.066667  \n",
       "8     0.037949  \n",
       "9     0.011282  \n",
       "10   -0.002051  \n",
       "11   -0.013333  \n",
       "12   -0.013333  \n",
       "13   -0.013333  \n",
       "14   -0.026667  \n",
       "15   -0.040000  \n",
       "16   -0.040000  \n",
       "17   -0.040000  \n",
       "18   -0.040000  \n",
       "19   -0.040000  "
      ]
     },
     "execution_count": 164,
     "metadata": {},
     "output_type": "execute_result"
    }
   ],
   "source": [
    "tfidf = TfidfVectorizer()\n",
    "X_tfidf = tfidf.fit_transform(X_train)\n",
    "X_tfidf_val = tfidf.transform(X_val)\n",
    "\n",
    "\n",
    "\n",
    "\n",
    "# Evaluate Random Forest models on train & validate set by looping through different values for max_depth and min_samples_leaf hyperparameters\n",
    "\n",
    "# create empty list for which to append metrics from each loop\n",
    "scores = []\n",
    "# set value for range\n",
    "max_value = range(1,21)\n",
    "\n",
    "# create loop for range 1-20\n",
    "for i in max_value:\n",
    "    # set depth & n_samples to value for current loop\n",
    "    depth = i\n",
    "    n_samples = i\n",
    "    \n",
    "    # define the model setting hyperparameters to values for current loop\n",
    "    forest = RandomForestClassifier(max_depth=depth, min_samples_leaf=n_samples, random_state=123)\n",
    "\n",
    "    # fit the model on train\n",
    "    forest = forest.fit(X_tfidf, y_train)\n",
    "\n",
    "    # use the model and evaluate performance on train\n",
    "    in_sample_accuracy = forest.score(X_tfidf, y_train)\n",
    "    # use the model and evaluate performance on validate\n",
    "    out_of_sample_accuracy = forest.score(X_tfidf_val, y_val)\n",
    "    \n",
    "    # create output of current loop's hyperparameters and accuracy to append to metrics\n",
    "    output = {\n",
    "        \"min_samples_per_leaf\": n_samples,\n",
    "        \"max_depth\": depth,\n",
    "        \"train_accuracy\": in_sample_accuracy,\n",
    "        \"validate_accuracy\": out_of_sample_accuracy\n",
    "    }\n",
    "    \n",
    "    scores.append(output)\n",
    "\n",
    "# convert metrics list to a dataframe for easy reading   \n",
    "df = pd.DataFrame(scores)\n",
    "# add column to assess the difference between train & validate accuracy\n",
    "df[\"difference\"] = df.train_accuracy - df.validate_accuracy\n",
    "df"
   ]
  },
  {
   "cell_type": "code",
   "execution_count": 172,
   "id": "0d946790",
   "metadata": {},
   "outputs": [
    {
     "data": {
      "text/html": [
       "<div>\n",
       "<style scoped>\n",
       "    .dataframe tbody tr th:only-of-type {\n",
       "        vertical-align: middle;\n",
       "    }\n",
       "\n",
       "    .dataframe tbody tr th {\n",
       "        vertical-align: top;\n",
       "    }\n",
       "\n",
       "    .dataframe thead th {\n",
       "        text-align: right;\n",
       "    }\n",
       "</style>\n",
       "<table border=\"1\" class=\"dataframe\">\n",
       "  <thead>\n",
       "    <tr style=\"text-align: right;\">\n",
       "      <th></th>\n",
       "      <th>max_depth</th>\n",
       "      <th>train_accuracy</th>\n",
       "      <th>validate_accuracy</th>\n",
       "      <th>difference</th>\n",
       "    </tr>\n",
       "  </thead>\n",
       "  <tbody>\n",
       "    <tr>\n",
       "      <th>0</th>\n",
       "      <td>1</td>\n",
       "      <td>0.406667</td>\n",
       "      <td>0.400000</td>\n",
       "      <td>0.006667</td>\n",
       "    </tr>\n",
       "    <tr>\n",
       "      <th>1</th>\n",
       "      <td>2</td>\n",
       "      <td>0.420000</td>\n",
       "      <td>0.400000</td>\n",
       "      <td>0.020000</td>\n",
       "    </tr>\n",
       "    <tr>\n",
       "      <th>2</th>\n",
       "      <td>3</td>\n",
       "      <td>0.466667</td>\n",
       "      <td>0.415385</td>\n",
       "      <td>0.051282</td>\n",
       "    </tr>\n",
       "    <tr>\n",
       "      <th>3</th>\n",
       "      <td>4</td>\n",
       "      <td>0.533333</td>\n",
       "      <td>0.430769</td>\n",
       "      <td>0.102564</td>\n",
       "    </tr>\n",
       "    <tr>\n",
       "      <th>4</th>\n",
       "      <td>5</td>\n",
       "      <td>0.573333</td>\n",
       "      <td>0.415385</td>\n",
       "      <td>0.157949</td>\n",
       "    </tr>\n",
       "    <tr>\n",
       "      <th>5</th>\n",
       "      <td>6</td>\n",
       "      <td>0.626667</td>\n",
       "      <td>0.461538</td>\n",
       "      <td>0.165128</td>\n",
       "    </tr>\n",
       "    <tr>\n",
       "      <th>6</th>\n",
       "      <td>7</td>\n",
       "      <td>0.680000</td>\n",
       "      <td>0.446154</td>\n",
       "      <td>0.233846</td>\n",
       "    </tr>\n",
       "    <tr>\n",
       "      <th>7</th>\n",
       "      <td>8</td>\n",
       "      <td>0.700000</td>\n",
       "      <td>0.461538</td>\n",
       "      <td>0.238462</td>\n",
       "    </tr>\n",
       "    <tr>\n",
       "      <th>8</th>\n",
       "      <td>9</td>\n",
       "      <td>0.760000</td>\n",
       "      <td>0.492308</td>\n",
       "      <td>0.267692</td>\n",
       "    </tr>\n",
       "    <tr>\n",
       "      <th>9</th>\n",
       "      <td>10</td>\n",
       "      <td>0.806667</td>\n",
       "      <td>0.507692</td>\n",
       "      <td>0.298974</td>\n",
       "    </tr>\n",
       "    <tr>\n",
       "      <th>10</th>\n",
       "      <td>11</td>\n",
       "      <td>0.853333</td>\n",
       "      <td>0.476923</td>\n",
       "      <td>0.376410</td>\n",
       "    </tr>\n",
       "    <tr>\n",
       "      <th>11</th>\n",
       "      <td>12</td>\n",
       "      <td>0.866667</td>\n",
       "      <td>0.492308</td>\n",
       "      <td>0.374359</td>\n",
       "    </tr>\n",
       "    <tr>\n",
       "      <th>12</th>\n",
       "      <td>13</td>\n",
       "      <td>0.880000</td>\n",
       "      <td>0.553846</td>\n",
       "      <td>0.326154</td>\n",
       "    </tr>\n",
       "    <tr>\n",
       "      <th>13</th>\n",
       "      <td>14</td>\n",
       "      <td>0.886667</td>\n",
       "      <td>0.507692</td>\n",
       "      <td>0.378974</td>\n",
       "    </tr>\n",
       "    <tr>\n",
       "      <th>14</th>\n",
       "      <td>15</td>\n",
       "      <td>0.900000</td>\n",
       "      <td>0.538462</td>\n",
       "      <td>0.361538</td>\n",
       "    </tr>\n",
       "    <tr>\n",
       "      <th>15</th>\n",
       "      <td>16</td>\n",
       "      <td>0.906667</td>\n",
       "      <td>0.553846</td>\n",
       "      <td>0.352821</td>\n",
       "    </tr>\n",
       "    <tr>\n",
       "      <th>16</th>\n",
       "      <td>17</td>\n",
       "      <td>0.920000</td>\n",
       "      <td>0.523077</td>\n",
       "      <td>0.396923</td>\n",
       "    </tr>\n",
       "    <tr>\n",
       "      <th>17</th>\n",
       "      <td>18</td>\n",
       "      <td>0.926667</td>\n",
       "      <td>0.523077</td>\n",
       "      <td>0.403590</td>\n",
       "    </tr>\n",
       "    <tr>\n",
       "      <th>18</th>\n",
       "      <td>19</td>\n",
       "      <td>0.933333</td>\n",
       "      <td>0.538462</td>\n",
       "      <td>0.394872</td>\n",
       "    </tr>\n",
       "    <tr>\n",
       "      <th>19</th>\n",
       "      <td>20</td>\n",
       "      <td>0.933333</td>\n",
       "      <td>0.553846</td>\n",
       "      <td>0.379487</td>\n",
       "    </tr>\n",
       "  </tbody>\n",
       "</table>\n",
       "</div>"
      ],
      "text/plain": [
       "    max_depth  train_accuracy  validate_accuracy  difference\n",
       "0           1        0.406667           0.400000    0.006667\n",
       "1           2        0.420000           0.400000    0.020000\n",
       "2           3        0.466667           0.415385    0.051282\n",
       "3           4        0.533333           0.430769    0.102564\n",
       "4           5        0.573333           0.415385    0.157949\n",
       "5           6        0.626667           0.461538    0.165128\n",
       "6           7        0.680000           0.446154    0.233846\n",
       "7           8        0.700000           0.461538    0.238462\n",
       "8           9        0.760000           0.492308    0.267692\n",
       "9          10        0.806667           0.507692    0.298974\n",
       "10         11        0.853333           0.476923    0.376410\n",
       "11         12        0.866667           0.492308    0.374359\n",
       "12         13        0.880000           0.553846    0.326154\n",
       "13         14        0.886667           0.507692    0.378974\n",
       "14         15        0.900000           0.538462    0.361538\n",
       "15         16        0.906667           0.553846    0.352821\n",
       "16         17        0.920000           0.523077    0.396923\n",
       "17         18        0.926667           0.523077    0.403590\n",
       "18         19        0.933333           0.538462    0.394872\n",
       "19         20        0.933333           0.553846    0.379487"
      ]
     },
     "execution_count": 172,
     "metadata": {},
     "output_type": "execute_result"
    }
   ],
   "source": [
    "cv = CountVectorizer()\n",
    "X_bow = cv.fit_transform(X_train)\n",
    "X_bow_val = cv.transform(X_val)\n",
    "\n",
    "\n",
    "# Evaluate Random Forest models on train & validate set by looping through different values for max_depth and min_samples_leaf hyperparameters\n",
    "\n",
    "# create empty list for which to append metrics from each loop\n",
    "scores = []\n",
    "# set value for range\n",
    "max_value = range(1,21)\n",
    "\n",
    "# create loop for range 1-20\n",
    "for i in max_value:\n",
    "    # set depth & n_samples to value for current loop\n",
    "    depth = i\n",
    "    n_samples = i\n",
    "    \n",
    "    # define the model setting hyperparameters to values for current loop\n",
    "    forest = RandomForestClassifier(max_depth=depth, random_state=123)\n",
    "\n",
    "    # fit the model on train\n",
    "    forest = forest.fit(X_bow, y_train)\n",
    "\n",
    "    # use the model and evaluate performance on train\n",
    "    in_sample_accuracy = forest.score(X_bow, y_train)\n",
    "    # use the model and evaluate performance on validate\n",
    "    out_of_sample_accuracy = forest.score(X_bow_val, y_val)\n",
    "    \n",
    "    # create output of current loop's hyperparameters and accuracy to append to metrics\n",
    "    output = {\n",
    "        \"max_depth\": depth,\n",
    "        \"train_accuracy\": in_sample_accuracy,\n",
    "        \"validate_accuracy\": out_of_sample_accuracy\n",
    "    }\n",
    "    \n",
    "    scores.append(output)\n",
    "\n",
    "# convert metrics list to a dataframe for easy reading   \n",
    "df = pd.DataFrame(scores)\n",
    "# add column to assess the difference between train & validate accuracy\n",
    "df[\"difference\"] = df.train_accuracy - df.validate_accuracy\n",
    "df"
   ]
  },
  {
   "cell_type": "code",
   "execution_count": 173,
   "id": "001ae6ad",
   "metadata": {},
   "outputs": [
    {
     "data": {
      "text/html": [
       "<div>\n",
       "<style scoped>\n",
       "    .dataframe tbody tr th:only-of-type {\n",
       "        vertical-align: middle;\n",
       "    }\n",
       "\n",
       "    .dataframe tbody tr th {\n",
       "        vertical-align: top;\n",
       "    }\n",
       "\n",
       "    .dataframe thead th {\n",
       "        text-align: right;\n",
       "    }\n",
       "</style>\n",
       "<table border=\"1\" class=\"dataframe\">\n",
       "  <thead>\n",
       "    <tr style=\"text-align: right;\">\n",
       "      <th></th>\n",
       "      <th>max_depth</th>\n",
       "      <th>train_accuracy</th>\n",
       "      <th>validate_accuracy</th>\n",
       "      <th>difference</th>\n",
       "    </tr>\n",
       "  </thead>\n",
       "  <tbody>\n",
       "    <tr>\n",
       "      <th>0</th>\n",
       "      <td>1</td>\n",
       "      <td>0.380000</td>\n",
       "      <td>0.400000</td>\n",
       "      <td>-0.020000</td>\n",
       "    </tr>\n",
       "    <tr>\n",
       "      <th>1</th>\n",
       "      <td>2</td>\n",
       "      <td>0.426667</td>\n",
       "      <td>0.415385</td>\n",
       "      <td>0.011282</td>\n",
       "    </tr>\n",
       "    <tr>\n",
       "      <th>2</th>\n",
       "      <td>3</td>\n",
       "      <td>0.533333</td>\n",
       "      <td>0.446154</td>\n",
       "      <td>0.087179</td>\n",
       "    </tr>\n",
       "    <tr>\n",
       "      <th>3</th>\n",
       "      <td>4</td>\n",
       "      <td>0.586667</td>\n",
       "      <td>0.461538</td>\n",
       "      <td>0.125128</td>\n",
       "    </tr>\n",
       "    <tr>\n",
       "      <th>4</th>\n",
       "      <td>5</td>\n",
       "      <td>0.640000</td>\n",
       "      <td>0.461538</td>\n",
       "      <td>0.178462</td>\n",
       "    </tr>\n",
       "    <tr>\n",
       "      <th>5</th>\n",
       "      <td>6</td>\n",
       "      <td>0.680000</td>\n",
       "      <td>0.492308</td>\n",
       "      <td>0.187692</td>\n",
       "    </tr>\n",
       "    <tr>\n",
       "      <th>6</th>\n",
       "      <td>7</td>\n",
       "      <td>0.733333</td>\n",
       "      <td>0.492308</td>\n",
       "      <td>0.241026</td>\n",
       "    </tr>\n",
       "    <tr>\n",
       "      <th>7</th>\n",
       "      <td>8</td>\n",
       "      <td>0.786667</td>\n",
       "      <td>0.492308</td>\n",
       "      <td>0.294359</td>\n",
       "    </tr>\n",
       "    <tr>\n",
       "      <th>8</th>\n",
       "      <td>9</td>\n",
       "      <td>0.833333</td>\n",
       "      <td>0.569231</td>\n",
       "      <td>0.264103</td>\n",
       "    </tr>\n",
       "    <tr>\n",
       "      <th>9</th>\n",
       "      <td>10</td>\n",
       "      <td>0.860000</td>\n",
       "      <td>0.538462</td>\n",
       "      <td>0.321538</td>\n",
       "    </tr>\n",
       "    <tr>\n",
       "      <th>10</th>\n",
       "      <td>11</td>\n",
       "      <td>0.893333</td>\n",
       "      <td>0.538462</td>\n",
       "      <td>0.354872</td>\n",
       "    </tr>\n",
       "    <tr>\n",
       "      <th>11</th>\n",
       "      <td>12</td>\n",
       "      <td>0.920000</td>\n",
       "      <td>0.538462</td>\n",
       "      <td>0.381538</td>\n",
       "    </tr>\n",
       "    <tr>\n",
       "      <th>12</th>\n",
       "      <td>13</td>\n",
       "      <td>0.920000</td>\n",
       "      <td>0.569231</td>\n",
       "      <td>0.350769</td>\n",
       "    </tr>\n",
       "    <tr>\n",
       "      <th>13</th>\n",
       "      <td>14</td>\n",
       "      <td>0.926667</td>\n",
       "      <td>0.569231</td>\n",
       "      <td>0.357436</td>\n",
       "    </tr>\n",
       "    <tr>\n",
       "      <th>14</th>\n",
       "      <td>15</td>\n",
       "      <td>0.926667</td>\n",
       "      <td>0.615385</td>\n",
       "      <td>0.311282</td>\n",
       "    </tr>\n",
       "    <tr>\n",
       "      <th>15</th>\n",
       "      <td>16</td>\n",
       "      <td>0.940000</td>\n",
       "      <td>0.600000</td>\n",
       "      <td>0.340000</td>\n",
       "    </tr>\n",
       "    <tr>\n",
       "      <th>16</th>\n",
       "      <td>17</td>\n",
       "      <td>0.946667</td>\n",
       "      <td>0.553846</td>\n",
       "      <td>0.392821</td>\n",
       "    </tr>\n",
       "    <tr>\n",
       "      <th>17</th>\n",
       "      <td>18</td>\n",
       "      <td>0.953333</td>\n",
       "      <td>0.538462</td>\n",
       "      <td>0.414872</td>\n",
       "    </tr>\n",
       "    <tr>\n",
       "      <th>18</th>\n",
       "      <td>19</td>\n",
       "      <td>0.953333</td>\n",
       "      <td>0.569231</td>\n",
       "      <td>0.384103</td>\n",
       "    </tr>\n",
       "    <tr>\n",
       "      <th>19</th>\n",
       "      <td>20</td>\n",
       "      <td>0.960000</td>\n",
       "      <td>0.600000</td>\n",
       "      <td>0.360000</td>\n",
       "    </tr>\n",
       "  </tbody>\n",
       "</table>\n",
       "</div>"
      ],
      "text/plain": [
       "    max_depth  train_accuracy  validate_accuracy  difference\n",
       "0           1        0.380000           0.400000   -0.020000\n",
       "1           2        0.426667           0.415385    0.011282\n",
       "2           3        0.533333           0.446154    0.087179\n",
       "3           4        0.586667           0.461538    0.125128\n",
       "4           5        0.640000           0.461538    0.178462\n",
       "5           6        0.680000           0.492308    0.187692\n",
       "6           7        0.733333           0.492308    0.241026\n",
       "7           8        0.786667           0.492308    0.294359\n",
       "8           9        0.833333           0.569231    0.264103\n",
       "9          10        0.860000           0.538462    0.321538\n",
       "10         11        0.893333           0.538462    0.354872\n",
       "11         12        0.920000           0.538462    0.381538\n",
       "12         13        0.920000           0.569231    0.350769\n",
       "13         14        0.926667           0.569231    0.357436\n",
       "14         15        0.926667           0.615385    0.311282\n",
       "15         16        0.940000           0.600000    0.340000\n",
       "16         17        0.946667           0.553846    0.392821\n",
       "17         18        0.953333           0.538462    0.414872\n",
       "18         19        0.953333           0.569231    0.384103\n",
       "19         20        0.960000           0.600000    0.360000"
      ]
     },
     "execution_count": 173,
     "metadata": {},
     "output_type": "execute_result"
    }
   ],
   "source": [
    "tfidf = TfidfVectorizer()\n",
    "X_tfidf = tfidf.fit_transform(X_train)\n",
    "X_tfidf_val = tfidf.transform(X_val)\n",
    "\n",
    "\n",
    "\n",
    "\n",
    "# Evaluate Random Forest models on train & validate set by looping through different values for max_depth and min_samples_leaf hyperparameters\n",
    "\n",
    "# create empty list for which to append metrics from each loop\n",
    "scores = []\n",
    "# set value for range\n",
    "max_value = range(1,21)\n",
    "\n",
    "# create loop for range 1-20\n",
    "for i in max_value:\n",
    "    # set depth & n_samples to value for current loop\n",
    "    depth = i\n",
    "    n_samples = i\n",
    "    \n",
    "    # define the model setting hyperparameters to values for current loop\n",
    "    forest = RandomForestClassifier(max_depth=depth, random_state=123)\n",
    "\n",
    "    # fit the model on train\n",
    "    forest = forest.fit(X_tfidf, y_train)\n",
    "\n",
    "    # use the model and evaluate performance on train\n",
    "    in_sample_accuracy = forest.score(X_tfidf, y_train)\n",
    "    # use the model and evaluate performance on validate\n",
    "    out_of_sample_accuracy = forest.score(X_tfidf_val, y_val)\n",
    "    \n",
    "    # create output of current loop's hyperparameters and accuracy to append to metrics\n",
    "    output = {\n",
    "        \"max_depth\": depth,\n",
    "        \"train_accuracy\": in_sample_accuracy,\n",
    "        \"validate_accuracy\": out_of_sample_accuracy\n",
    "    }\n",
    "    \n",
    "    scores.append(output)\n",
    "\n",
    "# convert metrics list to a dataframe for easy reading   \n",
    "df = pd.DataFrame(scores)\n",
    "# add column to assess the difference between train & validate accuracy\n",
    "df[\"difference\"] = df.train_accuracy - df.validate_accuracy\n",
    "df"
   ]
  },
  {
   "cell_type": "code",
   "execution_count": null,
   "id": "b59efe2d",
   "metadata": {},
   "outputs": [],
   "source": []
  },
  {
   "cell_type": "code",
   "execution_count": null,
   "id": "9ae7cade",
   "metadata": {},
   "outputs": [],
   "source": []
  },
  {
   "cell_type": "code",
   "execution_count": 171,
   "id": "51ed0a77",
   "metadata": {},
   "outputs": [
    {
     "data": {
      "text/plain": [
       "(0.9733333333333334, 0.42592592592592593)"
      ]
     },
     "execution_count": 171,
     "metadata": {},
     "output_type": "execute_result"
    }
   ],
   "source": [
    "cv = CountVectorizer(ngram_range=(1,2))\n",
    "X_bow = cv.fit_transform(X_train)\n",
    "X_bow_test = cv.transform(X_test)\n",
    "lm = LogisticRegression(C=0.1, random_state=123).fit(X_bow, y_train)\n",
    "lm.score(X_bow, y_train), lm.score(X_bow_test, y_test)"
   ]
  },
  {
   "cell_type": "markdown",
   "id": "04b76dd6",
   "metadata": {},
   "source": [
    "# more scrapping"
   ]
  },
  {
   "cell_type": "code",
   "execution_count": null,
   "id": "4a9b4cb5",
   "metadata": {},
   "outputs": [],
   "source": [
    "url = 'https://github.com/search?o=desc&p=10&q=stars%3A%3E1&s=forks&type=Repositories'\n",
    "response = get(url)"
   ]
  },
  {
   "cell_type": "code",
   "execution_count": null,
   "id": "99aee65c",
   "metadata": {},
   "outputs": [],
   "source": [
    "soup = BeautifulSoup(response.text, 'html.parser')\n",
    "headings = soup.select('div.f4.text-normal')\n",
    "headings[0]"
   ]
  },
  {
   "cell_type": "code",
   "execution_count": null,
   "id": "23b28071",
   "metadata": {},
   "outputs": [],
   "source": [
    "[h.select_one('a').attrs['href'][1:] for h in soup.select('div.f4.text-normal')]"
   ]
  },
  {
   "cell_type": "code",
   "execution_count": null,
   "id": "1089914b",
   "metadata": {},
   "outputs": [],
   "source": []
  },
  {
   "cell_type": "code",
   "execution_count": 174,
   "id": "fde28912",
   "metadata": {},
   "outputs": [],
   "source": [
    "url = 'https://github.com/search?o=desc&p=20&q=stars%3A%3E1&s=forks&type=Repositories'\n",
    "response = get(url)"
   ]
  },
  {
   "cell_type": "code",
   "execution_count": 175,
   "id": "573f7d5a",
   "metadata": {},
   "outputs": [
    {
     "data": {
      "text/plain": [
       "<div class=\"f4 text-normal\">\n",
       "<a class=\"v-align-middle\" data-hydro-click='{\"event_type\":\"search_result.click\",\"payload\":{\"page_number\":20,\"per_page\":10,\"query\":\"stars:&gt;1\",\"result_position\":1,\"click_id\":48378947,\"result\":{\"id\":48378947,\"global_relay_id\":\"MDEwOlJlcG9zaXRvcnk0ODM3ODk0Nw==\",\"model_name\":\"Repository\",\"url\":\"https://github.com/fatedier/frp\"},\"originating_url\":\"https://github.com/search?o=desc&amp;p=20&amp;q=stars%3A%3E1&amp;s=forks&amp;type=Repositories\",\"user_id\":null}}' data-hydro-click-hmac=\"571a7d7664940be788f409cf963d2c7d1fa56da66607d94add544ba3090b3734\" href=\"/fatedier/frp\">fatedier/frp</a>\n",
       "</div>"
      ]
     },
     "execution_count": 175,
     "metadata": {},
     "output_type": "execute_result"
    }
   ],
   "source": [
    "soup = BeautifulSoup(response.text, 'html.parser')\n",
    "headings = soup.select('div.f4.text-normal')\n",
    "headings[0]"
   ]
  },
  {
   "cell_type": "code",
   "execution_count": 176,
   "id": "2ca2810e",
   "metadata": {},
   "outputs": [
    {
     "data": {
      "text/plain": [
       "['fatedier/frp',\n",
       " 'woocommerce/woocommerce',\n",
       " 'jhu-ep-coursera/fullstack-course4',\n",
       " 'ageron/handson-ml2',\n",
       " 'practical-tutorials/project-based-learning',\n",
       " 'kelseyhightower/kubernetes-the-hard-way',\n",
       " '30-seconds/30-seconds-of-code',\n",
       " 'socketio/socket.io',\n",
       " 'learn-co-students/python-practice-with-datatypes-data-science-intro-000',\n",
       " 'google/guava']"
      ]
     },
     "execution_count": 176,
     "metadata": {},
     "output_type": "execute_result"
    }
   ],
   "source": [
    "[h.select_one('a').attrs['href'][1:] for h in soup.select('div.f4.text-normal')]"
   ]
  },
  {
   "cell_type": "code",
   "execution_count": 177,
   "id": "d753bd6b",
   "metadata": {},
   "outputs": [],
   "source": [
    "url = 'https://github.com/search?o=desc&p=21&q=stars%3A%3E1&s=forks&type=Repositories'\n",
    "response = get(url)"
   ]
  },
  {
   "cell_type": "code",
   "execution_count": 178,
   "id": "63be0664",
   "metadata": {},
   "outputs": [
    {
     "data": {
      "text/plain": [
       "<div class=\"f4 text-normal\">\n",
       "<a class=\"v-align-middle\" data-hydro-click='{\"event_type\":\"search_result.click\",\"payload\":{\"page_number\":21,\"per_page\":10,\"query\":\"stars:&gt;1\",\"result_position\":1,\"click_id\":23088740,\"result\":{\"id\":23088740,\"global_relay_id\":\"MDEwOlJlcG9zaXRvcnkyMzA4ODc0MA==\",\"model_name\":\"Repository\",\"url\":\"https://github.com/axios/axios\"},\"originating_url\":\"https://github.com/search?o=desc&amp;p=21&amp;q=stars%3A%3E1&amp;s=forks&amp;type=Repositories\",\"user_id\":null}}' data-hydro-click-hmac=\"4e766cba5a732a1cf4542a9beec4ecdf3cc79e78ef5445af1733b2ad1f7e6aa9\" href=\"/axios/axios\">axios/axios</a>\n",
       "</div>"
      ]
     },
     "execution_count": 178,
     "metadata": {},
     "output_type": "execute_result"
    }
   ],
   "source": [
    "soup = BeautifulSoup(response.text, 'html.parser')\n",
    "headings = soup.select('div.f4.text-normal')\n",
    "headings[0]"
   ]
  },
  {
   "cell_type": "code",
   "execution_count": 179,
   "id": "b8609480",
   "metadata": {},
   "outputs": [
    {
     "data": {
      "text/plain": [
       "['axios/axios',\n",
       " 'vuejs/vuex',\n",
       " 'testerSunshine/12306',\n",
       " 'ultralytics/yolov5',\n",
       " 'zxing/zxing',\n",
       " 'laravel/framework',\n",
       " 'rust-lang/rust',\n",
       " 'OpenZeppelin/openzeppelin-contracts',\n",
       " 'remix-run/react-router',\n",
       " '0voice/interview_internal_reference']"
      ]
     },
     "execution_count": 179,
     "metadata": {},
     "output_type": "execute_result"
    }
   ],
   "source": [
    "[h.select_one('a').attrs['href'][1:] for h in soup.select('div.f4.text-normal')]"
   ]
  },
  {
   "cell_type": "code",
   "execution_count": 180,
   "id": "8a2c863a",
   "metadata": {},
   "outputs": [],
   "source": [
    "url = 'https://github.com/search?o=desc&p=22&q=stars%3A%3E1&s=forks&type=Repositories'\n",
    "response = get(url)"
   ]
  },
  {
   "cell_type": "code",
   "execution_count": 181,
   "id": "f53c0529",
   "metadata": {},
   "outputs": [
    {
     "data": {
      "text/plain": [
       "<div class=\"f4 text-normal\">\n",
       "<a class=\"v-align-middle\" data-hydro-click='{\"event_type\":\"search_result.click\",\"payload\":{\"page_number\":22,\"per_page\":10,\"query\":\"stars:&gt;1\",\"result_position\":1,\"click_id\":109484365,\"result\":{\"id\":109484365,\"global_relay_id\":\"MDEwOlJlcG9zaXRvcnkxMDk0ODQzNjU=\",\"model_name\":\"Repository\",\"url\":\"https://github.com/fengdu78/Coursera-ML-AndrewNg-Notes\"},\"originating_url\":\"https://github.com/search?o=desc&amp;p=22&amp;q=stars%3A%3E1&amp;s=forks&amp;type=Repositories\",\"user_id\":null}}' data-hydro-click-hmac=\"526639831f1688fb17dcda44f33a9320641e9fad65f37df4e046c3cb1f772a79\" href=\"/fengdu78/Coursera-ML-AndrewNg-Notes\">fengdu78/Coursera-ML-AndrewNg-Notes</a>\n",
       "</div>"
      ]
     },
     "execution_count": 181,
     "metadata": {},
     "output_type": "execute_result"
    }
   ],
   "source": [
    "soup = BeautifulSoup(response.text, 'html.parser')\n",
    "headings = soup.select('div.f4.text-normal')\n",
    "headings[0]"
   ]
  },
  {
   "cell_type": "code",
   "execution_count": 182,
   "id": "fd7f0d03",
   "metadata": {},
   "outputs": [
    {
     "data": {
      "text/plain": [
       "['fengdu78/Coursera-ML-AndrewNg-Notes',\n",
       " 'axios/axios',\n",
       " 'vuejs/vuex',\n",
       " 'testerSunshine/12306',\n",
       " 'zxing/zxing',\n",
       " 'laravel/framework',\n",
       " 'rust-lang/rust',\n",
       " 'OpenZeppelin/openzeppelin-contracts',\n",
       " 'remix-run/react-router',\n",
       " '0voice/interview_internal_reference']"
      ]
     },
     "execution_count": 182,
     "metadata": {},
     "output_type": "execute_result"
    }
   ],
   "source": [
    "[h.select_one('a').attrs['href'][1:] for h in soup.select('div.f4.text-normal')]"
   ]
  },
  {
   "cell_type": "code",
   "execution_count": 183,
   "id": "b828915d",
   "metadata": {},
   "outputs": [],
   "source": [
    "url = 'https://github.com/search?o=desc&p=23&q=stars%3A%3E1&s=forks&type=Repositories'\n",
    "response = get(url)"
   ]
  },
  {
   "cell_type": "code",
   "execution_count": 184,
   "id": "70837433",
   "metadata": {},
   "outputs": [
    {
     "data": {
      "text/plain": [
       "<div class=\"f4 text-normal\">\n",
       "<a class=\"v-align-middle\" data-hydro-click='{\"event_type\":\"search_result.click\",\"payload\":{\"page_number\":23,\"per_page\":10,\"query\":\"stars:&gt;1\",\"result_position\":1,\"click_id\":136760681,\"result\":{\"id\":136760681,\"global_relay_id\":\"MDEwOlJlcG9zaXRvcnkxMzY3NjA2ODE=\",\"model_name\":\"Repository\",\"url\":\"https://github.com/vivienzou1/DL-Notes-for-Interview\"},\"originating_url\":\"https://github.com/search?o=desc&amp;p=23&amp;q=stars%3A%3E1&amp;s=forks&amp;type=Repositories\",\"user_id\":null}}' data-hydro-click-hmac=\"f9c7baefd4b600f11908206b2bfa9cc6635aeeb469645b6e7a2939d0287d80c9\" href=\"/vivienzou1/DL-Notes-for-Interview\">vivienzou1/DL-Notes-for-Interview</a>\n",
       "</div>"
      ]
     },
     "execution_count": 184,
     "metadata": {},
     "output_type": "execute_result"
    }
   ],
   "source": [
    "soup = BeautifulSoup(response.text, 'html.parser')\n",
    "headings = soup.select('div.f4.text-normal')\n",
    "headings[0]"
   ]
  },
  {
   "cell_type": "code",
   "execution_count": 185,
   "id": "1d779896",
   "metadata": {},
   "outputs": [
    {
     "data": {
      "text/plain": [
       "['vivienzou1/DL-Notes-for-Interview',\n",
       " 'OAI/OpenAPI-Specification',\n",
       " 'blueimp/jQuery-File-Upload',\n",
       " 'learn-co-students/python-variables-lab-data-science-intro-000',\n",
       " 'alibaba/druid',\n",
       " 'openssl/openssl',\n",
       " 'android/architecture-components-samples',\n",
       " 'TheOdinProject/curriculum',\n",
       " 'tesseract-ocr/tesseract',\n",
       " 'hyperledger/fabric']"
      ]
     },
     "execution_count": 185,
     "metadata": {},
     "output_type": "execute_result"
    }
   ],
   "source": [
    "[h.select_one('a').attrs['href'][1:] for h in soup.select('div.f4.text-normal')]"
   ]
  },
  {
   "cell_type": "code",
   "execution_count": 186,
   "id": "febd5a43",
   "metadata": {},
   "outputs": [],
   "source": [
    "url = 'https://github.com/search?o=desc&p=24&q=stars%3A%3E1&s=forks&type=Repositories'\n",
    "response = get(url)"
   ]
  },
  {
   "cell_type": "code",
   "execution_count": 187,
   "id": "3ba810f6",
   "metadata": {},
   "outputs": [
    {
     "data": {
      "text/plain": [
       "<div class=\"f4 text-normal\">\n",
       "<a class=\"v-align-middle\" data-hydro-click='{\"event_type\":\"search_result.click\",\"payload\":{\"page_number\":24,\"per_page\":10,\"query\":\"stars:&gt;1\",\"result_position\":1,\"click_id\":1045381,\"result\":{\"id\":1045381,\"global_relay_id\":\"MDEwOlJlcG9zaXRvcnkxMDQ1Mzgx\",\"model_name\":\"Repository\",\"url\":\"https://github.com/phonegap/phonegap-start\"},\"originating_url\":\"https://github.com/search?o=desc&amp;p=24&amp;q=stars%3A%3E1&amp;s=forks&amp;type=Repositories\",\"user_id\":null}}' data-hydro-click-hmac=\"6b7572a24edaa60f6003ea14386e046c5138c6c80ce894e3b4ba433997c492f8\" href=\"/phonegap/phonegap-start\">phonegap/phonegap-start</a>\n",
       "</div>"
      ]
     },
     "execution_count": 187,
     "metadata": {},
     "output_type": "execute_result"
    }
   ],
   "source": [
    "soup = BeautifulSoup(response.text, 'html.parser')\n",
    "headings = soup.select('div.f4.text-normal')\n",
    "headings[0]"
   ]
  },
  {
   "cell_type": "code",
   "execution_count": 188,
   "id": "1b8ba74e",
   "metadata": {},
   "outputs": [
    {
     "data": {
      "text/plain": [
       "['phonegap/phonegap-start',\n",
       " 'elunez/eladmin',\n",
       " 'apache/zookeeper',\n",
       " 'ruanyf/react-demos',\n",
       " 'learn-co-students/py-lists-with-maps-data-science-intro-000',\n",
       " 'vsouza/awesome-ios',\n",
       " 'topjohnwu/Magisk',\n",
       " 'google/leveldb',\n",
       " 'codepath/android_guides',\n",
       " 'dromara/hutool']"
      ]
     },
     "execution_count": 188,
     "metadata": {},
     "output_type": "execute_result"
    }
   ],
   "source": [
    "[h.select_one('a').attrs['href'][1:] for h in soup.select('div.f4.text-normal')]"
   ]
  },
  {
   "cell_type": "code",
   "execution_count": 189,
   "id": "7e7b77fb",
   "metadata": {},
   "outputs": [],
   "source": [
    "url = 'https://github.com/search?o=desc&p=25&q=stars%3A%3E1&s=forks&type=Repositories'\n",
    "response = get(url)"
   ]
  },
  {
   "cell_type": "code",
   "execution_count": 190,
   "id": "4d560a7b",
   "metadata": {},
   "outputs": [
    {
     "data": {
      "text/plain": [
       "<div class=\"f4 text-normal\">\n",
       "<a class=\"v-align-middle\" data-hydro-click='{\"event_type\":\"search_result.click\",\"payload\":{\"page_number\":25,\"per_page\":10,\"query\":\"stars:&gt;1\",\"result_position\":1,\"click_id\":55076063,\"result\":{\"id\":55076063,\"global_relay_id\":\"MDEwOlJlcG9zaXRvcnk1NTA3NjA2Mw==\",\"model_name\":\"Repository\",\"url\":\"https://github.com/Hack-with-Github/Awesome-Hacking\"},\"originating_url\":\"https://github.com/search?o=desc&amp;p=25&amp;q=stars%3A%3E1&amp;s=forks&amp;type=Repositories\",\"user_id\":null}}' data-hydro-click-hmac=\"a72dce22e263dd75365830011f1e99dafa54586063fa1a1a3d8b1a17f74b3519\" href=\"/Hack-with-Github/Awesome-Hacking\">Hack-with-Github/Awesome-Hacking</a>\n",
       "</div>"
      ]
     },
     "execution_count": 190,
     "metadata": {},
     "output_type": "execute_result"
    }
   ],
   "source": [
    "soup = BeautifulSoup(response.text, 'html.parser')\n",
    "headings = soup.select('div.f4.text-normal')\n",
    "headings[0]"
   ]
  },
  {
   "cell_type": "code",
   "execution_count": 191,
   "id": "7143b002",
   "metadata": {},
   "outputs": [
    {
     "data": {
      "text/plain": [
       "['Hack-with-Github/Awesome-Hacking',\n",
       " '521xueweihan/HelloGitHub',\n",
       " 'Ebazhanov/linkedin-skill-assessments-quizzes',\n",
       " 'XX-net/XX-Net',\n",
       " 'bcit-ci/CodeIgniter',\n",
       " 'NixOS/nixpkgs',\n",
       " 'ytdl-org/youtube-dl',\n",
       " 'sahat/hackathon-starter',\n",
       " 'macrozheng/mall-learning',\n",
       " 'lib-pku/libpku']"
      ]
     },
     "execution_count": 191,
     "metadata": {},
     "output_type": "execute_result"
    }
   ],
   "source": [
    "[h.select_one('a').attrs['href'][1:] for h in soup.select('div.f4.text-normal')]"
   ]
  },
  {
   "cell_type": "code",
   "execution_count": 192,
   "id": "6a738374",
   "metadata": {},
   "outputs": [],
   "source": [
    "url = 'https://github.com/search?o=desc&p=26&q=stars%3A%3E1&s=forks&type=Repositories'\n",
    "response = get(url)"
   ]
  },
  {
   "cell_type": "code",
   "execution_count": 193,
   "id": "b4878625",
   "metadata": {},
   "outputs": [
    {
     "data": {
      "text/plain": [
       "<div class=\"f4 text-normal\">\n",
       "<a class=\"v-align-middle\" data-hydro-click='{\"event_type\":\"search_result.click\",\"payload\":{\"page_number\":26,\"per_page\":10,\"query\":\"stars:&gt;1\",\"result_position\":1,\"click_id\":126178683,\"result\":{\"id\":126178683,\"global_relay_id\":\"MDEwOlJlcG9zaXRvcnkxMjYxNzg2ODM=\",\"model_name\":\"Repository\",\"url\":\"https://github.com/halo-dev/halo\"},\"originating_url\":\"https://github.com/search?o=desc&amp;p=26&amp;q=stars%3A%3E1&amp;s=forks&amp;type=Repositories\",\"user_id\":null}}' data-hydro-click-hmac=\"083aa075d6885cc7a89754d65ce2b37518f67bb91b0ce8909c6064b293f31078\" href=\"/halo-dev/halo\">halo-dev/halo</a>\n",
       "</div>"
      ]
     },
     "execution_count": 193,
     "metadata": {},
     "output_type": "execute_result"
    }
   ],
   "source": [
    "soup = BeautifulSoup(response.text, 'html.parser')\n",
    "headings = soup.select('div.f4.text-normal')\n",
    "headings[0]"
   ]
  },
  {
   "cell_type": "code",
   "execution_count": 194,
   "id": "55c2e952",
   "metadata": {},
   "outputs": [
    {
     "data": {
      "text/plain": [
       "['halo-dev/halo',\n",
       " 'nodejs/node-v0.x-archive',\n",
       " 'fchollet/deep-learning-with-python-notebooks',\n",
       " 'chinese-poetry/chinese-poetry',\n",
       " 'qiubaiying/qiubaiying.github.io',\n",
       " 'ant-design/ant-design-pro',\n",
       " 'soyHenry/Prep-Course-',\n",
       " 'shuzheng/zheng',\n",
       " 'learn-co-students/python-lists-readme-data-science-intro-000',\n",
       " 'iperov/DeepFaceLab']"
      ]
     },
     "execution_count": 194,
     "metadata": {},
     "output_type": "execute_result"
    }
   ],
   "source": [
    "[h.select_one('a').attrs['href'][1:] for h in soup.select('div.f4.text-normal')]"
   ]
  },
  {
   "cell_type": "code",
   "execution_count": 195,
   "id": "a9dfc304",
   "metadata": {},
   "outputs": [],
   "source": [
    "url = 'https://github.com/search?o=desc&p=27&q=stars%3A%3E1&s=forks&type=Repositories'\n",
    "response = get(url)"
   ]
  },
  {
   "cell_type": "code",
   "execution_count": 196,
   "id": "f8d4c78d",
   "metadata": {},
   "outputs": [
    {
     "data": {
      "text/plain": [
       "<div class=\"f4 text-normal\">\n",
       "<a class=\"v-align-middle\" data-hydro-click='{\"event_type\":\"search_result.click\",\"payload\":{\"page_number\":27,\"per_page\":10,\"query\":\"stars:&gt;1\",\"result_position\":1,\"click_id\":87624870,\"result\":{\"id\":87624870,\"global_relay_id\":\"MDEwOlJlcG9zaXRvcnk4NzYyNDg3MA==\",\"model_name\":\"Repository\",\"url\":\"https://github.com/forezp/SpringCloudLearning\"},\"originating_url\":\"https://github.com/search?o=desc&amp;p=27&amp;q=stars%3A%3E1&amp;s=forks&amp;type=Repositories\",\"user_id\":null}}' data-hydro-click-hmac=\"bbc8f42939a4d87f658aed85271a66d85036738f2605ecb7daa19bb028cf6f3c\" href=\"/forezp/SpringCloudLearning\">forezp/SpringCloudLearning</a>\n",
       "</div>"
      ]
     },
     "execution_count": 196,
     "metadata": {},
     "output_type": "execute_result"
    }
   ],
   "source": [
    "soup = BeautifulSoup(response.text, 'html.parser')\n",
    "headings = soup.select('div.f4.text-normal')\n",
    "headings[0]"
   ]
  },
  {
   "cell_type": "code",
   "execution_count": 197,
   "id": "54455bea",
   "metadata": {},
   "outputs": [
    {
     "data": {
      "text/plain": [
       "['forezp/SpringCloudLearning',\n",
       " 'desktop/desktop',\n",
       " 'Hack-with-Github/Awesome-Hacking',\n",
       " 'dotnet/aspnetcore',\n",
       " 'Ebazhanov/linkedin-skill-assessments-quizzes',\n",
       " 'XX-net/XX-Net',\n",
       " 'openai/gym',\n",
       " 'bcit-ci/CodeIgniter',\n",
       " 'education/GitHubGraduation-2021',\n",
       " 'NixOS/nixpkgs']"
      ]
     },
     "execution_count": 197,
     "metadata": {},
     "output_type": "execute_result"
    }
   ],
   "source": [
    "[h.select_one('a').attrs['href'][1:] for h in soup.select('div.f4.text-normal')]"
   ]
  },
  {
   "cell_type": "code",
   "execution_count": 198,
   "id": "7798d880",
   "metadata": {},
   "outputs": [],
   "source": [
    "url = 'https://github.com/search?o=desc&p=28&q=stars%3A%3E1&s=forks&type=Repositories'\n",
    "response = get(url)"
   ]
  },
  {
   "cell_type": "code",
   "execution_count": 199,
   "id": "55dcd355",
   "metadata": {},
   "outputs": [
    {
     "data": {
      "text/plain": [
       "<div class=\"f4 text-normal\">\n",
       "<a class=\"v-align-middle\" data-hydro-click='{\"event_type\":\"search_result.click\",\"payload\":{\"page_number\":28,\"per_page\":10,\"query\":\"stars:&gt;1\",\"result_position\":1,\"click_id\":74627617,\"result\":{\"id\":74627617,\"global_relay_id\":\"MDEwOlJlcG9zaXRvcnk3NDYyNzYxNw==\",\"model_name\":\"Repository\",\"url\":\"https://github.com/commaai/openpilot\"},\"originating_url\":\"https://github.com/search?o=desc&amp;p=28&amp;q=stars%3A%3E1&amp;s=forks&amp;type=Repositories\",\"user_id\":null}}' data-hydro-click-hmac=\"b7322b04a662970b28aefd4ad8d0003ff75b6a7535bc110a0c779286ddc9d546\" href=\"/commaai/openpilot\">commaai/openpilot</a>\n",
       "</div>"
      ]
     },
     "execution_count": 199,
     "metadata": {},
     "output_type": "execute_result"
    }
   ],
   "source": [
    "soup = BeautifulSoup(response.text, 'html.parser')\n",
    "headings = soup.select('div.f4.text-normal')\n",
    "headings[0]"
   ]
  },
  {
   "cell_type": "code",
   "execution_count": 200,
   "id": "803cb001",
   "metadata": {},
   "outputs": [
    {
     "data": {
      "text/plain": [
       "['commaai/openpilot',\n",
       " 'learn-co-students/js-functions-lab-bootcamp-prep-000',\n",
       " 'google/iosched',\n",
       " 'fffaraz/awesome-cpp',\n",
       " 'learn-co-students/js-if-else-files-lab-bootcamp-prep-000',\n",
       " 'linuxacademy/cicd-pipeline-train-schedule-git',\n",
       " 'learn-co-students/first-ide-lab-bootcamp-prep-000',\n",
       " 'helm/helm',\n",
       " 'metaplex-foundation/metaplex',\n",
       " 'AliceWonderland/hacktoberfest']"
      ]
     },
     "execution_count": 200,
     "metadata": {},
     "output_type": "execute_result"
    }
   ],
   "source": [
    "[h.select_one('a').attrs['href'][1:] for h in soup.select('div.f4.text-normal')]"
   ]
  },
  {
   "cell_type": "code",
   "execution_count": 201,
   "id": "b884bdab",
   "metadata": {},
   "outputs": [],
   "source": [
    "url = 'https://github.com/search?o=desc&p=29&q=stars%3A%3E1&s=forks&type=Repositories'\n",
    "response = get(url)"
   ]
  },
  {
   "cell_type": "code",
   "execution_count": 202,
   "id": "43158d7c",
   "metadata": {},
   "outputs": [
    {
     "data": {
      "text/plain": [
       "<div class=\"f4 text-normal\">\n",
       "<a class=\"v-align-middle\" data-hydro-click='{\"event_type\":\"search_result.click\",\"payload\":{\"page_number\":29,\"per_page\":10,\"query\":\"stars:&gt;1\",\"result_position\":1,\"click_id\":53238813,\"result\":{\"id\":53238813,\"global_relay_id\":\"MDEwOlJlcG9zaXRvcnk1MzIzODgxMw==\",\"model_name\":\"Repository\",\"url\":\"https://github.com/Homebrew/brew\"},\"originating_url\":\"https://github.com/search?o=desc&amp;p=29&amp;q=stars%3A%3E1&amp;s=forks&amp;type=Repositories\",\"user_id\":null}}' data-hydro-click-hmac=\"7cd364645e204b73afff6445ba05efbcc548aaab7efb7b3da2e3ae86f21aa65e\" href=\"/Homebrew/brew\">Homebrew/brew</a>\n",
       "</div>"
      ]
     },
     "execution_count": 202,
     "metadata": {},
     "output_type": "execute_result"
    }
   ],
   "source": [
    "soup = BeautifulSoup(response.text, 'html.parser')\n",
    "headings = soup.select('div.f4.text-normal')\n",
    "headings[0]"
   ]
  },
  {
   "cell_type": "code",
   "execution_count": 203,
   "id": "6c5d3b1e",
   "metadata": {},
   "outputs": [
    {
     "data": {
      "text/plain": [
       "['Homebrew/brew',\n",
       " 'hashicorp/terraform',\n",
       " 'alibaba/p3c',\n",
       " 'halo-dev/halo',\n",
       " 'fchollet/deep-learning-with-python-notebooks',\n",
       " 'chinese-poetry/chinese-poetry',\n",
       " 'qiubaiying/qiubaiying.github.io',\n",
       " 'ant-design/ant-design-pro',\n",
       " 'soyHenry/Prep-Course-',\n",
       " 'shuzheng/zheng']"
      ]
     },
     "execution_count": 203,
     "metadata": {},
     "output_type": "execute_result"
    }
   ],
   "source": [
    "[h.select_one('a').attrs['href'][1:] for h in soup.select('div.f4.text-normal')]"
   ]
  },
  {
   "cell_type": "code",
   "execution_count": 204,
   "id": "8f84f385",
   "metadata": {},
   "outputs": [],
   "source": [
    "url = 'https://github.com/search?o=desc&p=30&q=stars%3A%3E1&s=forks&type=Repositories'\n",
    "response = get(url)"
   ]
  },
  {
   "cell_type": "code",
   "execution_count": 205,
   "id": "088cd562",
   "metadata": {},
   "outputs": [
    {
     "data": {
      "text/plain": [
       "<div class=\"f4 text-normal\">\n",
       "<a class=\"v-align-middle\" data-hydro-click='{\"event_type\":\"search_result.click\",\"payload\":{\"page_number\":30,\"per_page\":10,\"query\":\"stars:&gt;1\",\"result_position\":1,\"click_id\":7613257,\"result\":{\"id\":7613257,\"global_relay_id\":\"MDEwOlJlcG9zaXRvcnk3NjEzMjU3\",\"model_name\":\"Repository\",\"url\":\"https://github.com/SeleniumHQ/selenium\"},\"originating_url\":\"https://github.com/search?o=desc&amp;p=30&amp;q=stars%3A%3E1&amp;s=forks&amp;type=Repositories\",\"user_id\":null}}' data-hydro-click-hmac=\"85fb843f0238c076cf360273cf6626f77b3bef15b14888f35805800d33875d85\" href=\"/SeleniumHQ/selenium\">SeleniumHQ/selenium</a>\n",
       "</div>"
      ]
     },
     "execution_count": 205,
     "metadata": {},
     "output_type": "execute_result"
    }
   ],
   "source": [
    "soup = BeautifulSoup(response.text, 'html.parser')\n",
    "headings = soup.select('div.f4.text-normal')\n",
    "headings[0]"
   ]
  },
  {
   "cell_type": "code",
   "execution_count": 206,
   "id": "cca74491",
   "metadata": {},
   "outputs": [
    {
     "data": {
      "text/plain": [
       "['SeleniumHQ/selenium',\n",
       " 'floodsung/Deep-Learning-Papers-Reading-Roadmap',\n",
       " 'apache/incubator-mxnet',\n",
       " 'numpy/numpy',\n",
       " 'DrKLO/Telegram',\n",
       " 'alibaba/Sentinel',\n",
       " 'impress/impress.js',\n",
       " 'Micropoor/Micro8',\n",
       " 'chrislgarry/Apollo-11',\n",
       " 'dcloudio/mui']"
      ]
     },
     "execution_count": 206,
     "metadata": {},
     "output_type": "execute_result"
    }
   ],
   "source": [
    "[h.select_one('a').attrs['href'][1:] for h in soup.select('div.f4.text-normal')]"
   ]
  },
  {
   "cell_type": "code",
   "execution_count": 207,
   "id": "dd0f3de8",
   "metadata": {},
   "outputs": [],
   "source": [
    "url = 'https://github.com/search?o=desc&p=31&q=stars%3A%3E1&s=forks&type=Repositories'\n",
    "response = get(url)"
   ]
  },
  {
   "cell_type": "code",
   "execution_count": 208,
   "id": "918f1bb4",
   "metadata": {},
   "outputs": [
    {
     "data": {
      "text/plain": [
       "<div class=\"f4 text-normal\">\n",
       "<a class=\"v-align-middle\" data-hydro-click='{\"event_type\":\"search_result.click\",\"payload\":{\"page_number\":31,\"per_page\":10,\"query\":\"stars:&gt;1\",\"result_position\":1,\"click_id\":163387337,\"result\":{\"id\":163387337,\"global_relay_id\":\"MDEwOlJlcG9zaXRvcnkxNjMzODczMzc=\",\"model_name\":\"Repository\",\"url\":\"https://github.com/seata/seata\"},\"originating_url\":\"https://github.com/search?o=desc&amp;p=31&amp;q=stars%3A%3E1&amp;s=forks&amp;type=Repositories\",\"user_id\":null}}' data-hydro-click-hmac=\"dfd76021dcc4d577752d6966dd62d13a2c5ab36738ff6b730a96a09461097448\" href=\"/seata/seata\">seata/seata</a>\n",
       "</div>"
      ]
     },
     "execution_count": 208,
     "metadata": {},
     "output_type": "execute_result"
    }
   ],
   "source": [
    "soup = BeautifulSoup(response.text, 'html.parser')\n",
    "headings = soup.select('div.f4.text-normal')\n",
    "headings[0]"
   ]
  },
  {
   "cell_type": "code",
   "execution_count": 209,
   "id": "14a52b30",
   "metadata": {},
   "outputs": [
    {
     "data": {
      "text/plain": [
       "['seata/seata',\n",
       " 'kelthuzadx/hosts',\n",
       " 'lib-pku/libpku',\n",
       " 'actionsdemos/calculator',\n",
       " 'hasura/imad-app',\n",
       " 'QSCTech/zju-icicles',\n",
       " 'discourse/discourse',\n",
       " 'SheetJS/sheetjs',\n",
       " 'Homebrew/brew',\n",
       " 'hashicorp/terraform']"
      ]
     },
     "execution_count": 209,
     "metadata": {},
     "output_type": "execute_result"
    }
   ],
   "source": [
    "[h.select_one('a').attrs['href'][1:] for h in soup.select('div.f4.text-normal')]"
   ]
  },
  {
   "cell_type": "code",
   "execution_count": 210,
   "id": "4bcbcc79",
   "metadata": {},
   "outputs": [],
   "source": [
    "url = 'https://github.com/search?o=desc&p=32&q=stars%3A%3E1&s=forks&type=Repositories'\n",
    "response = get(url)"
   ]
  },
  {
   "cell_type": "code",
   "execution_count": 211,
   "id": "685234da",
   "metadata": {},
   "outputs": [
    {
     "data": {
      "text/plain": [
       "<div class=\"f4 text-normal\">\n",
       "<a class=\"v-align-middle\" data-hydro-click='{\"event_type\":\"search_result.click\",\"payload\":{\"page_number\":32,\"per_page\":10,\"query\":\"stars:&gt;1\",\"result_position\":1,\"click_id\":7607075,\"result\":{\"id\":7607075,\"global_relay_id\":\"MDEwOlJlcG9zaXRvcnk3NjA3MDc1\",\"model_name\":\"Repository\",\"url\":\"https://github.com/CamDavidsonPilon/Probabilistic-Programming-and-Bayesian-Methods-for-Hackers\"},\"originating_url\":\"https://github.com/search?o=desc&amp;p=32&amp;q=stars%3A%3E1&amp;s=forks&amp;type=Repositories\",\"user_id\":null}}' data-hydro-click-hmac=\"c10c02859da0a2ad2ec5796d5f1918d49178bc5e2ff87d50f0d45c752e0efed3\" href=\"/CamDavidsonPilon/Probabilistic-Programming-and-Bayesian-Methods-for-Hackers\">CamDavidsonPilon/Probabilistic-Programming-and-Bayesian-Methods-for-Hackers</a>\n",
       "</div>"
      ]
     },
     "execution_count": 211,
     "metadata": {},
     "output_type": "execute_result"
    }
   ],
   "source": [
    "soup = BeautifulSoup(response.text, 'html.parser')\n",
    "headings = soup.select('div.f4.text-normal')\n",
    "headings[0]"
   ]
  },
  {
   "cell_type": "code",
   "execution_count": 212,
   "id": "9dda3f3b",
   "metadata": {},
   "outputs": [
    {
     "data": {
      "text/plain": [
       "['CamDavidsonPilon/Probabilistic-Programming-and-Bayesian-Methods-for-Hackers',\n",
       " 'akveo/ngx-admin',\n",
       " 'alibaba/p3c',\n",
       " 'halo-dev/halo',\n",
       " 'nodejs/node-v0.x-archive',\n",
       " 'fchollet/deep-learning-with-python-notebooks',\n",
       " 'chinese-poetry/chinese-poetry',\n",
       " 'qiubaiying/qiubaiying.github.io',\n",
       " 'ant-design/ant-design-pro',\n",
       " 'soyHenry/Prep-Course-']"
      ]
     },
     "execution_count": 212,
     "metadata": {},
     "output_type": "execute_result"
    }
   ],
   "source": [
    "[h.select_one('a').attrs['href'][1:] for h in soup.select('div.f4.text-normal')]"
   ]
  },
  {
   "cell_type": "code",
   "execution_count": 213,
   "id": "6d02f419",
   "metadata": {},
   "outputs": [],
   "source": [
    "url = 'https://github.com/search?o=desc&p=33&q=stars%3A%3E1&s=forks&type=Repositories'\n",
    "response = get(url)"
   ]
  },
  {
   "cell_type": "code",
   "execution_count": 214,
   "id": "9538f668",
   "metadata": {},
   "outputs": [
    {
     "data": {
      "text/plain": [
       "<div class=\"f4 text-normal\">\n",
       "<a class=\"v-align-middle\" data-hydro-click='{\"event_type\":\"search_result.click\",\"payload\":{\"page_number\":33,\"per_page\":10,\"query\":\"stars:&gt;1\",\"result_position\":1,\"click_id\":17562545,\"result\":{\"id\":17562545,\"global_relay_id\":\"MDEwOlJlcG9zaXRvcnkxNzU2MjU0NQ==\",\"model_name\":\"Repository\",\"url\":\"https://github.com/amjuarez/bytecoin\"},\"originating_url\":\"https://github.com/search?o=desc&amp;p=33&amp;q=stars%3A%3E1&amp;s=forks&amp;type=Repositories\",\"user_id\":null}}' data-hydro-click-hmac=\"722d3185a13a6d681f2cc55ce78ed88e94a5b4c7e9b22cbef0a078a8fc4397cc\" href=\"/amjuarez/bytecoin\">amjuarez/bytecoin</a>\n",
       "</div>"
      ]
     },
     "execution_count": 214,
     "metadata": {},
     "output_type": "execute_result"
    }
   ],
   "source": [
    "soup = BeautifulSoup(response.text, 'html.parser')\n",
    "headings = soup.select('div.f4.text-normal')\n",
    "headings[0]"
   ]
  },
  {
   "cell_type": "code",
   "execution_count": 215,
   "id": "a38c6f81",
   "metadata": {},
   "outputs": [
    {
     "data": {
      "text/plain": [
       "['amjuarez/bytecoin',\n",
       " 'apache/incubator-mxnet',\n",
       " 'numpy/numpy',\n",
       " 'DrKLO/Telegram',\n",
       " 'alibaba/Sentinel',\n",
       " 'ColorlibHQ/gentelella',\n",
       " 'impress/impress.js',\n",
       " 'Micropoor/Micro8',\n",
       " 'chrislgarry/Apollo-11',\n",
       " 'dcloudio/mui']"
      ]
     },
     "execution_count": 215,
     "metadata": {},
     "output_type": "execute_result"
    }
   ],
   "source": [
    "[h.select_one('a').attrs['href'][1:] for h in soup.select('div.f4.text-normal')]"
   ]
  },
  {
   "cell_type": "code",
   "execution_count": 216,
   "id": "8084e1c6",
   "metadata": {},
   "outputs": [],
   "source": [
    "url = 'https://github.com/search?o=desc&p=34&q=stars%3A%3E1&s=forks&type=Repositories'\n",
    "response = get(url)"
   ]
  },
  {
   "cell_type": "code",
   "execution_count": 217,
   "id": "481bc48e",
   "metadata": {},
   "outputs": [
    {
     "data": {
      "text/plain": [
       "<div class=\"f4 text-normal\">\n",
       "<a class=\"v-align-middle\" data-hydro-click='{\"event_type\":\"search_result.click\",\"payload\":{\"page_number\":34,\"per_page\":10,\"query\":\"stars:&gt;1\",\"result_position\":1,\"click_id\":278296523,\"result\":{\"id\":278296523,\"global_relay_id\":\"MDEwOlJlcG9zaXRvcnkyNzgyOTY1MjM=\",\"model_name\":\"Repository\",\"url\":\"https://github.com/kautukkundan/Awesome-Profile-README-templates\"},\"originating_url\":\"https://github.com/search?o=desc&amp;p=34&amp;q=stars%3A%3E1&amp;s=forks&amp;type=Repositories\",\"user_id\":null}}' data-hydro-click-hmac=\"8ebff7086e77dcdc1f79d0b6ceefb73886287342eb22ca241c4e87875aad492c\" href=\"/kautukkundan/Awesome-Profile-README-templates\">kautukkundan/Awesome-Profile-README-templates</a>\n",
       "</div>"
      ]
     },
     "execution_count": 217,
     "metadata": {},
     "output_type": "execute_result"
    }
   ],
   "source": [
    "soup = BeautifulSoup(response.text, 'html.parser')\n",
    "headings = soup.select('div.f4.text-normal')\n",
    "headings[0]"
   ]
  },
  {
   "cell_type": "code",
   "execution_count": 218,
   "id": "a7487f09",
   "metadata": {},
   "outputs": [
    {
     "data": {
      "text/plain": [
       "['kautukkundan/Awesome-Profile-README-templates',\n",
       " 'ripienaar/free-for-dev',\n",
       " 'MicrosoftDocs/pipelines-java',\n",
       " 'gothinkster/realworld',\n",
       " 'ngosang/trackerslist',\n",
       " 'hussien89aa/AndroidTutorialForBeginners',\n",
       " 'react-boilerplate/react-boilerplate',\n",
       " 'macrozheng/mall-admin-web',\n",
       " 'ZuzooVn/machine-learning-for-software-engineers',\n",
       " 'deadlyvipers/dojo_rules']"
      ]
     },
     "execution_count": 218,
     "metadata": {},
     "output_type": "execute_result"
    }
   ],
   "source": [
    "[h.select_one('a').attrs['href'][1:] for h in soup.select('div.f4.text-normal')]"
   ]
  },
  {
   "cell_type": "code",
   "execution_count": 219,
   "id": "910088ef",
   "metadata": {},
   "outputs": [],
   "source": [
    "url = 'https://github.com/search?o=desc&p=35&q=stars%3A%3E1&s=forks&type=Repositories'\n",
    "response = get(url)"
   ]
  },
  {
   "cell_type": "code",
   "execution_count": 220,
   "id": "a7f3e610",
   "metadata": {},
   "outputs": [
    {
     "data": {
      "text/plain": [
       "<div class=\"f4 text-normal\">\n",
       "<a class=\"v-align-middle\" data-hydro-click='{\"event_type\":\"search_result.click\",\"payload\":{\"page_number\":35,\"per_page\":10,\"query\":\"stars:&gt;1\",\"result_position\":1,\"click_id\":82280462,\"result\":{\"id\":82280462,\"global_relay_id\":\"MDEwOlJlcG9zaXRvcnk4MjI4MDQ2Mg==\",\"model_name\":\"Repository\",\"url\":\"https://github.com/elmas3/mao-seminar\"},\"originating_url\":\"https://github.com/search?o=desc&amp;p=35&amp;q=stars%3A%3E1&amp;s=forks&amp;type=Repositories\",\"user_id\":null}}' data-hydro-click-hmac=\"01091cc1b4cd1f8c1ac024d4dfe185c05a439617401c7c1a247bf29c1eb77795\" href=\"/elmas3/mao-seminar\">elmas3/mao-seminar</a>\n",
       "</div>"
      ]
     },
     "execution_count": 220,
     "metadata": {},
     "output_type": "execute_result"
    }
   ],
   "source": [
    "soup = BeautifulSoup(response.text, 'html.parser')\n",
    "headings = soup.select('div.f4.text-normal')\n",
    "headings[0]"
   ]
  },
  {
   "cell_type": "code",
   "execution_count": 221,
   "id": "d626dfe4",
   "metadata": {},
   "outputs": [
    {
     "data": {
      "text/plain": [
       "['elmas3/mao-seminar',\n",
       " 'espressif/esp-idf',\n",
       " 'webrtc/samples',\n",
       " 'llvm/llvm-project',\n",
       " 'tzutalin/labelImg',\n",
       " 'zulip/zulip',\n",
       " 'learn-co-students/javascript-arrays-bootcamp-prep-000',\n",
       " 'nodejs/nodejs.org',\n",
       " 'aws-samples/create-react-app-auth-amplify',\n",
       " 'jaywcjlove/awesome-mac']"
      ]
     },
     "execution_count": 221,
     "metadata": {},
     "output_type": "execute_result"
    }
   ],
   "source": [
    "[h.select_one('a').attrs['href'][1:] for h in soup.select('div.f4.text-normal')]"
   ]
  },
  {
   "cell_type": "code",
   "execution_count": 226,
   "id": "e46efec5",
   "metadata": {},
   "outputs": [
    {
     "name": "stdout",
     "output_type": "stream",
     "text": [
      "Getting page [1/100]\n",
      "Getting page [2/100]\n",
      "Getting page [3/100]\n",
      "Getting page [4/100]\n",
      "Getting page [5/100]\n",
      "Getting page [6/100]\n",
      "Getting page [7/100]\n",
      "Getting page [8/100]\n",
      "Getting page [9/100]\n",
      "Getting page [10/100]\n",
      "Getting page [11/100]\n"
     ]
    },
    {
     "ename": "KeyError",
     "evalue": "'items'",
     "output_type": "error",
     "traceback": [
      "\u001b[0;31m---------------------------------------------------------------------------\u001b[0m",
      "\u001b[0;31mKeyError\u001b[0m                                  Traceback (most recent call last)",
      "\u001b[0;32m/var/folders/n7/fjb2f8gd5jg17xlxz1c85vhc0000gn/T/ipykernel_78675/2975822310.py\u001b[0m in \u001b[0;36m<module>\u001b[0;34m\u001b[0m\n\u001b[1;32m     19\u001b[0m     \u001b[0mparams\u001b[0m\u001b[0;34m[\u001b[0m\u001b[0;34m'page'\u001b[0m\u001b[0;34m]\u001b[0m \u001b[0;34m=\u001b[0m \u001b[0mpage\u001b[0m\u001b[0;34m\u001b[0m\u001b[0;34m\u001b[0m\u001b[0m\n\u001b[1;32m     20\u001b[0m     \u001b[0mresponse\u001b[0m \u001b[0;34m=\u001b[0m \u001b[0mrequests\u001b[0m\u001b[0;34m.\u001b[0m\u001b[0mget\u001b[0m\u001b[0;34m(\u001b[0m\u001b[0;34m'https://api.github.com/search/repositories'\u001b[0m\u001b[0;34m,\u001b[0m \u001b[0mheaders\u001b[0m\u001b[0;34m=\u001b[0m\u001b[0mheaders\u001b[0m\u001b[0;34m,\u001b[0m \u001b[0mparams\u001b[0m\u001b[0;34m=\u001b[0m\u001b[0mparams\u001b[0m\u001b[0;34m)\u001b[0m\u001b[0;34m\u001b[0m\u001b[0;34m\u001b[0m\u001b[0m\n\u001b[0;32m---> 21\u001b[0;31m     \u001b[0mitems\u001b[0m \u001b[0;34m=\u001b[0m \u001b[0mresponse\u001b[0m\u001b[0;34m.\u001b[0m\u001b[0mjson\u001b[0m\u001b[0;34m(\u001b[0m\u001b[0;34m)\u001b[0m\u001b[0;34m[\u001b[0m\u001b[0;34m'items'\u001b[0m\u001b[0;34m]\u001b[0m\u001b[0;34m\u001b[0m\u001b[0;34m\u001b[0m\u001b[0m\n\u001b[0m\u001b[1;32m     22\u001b[0m     \u001b[0murls\u001b[0m \u001b[0;34m=\u001b[0m \u001b[0;34m[\u001b[0m\u001b[0mitem\u001b[0m\u001b[0;34m[\u001b[0m\u001b[0;34m'full_name'\u001b[0m\u001b[0;34m]\u001b[0m \u001b[0;32mfor\u001b[0m \u001b[0mitem\u001b[0m \u001b[0;32min\u001b[0m \u001b[0mitems\u001b[0m\u001b[0;34m]\u001b[0m\u001b[0;34m\u001b[0m\u001b[0;34m\u001b[0m\u001b[0m\n\u001b[1;32m     23\u001b[0m     \u001b[0mrepos\u001b[0m\u001b[0;34m.\u001b[0m\u001b[0mextend\u001b[0m\u001b[0;34m(\u001b[0m\u001b[0murls\u001b[0m\u001b[0;34m)\u001b[0m\u001b[0;34m\u001b[0m\u001b[0;34m\u001b[0m\u001b[0m\n",
      "\u001b[0;31mKeyError\u001b[0m: 'items'"
     ]
    }
   ],
   "source": [
    "import requests\n",
    "from env import github_token, github_username\n",
    "import pandas as pd\n",
    "\n",
    "headers = {\"Authorization\": f\"token {github_token}\", \"User-Agent\": github_username}\n",
    "\n",
    "params = {\n",
    "    'sort': 'stars',\n",
    "    'per_page': 100,\n",
    "    'q': 'stars:>1'\n",
    "}\n",
    "\n",
    "repos = []\n",
    "\n",
    "max_page = 100\n",
    "\n",
    "for page in range(1, max_page + 1):\n",
    "    print(f'Getting page [{page}/{max_page}]')\n",
    "    params['page'] = page\n",
    "    response = requests.get('https://api.github.com/search/repositories', headers=headers, params=params)\n",
    "    items = response.json()['items']\n",
    "    urls = [item['full_name'] for item in items]\n",
    "    repos.extend(urls)\n",
    "\n",
    "pd.Series(repos).rename('repo_name').to_csv('repos.csv', index=False)"
   ]
  },
  {
   "cell_type": "code",
   "execution_count": 227,
   "id": "7c82f996",
   "metadata": {},
   "outputs": [
    {
     "data": {
      "text/plain": [
       "{'message': 'Only the first 1000 search results are available',\n",
       " 'documentation_url': 'https://docs.github.com/v3/search/'}"
      ]
     },
     "execution_count": 227,
     "metadata": {},
     "output_type": "execute_result"
    }
   ],
   "source": [
    "response.json()"
   ]
  },
  {
   "cell_type": "code",
   "execution_count": 228,
   "id": "d706324e",
   "metadata": {},
   "outputs": [
    {
     "data": {
      "text/plain": [
       "1000"
      ]
     },
     "execution_count": 228,
     "metadata": {},
     "output_type": "execute_result"
    }
   ],
   "source": [
    "len(repos)"
   ]
  },
  {
   "cell_type": "code",
   "execution_count": 229,
   "id": "bc36b787",
   "metadata": {},
   "outputs": [],
   "source": [
    "pd.Series(repos).rename('repo_name').to_csv('repos.csv', index=False)"
   ]
  },
  {
   "cell_type": "code",
   "execution_count": 230,
   "id": "5b59913e",
   "metadata": {},
   "outputs": [
    {
     "name": "stdout",
     "output_type": "stream",
     "text": [
      "Getting page [1/10]\n",
      "Getting page [2/10]\n",
      "Getting page [3/10]\n",
      "Getting page [4/10]\n",
      "Getting page [5/10]\n",
      "Getting page [6/10]\n",
      "Getting page [7/10]\n",
      "Getting page [8/10]\n",
      "Getting page [9/10]\n",
      "Getting page [10/10]\n"
     ]
    }
   ],
   "source": [
    "headers = {\"Authorization\": f\"token {github_token}\", \"User-Agent\": github_username}\n",
    "\n",
    "params = {\n",
    "    'sort': 'stars',\n",
    "    'per_page': 100,\n",
    "    'q': 'data science'\n",
    "}\n",
    "\n",
    "repos = []\n",
    "\n",
    "max_page = 10\n",
    "\n",
    "for page in range(1, max_page + 1):\n",
    "    print(f'Getting page [{page}/{max_page}]')\n",
    "    params['page'] = page\n",
    "    response = requests.get('https://api.github.com/search/repositories', headers=headers, params=params)\n",
    "    items = response.json()['items']\n",
    "    urls = [item['full_name'] for item in items]\n",
    "    repos.extend(urls)\n",
    "\n",
    "pd.Series(repos).rename('repo_name').to_csv('repos_data_science.csv', index=False)"
   ]
  },
  {
   "cell_type": "code",
   "execution_count": 231,
   "id": "2efe9b92",
   "metadata": {},
   "outputs": [
    {
     "name": "stdout",
     "output_type": "stream",
     "text": [
      "Getting page [1/10]\n",
      "Getting page [2/10]\n",
      "Getting page [3/10]\n",
      "Getting page [4/10]\n",
      "Getting page [5/10]\n",
      "Getting page [6/10]\n",
      "Getting page [7/10]\n",
      "Getting page [8/10]\n",
      "Getting page [9/10]\n",
      "Getting page [10/10]\n"
     ]
    }
   ],
   "source": [
    "headers = {\"Authorization\": f\"token {github_token}\", \"User-Agent\": github_username}\n",
    "\n",
    "params = {\n",
    "    'sort': 'stars',\n",
    "    'per_page': 100,\n",
    "    'q': 'programming'\n",
    "}\n",
    "\n",
    "repos = []\n",
    "\n",
    "max_page = 10\n",
    "\n",
    "for page in range(1, max_page + 1):\n",
    "    print(f'Getting page [{page}/{max_page}]')\n",
    "    params['page'] = page\n",
    "    response = requests.get('https://api.github.com/search/repositories', headers=headers, params=params)\n",
    "    items = response.json()['items']\n",
    "    urls = [item['full_name'] for item in items]\n",
    "    repos.extend(urls)\n",
    "\n",
    "pd.Series(repos).rename('repo_name').to_csv('repos_programming.csv', index=False)"
   ]
  },
  {
   "cell_type": "code",
   "execution_count": 232,
   "id": "e2062a9f",
   "metadata": {},
   "outputs": [
    {
     "name": "stdout",
     "output_type": "stream",
     "text": [
      "Getting page [1/10]\n",
      "Getting page [2/10]\n",
      "Getting page [3/10]\n",
      "Getting page [4/10]\n",
      "Getting page [5/10]\n",
      "Getting page [6/10]\n",
      "Getting page [7/10]\n",
      "Getting page [8/10]\n",
      "Getting page [9/10]\n",
      "Getting page [10/10]\n"
     ]
    }
   ],
   "source": [
    "headers = {\"Authorization\": f\"token {github_token}\", \"User-Agent\": github_username}\n",
    "\n",
    "params = {\n",
    "    'sort': 'stars',\n",
    "    'per_page': 100,\n",
    "    'q': 'learn to code'\n",
    "}\n",
    "\n",
    "repos = []\n",
    "\n",
    "max_page = 10\n",
    "\n",
    "for page in range(1, max_page + 1):\n",
    "    print(f'Getting page [{page}/{max_page}]')\n",
    "    params['page'] = page\n",
    "    response = requests.get('https://api.github.com/search/repositories', headers=headers, params=params)\n",
    "    items = response.json()['items']\n",
    "    urls = [item['full_name'] for item in items]\n",
    "    repos.extend(urls)\n",
    "\n",
    "pd.Series(repos).rename('repo_name').to_csv('repos_learn_to_code.csv', index=False)"
   ]
  },
  {
   "cell_type": "code",
   "execution_count": 233,
   "id": "68a33396",
   "metadata": {},
   "outputs": [
    {
     "name": "stdout",
     "output_type": "stream",
     "text": [
      "Getting page [1/10]\n",
      "Getting page [2/10]\n",
      "Getting page [3/10]\n",
      "Getting page [4/10]\n",
      "Getting page [5/10]\n",
      "Getting page [6/10]\n",
      "Getting page [7/10]\n",
      "Getting page [8/10]\n",
      "Getting page [9/10]\n",
      "Getting page [10/10]\n"
     ]
    }
   ],
   "source": [
    "headers = {\"Authorization\": f\"token {github_token}\", \"User-Agent\": github_username}\n",
    "\n",
    "params = {\n",
    "    'sort': 'stars',\n",
    "    'per_page': 100,\n",
    "    'q': 'modeling'\n",
    "}\n",
    "\n",
    "repos = []\n",
    "\n",
    "max_page = 10\n",
    "\n",
    "for page in range(1, max_page + 1):\n",
    "    print(f'Getting page [{page}/{max_page}]')\n",
    "    params['page'] = page\n",
    "    response = requests.get('https://api.github.com/search/repositories', headers=headers, params=params)\n",
    "    items = response.json()['items']\n",
    "    urls = [item['full_name'] for item in items]\n",
    "    repos.extend(urls)\n",
    "\n",
    "pd.Series(repos).rename('repo_name').to_csv('repos_modeling.csv', index=False)"
   ]
  },
  {
   "cell_type": "code",
   "execution_count": 234,
   "id": "1ebf52e9",
   "metadata": {},
   "outputs": [
    {
     "name": "stdout",
     "output_type": "stream",
     "text": [
      "Getting page [1/10]\n",
      "Getting page [2/10]\n",
      "Getting page [3/10]\n",
      "Getting page [4/10]\n",
      "Getting page [5/10]\n",
      "Getting page [6/10]\n",
      "Getting page [7/10]\n",
      "Getting page [8/10]\n",
      "Getting page [9/10]\n",
      "Getting page [10/10]\n"
     ]
    }
   ],
   "source": [
    "headers = {\"Authorization\": f\"token {github_token}\", \"User-Agent\": github_username}\n",
    "\n",
    "params = {\n",
    "    'sort': 'stars',\n",
    "    'per_page': 100,\n",
    "    'q': 'data viz'\n",
    "}\n",
    "\n",
    "repos = []\n",
    "\n",
    "max_page = 10\n",
    "\n",
    "for page in range(1, max_page + 1):\n",
    "    print(f'Getting page [{page}/{max_page}]')\n",
    "    params['page'] = page\n",
    "    response = requests.get('https://api.github.com/search/repositories', headers=headers, params=params)\n",
    "    items = response.json()['items']\n",
    "    urls = [item['full_name'] for item in items]\n",
    "    repos.extend(urls)\n",
    "\n",
    "pd.Series(repos).rename('repo_name').to_csv('repos_data_viz.csv', index=False)"
   ]
  },
  {
   "cell_type": "code",
   "execution_count": 235,
   "id": "034753b0",
   "metadata": {},
   "outputs": [
    {
     "name": "stdout",
     "output_type": "stream",
     "text": [
      "Getting page [1/10]\n",
      "Getting page [2/10]\n",
      "Getting page [3/10]\n",
      "Getting page [4/10]\n",
      "Getting page [5/10]\n",
      "Getting page [6/10]\n",
      "Getting page [7/10]\n",
      "Getting page [8/10]\n",
      "Getting page [9/10]\n",
      "Getting page [10/10]\n"
     ]
    }
   ],
   "source": [
    "headers = {\"Authorization\": f\"token {github_token}\", \"User-Agent\": github_username}\n",
    "\n",
    "params = {\n",
    "    'sort': 'stars',\n",
    "    'per_page': 100,\n",
    "    'q': 'machine learning'\n",
    "}\n",
    "\n",
    "repos = []\n",
    "\n",
    "max_page = 10\n",
    "\n",
    "for page in range(1, max_page + 1):\n",
    "    print(f'Getting page [{page}/{max_page}]')\n",
    "    params['page'] = page\n",
    "    response = requests.get('https://api.github.com/search/repositories', headers=headers, params=params)\n",
    "    items = response.json()['items']\n",
    "    urls = [item['full_name'] for item in items]\n",
    "    repos.extend(urls)\n",
    "\n",
    "pd.Series(repos).rename('repo_name').to_csv('repos_machine_learning.csv', index=False)"
   ]
  },
  {
   "cell_type": "code",
   "execution_count": 236,
   "id": "a9dabd45",
   "metadata": {},
   "outputs": [
    {
     "name": "stdout",
     "output_type": "stream",
     "text": [
      "Getting page [1/10]\n",
      "Getting page [2/10]\n",
      "Getting page [3/10]\n",
      "Getting page [4/10]\n",
      "Getting page [5/10]\n",
      "Getting page [6/10]\n",
      "Getting page [7/10]\n",
      "Getting page [8/10]\n",
      "Getting page [9/10]\n",
      "Getting page [10/10]\n"
     ]
    }
   ],
   "source": [
    "headers = {\"Authorization\": f\"token {github_token}\", \"User-Agent\": github_username}\n",
    "\n",
    "params = {\n",
    "    'sort': 'stars',\n",
    "    'per_page': 100,\n",
    "    'q': 'tidy data'\n",
    "}\n",
    "\n",
    "repos = []\n",
    "\n",
    "max_page = 10\n",
    "\n",
    "for page in range(1, max_page + 1):\n",
    "    print(f'Getting page [{page}/{max_page}]')\n",
    "    params['page'] = page\n",
    "    response = requests.get('https://api.github.com/search/repositories', headers=headers, params=params)\n",
    "    items = response.json()['items']\n",
    "    urls = [item['full_name'] for item in items]\n",
    "    repos.extend(urls)\n",
    "\n",
    "pd.Series(repos).rename('repo_name').to_csv('repos_tidy_data.csv', index=False)"
   ]
  },
  {
   "cell_type": "code",
   "execution_count": 237,
   "id": "fffc05f9",
   "metadata": {},
   "outputs": [
    {
     "name": "stdout",
     "output_type": "stream",
     "text": [
      "Getting page [1/10]\n",
      "Getting page [2/10]\n",
      "Getting page [3/10]\n",
      "Getting page [4/10]\n",
      "Getting page [5/10]\n",
      "Getting page [6/10]\n",
      "Getting page [7/10]\n",
      "Getting page [8/10]\n",
      "Getting page [9/10]\n",
      "Getting page [10/10]\n"
     ]
    }
   ],
   "source": [
    "headers = {\"Authorization\": f\"token {github_token}\", \"User-Agent\": github_username}\n",
    "\n",
    "params = {\n",
    "    'sort': 'stars',\n",
    "    'per_page': 100,\n",
    "    'q': 'statistics'\n",
    "}\n",
    "\n",
    "repos = []\n",
    "\n",
    "max_page = 10\n",
    "\n",
    "for page in range(1, max_page + 1):\n",
    "    print(f'Getting page [{page}/{max_page}]')\n",
    "    params['page'] = page\n",
    "    response = requests.get('https://api.github.com/search/repositories', headers=headers, params=params)\n",
    "    items = response.json()['items']\n",
    "    urls = [item['full_name'] for item in items]\n",
    "    repos.extend(urls)\n",
    "\n",
    "pd.Series(repos).rename('repo_name').to_csv('repos_statistics.csv', index=False)"
   ]
  },
  {
   "cell_type": "code",
   "execution_count": 238,
   "id": "8c640230",
   "metadata": {},
   "outputs": [
    {
     "name": "stdout",
     "output_type": "stream",
     "text": [
      "Getting page [1/10]\n",
      "Getting page [2/10]\n",
      "Getting page [3/10]\n",
      "Getting page [4/10]\n",
      "Getting page [5/10]\n",
      "Getting page [6/10]\n",
      "Getting page [7/10]\n",
      "Getting page [8/10]\n",
      "Getting page [9/10]\n",
      "Getting page [10/10]\n"
     ]
    }
   ],
   "source": [
    "headers = {\"Authorization\": f\"token {github_token}\", \"User-Agent\": github_username}\n",
    "\n",
    "params = {\n",
    "    'sort': 'stars',\n",
    "    'per_page': 100,\n",
    "    'q': 'predict'\n",
    "}\n",
    "\n",
    "repos = []\n",
    "\n",
    "max_page = 10\n",
    "\n",
    "for page in range(1, max_page + 1):\n",
    "    print(f'Getting page [{page}/{max_page}]')\n",
    "    params['page'] = page\n",
    "    response = requests.get('https://api.github.com/search/repositories', headers=headers, params=params)\n",
    "    items = response.json()['items']\n",
    "    urls = [item['full_name'] for item in items]\n",
    "    repos.extend(urls)\n",
    "\n",
    "pd.Series(repos).rename('repo_name').to_csv('repos_predict.csv', index=False)"
   ]
  },
  {
   "cell_type": "code",
   "execution_count": 240,
   "id": "ddb3a964",
   "metadata": {},
   "outputs": [],
   "source": [
    "df1 = pd.read_csv('repos_predict.csv')\n",
    "df2 = pd.read_csv('repos_statistics.csv')\n",
    "df3 = pd.read_csv('repos_tidy_data.csv')\n",
    "df4 = pd.read_csv('repos_machine_learning.csv')\n",
    "df5 = pd.read_csv('repos_data_viz.csv')\n",
    "df6 = pd.read_csv('repos_modeling.csv')\n",
    "df7 = pd.read_csv('repos_learn_to_code.csv')\n",
    "df8 = pd.read_csv('repos_programming.csv')\n",
    "df9 = pd.read_csv('repos_data_science.csv')\n",
    "df10 = pd.read_csv('repos.csv')"
   ]
  },
  {
   "cell_type": "code",
   "execution_count": 241,
   "id": "a09b0cc6",
   "metadata": {},
   "outputs": [],
   "source": [
    "repo_list = pd.concat([df1, df2, df3, df4, df5, df6, df7, df8, df9, df10], axis=0)"
   ]
  },
  {
   "cell_type": "code",
   "execution_count": 242,
   "id": "7083134f",
   "metadata": {},
   "outputs": [
    {
     "data": {
      "text/plain": [
       "(10000, 1)"
      ]
     },
     "execution_count": 242,
     "metadata": {},
     "output_type": "execute_result"
    }
   ],
   "source": [
    "repo_list.shape"
   ]
  },
  {
   "cell_type": "code",
   "execution_count": null,
   "id": "e8cce051",
   "metadata": {},
   "outputs": [],
   "source": []
  }
 ],
 "metadata": {
  "kernelspec": {
   "display_name": "Python 3 (ipykernel)",
   "language": "python",
   "name": "python3"
  },
  "language_info": {
   "codemirror_mode": {
    "name": "ipython",
    "version": 3
   },
   "file_extension": ".py",
   "mimetype": "text/x-python",
   "name": "python",
   "nbconvert_exporter": "python",
   "pygments_lexer": "ipython3",
   "version": "3.9.7"
  }
 },
 "nbformat": 4,
 "nbformat_minor": 5
}
