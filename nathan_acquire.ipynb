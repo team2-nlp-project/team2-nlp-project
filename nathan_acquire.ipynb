{
 "cells": [
  {
   "cell_type": "code",
   "execution_count": 2,
   "id": "12d749e2",
   "metadata": {},
   "outputs": [],
   "source": [
    "from requests import get\n",
    "from bs4 import BeautifulSoup\n",
    "import pandas as pd"
   ]
  },
  {
   "cell_type": "code",
   "execution_count": 3,
   "id": "5b554c9f",
   "metadata": {},
   "outputs": [
    {
     "data": {
      "text/plain": [
       "<h1 class=\"h3 lh-condensed\">\n",
       "<a data-hydro-click='{\"event_type\":\"explore.click\",\"payload\":{\"click_context\":\"TRENDING_REPOSITORIES_PAGE\",\"click_target\":\"REPOSITORY\",\"click_visual_representation\":\"REPOSITORY_NAME_HEADING\",\"actor_id\":null,\"record_id\":39840932,\"originating_url\":\"https://github.com/trending\",\"user_id\":null}}' data-hydro-click-hmac=\"b5c21c00a03199cc476d548acb97ab258f58b11b86fc31b42a24574f04824f67\" data-view-component=\"true\" href=\"/google/googletest\">\n",
       "<svg aria-hidden=\"true\" class=\"octicon octicon-repo mr-1 color-fg-muted\" data-view-component=\"true\" height=\"16\" version=\"1.1\" viewbox=\"0 0 16 16\" width=\"16\">\n",
       "<path d=\"M2 2.5A2.5 2.5 0 014.5 0h8.75a.75.75 0 01.75.75v12.5a.75.75 0 01-.75.75h-2.5a.75.75 0 110-1.5h1.75v-2h-8a1 1 0 00-.714 1.7.75.75 0 01-1.072 1.05A2.495 2.495 0 012 11.5v-9zm10.5-1V9h-8c-.356 0-.694.074-1 .208V2.5a1 1 0 011-1h8zM5 12.25v3.25a.25.25 0 00.4.2l1.45-1.087a.25.25 0 01.3 0L8.6 15.7a.25.25 0 00.4-.2v-3.25a.25.25 0 00-.25-.25h-3.5a.25.25 0 00-.25.25z\" fill-rule=\"evenodd\"></path>\n",
       "</svg>\n",
       "<span class=\"text-normal\" data-view-component=\"true\">\n",
       "        google /\n",
       "</span>\n",
       "      googletest\n",
       "</a>\n",
       "</h1>"
      ]
     },
     "execution_count": 3,
     "metadata": {},
     "output_type": "execute_result"
    }
   ],
   "source": [
    "url = 'https://github.com/trending' \n",
    "response = get(url)\n",
    "soup = BeautifulSoup(response.text, 'html.parser')\n",
    "headings = soup.select('h1.h3.lh-condensed')\n",
    "headings[0]"
   ]
  },
  {
   "cell_type": "code",
   "execution_count": 5,
   "id": "e51420a0",
   "metadata": {},
   "outputs": [
    {
     "data": {
      "text/plain": [
       "25"
      ]
     },
     "execution_count": 5,
     "metadata": {},
     "output_type": "execute_result"
    }
   ],
   "source": [
    "len(headings)"
   ]
  },
  {
   "cell_type": "code",
   "execution_count": 6,
   "id": "0b000b88",
   "metadata": {},
   "outputs": [
    {
     "data": {
      "text/plain": [
       "['google/googletest',\n",
       " 'projectdiscovery/nuclei-templates',\n",
       " 'digitalocean/nginxconfig.io',\n",
       " 'flutter/flutter',\n",
       " 'PaddlePaddle/PaddleOCR',\n",
       " 'flutter/pinball',\n",
       " 'wolfogre/go-pprof-practice',\n",
       " 'supabase/supabase',\n",
       " 'felipefialho/frontend-challenges',\n",
       " 'flutter/samples',\n",
       " 'alibaba/fastjson2',\n",
       " 'florinpop17/app-ideas',\n",
       " 'charmbracelet/bubbletea',\n",
       " 'huggingface/transformers',\n",
       " 'databricks-academy/data-engineering-with-databricks',\n",
       " 'hectorqin/reader',\n",
       " 'Azure/azure-rest-api-specs',\n",
       " 'terra-money/core',\n",
       " 'saltstack/salt',\n",
       " 'PKUFlyingPig/cs-self-learning',\n",
       " 'actions/virtual-environments',\n",
       " 'jojoldu/junior-recruit-scheduler',\n",
       " 'dotnet/aspnetcore',\n",
       " 'danielgindi/Charts',\n",
       " 'microsoft/unilm']"
      ]
     },
     "execution_count": 6,
     "metadata": {},
     "output_type": "execute_result"
    }
   ],
   "source": [
    "[h.select_one('a').attrs['href'][1:] for h in soup.select('h1.h3.lh-condensed')]"
   ]
  },
  {
   "cell_type": "code",
   "execution_count": null,
   "id": "33284969",
   "metadata": {},
   "outputs": [],
   "source": []
  },
  {
   "cell_type": "code",
   "execution_count": null,
   "id": "ddb3b4fa",
   "metadata": {},
   "outputs": [],
   "source": []
  },
  {
   "cell_type": "code",
   "execution_count": 11,
   "id": "523e0153",
   "metadata": {},
   "outputs": [
    {
     "data": {
      "text/plain": [
       "<div class=\"f4 text-normal\">\n",
       "<a class=\"v-align-middle\" data-hydro-click='{\"event_type\":\"search_result.click\",\"payload\":{\"page_number\":1,\"per_page\":10,\"query\":\"stars:&gt;1\",\"result_position\":1,\"click_id\":14204342,\"result\":{\"id\":14204342,\"global_relay_id\":\"MDEwOlJlcG9zaXRvcnkxNDIwNDM0Mg==\",\"model_name\":\"Repository\",\"url\":\"https://github.com/jtleek/datasharing\"},\"originating_url\":\"https://github.com/search?o=desc&amp;q=stars:%3E1&amp;s=forks&amp;type=Repositories\",\"user_id\":null}}' data-hydro-click-hmac=\"43ffd03f9b9f100d5d4cff6300156df517f385d2cd83787e829219fd8b4df50e\" href=\"/jtleek/datasharing\">jtleek/datasharing</a>\n",
       "</div>"
      ]
     },
     "execution_count": 11,
     "metadata": {},
     "output_type": "execute_result"
    }
   ],
   "source": [
    "url = 'https://github.com/search?o=desc&q=stars:%3E1&s=forks&type=Repositories' \n",
    "response = get(url)\n",
    "soup = BeautifulSoup(response.text, 'html.parser')\n",
    "headings = soup.select('div.f4.text-normal')\n",
    "headings[0]"
   ]
  },
  {
   "cell_type": "code",
   "execution_count": null,
   "id": "ccd76615",
   "metadata": {},
   "outputs": [],
   "source": []
  },
  {
   "cell_type": "code",
   "execution_count": 10,
   "id": "06f16399",
   "metadata": {},
   "outputs": [
    {
     "data": {
      "text/plain": [
       "'\\n\\n\\n\\n\\n\\nRate limit · GitHub\\n\\n\\n\\n\\n\\nWhoa there!\\nYou have exceeded a secondary rate limit.\\n        Please wait a few minutes before you try again;\\n        in some cases this may take up to an hour.\\n      \\n\\nContact Support —\\n        GitHub Status —\\n        @githubstatus\\n\\n\\n\\n\\n\\n\\n\\n\\n\\n\\n'"
      ]
     },
     "execution_count": 10,
     "metadata": {},
     "output_type": "execute_result"
    }
   ],
   "source": [
    "soup.text"
   ]
  },
  {
   "cell_type": "code",
   "execution_count": 12,
   "id": "cf9bdd89",
   "metadata": {},
   "outputs": [
    {
     "data": {
      "text/plain": [
       "['jtleek/datasharing',\n",
       " 'rdpeng/ProgrammingAssignment2',\n",
       " 'octocat/Spoon-Knife',\n",
       " 'tensorflow/tensorflow',\n",
       " 'twbs/bootstrap',\n",
       " 'Pierian-Data/Complete-Python-3-Bootcamp',\n",
       " 'nightscout/cgm-remote-monitor',\n",
       " 'jwasham/coding-interview-university',\n",
       " 'rdpeng/ExData_Plotting1',\n",
       " 'github/docs']"
      ]
     },
     "execution_count": 12,
     "metadata": {},
     "output_type": "execute_result"
    }
   ],
   "source": [
    "[h.select_one('a').attrs['href'][1:] for h in soup.select('div.f4.text-normal')]"
   ]
  },
  {
   "cell_type": "code",
   "execution_count": 13,
   "id": "584d371f",
   "metadata": {},
   "outputs": [],
   "source": [
    "url = 'https://github.com/search?o=desc&p=2&q=stars%3A%3E1&s=forks&type=Repositories'\n",
    "response = get(url)"
   ]
  },
  {
   "cell_type": "code",
   "execution_count": 14,
   "id": "0086e5d8",
   "metadata": {},
   "outputs": [
    {
     "data": {
      "text/plain": [
       "<div class=\"f4 text-normal\">\n",
       "<a class=\"v-align-middle\" data-hydro-click='{\"event_type\":\"search_result.click\",\"payload\":{\"page_number\":2,\"per_page\":10,\"query\":\"stars:&gt;1\",\"result_position\":1,\"click_id\":189621607,\"result\":{\"id\":189621607,\"global_relay_id\":\"MDEwOlJlcG9zaXRvcnkxODk2MjE2MDc=\",\"model_name\":\"Repository\",\"url\":\"https://github.com/github/docs\"},\"originating_url\":\"https://github.com/search?o=desc&amp;p=2&amp;q=stars%3A%3E1&amp;s=forks&amp;type=Repositories\",\"user_id\":null}}' data-hydro-click-hmac=\"e0c9c413683b12336f4ab1b96034d225dd4b7213d00e333d6630186cc5935124\" href=\"/github/docs\">github/docs</a>\n",
       "</div>"
      ]
     },
     "execution_count": 14,
     "metadata": {},
     "output_type": "execute_result"
    }
   ],
   "source": [
    "soup = BeautifulSoup(response.text, 'html.parser')\n",
    "headings = soup.select('div.f4.text-normal')\n",
    "headings[0]"
   ]
  },
  {
   "cell_type": "code",
   "execution_count": 15,
   "id": "12670f94",
   "metadata": {},
   "outputs": [
    {
     "data": {
      "text/plain": [
       "['github/docs',\n",
       " 'opencv/opencv',\n",
       " 'EbookFoundation/free-programming-books',\n",
       " 'eugenp/tutorials',\n",
       " 'CyC2018/CS-Notes',\n",
       " 'jackfrued/Python-100-Days',\n",
       " 'firstcontributions/first-contributions',\n",
       " 'torvalds/linux',\n",
       " 'Snailclimb/JavaGuide',\n",
       " 'facebook/react']"
      ]
     },
     "execution_count": 15,
     "metadata": {},
     "output_type": "execute_result"
    }
   ],
   "source": [
    "[h.select_one('a').attrs['href'][1:] for h in soup.select('div.f4.text-normal')]"
   ]
  },
  {
   "cell_type": "code",
   "execution_count": 16,
   "id": "43033ca7",
   "metadata": {},
   "outputs": [],
   "source": [
    "url = 'https://github.com/search?o=desc&p=3&q=stars%3A%3E1&s=forks&type=Repositories'\n",
    "response = get(url)"
   ]
  },
  {
   "cell_type": "code",
   "execution_count": 17,
   "id": "e34f7a4f",
   "metadata": {},
   "outputs": [
    {
     "data": {
      "text/plain": [
       "<div class=\"f4 text-normal\">\n",
       "<a class=\"v-align-middle\" data-hydro-click='{\"event_type\":\"search_result.click\",\"payload\":{\"page_number\":3,\"per_page\":10,\"query\":\"stars:&gt;1\",\"result_position\":1,\"click_id\":15783450,\"result\":{\"id\":15783450,\"global_relay_id\":\"MDEwOlJlcG9zaXRvcnkxNTc4MzQ1MA==\",\"model_name\":\"Repository\",\"url\":\"https://github.com/jlord/patchwork\"},\"originating_url\":\"https://github.com/search?o=desc&amp;p=3&amp;q=stars%3A%3E1&amp;s=forks&amp;type=Repositories\",\"user_id\":null}}' data-hydro-click-hmac=\"e9e156fd89fd4f4322570e4ca03c27e94962a4e53376501c1e4090099efa3850\" href=\"/jlord/patchwork\">jlord/patchwork</a>\n",
       "</div>"
      ]
     },
     "execution_count": 17,
     "metadata": {},
     "output_type": "execute_result"
    }
   ],
   "source": [
    "soup = BeautifulSoup(response.text, 'html.parser')\n",
    "headings = soup.select('div.f4.text-normal')\n",
    "headings[0]"
   ]
  },
  {
   "cell_type": "code",
   "execution_count": 18,
   "id": "be9ad9b9",
   "metadata": {},
   "outputs": [
    {
     "data": {
      "text/plain": [
       "['jlord/patchwork',\n",
       " 'TheAlgorithms/Python',\n",
       " 'ant-design/ant-design',\n",
       " 'barryclark/jekyll-now',\n",
       " 'bitcoin/bitcoin',\n",
       " 'angular/angular.js',\n",
       " 'kamranahmedse/developer-roadmap',\n",
       " 'PanJiaChen/vue-element-admin',\n",
       " 'django/django',\n",
       " 'mui/material-ui']"
      ]
     },
     "execution_count": 18,
     "metadata": {},
     "output_type": "execute_result"
    }
   ],
   "source": [
    "[h.select_one('a').attrs['href'][1:] for h in soup.select('div.f4.text-normal')]"
   ]
  },
  {
   "cell_type": "code",
   "execution_count": 19,
   "id": "dc324855",
   "metadata": {},
   "outputs": [],
   "source": [
    "url = 'https://github.com/search?o=desc&p=4&q=stars%3A%3E1&s=forks&type=Repositories'\n",
    "response = get(url)"
   ]
  },
  {
   "cell_type": "code",
   "execution_count": 20,
   "id": "82d2b3b8",
   "metadata": {},
   "outputs": [
    {
     "data": {
      "text/plain": [
       "<div class=\"f4 text-normal\">\n",
       "<a class=\"v-align-middle\" data-hydro-click='{\"event_type\":\"search_result.click\",\"payload\":{\"page_number\":4,\"per_page\":10,\"query\":\"stars:&gt;1\",\"result_position\":1,\"click_id\":85077558,\"result\":{\"id\":85077558,\"global_relay_id\":\"MDEwOlJlcG9zaXRvcnk4NTA3NzU1OA==\",\"model_name\":\"Repository\",\"url\":\"https://github.com/kamranahmedse/developer-roadmap\"},\"originating_url\":\"https://github.com/search?o=desc&amp;p=4&amp;q=stars%3A%3E1&amp;s=forks&amp;type=Repositories\",\"user_id\":null}}' data-hydro-click-hmac=\"325592ad3d339c70a816b7cd30e0febd1f1cffa99766992420bf7e3a272c2f94\" href=\"/kamranahmedse/developer-roadmap\">kamranahmedse/developer-roadmap</a>\n",
       "</div>"
      ]
     },
     "execution_count": 20,
     "metadata": {},
     "output_type": "execute_result"
    }
   ],
   "source": [
    "soup = BeautifulSoup(response.text, 'html.parser')\n",
    "headings = soup.select('div.f4.text-normal')\n",
    "headings[0]"
   ]
  },
  {
   "cell_type": "code",
   "execution_count": 21,
   "id": "8f18d4e8",
   "metadata": {},
   "outputs": [
    {
     "data": {
      "text/plain": [
       "['kamranahmedse/developer-roadmap',\n",
       " 'PanJiaChen/vue-element-admin',\n",
       " 'DefinitelyTyped/DefinitelyTyped',\n",
       " 'django/django',\n",
       " 'mui/material-ui',\n",
       " 'RedHatTraining/DO180-apps',\n",
       " 'qmk/qmk_firmware',\n",
       " 'apache/spark',\n",
       " 'apache/dubbo',\n",
       " 'google/it-cert-automation-practice']"
      ]
     },
     "execution_count": 21,
     "metadata": {},
     "output_type": "execute_result"
    }
   ],
   "source": [
    "[h.select_one('a').attrs['href'][1:] for h in soup.select('div.f4.text-normal')]"
   ]
  },
  {
   "cell_type": "code",
   "execution_count": 22,
   "id": "c396b919",
   "metadata": {},
   "outputs": [],
   "source": [
    "url = 'https://github.com/search?o=desc&p=5&q=stars%3A%3E1&s=forks&type=Repositories'\n",
    "response = get(url)"
   ]
  },
  {
   "cell_type": "code",
   "execution_count": 23,
   "id": "bcfa4c3e",
   "metadata": {},
   "outputs": [
    {
     "data": {
      "text/plain": [
       "<div class=\"f4 text-normal\">\n",
       "<a class=\"v-align-middle\" data-hydro-click='{\"event_type\":\"search_result.click\",\"payload\":{\"page_number\":5,\"per_page\":10,\"query\":\"stars:&gt;1\",\"result_position\":1,\"click_id\":63537249,\"result\":{\"id\":63537249,\"global_relay_id\":\"MDEwOlJlcG9zaXRvcnk2MzUzNzI0OQ==\",\"model_name\":\"Repository\",\"url\":\"https://github.com/facebook/create-react-app\"},\"originating_url\":\"https://github.com/search?o=desc&amp;p=5&amp;q=stars%3A%3E1&amp;s=forks&amp;type=Repositories\",\"user_id\":null}}' data-hydro-click-hmac=\"a062b7ac7393e0c6659a6a3b8e0b0188fd221d8aae2c97257b9afef49fa07848\" href=\"/facebook/create-react-app\">facebook/create-react-app</a>\n",
       "</div>"
      ]
     },
     "execution_count": 23,
     "metadata": {},
     "output_type": "execute_result"
    }
   ],
   "source": [
    "soup = BeautifulSoup(response.text, 'html.parser')\n",
    "headings = soup.select('div.f4.text-normal')\n",
    "headings[0]"
   ]
  },
  {
   "cell_type": "code",
   "execution_count": 24,
   "id": "a511770a",
   "metadata": {},
   "outputs": [
    {
     "data": {
      "text/plain": [
       "['facebook/create-react-app',\n",
       " 'airbnb/javascript',\n",
       " 'git/git',\n",
       " 'nodejs/node',\n",
       " 'sindresorhus/awesome',\n",
       " 'iluwatar/java-design-patterns',\n",
       " 'python/cpython',\n",
       " 'd3/d3',\n",
       " 'scikit-learn/scikit-learn',\n",
       " 'atralice/Curso.Prep.Henry']"
      ]
     },
     "execution_count": 24,
     "metadata": {},
     "output_type": "execute_result"
    }
   ],
   "source": [
    "[h.select_one('a').attrs['href'][1:] for h in soup.select('div.f4.text-normal')]"
   ]
  },
  {
   "cell_type": "code",
   "execution_count": 3,
   "id": "b2bd3d52",
   "metadata": {},
   "outputs": [],
   "source": [
    "url = 'https://github.com/search?o=desc&p=7&q=stars%3A%3E1&s=forks&type=Repositories'\n",
    "response = get(url)"
   ]
  },
  {
   "cell_type": "code",
   "execution_count": 4,
   "id": "b6762bd7",
   "metadata": {},
   "outputs": [
    {
     "data": {
      "text/plain": [
       "<div class=\"f4 text-normal\">\n",
       "<a class=\"v-align-middle\" data-hydro-click='{\"event_type\":\"search_result.click\",\"payload\":{\"page_number\":7,\"per_page\":10,\"query\":\"stars:&gt;1\",\"result_position\":1,\"click_id\":12791642,\"result\":{\"id\":12791642,\"global_relay_id\":\"MDEwOlJlcG9zaXRvcnkxMjc5MTY0Mg==\",\"model_name\":\"Repository\",\"url\":\"https://github.com/BVLC/caffe\"},\"originating_url\":\"https://github.com/search?o=desc&amp;p=7&amp;q=stars%3A%3E1&amp;s=forks&amp;type=Repositories\",\"user_id\":null}}' data-hydro-click-hmac=\"ca60a6ad3c9032632c5b2989897b455af1ac1cd40c2e955fc0a697b9a304322f\" href=\"/BVLC/caffe\">BVLC/caffe</a>\n",
       "</div>"
      ]
     },
     "execution_count": 4,
     "metadata": {},
     "output_type": "execute_result"
    }
   ],
   "source": [
    "soup = BeautifulSoup(response.text, 'html.parser')\n",
    "headings = soup.select('div.f4.text-normal')\n",
    "headings[0]"
   ]
  },
  {
   "cell_type": "code",
   "execution_count": 5,
   "id": "630e32bc",
   "metadata": {},
   "outputs": [
    {
     "data": {
      "text/plain": [
       "['BVLC/caffe',\n",
       " 'apache/echarts',\n",
       " 'CSSEGISandData/COVID-19',\n",
       " 'jenkins-docs/simple-java-maven-app',\n",
       " 'vercel/next.js',\n",
       " 'home-assistant/core',\n",
       " 'moby/moby',\n",
       " 'ColorlibHQ/AdminLTE',\n",
       " 'scm-ninja/starter-web',\n",
       " 'xingshaocheng/architect-awesome']"
      ]
     },
     "execution_count": 5,
     "metadata": {},
     "output_type": "execute_result"
    }
   ],
   "source": [
    "[h.select_one('a').attrs['href'][1:] for h in soup.select('div.f4.text-normal')]"
   ]
  },
  {
   "cell_type": "code",
   "execution_count": 6,
   "id": "58fa9e87",
   "metadata": {},
   "outputs": [],
   "source": [
    "url = 'https://github.com/search?o=desc&p=8&q=stars%3A%3E1&s=forks&type=Repositories'\n",
    "response = get(url)"
   ]
  },
  {
   "cell_type": "code",
   "execution_count": 7,
   "id": "4140e15b",
   "metadata": {},
   "outputs": [
    {
     "data": {
      "text/plain": [
       "<div class=\"f4 text-normal\">\n",
       "<a class=\"v-align-middle\" data-hydro-click='{\"event_type\":\"search_result.click\",\"payload\":{\"page_number\":8,\"per_page\":10,\"query\":\"stars:&gt;1\",\"result_position\":1,\"click_id\":7512484,\"result\":{\"id\":7512484,\"global_relay_id\":\"MDEwOlJlcG9zaXRvcnk3NTEyNDg0\",\"model_name\":\"Repository\",\"url\":\"https://github.com/ArduPilot/ardupilot\"},\"originating_url\":\"https://github.com/search?o=desc&amp;p=8&amp;q=stars%3A%3E1&amp;s=forks&amp;type=Repositories\",\"user_id\":null}}' data-hydro-click-hmac=\"f601b80df1bdce61deeda313efce5c121a9eb1e642ac2468cf8d2c4ea0d00738\" href=\"/ArduPilot/ardupilot\">ArduPilot/ardupilot</a>\n",
       "</div>"
      ]
     },
     "execution_count": 7,
     "metadata": {},
     "output_type": "execute_result"
    }
   ],
   "source": [
    "soup = BeautifulSoup(response.text, 'html.parser')\n",
    "headings = soup.select('div.f4.text-normal')\n",
    "headings[0]"
   ]
  },
  {
   "cell_type": "code",
   "execution_count": 8,
   "id": "9b86924c",
   "metadata": {},
   "outputs": [
    {
     "data": {
      "text/plain": [
       "['ArduPilot/ardupilot',\n",
       " 'codebasics/py',\n",
       " 'ageitgey/face_recognition',\n",
       " 'bailicangdu/vue2-elm',\n",
       " 'angular/angular-cli',\n",
       " 'kdn251/interviews',\n",
       " 'Trinea/android-open-project',\n",
       " 'zero-to-mastery/start-here-guidelines',\n",
       " 'FortAwesome/Font-Awesome',\n",
       " 'Homebrew/legacy-homebrew']"
      ]
     },
     "execution_count": 8,
     "metadata": {},
     "output_type": "execute_result"
    }
   ],
   "source": [
    "[h.select_one('a').attrs['href'][1:] for h in soup.select('div.f4.text-normal')]"
   ]
  },
  {
   "cell_type": "code",
   "execution_count": 9,
   "id": "5b44cef8",
   "metadata": {},
   "outputs": [],
   "source": [
    "url = 'https://github.com/search?o=desc&p=9&q=stars%3A%3E1&s=forks&type=Repositories'\n",
    "response = get(url)"
   ]
  },
  {
   "cell_type": "code",
   "execution_count": 10,
   "id": "fe7432f4",
   "metadata": {},
   "outputs": [
    {
     "data": {
      "text/plain": [
       "<div class=\"f4 text-normal\">\n",
       "<a class=\"v-align-middle\" data-hydro-click='{\"event_type\":\"search_result.click\",\"payload\":{\"page_number\":9,\"per_page\":10,\"query\":\"stars:&gt;1\",\"result_position\":1,\"click_id\":65388917,\"result\":{\"id\":65388917,\"global_relay_id\":\"MDEwOlJlcG9zaXRvcnk2NTM4ODkxNw==\",\"model_name\":\"Repository\",\"url\":\"https://github.com/jakevdp/PythonDataScienceHandbook\"},\"originating_url\":\"https://github.com/search?o=desc&amp;p=9&amp;q=stars%3A%3E1&amp;s=forks&amp;type=Repositories\",\"user_id\":null}}' data-hydro-click-hmac=\"739f5bacd6b2f2da309c9ae8bf4927a9384c5739cdc0235464bda91e366d620f\" href=\"/jakevdp/PythonDataScienceHandbook\">jakevdp/PythonDataScienceHandbook</a>\n",
       "</div>"
      ]
     },
     "execution_count": 10,
     "metadata": {},
     "output_type": "execute_result"
    }
   ],
   "source": [
    "soup = BeautifulSoup(response.text, 'html.parser')\n",
    "headings = soup.select('div.f4.text-normal')\n",
    "headings[0]"
   ]
  },
  {
   "cell_type": "code",
   "execution_count": 11,
   "id": "7495301c",
   "metadata": {},
   "outputs": [
    {
     "data": {
      "text/plain": [
       "['jakevdp/PythonDataScienceHandbook',\n",
       " 'aymericdamien/TensorFlow-Examples',\n",
       " 'pallets/flask',\n",
       " 'github/opensource.guide',\n",
       " 'golang/go',\n",
       " 'TheOdinProject/css-exercises',\n",
       " 'selfteaching/the-craft-of-selfteaching',\n",
       " 'pandas-dev/pandas',\n",
       " 'ElemeFE/element',\n",
       " 'ionic-team/ionic-framework']"
      ]
     },
     "execution_count": 11,
     "metadata": {},
     "output_type": "execute_result"
    }
   ],
   "source": [
    "[h.select_one('a').attrs['href'][1:] for h in soup.select('div.f4.text-normal')]"
   ]
  },
  {
   "cell_type": "code",
   "execution_count": 15,
   "id": "aa0d68b4",
   "metadata": {},
   "outputs": [],
   "source": [
    "url = 'https://github.com/search?o=desc&p=10&q=stars%3A%3E1&s=forks&type=Repositories'\n",
    "response = get(url)"
   ]
  },
  {
   "cell_type": "code",
   "execution_count": 16,
   "id": "324d34ca",
   "metadata": {},
   "outputs": [
    {
     "data": {
      "text/plain": [
       "<div class=\"f4 text-normal\">\n",
       "<a class=\"v-align-middle\" data-hydro-click='{\"event_type\":\"search_result.click\",\"payload\":{\"page_number\":10,\"per_page\":10,\"query\":\"stars:&gt;1\",\"result_position\":1,\"click_id\":151834062,\"result\":{\"id\":151834062,\"global_relay_id\":\"MDEwOlJlcG9zaXRvcnkxNTE4MzQwNjI=\",\"model_name\":\"Repository\",\"url\":\"https://github.com/doocs/advanced-java\"},\"originating_url\":\"https://github.com/search?o=desc&amp;p=10&amp;q=stars%3A%3E1&amp;s=forks&amp;type=Repositories\",\"user_id\":null}}' data-hydro-click-hmac=\"a1b5dbd4a88b4054862a755cc84a8806667ebc0e3b2996a0aed4f405b05dd362\" href=\"/doocs/advanced-java\">doocs/advanced-java</a>\n",
       "</div>"
      ]
     },
     "execution_count": 16,
     "metadata": {},
     "output_type": "execute_result"
    }
   ],
   "source": [
    "soup = BeautifulSoup(response.text, 'html.parser')\n",
    "headings = soup.select('div.f4.text-normal')\n",
    "headings[0]"
   ]
  },
  {
   "cell_type": "code",
   "execution_count": 17,
   "id": "4b2b01a3",
   "metadata": {},
   "outputs": [
    {
     "data": {
      "text/plain": [
       "['doocs/advanced-java',\n",
       " 'MarlinFirmware/Marlin',\n",
       " 'shadowsocks/shadowsocks-windows',\n",
       " 'CoreyMSchafer/code_snippets',\n",
       " 'MicrosoftDocs/azure-docs',\n",
       " 'odoo/odoo',\n",
       " 'FreeRDP/FreeRDP',\n",
       " 'hakimel/reveal.js',\n",
       " 'gabrielecirulli/2048',\n",
       " 'udacity/course-collaboration-travel-plans']"
      ]
     },
     "execution_count": 17,
     "metadata": {},
     "output_type": "execute_result"
    }
   ],
   "source": [
    "[h.select_one('a').attrs['href'][1:] for h in soup.select('div.f4.text-normal')]"
   ]
  },
  {
   "cell_type": "code",
   "execution_count": 18,
   "id": "ed1a55f3",
   "metadata": {},
   "outputs": [],
   "source": [
    "url = 'https://github.com/search?o=desc&p=11&q=stars%3A%3E1&s=forks&type=Repositories'\n",
    "response = get(url)"
   ]
  },
  {
   "cell_type": "code",
   "execution_count": 19,
   "id": "9cd15b02",
   "metadata": {},
   "outputs": [
    {
     "data": {
      "text/plain": [
       "<div class=\"f4 text-normal\">\n",
       "<a class=\"v-align-middle\" data-hydro-click='{\"event_type\":\"search_result.click\",\"payload\":{\"page_number\":11,\"per_page\":10,\"query\":\"stars:&gt;1\",\"result_position\":1,\"click_id\":19415064,\"result\":{\"id\":19415064,\"global_relay_id\":\"MDEwOlJlcG9zaXRvcnkxOTQxNTA2NA==\",\"model_name\":\"Repository\",\"url\":\"https://github.com/ossu/computer-science\"},\"originating_url\":\"https://github.com/search?o=desc&amp;p=11&amp;q=stars%3A%3E1&amp;s=forks&amp;type=Repositories\",\"user_id\":null}}' data-hydro-click-hmac=\"be409c79a21bec307c6a75bc34ac714763fdb263fb6a4b138e88c09e0b07bc45\" href=\"/ossu/computer-science\">ossu/computer-science</a>\n",
       "</div>"
      ]
     },
     "execution_count": 19,
     "metadata": {},
     "output_type": "execute_result"
    }
   ],
   "source": [
    "soup = BeautifulSoup(response.text, 'html.parser')\n",
    "headings = soup.select('div.f4.text-normal')\n",
    "headings[0]"
   ]
  },
  {
   "cell_type": "code",
   "execution_count": null,
   "id": "a12acecd",
   "metadata": {},
   "outputs": [],
   "source": []
  },
  {
   "cell_type": "code",
   "execution_count": null,
   "id": "a92f21c6",
   "metadata": {},
   "outputs": [],
   "source": []
  },
  {
   "cell_type": "code",
   "execution_count": 20,
   "id": "79969954",
   "metadata": {},
   "outputs": [
    {
     "data": {
      "text/plain": [
       "['ossu/computer-science',\n",
       " 'jakevdp/PythonDataScienceHandbook',\n",
       " 'aymericdamien/TensorFlow-Examples',\n",
       " 'reduxjs/redux',\n",
       " 'pallets/flask',\n",
       " 'TheAlgorithms/Java',\n",
       " 'scutan90/DeepLearning-500-questions',\n",
       " 'huggingface/transformers',\n",
       " 'github/opensource.guide',\n",
       " 'golang/go']"
      ]
     },
     "execution_count": 20,
     "metadata": {},
     "output_type": "execute_result"
    }
   ],
   "source": [
    "[h.select_one('a').attrs['href'][1:] for h in soup.select('div.f4.text-normal')]"
   ]
  },
  {
   "cell_type": "code",
   "execution_count": 24,
   "id": "3f502422",
   "metadata": {},
   "outputs": [],
   "source": [
    "url = 'https://github.com/search?o=desc&p=12&q=stars%3A%3E1&s=forks&type=Repositories'\n",
    "response = get(url)"
   ]
  },
  {
   "cell_type": "code",
   "execution_count": 25,
   "id": "4deae3bf",
   "metadata": {},
   "outputs": [
    {
     "data": {
      "text/plain": [
       "<div class=\"f4 text-normal\">\n",
       "<a class=\"v-align-middle\" data-hydro-click='{\"event_type\":\"search_result.click\",\"payload\":{\"page_number\":12,\"per_page\":10,\"query\":\"stars:&gt;1\",\"result_position\":1,\"click_id\":36535156,\"result\":{\"id\":36535156,\"global_relay_id\":\"MDEwOlJlcG9zaXRvcnkzNjUzNTE1Ng==\",\"model_name\":\"Repository\",\"url\":\"https://github.com/reduxjs/redux\"},\"originating_url\":\"https://github.com/search?o=desc&amp;p=12&amp;q=stars%3A%3E1&amp;s=forks&amp;type=Repositories\",\"user_id\":null}}' data-hydro-click-hmac=\"eff2a06d7f616754e6648970e679e745ee63b926291636a62d8b6613bcc6bac6\" href=\"/reduxjs/redux\">reduxjs/redux</a>\n",
       "</div>"
      ]
     },
     "execution_count": 25,
     "metadata": {},
     "output_type": "execute_result"
    }
   ],
   "source": [
    "soup = BeautifulSoup(response.text, 'html.parser')\n",
    "headings = soup.select('div.f4.text-normal')\n",
    "headings[0]"
   ]
  },
  {
   "cell_type": "code",
   "execution_count": 26,
   "id": "e5bf19ad",
   "metadata": {},
   "outputs": [
    {
     "data": {
      "text/plain": [
       "['reduxjs/redux',\n",
       " 'pallets/flask',\n",
       " 'scutan90/DeepLearning-500-questions',\n",
       " 'huggingface/transformers',\n",
       " 'github/opensource.guide',\n",
       " 'golang/go',\n",
       " 'TheOdinProject/css-exercises',\n",
       " 'selfteaching/the-craft-of-selfteaching',\n",
       " 'netty/netty',\n",
       " 'Azure/azure-quickstart-templates']"
      ]
     },
     "execution_count": 26,
     "metadata": {},
     "output_type": "execute_result"
    }
   ],
   "source": [
    "[h.select_one('a').attrs['href'][1:] for h in soup.select('div.f4.text-normal')]"
   ]
  },
  {
   "cell_type": "code",
   "execution_count": 23,
   "id": "943e3e20",
   "metadata": {},
   "outputs": [
    {
     "data": {
      "text/plain": [
       "'\\n\\n\\n\\n\\n\\nRate limit · GitHub\\n\\n\\n\\n\\n\\nWhoa there!\\nYou have exceeded a secondary rate limit.\\n        Please wait a few minutes before you try again;\\n        in some cases this may take up to an hour.\\n      \\n\\nContact Support —\\n        GitHub Status —\\n        @githubstatus\\n\\n\\n\\n\\n\\n\\n\\n\\n\\n\\n'"
      ]
     },
     "execution_count": 23,
     "metadata": {},
     "output_type": "execute_result"
    }
   ],
   "source": [
    "soup.text"
   ]
  },
  {
   "cell_type": "code",
   "execution_count": null,
   "id": "de61f3a9",
   "metadata": {},
   "outputs": [],
   "source": [
    "import pandas as pd\n",
    "import os\n",
    "\n",
    "#### Pulled from class will need to add values\n",
    "\n",
    "\"\"\"\n",
    "A module for obtaining repo readme and language data from the github API.\n",
    "Before using this module, read through it, and follow the instructions marked\n",
    "TODO.\n",
    "After doing so, run it like this:\n",
    "    python acquire.py\n",
    "To create the `data.json` file that contains the data.\n",
    "\"\"\"\n",
    "import os\n",
    "import json\n",
    "from typing import Dict, List, Optional, Union, cast\n",
    "import requests\n",
    "\n",
    "from env import github_token, github_username\n",
    "\n",
    "# TODO: Make a github personal access token.\n",
    "#     1. Go here and generate a personal access token https://github.com/settings/tokens\n",
    "#        You do _not_ need select any scopes, i.e. leave all the checkboxes unchecked\n",
    "#     2. Save it in your env.py file under the variable `github_token`\n",
    "# TODO: Add your github username to your env.py file under the variable `github_username`\n",
    "# TODO: Add more repositories to the `REPOS` list below.\n",
    "\n",
    "REPOS = [\n",
    " \n",
    " 'topkecleon/telegram-bot-bash',\n",
    " 'evil-mad/EggBot',\n",
    " 'telegram-bot-rb/telegram-bot',\n",
    " 'alfficcadenti/splinterlands-bot',\n",
    " 'nodeWechat/wechat4u',\n",
    " 'tucnak/telebot',\n",
    " 'CarlGroth/Carl-Bot',\n",
    " 'grapeot/WechatForwardBot',\n",
    " 'googleworkspace/hangouts-chat-samples',\n",
    " 'GreyWolfDev/Werewolf',\n",
    " 'abdelhai/awesome-bots',\n",
    " 'mdgspace/bot',\n",
    " 'Sank6/Discord-Bot-List',\n",
    " 'samc621/SneakerBot',\n",
    " 'boto/boto3-sample',\n",
    " 'huseinzol05/Stock-Prediction-Models',\n",
    " 'SAPConversationalAI/Webchat',\n",
    " 'soumyadityac/youtube-viewer',\n",
    " 'CodeWithJoe2020/pancakeswapBot',\n",
    " 'Merubokkusu/discord-spam-bots',\n",
    " 'ZeroDiscord/EconomyBot',\n",
    " 'scrapinghub/slackbot',\n",
    " 'baidu/boteye',\n",
    " 'kcloze/swoole-bot',\n",
    " 'hyperchessbot/hyperbot',\n",
    " 'yangyuan/hearthrock',\n",
    "]\n",
    "\n",
    "headers = {\"Authorization\": f\"token {github_token}\", \"User-Agent\": github_username}\n",
    "\n",
    "if headers[\"Authorization\"] == \"token \" or headers[\"User-Agent\"] == \"\":\n",
    "    raise Exception(\n",
    "        \"You need to follow the instructions marked TODO in this script before trying to use it\"\n",
    "    )\n",
    "\n",
    "\n",
    "def github_api_request(url: str) -> Union[List, Dict]:\n",
    "    response = requests.get(url, headers=headers)\n",
    "    response_data = response.json()\n",
    "    if response.status_code != 200:\n",
    "        raise Exception(\n",
    "            f\"Error response from github api! status code: {response.status_code}, \"\n",
    "            f\"response: {json.dumps(response_data)}\"\n",
    "        )\n",
    "    return response_data\n",
    "\n",
    "\n",
    "def get_repo_language(repo: str) -> str:\n",
    "    url = f\"https://api.github.com/repos/{repo}\"\n",
    "    repo_info = github_api_request(url)\n",
    "    if type(repo_info) is dict:\n",
    "        repo_info = cast(Dict, repo_info)\n",
    "        if \"language\" not in repo_info:\n",
    "            raise Exception(\n",
    "                \"'language' key not round in response\\n{}\".format(json.dumps(repo_info))\n",
    "            )\n",
    "        return repo_info[\"language\"]\n",
    "    raise Exception(\n",
    "        f\"Expecting a dictionary response from {url}, instead got {json.dumps(repo_info)}\"\n",
    "    )\n",
    "\n",
    "\n",
    "def get_repo_contents(repo: str) -> List[Dict[str, str]]:\n",
    "    url = f\"https://api.github.com/repos/{repo}/contents/\"\n",
    "    contents = github_api_request(url)\n",
    "    if type(contents) is list:\n",
    "        contents = cast(List, contents)\n",
    "        return contents\n",
    "    raise Exception(\n",
    "        f\"Expecting a list response from {url}, instead got {json.dumps(contents)}\"\n",
    "    )\n",
    "\n",
    "\n",
    "def get_readme_download_url(files: List[Dict[str, str]]) -> str:\n",
    "    \"\"\"\n",
    "    Takes in a response from the github api that lists the files in a repo and\n",
    "    returns the url that can be used to download the repo's README file.\n",
    "    \"\"\"\n",
    "    for file in files:\n",
    "        if file[\"name\"].lower().startswith(\"readme\"):\n",
    "            return file[\"download_url\"]\n",
    "    return \"\"\n",
    "\n",
    "\n",
    "def process_repo(repo: str) -> Dict[str, str]:\n",
    "    \"\"\"\n",
    "    Takes a repo name like \"gocodeup/codeup-setup-script\" and returns a\n",
    "    dictionary with the language of the repo and the readme contents.\n",
    "    \"\"\"\n",
    "    contents = get_repo_contents(repo)\n",
    "    readme_download_url = get_readme_download_url(contents)\n",
    "    if readme_download_url == \"\":\n",
    "        readme_contents = \"\"\n",
    "    else:\n",
    "        readme_contents = requests.get(readme_download_url).text\n",
    "    return {\n",
    "        \"repo\": repo,\n",
    "        \"language\": get_repo_language(repo),\n",
    "        \"readme_contents\": readme_contents,\n",
    "    }\n",
    "\n",
    "\n",
    "def scrape_github_data():\n",
    "    \"\"\"\n",
    "    This function checks for a local csv file of raw data. If a local csv exists it reads it \n",
    "    to a df.\n",
    "    \n",
    "    If no local csv of raw data exists, it loops through all of the repos in the REPOS list above and\n",
    "    and runs the process functions to scrape the repo name, language, and readme\n",
    "    contents. It then writes the resulting dictionary of lists to a df, returning\n",
    "    a dataframe of raw data. It then caches the raw data to a local csv file.\n",
    "    \"\"\"\n",
    "    if os.path.isfile('raw_data.csv'):\n",
    "        df = pd.read_csv('raw_data.csv')\n",
    "\n",
    "    else:\n",
    "        df = pd.DataFrame([process_repo(repo) for repo in REPOS])\n",
    "        df.to_csv('raw_data.csv')\n",
    "\n",
    "    return df\n",
    "\n",
    "\n",
    "if __name__ == \"__main__\":\n",
    "    data = scrape_github_data()\n",
    "    json.dump(data, open(\"data.json\", \"w\"), indent=1)"
   ]
  }
 ],
 "metadata": {
  "kernelspec": {
   "display_name": "Python 3 (ipykernel)",
   "language": "python",
   "name": "python3"
  },
  "language_info": {
   "codemirror_mode": {
    "name": "ipython",
    "version": 3
   },
   "file_extension": ".py",
   "mimetype": "text/x-python",
   "name": "python",
   "nbconvert_exporter": "python",
   "pygments_lexer": "ipython3",
   "version": "3.9.7"
  }
 },
 "nbformat": 4,
 "nbformat_minor": 5
}
