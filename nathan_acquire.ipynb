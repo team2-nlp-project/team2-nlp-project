{
 "cells": [
  {
   "cell_type": "code",
   "execution_count": 1,
   "id": "078ec5c0",
   "metadata": {},
   "outputs": [],
   "source": [
    "from requests import get\n",
    "from bs4 import BeautifulSoup\n",
    "import pandas as pd"
   ]
  },
  {
   "cell_type": "code",
   "execution_count": 3,
   "id": "3a8a2d1f",
   "metadata": {},
   "outputs": [
    {
     "data": {
      "text/plain": [
       "<h1 class=\"h3 lh-condensed\">\n",
       "<a data-hydro-click='{\"event_type\":\"explore.click\",\"payload\":{\"click_context\":\"TRENDING_REPOSITORIES_PAGE\",\"click_target\":\"REPOSITORY\",\"click_visual_representation\":\"REPOSITORY_NAME_HEADING\",\"actor_id\":null,\"record_id\":39840932,\"originating_url\":\"https://github.com/trending\",\"user_id\":null}}' data-hydro-click-hmac=\"b5c21c00a03199cc476d548acb97ab258f58b11b86fc31b42a24574f04824f67\" data-view-component=\"true\" href=\"/google/googletest\">\n",
       "<svg aria-hidden=\"true\" class=\"octicon octicon-repo mr-1 color-fg-muted\" data-view-component=\"true\" height=\"16\" version=\"1.1\" viewbox=\"0 0 16 16\" width=\"16\">\n",
       "<path d=\"M2 2.5A2.5 2.5 0 014.5 0h8.75a.75.75 0 01.75.75v12.5a.75.75 0 01-.75.75h-2.5a.75.75 0 110-1.5h1.75v-2h-8a1 1 0 00-.714 1.7.75.75 0 01-1.072 1.05A2.495 2.495 0 012 11.5v-9zm10.5-1V9h-8c-.356 0-.694.074-1 .208V2.5a1 1 0 011-1h8zM5 12.25v3.25a.25.25 0 00.4.2l1.45-1.087a.25.25 0 01.3 0L8.6 15.7a.25.25 0 00.4-.2v-3.25a.25.25 0 00-.25-.25h-3.5a.25.25 0 00-.25.25z\" fill-rule=\"evenodd\"></path>\n",
       "</svg>\n",
       "<span class=\"text-normal\" data-view-component=\"true\">\n",
       "        google /\n",
       "</span>\n",
       "      googletest\n",
       "</a>\n",
       "</h1>"
      ]
     },
     "execution_count": 3,
     "metadata": {},
     "output_type": "execute_result"
    }
   ],
   "source": [
    "url = 'https://github.com/trending' \n",
    "response = get(url)\n",
    "soup = BeautifulSoup(response.text, 'html.parser')\n",
    "headings = soup.select('h1.h3.lh-condensed')\n",
    "headings[0]"
   ]
  },
  {
   "cell_type": "code",
   "execution_count": 5,
   "id": "ea9f7850",
   "metadata": {},
   "outputs": [
    {
     "data": {
      "text/plain": [
       "25"
      ]
     },
     "execution_count": 5,
     "metadata": {},
     "output_type": "execute_result"
    }
   ],
   "source": [
    "len(headings)"
   ]
  },
  {
   "cell_type": "code",
   "execution_count": 6,
   "id": "9549581b",
   "metadata": {},
   "outputs": [
    {
     "data": {
      "text/plain": [
       "['google/googletest',\n",
       " 'projectdiscovery/nuclei-templates',\n",
       " 'digitalocean/nginxconfig.io',\n",
       " 'flutter/flutter',\n",
       " 'PaddlePaddle/PaddleOCR',\n",
       " 'flutter/pinball',\n",
       " 'wolfogre/go-pprof-practice',\n",
       " 'supabase/supabase',\n",
       " 'felipefialho/frontend-challenges',\n",
       " 'flutter/samples',\n",
       " 'alibaba/fastjson2',\n",
       " 'florinpop17/app-ideas',\n",
       " 'charmbracelet/bubbletea',\n",
       " 'huggingface/transformers',\n",
       " 'databricks-academy/data-engineering-with-databricks',\n",
       " 'hectorqin/reader',\n",
       " 'Azure/azure-rest-api-specs',\n",
       " 'terra-money/core',\n",
       " 'saltstack/salt',\n",
       " 'PKUFlyingPig/cs-self-learning',\n",
       " 'actions/virtual-environments',\n",
       " 'jojoldu/junior-recruit-scheduler',\n",
       " 'dotnet/aspnetcore',\n",
       " 'danielgindi/Charts',\n",
       " 'microsoft/unilm']"
      ]
     },
     "execution_count": 6,
     "metadata": {},
     "output_type": "execute_result"
    }
   ],
   "source": [
    "[h.select_one('a').attrs['href'][1:] for h in soup.select('h1.h3.lh-condensed')]"
   ]
  },
  {
   "cell_type": "code",
   "execution_count": null,
   "id": "7ccd292a",
   "metadata": {},
   "outputs": [],
   "source": []
  }
 ],
 "metadata": {
  "kernelspec": {
   "display_name": "Python 3 (ipykernel)",
   "language": "python",
   "name": "python3"
  },
  "language_info": {
   "codemirror_mode": {
    "name": "ipython",
    "version": 3
   },
   "file_extension": ".py",
   "mimetype": "text/x-python",
   "name": "python",
   "nbconvert_exporter": "python",
   "pygments_lexer": "ipython3",
   "version": "3.9.7"
  }
 },
 "nbformat": 4,
 "nbformat_minor": 5
}
